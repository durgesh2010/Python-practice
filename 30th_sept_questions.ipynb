{
  "nbformat": 4,
  "nbformat_minor": 0,
  "metadata": {
    "colab": {
      "provenance": [],
      "authorship_tag": "ABX9TyNMylHZ8jG9WpNMpfMG/KCs",
      "include_colab_link": true
    },
    "kernelspec": {
      "name": "python3",
      "display_name": "Python 3"
    },
    "language_info": {
      "name": "python"
    }
  },
  "cells": [
    {
      "cell_type": "markdown",
      "metadata": {
        "id": "view-in-github",
        "colab_type": "text"
      },
      "source": [
        "<a href=\"https://colab.research.google.com/github/durgesh2010/Python-practice/blob/main/30th_sept_questions.ipynb\" target=\"_parent\"><img src=\"https://colab.research.google.com/assets/colab-badge.svg\" alt=\"Open In Colab\"/></a>"
      ]
    },
    {
      "cell_type": "code",
      "execution_count": null,
      "metadata": {
        "id": "kKgNYKIR-ner"
      },
      "outputs": [],
      "source": []
    },
    {
      "cell_type": "code",
      "source": [
        "# old collab link\n",
        "#  https://colab.research.google.com/drive/1X9tLD1mXF0mFdVPBwTYGGPihRtx4tGXV?usp=sharing#scrollTo=iV1ihm-MZ1A0"
      ],
      "metadata": {
        "id": "EW9OrpUEhzfJ"
      },
      "execution_count": null,
      "outputs": []
    },
    {
      "cell_type": "code",
      "execution_count": null,
      "metadata": {
        "id": "8tENKFqjR2ZA"
      },
      "outputs": [],
      "source": [
        "\n",
        "#Exercise 1A: Create a string made of the first, middle and last character\n",
        "#Exercise 1B: Create a string made of the middle three characters\n",
        "#Exercise 2: Append new string in the middle of a given string\n",
        "#Exercise 3: Create a new string made of the first, middle, and last characters of each input string\n",
        "#Exercise 4: Arrange string characters such that lowercase letters should come first\n",
        "#Exercise 5: Count all letters, digits, and special symbols from a given string\n",
        "#Exercise 7: String characters balance Test\n",
        "#Exercise 8: Find all occurrences of a substring in a given string by ignoring the case\n",
        "#Exercise 9: Calculate the sum and average of the digits present in a string\n",
        "#Exercise 10: Write a program to count occurrences of all characters within a string\n",
        "#Exercise 11: Reverse a given string\n",
        "#Exercise 12: Find the last position of a given substring\n",
        "#Exercise 13: Split a string on hyphens\n",
        "#Exercise 14: Remove empty strings from a list of strings\n",
        "#Exercise 15: Remove special symbols / punctuation from a string????????????\n",
        "#Exercise 16: Removal all characters from a string except integers\n",
        "#Exercise 17: Find words with both alphabets and numbers??????????\n",
        "#Exercise 18: Replace each special symbol with # in the following string"
      ]
    },
    {
      "cell_type": "code",
      "source": [
        "# 1. Create a string made of the first, middle and last character\n",
        "mystr = 'Durgesh'\n",
        "print(\"String is\", mystr)\n",
        "\n",
        "result = mystr[0]\n",
        "\n",
        "l = len(mystr)\n",
        "# middle index number\n",
        "middle= int(l / 2)\n",
        "# middle word\n",
        "result = result + mystr[middle]\n",
        "\n",
        "# last word\n",
        "result = result + mystr[l - 1]\n",
        "\n",
        "print(\"Final String:\", result)"
      ],
      "metadata": {
        "colab": {
          "base_uri": "https://localhost:8080/"
        },
        "id": "jK2ztYvV5PxK",
        "outputId": "bd11ee77-11f3-4540-9f8d-eaf4dd724734"
      },
      "execution_count": null,
      "outputs": [
        {
          "output_type": "stream",
          "name": "stdout",
          "text": [
            "String is Durgesh\n",
            "Final String: Dgh\n"
          ]
        }
      ]
    },
    {
      "cell_type": "code",
      "source": [
        "# 1B. Create a string made of the middle three character\n",
        "mystr = 'Durgesh'\n",
        "print(\"String is\", mystr)\n",
        "\n",
        "l = len(mystr)\n",
        "# middle index number\n",
        "middle= int(l / 2)\n",
        "\n",
        "print(f'final string is {mystr[(middle-1):(middle+2)]}')\n"
      ],
      "metadata": {
        "colab": {
          "base_uri": "https://localhost:8080/"
        },
        "id": "7-lZtJ9T5P1_",
        "outputId": "51946e4a-afd2-4f35-9070-8f7f338b327f"
      },
      "execution_count": null,
      "outputs": [
        {
          "output_type": "stream",
          "name": "stdout",
          "text": [
            "String is Durgesh\n",
            "final string is rge\n"
          ]
        }
      ]
    },
    {
      "cell_type": "code",
      "source": [
        "#Exercise 2: Append new string in the middle of a given string\n",
        "\n",
        "mystr = 'my name is durgesh'\n",
        "print(\"String is\", mystr)\n",
        "new = \" 'break time' \"\n",
        "\n",
        "l = len(mystr)\n",
        "# middle index number\n",
        "middle= int(l / 2)\n",
        "print(f'final string is = {mystr[0:(middle)] + new + mystr[(middle):]}')\n",
        "\n"
      ],
      "metadata": {
        "id": "TC4pQcRI4qPV",
        "colab": {
          "base_uri": "https://localhost:8080/"
        },
        "outputId": "315c0ff2-cf42-45f2-8c42-88634a958864"
      },
      "execution_count": null,
      "outputs": [
        {
          "output_type": "stream",
          "name": "stdout",
          "text": [
            "String is my name is durgesh\n",
            "final string is = my name i 'break time' s durgesh\n"
          ]
        }
      ]
    },
    {
      "cell_type": "code",
      "source": [
        "#Exercise 3: Create a new string made of the first, middle, and last characters of each input string\n",
        "\n",
        "mystr = 'Durgesh'\n",
        "print(\"String is\", mystr)\n",
        "\n",
        "result = mystr[0]\n",
        "\n",
        "l = len(mystr)\n",
        "# middle index number\n",
        "middle= int(l / 2)\n",
        "# middle word\n",
        "result = result + mystr[middle]\n",
        "\n",
        "# last word\n",
        "result = result + mystr[l - 1]\n",
        "\n",
        "print(\"Final String:\", result)\n",
        "\n"
      ],
      "metadata": {
        "id": "V-g2u0SfCGzO"
      },
      "execution_count": null,
      "outputs": []
    },
    {
      "cell_type": "code",
      "source": [
        "#Exercise 4: Arrange string characters such that lowercase letters should come first\n",
        "\n",
        "mystr = 'DURGEsHRAThoDAdurgesh'\n",
        "print(\"String is\", mystr)\n",
        "lstr = \" \"\n",
        "upperstr = ''\n",
        "for i in mystr:\n",
        "  if i.islower():\n",
        "    lstr = lstr + i\n",
        "  else:\n",
        "    upperstr = upperstr + i  \n",
        "print(f' {lstr+upperstr}')\n"
      ],
      "metadata": {
        "colab": {
          "base_uri": "https://localhost:8080/"
        },
        "id": "2ROEdMWqDYGD",
        "outputId": "bb04a26f-d074-42ed-d7da-ec19a179fe4c"
      },
      "execution_count": null,
      "outputs": [
        {
          "output_type": "stream",
          "name": "stdout",
          "text": [
            "String is DURGEsHRAThoDAdurgesh\n",
            "  shodurgeshDURGEHRATDA\n"
          ]
        }
      ]
    },
    {
      "cell_type": "code",
      "source": [
        "#Exercise 5: Count all letters, digits, and special symbols from a given string\n",
        "\n",
        "def find_digits_chars_symbols(sample_str):\n",
        "    char_count = 0\n",
        "    digit_count = 0\n",
        "    symbol_count = 0\n",
        "    for char in sample_str:\n",
        "        if char.isalpha():\n",
        "            char_count += 1\n",
        "        elif char.isdigit():\n",
        "            digit_count += 1\n",
        "        # if it is not letter or digit then it is special symbol\n",
        "        else:\n",
        "            symbol_count += 1\n",
        "\n",
        "    print(\"Chars =\", char_count, \"Digits =\", digit_count, \"Symbol =\", symbol_count)\n",
        "\n",
        "sample_str = \"P@yn2at&#i5ve\"\n",
        "print(\"total counts of chars, Digits, and symbols \\n\")\n",
        "find_digits_chars_symbols(sample_str)\n",
        "\n"
      ],
      "metadata": {
        "colab": {
          "base_uri": "https://localhost:8080/"
        },
        "id": "qYnFT024McR_",
        "outputId": "f53270c7-2121-4218-8e88-b84a495e2cbd"
      },
      "execution_count": null,
      "outputs": [
        {
          "output_type": "stream",
          "name": "stdout",
          "text": [
            "total counts of chars, Digits, and symbols \n",
            "\n",
            "Chars = 8 Digits = 2 Symbol = 3\n"
          ]
        }
      ]
    },
    {
      "cell_type": "code",
      "source": [],
      "metadata": {
        "id": "9wCM7Fd6jo_r"
      },
      "execution_count": null,
      "outputs": []
    },
    {
      "cell_type": "code",
      "source": [
        "# next collab linlk\n",
        "# https://colab.research.google.com/drive/1NT7sJdDkZmi4Rku5I2U7RlodDKq844gS?usp=sharing"
      ],
      "metadata": {
        "id": "V1eCNzO2i-22"
      },
      "execution_count": null,
      "outputs": []
    },
    {
      "cell_type": "code",
      "source": [
        "class Cars:\n",
        "  def _init_(self, Nexon,EV,Manuual_gear):\n",
        "    self.Nexon = Nexon\n",
        "    self.EV = EV\n",
        "    self.Manuual_gear = Manuual_gear\n",
        "  def func (self):\n",
        "    print(\"my car nexon, EV and it is mannual gear\")"
      ],
      "metadata": {
        "id": "CZkiMs0zjqI8"
      },
      "execution_count": null,
      "outputs": []
    },
    {
      "cell_type": "code",
      "source": [
        "\n",
        "class myClass:\n",
        "  color = 'Red'\n",
        "  no = 'DL12345'\n",
        "  brand = 'Maruti'\n",
        "\n",
        "p1 = myClass()\n",
        "print(p1.color,p1.no,p1.brand"
      ],
      "metadata": {
        "id": "eQauBSn7jwPU"
      },
      "execution_count": null,
      "outputs": []
    },
    {
      "cell_type": "code",
      "source": [
        "class Army:\n",
        "  def __init__(self, deparment,place):\n",
        "    self.deparment = Geology\n",
        "    self.place = Chennai\n",
        "  def func (self):\n",
        "    print(\"Army Unit, department and place is\")"
      ],
      "metadata": {
        "id": "S9J3me27kj9i"
      },
      "execution_count": null,
      "outputs": []
    },
    {
      "cell_type": "code",
      "source": [
        "class car :\n",
        "    def _int_(self,name,model,colour):\n",
        "       self.name = name\n",
        "       self.model = model\n",
        "       self.colour = colour\n",
        "    def func(self) :\n",
        "       print(\"my car\")\n",
        "class person(car) :\n",
        "    def _int_(self,owner,state,add) :\n",
        "      self.owner = owner\n",
        "      self.state = state\n",
        "      self.name = add\n",
        "    def func(self) :\n",
        "      print(\"owner name \")  "
      ],
      "metadata": {
        "id": "hDjwAF2-kuqe"
      },
      "execution_count": null,
      "outputs": []
    },
    {
      "cell_type": "code",
      "source": [
        "# https://drive.google.com/file/d/1ebjfL65GxDhqFsOHfvJx5BNs70HNNy4h/view?usp=sharing"
      ],
      "metadata": {
        "id": "sv4-HOxgv5eF"
      },
      "execution_count": null,
      "outputs": []
    }
  ]
}