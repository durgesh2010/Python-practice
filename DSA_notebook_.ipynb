{
  "nbformat": 4,
  "nbformat_minor": 0,
  "metadata": {
    "colab": {
      "provenance": [],
      "authorship_tag": "ABX9TyPLuUBcW25RitdixsESeYYM",
      "include_colab_link": true
    },
    "kernelspec": {
      "name": "python3",
      "display_name": "Python 3"
    },
    "language_info": {
      "name": "python"
    }
  },
  "cells": [
    {
      "cell_type": "markdown",
      "metadata": {
        "id": "view-in-github",
        "colab_type": "text"
      },
      "source": [
        "<a href=\"https://colab.research.google.com/github/durgesh2010/Python-practice/blob/main/DSA_notebook_.ipynb\" target=\"_parent\"><img src=\"https://colab.research.google.com/assets/colab-badge.svg\" alt=\"Open In Colab\"/></a>"
      ]
    },
    {
      "cell_type": "code",
      "execution_count": null,
      "metadata": {
        "id": "H4_4LVbhEx5e"
      },
      "outputs": [],
      "source": []
    },
    {
      "cell_type": "code",
      "source": [
        "DSA/_1_DSA_Intro.py"
      ],
      "metadata": {
        "id": "28BH7TytE7Yx"
      },
      "execution_count": null,
      "outputs": []
    },
    {
      "cell_type": "code",
      "source": [
        "# DSA - Data Structure and Algorithm\n",
        "# Data Structure is a collection of data, the relationship amoung them and the operations\n",
        "# that can be applied on that data\n",
        "# orgranizing the data\n",
        "# managing the data\n",
        "# (bricks,cement,rodes,woods) -> supervisor -> building \n",
        "# (ds)                        -> code       -> software\n",
        "# Algorithm\n",
        "# step by step procedure to solve a problem efficiently\n",
        "\n",
        "# Array ----> List\n",
        "from pickletools import long1\n",
        "\n",
        "# List\n",
        "# -> it is used to store collection of same/different types of data\n",
        "# -> fetch the data \n",
        "# -> insert the data at specify position \n",
        "# -> remove the data \n",
        "\n",
        "lst = [] # [6,7,1,2,4,5]\n",
        "# lst.append(6)\n",
        "lst.extend([6,7,1,2,4,5])\n",
        "lst.insert(2,10)\n",
        "lst.remove(4)\n",
        "print(lst)"
      ],
      "metadata": {
        "id": "CrmT2t9WE9MT"
      },
      "execution_count": null,
      "outputs": []
    },
    {
      "cell_type": "code",
      "source": [
        "@@ -1,6 +1,8 @@\n",
        "# Array ----> List\n",
        "\n",
        "# List\n",
        "# -> it accepts heterogenous data (only in python and js)\n",
        "# -> it doesnot have a fix size (only in python and js)\n",
        "# -> it is used to store collection of same/different types of data\n",
        "# -> fetch the data \n",
        "# -> insert the data at specify position \n",
        "# -> remove the data \n",
        "# lst = [] # [6,7,1,2,4,5]\n",
        "# lst.append(6)\n",
        "# lst.extend([6,7,1,2,4,5])\n",
        "# lst.insert(2,10)\n",
        "# lst.remove(4)\n",
        "# print(lst)\n",
        "\n",
        "# type of arrays\n",
        "# 1D - [1,3,4,5,7,7]\n",
        "# 2D - \n",
        "# [ \n",
        "#     1, 2, 3\n",
        "#     4, 5, 6\n",
        "# ]\n",
        "\n",
        "class array:\n",
        "    def __init__(self,fix_size):\n",
        "        self.fix_size = fix_size\n",
        "        self.length   = 0\n",
        "        self.data     = []\n",
        "    \n",
        "    def add(self,element):\n",
        "        if self.length < self.fix_size:\n",
        "            self.data.append(element)\n",
        "            self.length += 1\n",
        "        else:\n",
        "            print(\"Array is full\")\n",
        "\n",
        "obj = array(2)\n",
        "    def remove(self,index):\n",
        "        for i in range(self.length):\n",
        "            if i == index:\n",
        "                del self.data[index]\n",
        "                self.length -= 1\n",
        "            else:\n",
        "                \"No such index found\"\n",
        "\n",
        "    def insert(self,index,element):\n",
        "        if self.length < self.fix_size:\n",
        "            self.data.insert(index,element)\n",
        "            # for i in range(self.length,index,-1): # 3, 2, -1\n",
        "            #     self.data[i] = self.data[i-1]\n",
        "            # self.data[index] = element\n",
        "            # self.length += 1\n",
        "\n",
        "obj = array(5)\n",
        "obj.add(10)\n",
        "print(obj.data)\n",
        "obj.add(20)\n",
        "print(obj.data)\n",
        "obj.add(30)\n",
        "obj.add(40)\n",
        "obj.insert(2,100)\n",
        "print(obj.data)"
      ],
      "metadata": {
        "id": "OFQaeU-vFFNm"
      },
      "execution_count": null,
      "outputs": []
    },
    {
      "cell_type": "code",
      "source": [
        "@@ -0,0 +1,19 @@\n",
        "import array as arr\n",
        "\n",
        "# you can only add homogenous datatype\n",
        "data = arr.array('d',[1.1,1.2,2.3,4.3])\n",
        "print(data)\n",
        "\n",
        "data = arr.array('i',[1,7,1,2,4])\n",
        "print(data)\n",
        "\n",
        "data.append(7)\n",
        "print(data)\n",
        "\n",
        "data.pop()\n",
        "print(data)\n",
        "\n",
        "data.extend([5,2,1,4])\n",
        "print(data)\n",
        "\n"
      ],
      "metadata": {
        "id": "7CYzoF9AFRsw"
      },
      "execution_count": null,
      "outputs": []
    },
    {
      "cell_type": "code",
      "source": [],
      "metadata": {
        "id": "phLOCV4UFZBK"
      },
      "execution_count": null,
      "outputs": []
    }
  ]
}