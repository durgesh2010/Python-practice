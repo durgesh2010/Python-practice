{
  "nbformat": 4,
  "nbformat_minor": 0,
  "metadata": {
    "colab": {
      "provenance": [],
      "collapsed_sections": [],
      "authorship_tag": "ABX9TyMk+Y5gg9Dj1/b5sIv4RdjD",
      "include_colab_link": true
    },
    "kernelspec": {
      "name": "python3",
      "display_name": "Python 3"
    },
    "language_info": {
      "name": "python"
    }
  },
  "cells": [
    {
      "cell_type": "markdown",
      "metadata": {
        "id": "view-in-github",
        "colab_type": "text"
      },
      "source": [
        "<a href=\"https://colab.research.google.com/github/durgesh2010/Python-practice/blob/main/DSA_notebook_.ipynb\" target=\"_parent\"><img src=\"https://colab.research.google.com/assets/colab-badge.svg\" alt=\"Open In Colab\"/></a>"
      ]
    },
    {
      "cell_type": "code",
      "execution_count": null,
      "metadata": {
        "id": "H4_4LVbhEx5e"
      },
      "outputs": [],
      "source": []
    },
    {
      "cell_type": "code",
      "source": [
        "DSA/_1_DSA_Intro.py"
      ],
      "metadata": {
        "id": "28BH7TytE7Yx"
      },
      "execution_count": null,
      "outputs": []
    },
    {
      "cell_type": "code",
      "source": [
        "# DSA - Data Structure and Algorithm\n",
        "# Data Structure is a collection of data, the relationship amoung them and the operations\n",
        "# that can be applied on that data\n",
        "# orgranizing the data\n",
        "# managing the data\n",
        "# (bricks,cement,rodes,woods) -> supervisor -> building \n",
        "# (ds)                        -> code       -> software\n",
        "# Algorithm\n",
        "# step by step procedure to solve a problem efficiently\n",
        "\n",
        "# Array ----> List\n",
        "from pickletools import long1\n",
        "\n",
        "# List\n",
        "# -> it is used to store collection of same/different types of data\n",
        "# -> fetch the data \n",
        "# -> insert the data at specify position \n",
        "# -> remove the data \n",
        "\n",
        "lst = [] # [6,7,1,2,4,5]\n",
        "# lst.append(6)\n",
        "lst.extend([6,7,1,2,4,5])\n",
        "lst.insert(2,10)\n",
        "lst.remove(4)\n",
        "print(lst)"
      ],
      "metadata": {
        "id": "CrmT2t9WE9MT"
      },
      "execution_count": null,
      "outputs": []
    },
    {
      "cell_type": "code",
      "source": [
        "@@ -1,6 +1,8 @@\n",
        "# Array ----> List\n",
        "\n",
        "# List\n",
        "# -> it accepts heterogenous data (only in python and js)\n",
        "# -> it doesnot have a fix size (only in python and js)\n",
        "# -> it is used to store collection of same/different types of data\n",
        "# -> fetch the data \n",
        "# -> insert the data at specify position \n",
        "# -> remove the data \n",
        "# lst = [] # [6,7,1,2,4,5]\n",
        "# lst.append(6)\n",
        "# lst.extend([6,7,1,2,4,5])\n",
        "# lst.insert(2,10)\n",
        "# lst.remove(4)\n",
        "# print(lst)\n",
        "\n",
        "# type of arrays\n",
        "# 1D - [1,3,4,5,7,7]\n",
        "# 2D - \n",
        "# [ \n",
        "#     1, 2, 3\n",
        "#     4, 5, 6\n",
        "# ]\n",
        "\n",
        "class array:\n",
        "    def __init__(self,fix_size):\n",
        "        self.fix_size = fix_size\n",
        "        self.length   = 0\n",
        "        self.data     = []\n",
        "    \n",
        "    def add(self,element):\n",
        "        if self.length < self.fix_size:\n",
        "            self.data.append(element)\n",
        "            self.length += 1\n",
        "        else:\n",
        "            print(\"Array is full\")\n",
        "\n",
        "obj = array(2)\n",
        "    def remove(self,index):\n",
        "        for i in range(self.length):\n",
        "            if i == index:\n",
        "                del self.data[index]\n",
        "                self.length -= 1\n",
        "            else:\n",
        "                \"No such index found\"\n",
        "\n",
        "    def insert(self,index,element):\n",
        "        if self.length < self.fix_size:\n",
        "            self.data.insert(index,element)\n",
        "            # for i in range(self.length,index,-1): # 3, 2, -1\n",
        "            #     self.data[i] = self.data[i-1]\n",
        "            # self.data[index] = element\n",
        "            # self.length += 1\n",
        "\n",
        "obj = array(5)\n",
        "obj.add(10)\n",
        "print(obj.data)\n",
        "obj.add(20)\n",
        "print(obj.data)\n",
        "obj.add(30)\n",
        "obj.add(40)\n",
        "obj.insert(2,100)\n",
        "print(obj.data)"
      ],
      "metadata": {
        "id": "OFQaeU-vFFNm"
      },
      "execution_count": null,
      "outputs": []
    },
    {
      "cell_type": "code",
      "source": [
        "@@ -0,0 +1,19 @@\n",
        "import array as arr\n",
        "\n",
        "# you can only add homogenous datatype\n",
        "data = arr.array('d',[1.1,1.2,2.3,4.3])\n",
        "print(data)\n",
        "\n",
        "data = arr.array('i',[1,7,1,2,4])\n",
        "print(data)\n",
        "\n",
        "data.append(7)\n",
        "print(data)\n",
        "\n",
        "data.pop()\n",
        "print(data)\n",
        "\n",
        "data.extend([5,2,1,4])\n",
        "print(data)\n",
        "\n"
      ],
      "metadata": {
        "id": "7CYzoF9AFRsw"
      },
      "execution_count": null,
      "outputs": []
    },
    {
      "cell_type": "code",
      "source": [
        "#list me searching fast hai as compare to linked list \n",
        "# but manipulation k lye linked list better hai "
      ],
      "metadata": {
        "id": "phLOCV4UFZBK"
      },
      "execution_count": null,
      "outputs": []
    },
    {
      "cell_type": "code",
      "source": [],
      "metadata": {
        "id": "xRAGphQyMWpo"
      },
      "execution_count": null,
      "outputs": []
    },
    {
      "cell_type": "markdown",
      "source": [
        "# Queue "
      ],
      "metadata": {
        "id": "dr4hYBYVMXeT"
      }
    },
    {
      "cell_type": "code",
      "source": [
        "\n",
        "@@ -0,0 +1,41 @@\n",
        "from collections import deque\n",
        "\n",
        "class queue:\n",
        "    def __init__(self):\n",
        "        self.data = deque()\n",
        "\n",
        "    def add(self,element):\n",
        "        self.data.append(element)\n",
        "\n",
        "    def pop(self):\n",
        "        self.data.popleft()\n",
        "\n",
        "    def is_empty(self):\n",
        "        return len(self.data) == 0\n",
        "\n",
        "    def size(self):\n",
        "        return len(self.data)\n",
        "\n",
        "    def delete(self):\n",
        "        del self.data\n",
        "\n",
        "queue_obj = queue()\n",
        "# queue_obj.add(10)\n",
        "# queue_obj.add(20)\n",
        "# queue_obj.add(30)\n",
        "# print(queue_obj.data)\n",
        "\n",
        "# queue_obj.pop()\n",
        "# print(queue_obj.data)\n",
        "\n",
        "# print(queue_obj.is_empty())\n",
        "\n",
        "# print(queue_obj.size())\n",
        "\n",
        "\n",
        "size = int(input(\"Enter the size : \"))\n",
        "for i in range(size):\n",
        "    element = int(input(\"Enter the element : \"))\n",
        "    queue_obj.add(element)\n",
        "\n",
        "print(queue_obj.data)"
      ],
      "metadata": {
        "id": "bS0ZvNmqMa5Y"
      },
      "execution_count": null,
      "outputs": []
    },
    {
      "cell_type": "code",
      "source": [
        "\n",
        "@@ -1,6 +1,6 @@\n",
        "class test(object):\n",
        "    def __str__(self):\n",
        "        return \"Hello Bharati\"\n",
        "        \n",
        "\n",
        "obj = test()\n",
        "print(obj)"
      ],
      "metadata": {
        "id": "uwL07gtwMdYW"
      },
      "execution_count": null,
      "outputs": []
    },
    {
      "cell_type": "code",
      "source": [
        "\n",
        "# book_ID\n",
        "# book_name\n",
        "# book_edition\n",
        "# book_author_name\n",
        "# book_publication\n",
        "# book_price\n",
        "\n",
        "# functionality\n",
        "\n",
        "# add_book()\n",
        "# delete_book()\n",
        "# search_book_by_ID()\n",
        "# view_books()\n",
        "# update_book()\n",
        "\n",
        "class book():\n",
        "    def __init__(self,book_ID,book_name,book_edition,book_author,book_publication,book_price):\n",
        "        self.__book_ID = book_ID\n",
        "        self.__book_name = book_name\n",
        "        self.__book_edition = book_edition\n",
        "        self.__book_author = book_author\n",
        "        self.__book_publication = book_publication\n",
        "        self.__book_price = book_price\n",
        "\n",
        "    def __str__(self):\n",
        "        return f\"Book ID : {self.__book_ID} \\nBook Name : {self.__book_name} \\nBook Edition : {self.__book_edition} \\nBook Author : {self.__book_author} \\nBook Publication : {self.__book_publication} \\nBook Price : {self.__book_price}\"\n",
        "\n",
        "    def set_book_ID(self,book_ID):\n",
        "        self.__book_ID = book_ID\n",
        "\n",
        "    def get_book_ID(self):\n",
        "        return self.__book_ID\n",
        "\n",
        "\n",
        "if __name__ == \"__main__\":\n",
        "    book_obj = book(1,\"Python\",\"I\",\"Guido\",\"Edyoda\",500)\n",
        "    print(book_obj)"
      ],
      "metadata": {
        "id": "k7op4uGrNBGF"
      },
      "execution_count": null,
      "outputs": []
    },
    {
      "cell_type": "code",
      "source": [
        "from book import book\n",
        "\n",
        "class book_operations:\n",
        "\n",
        "    booklist = []\n",
        "\n",
        "    def add_book(self):\n",
        "        print(\"*********Add Book*******\")\n",
        "        book_ID = int(input(\"Enter book ID : \"))\n",
        "        book_name = input(\"Enter book name : \")\n",
        "        book_edition = int(input(\"Enter book edition : \"))\n",
        "        book_author = input(\"Enter book author : \")\n",
        "        book_publication = input(\"Enter book publication : \")\n",
        "        book_price = float(input(\"Enter book price : \"))\n",
        "        book_obj = book(book_ID,book_name,book_edition,book_author,book_publication,book_price)\n",
        "        book_operations.booklist.append(book_obj)\n",
        "        print(\"Successfully Added\")\n",
        "\n",
        "    def view_book(self):\n",
        "        print(\"*********All Books*******\")\n",
        "        for books in book_operations.booklist:\n",
        "            print(books,\"\\n\")\n",
        "\n",
        "    def search_book_by_ID(self,book_ID):\n",
        "        pass\n",
        "        # for books in book_operations.booklist:\n",
        "        #     print(books)\n",
        "        #     if books.__book_ID == book_ID:\n",
        "        #         return books\n",
        "\n",
        "    def delete_book(self):\n",
        "        pass\n",
        "\n",
        "    def update_book(self):\n",
        "        pass"
      ],
      "metadata": {
        "id": "Ex92LYPBNCar"
      },
      "execution_count": null,
      "outputs": []
    },
    {
      "cell_type": "code",
      "source": [
        "from book_operations import book_operations\n",
        "\n",
        "class main_class:\n",
        "\n",
        "    def __init__(self):\n",
        "        self.book_operations = book_operations()\n",
        "\n",
        "    def execute(self,choice):\n",
        "        if choice == 1:\n",
        "            self.book_operations.add_book()\n",
        "        if choice == 2:\n",
        "            self.book_operations.view_book()\n",
        "        if choice == 3:\n",
        "            book_ID = int(input(\"Enter book ID : \"))\n",
        "            book = self.book_operations.search_book_by_ID(book_ID)\n",
        "            print(book)\n",
        "        if choice == 4:\n",
        "            self.book_operations.delete_book()\n",
        "        if choice == 5:\n",
        "            self.book_operations.update_book()\n",
        "\n",
        "\n",
        "\n",
        "if __name__ == \"__main__\":\n",
        "\n",
        "    obj = main_class()\n",
        "\n",
        "    while True:\n",
        "        choice = int(input(\"Enter \\n1.Add Book \\n2.View Book \\n3.Search Book By ID \\n4.Delete Book \\n5.Update Book : \\n\"))\n",
        "        obj.execute(choice)"
      ],
      "metadata": {
        "id": "c-n-Pt2eNHOR"
      },
      "execution_count": null,
      "outputs": []
    },
    {
      "cell_type": "code",
      "source": [],
      "metadata": {
        "id": "cJUBnTYiNn1M"
      },
      "execution_count": null,
      "outputs": []
    },
    {
      "cell_type": "code",
      "source": [],
      "metadata": {
        "id": "B-snaKfND1hp"
      },
      "execution_count": null,
      "outputs": []
    },
    {
      "cell_type": "code",
      "source": [
        "class FoodAddition(self,)"
      ],
      "metadata": {
        "id": "73001h10D7Md"
      },
      "execution_count": null,
      "outputs": []
    },
    {
      "cell_type": "markdown",
      "source": [
        "# Linked List 1"
      ],
      "metadata": {
        "id": "FBurxn_lAVGw"
      }
    },
    {
      "cell_type": "code",
      "source": [
        "class node:\n",
        "    def __init__(self,data,link=None):\n",
        "        self.data = data\n",
        "        self.link = link\n",
        "\n",
        "class linkedlist:\n",
        "    def __init__(self,head=None):\n",
        "        self.head = head\n",
        "\n",
        "    def is_empty(self):\n",
        "        if self.head == None:\n",
        "            return True\n",
        "\n",
        "    def append(self,element):\n",
        "        new_node = node(element)\n",
        "        if self.is_empty:\n",
        "            self.head = new_node\n",
        "        else:\n",
        "            temp = self.head\n",
        "            while temp.link != None:\n",
        "                temp = temp.link\n",
        "            temp.link = new_node\n",
        "        print(\"Node have been inserted\")\n",
        "\n",
        "    def display(self):\n",
        "        pass\n",
        "\n",
        "\n",
        "\n",
        "if __name__ == \"__main__\":\n",
        "    obj = linkedlist()\n",
        "    obj.append(10)\n",
        "    obj.append(20)\n",
        "    obj.append(30)\n"
      ],
      "metadata": {
        "id": "AM9Pj0GmD1lN"
      },
      "execution_count": null,
      "outputs": []
    },
    {
      "cell_type": "code",
      "source": [],
      "metadata": {
        "id": "WM-BhifPD7Q6"
      },
      "execution_count": null,
      "outputs": []
    }
  ]
}