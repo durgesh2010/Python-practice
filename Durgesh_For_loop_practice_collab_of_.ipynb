{
  "nbformat": 4,
  "nbformat_minor": 0,
  "metadata": {
    "colab": {
      "provenance": [],
      "authorship_tag": "ABX9TyNc/cgfCfpMElOkMpjj5RiF",
      "include_colab_link": true
    },
    "kernelspec": {
      "name": "python3",
      "display_name": "Python 3"
    },
    "language_info": {
      "name": "python"
    }
  },
  "cells": [
    {
      "cell_type": "markdown",
      "metadata": {
        "id": "view-in-github",
        "colab_type": "text"
      },
      "source": [
        "<a href=\"https://colab.research.google.com/github/durgesh2010/Python-practice/blob/main/Durgesh_For_loop_practice_collab_of_.ipynb\" target=\"_parent\"><img src=\"https://colab.research.google.com/assets/colab-badge.svg\" alt=\"Open In Colab\"/></a>"
      ]
    },
    {
      "cell_type": "code",
      "execution_count": null,
      "metadata": {
        "id": "Pa6B95OJO0Ke"
      },
      "outputs": [],
      "source": []
    },
    {
      "cell_type": "markdown",
      "source": [
        "# 13 Sept "
      ],
      "metadata": {
        "id": "yDknkvt46OiM"
      }
    },
    {
      "cell_type": "code",
      "source": [
        "#1 print list in reverse order using for loop \n",
        "list1 = [1,2,3,4,'my_code']\n",
        "for i in range(1,len(list1)):\n",
        "  print(list1[-i])"
      ],
      "metadata": {
        "colab": {
          "base_uri": "https://localhost:8080/"
        },
        "id": "VUtRd-0tNVO_",
        "outputId": "41987f39-c48d-46b4-8e30-455b8a4e341e"
      },
      "execution_count": null,
      "outputs": [
        {
          "output_type": "stream",
          "name": "stdout",
          "text": [
            "my_code\n",
            "4\n",
            "3\n",
            "2\n"
          ]
        }
      ]
    },
    {
      "cell_type": "code",
      "source": [
        "#2 For loop -10 to 1 code \n",
        "for num in range(-10, -0):\n",
        "    print(num)"
      ],
      "metadata": {
        "id": "idwRikmD0LCq",
        "colab": {
          "base_uri": "https://localhost:8080/"
        },
        "outputId": "d10a99e1-6234-4f35-b993-1165f29c0424"
      },
      "execution_count": null,
      "outputs": [
        {
          "output_type": "stream",
          "name": "stdout",
          "text": [
            "-10\n",
            "-9\n",
            "-8\n",
            "-7\n",
            "-6\n",
            "-5\n",
            "-4\n",
            "-3\n",
            "-2\n",
            "-1\n"
          ]
        }
      ]
    },
    {
      "cell_type": "code",
      "source": [
        "#3 Python program to display all the prime numbers within an interval\n",
        "\n",
        "lower = 0\n",
        "upper = 50\n",
        "\n",
        "print(\"Prime numbers between\", lower, \"and\", upper, \"are:\")\n",
        "\n",
        "for num in range(lower, upper + 1):\n",
        "   # all prime numbers are greater than 1\n",
        "   if num > 1:\n",
        "       for i in range(2, num):\n",
        "           if (num % i) == 0:\n",
        "               break\n",
        "       else:\n",
        "           print(num)"
      ],
      "metadata": {
        "id": "ciFeShVvOYem",
        "colab": {
          "base_uri": "https://localhost:8080/"
        },
        "outputId": "c931acf1-a4a5-4179-d5f6-26547412c8bc"
      },
      "execution_count": null,
      "outputs": [
        {
          "output_type": "stream",
          "name": "stdout",
          "text": [
            "Prime numbers between 0 and 50 are:\n",
            "2\n",
            "3\n",
            "5\n",
            "7\n",
            "11\n",
            "13\n",
            "17\n",
            "19\n",
            "23\n",
            "29\n",
            "31\n",
            "37\n",
            "41\n",
            "43\n",
            "47\n"
          ]
        }
      ]
    },
    {
      "cell_type": "code",
      "source": [
        "num = int(input())\n",
        "factorial = 1\n",
        "\n",
        "#4 Find the factorial of a number\n",
        "if num < 0:\n",
        "   print(\"Sorry, factorial does not exist for negative numbers\")\n",
        "elif num == 0:\n",
        "   print(\"The factorial of 0 is 1\")\n",
        "else:\n",
        "   for i in range(1,num + 1):\n",
        "       factorial = factorial*i\n",
        "   print(\"The factorial of\",num,\"is\",factorial)"
      ],
      "metadata": {
        "id": "901TPb1EK6t4",
        "colab": {
          "base_uri": "https://localhost:8080/"
        },
        "outputId": "ba365d67-a097-45c3-b5a0-330b0482e6f3"
      },
      "execution_count": null,
      "outputs": [
        {
          "output_type": "stream",
          "name": "stdout",
          "text": [
            "8\n",
            "The factorial of 8 is 40320\n"
          ]
        }
      ]
    },
    {
      "cell_type": "code",
      "source": [
        "#5 Reverse the given integer\n",
        "i_string = input('input : ')\n",
        "print(f'output : {i_string[::-1]}')"
      ],
      "metadata": {
        "colab": {
          "base_uri": "https://localhost:8080/"
        },
        "id": "b3GWeo2xO7qw",
        "outputId": "a2ff6834-16be-452a-efaf-d0bbb91f72bc"
      },
      "execution_count": null,
      "outputs": [
        {
          "output_type": "stream",
          "name": "stdout",
          "text": [
            "input : 456789\n",
            "output : 987654\n"
          ]
        }
      ]
    },
    {
      "cell_type": "code",
      "source": [
        "#6 Use a loop to display elements from a given list present at odd index position \n",
        "odd = [0,1,2,3,4,5,6,7,8,9,10]\n",
        "for i in range(len(odd)):\n",
        "  if i%2 != 0:\n",
        "    print(odd[i])\n"
      ],
      "metadata": {
        "colab": {
          "base_uri": "https://localhost:8080/"
        },
        "id": "zRzyRoMuVkyp",
        "outputId": "dc2aba6a-1bfe-4db2-af3f-53542626fc8a"
      },
      "execution_count": null,
      "outputs": [
        {
          "output_type": "stream",
          "name": "stdout",
          "text": [
            "1\n",
            "3\n",
            "5\n",
            "7\n",
            "9\n"
          ]
        }
      ]
    },
    {
      "cell_type": "code",
      "source": [
        "#7 calculate the cube of all numbers from  1 to given range \n",
        "cubes = int(input())\n",
        "for i in range(cubes):\n",
        "  print(f'cube of {i} is {i**3}')"
      ],
      "metadata": {
        "colab": {
          "base_uri": "https://localhost:8080/"
        },
        "id": "PUNg8-vUO7uB",
        "outputId": "f1dcca99-302f-475c-88f0-6df1d2fc92ae"
      },
      "execution_count": null,
      "outputs": [
        {
          "output_type": "stream",
          "name": "stdout",
          "text": [
            "8\n",
            "cube of 0 is 0\n",
            "cube of 1 is 1\n",
            "cube of 2 is 8\n",
            "cube of 3 is 27\n",
            "cube of 4 is 64\n",
            "cube of 5 is 125\n",
            "cube of 6 is 216\n",
            "cube of 7 is 343\n"
          ]
        }
      ]
    },
    {
      "cell_type": "code",
      "source": [
        "#8 Find the sum of the series upto n terms (n = 5)\n",
        "n = int(input())\n",
        "sum = 0\n",
        "for i in range(n):\n",
        "  sum = sum + i\n",
        "print(f'total sum is {sum}')  "
      ],
      "metadata": {
        "colab": {
          "base_uri": "https://localhost:8080/"
        },
        "id": "nMuQuOvMWgF-",
        "outputId": "1b3db3db-dc69-450d-9b5e-30ed7a4ae61a"
      },
      "execution_count": null,
      "outputs": [
        {
          "output_type": "stream",
          "name": "stdout",
          "text": [
            "10\n",
            "total sum is 45\n"
          ]
        }
      ]
    },
    {
      "cell_type": "code",
      "source": [],
      "metadata": {
        "id": "vWUkUtfKbGzC"
      },
      "execution_count": null,
      "outputs": []
    },
    {
      "cell_type": "code",
      "source": [
        "# Q.9\n",
        "# *                  # Print this pattern\n",
        "# * * \n",
        "# * * * \n",
        "# * * * * \n",
        "# * * * * * \n",
        "# * * * * \n",
        "# * * * \n",
        "# * * \n",
        "# *\n",
        "rows =  10\n",
        "for i in range(0,rows):\n",
        "  for j in range(0,i):\n",
        "    print(\"* \",end='')\n",
        "  print(\"9\")   \n",
        "\n"
      ],
      "metadata": {
        "id": "-rVpHotSaL0x"
      },
      "execution_count": null,
      "outputs": []
    },
    {
      "cell_type": "code",
      "source": [
        "rows = 10 \n",
        "for v in range(0,rows):\n",
        "  for j in range(0,v):\n",
        "    print(\"* \",end='')\n",
        "  print(\"\")      \n",
        "k = 2 * rows - 2  # It is used for number of spaces  \n",
        "for i in range(0, rows):  \n",
        "    for j in range(0, k):  \n",
        "        print(end=\"*\")  \n",
        "    k = k - 2   # decrement k value after each iteration  if we fo -1 then it will convert to right angle triangel\n",
        "    for j in range(0, i + 1):  \n",
        "        print(\" \", end=\"\")  # printing star  \n",
        "    print(\"\")\n"
      ],
      "metadata": {
        "colab": {
          "base_uri": "https://localhost:8080/"
        },
        "id": "5u7-Q3OmZHlZ",
        "outputId": "8302f29b-085f-4897-dfac-659e3b0f9247"
      },
      "execution_count": null,
      "outputs": [
        {
          "output_type": "stream",
          "name": "stdout",
          "text": [
            "\n",
            "* \n",
            "* * \n",
            "* * * \n",
            "* * * * \n",
            "* * * * * \n",
            "* * * * * * \n",
            "* * * * * * * \n",
            "* * * * * * * * \n",
            "* * * * * * * * * \n",
            "****************** \n",
            "****************  \n",
            "**************   \n",
            "************    \n",
            "**********     \n",
            "********      \n",
            "******       \n",
            "****        \n",
            "**         \n",
            "          \n"
          ]
        }
      ]
    },
    {
      "cell_type": "code",
      "source": [
        "# 10 Convert two lists into a dictionary\n",
        "list1 = ['india','australia','usa']\n",
        "list2 = ['delhi','canberra','washinton']\n",
        "dict1 = dict(zip(list1,list2))\n",
        "print(dict1)"
      ],
      "metadata": {
        "colab": {
          "base_uri": "https://localhost:8080/"
        },
        "id": "5duBVYrUcbG6",
        "outputId": "038fa3d2-6f2f-4fa3-9e69-6373b2789b1b"
      },
      "execution_count": null,
      "outputs": [
        {
          "output_type": "stream",
          "name": "stdout",
          "text": [
            "{'india': 'delhi', 'australia': 'canberra', 'usa': 'washinton'}\n"
          ]
        }
      ]
    },
    {
      "cell_type": "code",
      "source": [
        "#11 Merge two Python dictionaries into one\n",
        "# Python code to merge dict using update() method\n",
        "dict1 = {'a': 10, 'b': 8}\n",
        "dict2 = {'d': 6, 'c': 4}\n",
        "dict2.update(dict1)\n",
        "\n",
        "\n",
        "# changes made in dict2\n",
        "print(dict2)\n"
      ],
      "metadata": {
        "colab": {
          "base_uri": "https://localhost:8080/"
        },
        "id": "Y1RCMl68dwY4",
        "outputId": "da8dcb7b-1483-4da7-8425-162fa957bcac"
      },
      "execution_count": null,
      "outputs": [
        {
          "output_type": "stream",
          "name": "stdout",
          "text": [
            "{'d': 6, 'c': 4, 'a': 10, 'b': 8}\n"
          ]
        }
      ]
    },
    {
      "cell_type": "code",
      "source": [
        "# 12-Create a dictionary by extracting the keys from a given dictionary\n",
        "dict2 = {1:'one',2:'two',3:'three',4:'four'}\n",
        "dict2.keys()"
      ],
      "metadata": {
        "id": "CrsP1daJhFhs",
        "colab": {
          "base_uri": "https://localhost:8080/"
        },
        "outputId": "e54ec9ad-dd58-48c8-eea1-b9e320e7dc36"
      },
      "execution_count": 1,
      "outputs": [
        {
          "output_type": "execute_result",
          "data": {
            "text/plain": [
              "dict_keys([1, 2, 3, 4])"
            ]
          },
          "metadata": {},
          "execution_count": 1
        }
      ]
    },
    {
      "cell_type": "code",
      "source": [
        "#13 Remove and add item in a list\n",
        "list2 = [1,2,3,4,5,6,7,8,9,'mystring',True]\n",
        "list2.append('durgesh')\n",
        "list2.remove(9)\n",
        "list2"
      ],
      "metadata": {
        "colab": {
          "base_uri": "https://localhost:8080/"
        },
        "id": "nxfYUreEe2ep",
        "outputId": "02783ad8-4032-45c0-a7a1-7f7025377b28"
      },
      "execution_count": null,
      "outputs": [
        {
          "output_type": "execute_result",
          "data": {
            "text/plain": [
              "[1, 2, 3, 4, 5, 6, 7, 8, 'mystring', True, 'durgesh']"
            ]
          },
          "metadata": {},
          "execution_count": 29
        }
      ]
    },
    {
      "cell_type": "code",
      "source": [
        "# 14-Unpack the tuple into 4 variables\n",
        "ntuple = ('apple','samsung','nokia','motorola')\n",
        "for i in ntuple:\n",
        "  print(i)\n"
      ],
      "metadata": {
        "id": "sEBehTptiOmi",
        "colab": {
          "base_uri": "https://localhost:8080/"
        },
        "outputId": "cbb543d1-ae1e-4872-a4b6-a551536671e1"
      },
      "execution_count": 2,
      "outputs": [
        {
          "output_type": "stream",
          "name": "stdout",
          "text": [
            "apple\n",
            "samsung\n",
            "nokia\n",
            "motorola\n"
          ]
        }
      ]
    },
    {
      "cell_type": "code",
      "source": [
        "# 15-Swap two tuples in Python\n",
        "a=int(input(\"Enter the first number :\"))\n",
        "b=int(input(\"Enter the second number :\"))\n",
        "print (\"a=\",a, \"b=\",b)\n",
        "(a,b)=(b,a)\n",
        "print(\"a=\",a, \"b=\",b)"
      ],
      "metadata": {
        "colab": {
          "base_uri": "https://localhost:8080/"
        },
        "id": "XdtcoSQBhO6k",
        "outputId": "ed13b44a-f710-4926-abf5-c65d165476bd"
      },
      "execution_count": 4,
      "outputs": [
        {
          "output_type": "stream",
          "name": "stdout",
          "text": [
            "Enter the first number :20\n",
            "Enter the second number :30\n",
            "a= 20 b= 30\n",
            "a= 30 b= 20\n"
          ]
        }
      ]
    },
    {
      "cell_type": "code",
      "source": [
        "# 16-Copy specific elements from one tuple to a new tuple\n",
        "ntuple = ('apple','samsung','nokia','motorola')\n",
        "new_tuple = (ntuple[0])\n",
        "new_tuple"
      ],
      "metadata": {
        "colab": {
          "base_uri": "https://localhost:8080/",
          "height": 36
        },
        "id": "LdsHC1Iuh14I",
        "outputId": "6394e92c-eb23-4a9d-a253-a989f066b9e3"
      },
      "execution_count": 6,
      "outputs": [
        {
          "output_type": "execute_result",
          "data": {
            "text/plain": [
              "'apple'"
            ],
            "application/vnd.google.colaboratory.intrinsic+json": {
              "type": "string"
            }
          },
          "metadata": {},
          "execution_count": 6
        }
      ]
    },
    {
      "cell_type": "code",
      "source": [
        "# 17-Sort a tuple of tuples by 2nd item\n"
      ],
      "metadata": {
        "id": "7fgOsTaCiI7I"
      },
      "execution_count": null,
      "outputs": []
    },
    {
      "cell_type": "code",
      "source": [
        "# 18-Counts the number of occurrences of item 50 from a tuple\n",
        "\n",
        "tuple2 = (1,2,2,33,3,4,4,4,5,5,6,7,7,8,9,22,13,)\n",
        "x = int(input())\n",
        "count = 0\n",
        "for i in tuple2:\n",
        "  if (i == x):\n",
        "    count = count + 1\n",
        "print(f'counnt of {x} is {count}')"
      ],
      "metadata": {
        "colab": {
          "base_uri": "https://localhost:8080/"
        },
        "id": "nnZqKuAPil7V",
        "outputId": "08ca4d6a-eb1b-47e8-e72e-5f3a10342131"
      },
      "execution_count": 10,
      "outputs": [
        {
          "output_type": "stream",
          "name": "stdout",
          "text": [
            "4\n",
            "counnt of 4 is 3\n"
          ]
        }
      ]
    },
    {
      "cell_type": "code",
      "source": [
        "# 19-Return a new set of identical items from two sets\n",
        "\n",
        "set1 = {10, 20, 30, 40, 50}\n",
        "set2 = {30, 40, 50, 60, 70}\n",
        "\n",
        "print(set1.intersection(set2))"
      ],
      "metadata": {
        "colab": {
          "base_uri": "https://localhost:8080/"
        },
        "id": "7T03QUbPimBQ",
        "outputId": "201f6b00-bc5f-47bb-ca99-2c7eb031699d"
      },
      "execution_count": 11,
      "outputs": [
        {
          "output_type": "stream",
          "name": "stdout",
          "text": [
            "{40, 50, 30}\n"
          ]
        }
      ]
    },
    {
      "cell_type": "code",
      "source": [
        "# 20-Get Only unique items from two sets\n",
        "set1 = {10, 20, 30, 40, 50}\n",
        "set2 = {30, 40, 50, 60, 70}\n",
        "\n",
        "print(set1.union(set2))\n"
      ],
      "metadata": {
        "id": "H4C_pKLbimH4"
      },
      "execution_count": null,
      "outputs": []
    },
    {
      "cell_type": "code",
      "source": [
        "# 21-Update the first set with items that don’t exist in the second set\n",
        "set1 = {10, 20, 30}\n",
        "set2 = {20, 40, 50}\n",
        "\n",
        "set1.difference_update(set2)\n",
        "print(set1)"
      ],
      "metadata": {
        "id": "CaBf27DGimKQ"
      },
      "execution_count": null,
      "outputs": []
    },
    {
      "cell_type": "code",
      "source": [
        "# 22-Remove items from the set at once\n",
        "set1 = {10, 20, 30, 40, 50}\n",
        "set1.difference_update({10, 20, 30})\n",
        "print(set1)"
      ],
      "metadata": {
        "colab": {
          "base_uri": "https://localhost:8080/"
        },
        "id": "r1fFPQS7ltlr",
        "outputId": "749bf6b6-58ec-4e72-c6e3-16a75ab79829"
      },
      "execution_count": 13,
      "outputs": [
        {
          "output_type": "stream",
          "name": "stdout",
          "text": [
            "{40, 50}\n"
          ]
        }
      ]
    },
    {
      "cell_type": "code",
      "source": [
        "# 23-Return a set of elements present in Set A or B, but not both\n",
        "set1 = {10, 20, 30, 40, 50}\n",
        "set2 = {30, 40, 50, 60, 70}\n",
        "\n",
        "print(set1.symmetric_difference(set2))"
      ],
      "metadata": {
        "colab": {
          "base_uri": "https://localhost:8080/"
        },
        "id": "fHy5_ml1imOH",
        "outputId": "e916f579-5cf5-4981-b293-f20f00dcb960"
      },
      "execution_count": 14,
      "outputs": [
        {
          "output_type": "stream",
          "name": "stdout",
          "text": [
            "{20, 70, 10, 60}\n"
          ]
        }
      ]
    },
    {
      "cell_type": "code",
      "source": [
        "# 24-Check if two sets have any elements in common. If yes, display the common elements\n"
      ],
      "metadata": {
        "id": "DAzOj-w5imRO"
      },
      "execution_count": null,
      "outputs": []
    },
    {
      "cell_type": "code",
      "source": [
        "# 25-Update set1 by adding items from set2, except common items"
      ],
      "metadata": {
        "id": "gqKnbririmUy"
      },
      "execution_count": null,
      "outputs": []
    },
    {
      "cell_type": "code",
      "source": [
        "# 26-Turn every item of a list into its square"
      ],
      "metadata": {
        "id": "5VB3a72Dm9hT"
      },
      "execution_count": null,
      "outputs": []
    },
    {
      "cell_type": "code",
      "source": [
        "# 27-Iterate both lists simultaneously ( Any list we can make and run those together)"
      ],
      "metadata": {
        "id": "0WL-OL4jm9cK"
      },
      "execution_count": null,
      "outputs": []
    },
    {
      "cell_type": "code",
      "source": [
        "# 28-Remove empty strings from the list of strings"
      ],
      "metadata": {
        "id": "zGsePMkUm9Xz"
      },
      "execution_count": null,
      "outputs": []
    },
    {
      "cell_type": "code",
      "source": [
        "# 29 Print the sum of the current number and the previous number"
      ],
      "metadata": {
        "id": "Wq37lABpm9Nu"
      },
      "execution_count": null,
      "outputs": []
    },
    {
      "cell_type": "code",
      "source": [
        "# 1-Print list in reverse order using a loop\n",
        "# 2-Display numbers from -10 to -1 using for loop\n",
        "# 3-Write a program to display all prime numbers within a range ( divisible by 1 and the number itself) 5\n",
        "# 4-Find the factorial of a given number, n, n-1, n-2, n-3 ( n = 10*9*8*7*6....1)\n",
        "          # n = 5\n",
        "          #   output = n * (n-1)\n",
        "          #           5 * 4 * 3 * 2 * 1\n",
        "# 5- Reverse a given integer number ( n = 45736382 )\n",
        "# 6-Use a loop to display elements from a given list present at odd index positions\n",
        "# 7-Calculate the cube of all numbers from 1 to a given number (n = 10)\n",
        "# 8-Find the sum of the series upto n terms (n = 5)\n",
        "# 9-\n",
        "# *                  # Print this pattern\n",
        "# * * \n",
        "# * * * \n",
        "# * * * * \n",
        "# * * * * * \n",
        "# * * * * \n",
        "# * * * \n",
        "# * * \n",
        "# *\n",
        "# 10 - Convert two lists into a dictionary\n",
        "# 11-Merge two Python dictionaries into one\n",
        "# 12-Create a dictionary by extracting the keys from a given dictionary\n",
        "# 13-Remove and add item in a list\n",
        "# 14-Unpack the tuple into 4 variables\n",
        "# 15-Swap two tuples in Python\n",
        "# 16-Copy specific elements from one tuple to a new tuple\n",
        "# 17-Sort a tuple of tuples by 2nd item\n",
        "# 18-Counts the number of occurrences of item 50 from a tuple\n",
        "# 19-Return a new set of identical items from two sets\n",
        "#  20-Get Only unique items from two sets\n",
        "# 21-Update the first set with items that don’t exist in the second set\n",
        "# 22-Remove items from the set at once\n",
        "# 23-Return a set of elements present in Set A or B, but not both\n",
        "# 24-Check if two sets have any elements in common. If yes, display the common elements\n",
        "# 25-Update set1 by adding items from set2, except common items\n",
        "# 26-Turn every item of a list into its square\n",
        "# 27-Iterate both lists simultaneously ( Any list we can make and run those together)\n",
        "# 28-Remove empty strings from the list of strings\n",
        "# 29 Print the sum of the current number and the previous number"
      ],
      "metadata": {
        "id": "2R7pOg4YiPBG"
      },
      "execution_count": null,
      "outputs": []
    },
    {
      "cell_type": "code",
      "source": [
        "# 1-Print list in reverse order using a loop\n",
        "# 2-Display numbers from -10 to -1 using for loop\n",
        "# 3-Write a program to display all prime numbers within a range ( divisible by 1 and the number itself) 5\n",
        "# 4-Find the factorial of a given number, n, n-1, n-2, n-3 ( n = 10*9*8*7*6....1)\n",
        "          # n = 5\n",
        "          #   output = n * (n-1)\n",
        "          #           5 * 4 * 3 * 2 * 1\n",
        "# 5- Reverse a given integer number ( n = 45736382 )\n",
        "# 6-Use a loop to display elements from a given list present at odd index positions\n",
        "# 7-Calculate the cube of all numbers from 1 to a given number (n = 10)\n",
        "# 8-Find the sum of the series upto n terms (n = 5)\n",
        "# 9-\n",
        "# *                  # Print this pattern\n",
        "# * * \n",
        "# * * * \n",
        "# * * * * \n",
        "# * * * * * \n",
        "# * * * * \n",
        "# * * * \n",
        "# * * \n",
        "# *\n",
        "# 10 - Convert two lists into a dictionary\n",
        "# 11-Merge two Python dictionaries into one\n",
        "# 12-Create a dictionary by extracting the keys from a given dictionary\n",
        "# 13-Remove and add item in a list\n",
        "# 14-Unpack the tuple into 4 variables\n",
        "# 15-Swap two tuples in Python\n",
        "# 16-Copy specific elements from one tuple to a new tuple\n",
        "# 17-Sort a tuple of tuples by 2nd item\n",
        "# 18-Counts the number of occurrences of item 50 from a tuple\n",
        "# 19-Return a new set of identical items from two sets\n",
        "#  20-Get Only unique items from two sets\n",
        "# 21-Update the first set with items that don’t exist in the second set\n",
        "# 22-Remove items from the set at once\n",
        "# 23-Return a set of elements present in Set A or B, but not both\n",
        "# 24-Check if two sets have any elements in common. If yes, display the common elements\n",
        "# 25-Update set1 by adding items from set2, except common items\n",
        "# 26-Turn every item of a list into its square\n",
        "# 27-Iterate both lists simultaneously ( Any list we can make and run those together)\n",
        "# 28-Remove empty strings from the list of strings\n",
        "# Print the sum of the current number and the previous number"
      ],
      "metadata": {
        "id": "2soPTgRkEnIs"
      },
      "execution_count": null,
      "outputs": []
    }
  ]
}