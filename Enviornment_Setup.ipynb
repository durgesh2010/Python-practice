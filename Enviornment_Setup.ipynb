{
  "nbformat": 4,
  "nbformat_minor": 0,
  "metadata": {
    "colab": {
      "provenance": [],
      "collapsed_sections": [],
      "include_colab_link": true
    },
    "kernelspec": {
      "name": "python3",
      "display_name": "Python 3"
    },
    "language_info": {
      "name": "python"
    }
  },
  "cells": [
    {
      "cell_type": "markdown",
      "metadata": {
        "id": "view-in-github",
        "colab_type": "text"
      },
      "source": [
        "<a href=\"https://colab.research.google.com/github/durgesh2010/Python-practice/blob/main/Enviornment_Setup.ipynb\" target=\"_parent\"><img src=\"https://colab.research.google.com/assets/colab-badge.svg\" alt=\"Open In Colab\"/></a>"
      ]
    },
    {
      "cell_type": "markdown",
      "source": [
        "# My Notes"
      ],
      "metadata": {
        "id": "n89g9Fpd8_EL"
      }
    },
    {
      "cell_type": "code",
      "execution_count": null,
      "metadata": {
        "id": "NLCxR3WXo3ZU"
      },
      "outputs": [],
      "source": [
        "a = 20 + 4.5"
      ]
    },
    {
      "cell_type": "code",
      "source": [
        "type(a)"
      ],
      "metadata": {
        "colab": {
          "base_uri": "https://localhost:8080/"
        },
        "id": "Kfo4Yp9O9H9b",
        "outputId": "401d5ea5-6f38-4190-848e-9794fa030980"
      },
      "execution_count": null,
      "outputs": [
        {
          "output_type": "execute_result",
          "data": {
            "text/plain": [
              "float"
            ]
          },
          "metadata": {},
          "execution_count": 15
        }
      ]
    },
    {
      "cell_type": "code",
      "execution_count": null,
      "metadata": {
        "colab": {
          "base_uri": "https://localhost:8080/"
        },
        "id": "lrDhf-vfpFq7",
        "outputId": "2890ac66-6a9e-4e02-95d8-ca6d554fe99c"
      },
      "outputs": [
        {
          "output_type": "execute_result",
          "data": {
            "text/plain": [
              "24"
            ]
          },
          "metadata": {},
          "execution_count": 16
        }
      ],
      "source": [
        "int(a)"
      ]
    },
    {
      "cell_type": "code",
      "execution_count": null,
      "metadata": {
        "id": "HD5FIQNUpFu8",
        "colab": {
          "base_uri": "https://localhost:8080/"
        },
        "outputId": "e8f97357-544b-4382-8a70-3c7d6b88bf81"
      },
      "outputs": [
        {
          "output_type": "execute_result",
          "data": {
            "text/plain": [
              "11"
            ]
          },
          "metadata": {},
          "execution_count": 17
        }
      ],
      "source": [
        "10 + True # True has value 1 inside"
      ]
    },
    {
      "cell_type": "code",
      "execution_count": null,
      "metadata": {
        "id": "_MlD52cxpFx5",
        "colab": {
          "base_uri": "https://localhost:8080/"
        },
        "outputId": "8fcfee9b-7460-4f44-90ed-5f8e4d8f153f"
      },
      "outputs": [
        {
          "output_type": "execute_result",
          "data": {
            "text/plain": [
              "10"
            ]
          },
          "metadata": {},
          "execution_count": 4
        }
      ],
      "source": [
        "10 + False # True has value 0 inside"
      ]
    },
    {
      "cell_type": "code",
      "execution_count": null,
      "metadata": {
        "id": "MyWavqQSpF1-",
        "colab": {
          "base_uri": "https://localhost:8080/"
        },
        "outputId": "36a0c870-87f9-4985-c329-17aa901c330a"
      },
      "outputs": [
        {
          "output_type": "stream",
          "name": "stdout",
          "text": [
            "print your name Durgesh\n",
            "good to go Durgesh\n"
          ]
        }
      ],
      "source": [
        "name = input('print your name ')\n",
        "if name =='Durgesh':\n",
        "  print(f'good to go {name}')\n",
        "else:\n",
        "  print('hey XYZ you are not allowed')"
      ]
    },
    {
      "cell_type": "code",
      "source": [
        "a = 10 \n",
        "b = 20 \n",
        "c = 30\n",
        "print(f'hey a got  {a} b got {b} and c got {c}')"
      ],
      "metadata": {
        "id": "sexe3LkByk4A",
        "colab": {
          "base_uri": "https://localhost:8080/"
        },
        "outputId": "f541eb83-1083-4f09-bb94-1ca4e2fc0da3"
      },
      "execution_count": null,
      "outputs": [
        {
          "output_type": "stream",
          "name": "stdout",
          "text": [
            "hey a got  10 b got 20 and c got 30\n"
          ]
        }
      ]
    },
    {
      "cell_type": "code",
      "source": [
        "name = input('')\n",
        "marks = input('')\n",
        "print('{}got {} marks these are good but you can score more keep learning'.format(name,marks))"
      ],
      "metadata": {
        "colab": {
          "base_uri": "https://localhost:8080/"
        },
        "id": "YJCRkeigALFR",
        "outputId": "e71865dc-30fc-4d62-b0ec-857ff13c3576"
      },
      "execution_count": null,
      "outputs": [
        {
          "output_type": "stream",
          "name": "stdout",
          "text": [
            "rakesh \n",
            "90\n",
            "rakesh got 90 marks these are good but you can score more keep learning\n"
          ]
        }
      ]
    },
    {
      "cell_type": "code",
      "source": [
        "\n",
        "nlist =tuple([9,8,7])\n",
        "a = (1,2,nlist ,'lit')\n",
        "nlist[0] = 9\n",
        "a"
      ],
      "metadata": {
        "id": "XuCYpLYFyk7q",
        "colab": {
          "base_uri": "https://localhost:8080/"
        },
        "outputId": "82b0c328-8d76-407e-d6cc-580fb1c9abb2"
      },
      "execution_count": null,
      "outputs": [
        {
          "output_type": "execute_result",
          "data": {
            "text/plain": [
              "(1, 2, [9, 8, 7], 'lit')"
            ]
          },
          "metadata": {},
          "execution_count": 11
        }
      ]
    },
    {
      "cell_type": "code",
      "source": [
        "nlist1 = list((9,8,7))\n",
        "nlist1[0] = 6\n",
        "nlist1"
      ],
      "metadata": {
        "colab": {
          "base_uri": "https://localhost:8080/"
        },
        "id": "0GYak_-WxssQ",
        "outputId": "f9f7c0b6-5c96-43a8-a46a-fb2a6c48aae8"
      },
      "execution_count": null,
      "outputs": [
        {
          "output_type": "execute_result",
          "data": {
            "text/plain": [
              "[6, 8, 7]"
            ]
          },
          "metadata": {},
          "execution_count": 15
        }
      ]
    },
    {
      "cell_type": "code",
      "source": [],
      "metadata": {
        "id": "sBf0eO5EeNZf"
      },
      "execution_count": null,
      "outputs": []
    },
    {
      "cell_type": "code",
      "source": [
        "\n",
        "nlist = [1,2,3,4,5,6]\n",
        "print(nlist[::-1])"
      ],
      "metadata": {
        "id": "7pyoEKSwSvqr"
      },
      "execution_count": null,
      "outputs": []
    },
    {
      "cell_type": "markdown",
      "source": [
        "Q.1 Write a Python program to get the Fibonacci series between 0 to 50\n",
        "\n",
        "\n",
        "\n",
        "Note : The Fibonacci Sequence is the series of numbers :\n",
        "\n",
        "0, 1, 1, 2, 3, 5, 8, 13, 21, ....\n",
        "\n",
        "Every next number is found by adding up the two numbers before it.\n",
        "\n",
        "Expected Output : 1 1 2 3 5 8 13 21 34"
      ],
      "metadata": {
        "id": "n6ujxS-dELDt"
      }
    },
    {
      "cell_type": "code",
      "source": [
        "##### \n",
        "prev_no = 0\n",
        "nex_no = 1\n",
        "while nex_no < 50:\n",
        "  print(nex_no)\n",
        "  prev_no,nex_no = nex_no, nex_no + prev_no ## by taking two two values at the same line fark pdta hai instead of line by line \n"
      ],
      "metadata": {
        "colab": {
          "base_uri": "https://localhost:8080/"
        },
        "id": "NifDWCNwEGkc",
        "outputId": "50c98b2c-c69b-48fa-91de-a7765d9b7efd"
      },
      "execution_count": null,
      "outputs": [
        {
          "output_type": "stream",
          "name": "stdout",
          "text": [
            "1\n",
            "1\n",
            "2\n",
            "3\n",
            "5\n",
            "8\n",
            "13\n",
            "21\n",
            "34\n"
          ]
        }
      ]
    },
    {
      "cell_type": "code",
      "source": [
        "#### the result of above code and this one is different\n",
        "prev_no = 0\n",
        "nex_no = 1\n",
        "while nex_no < 50:\n",
        "  print(nex_no)\n",
        "  prev_no= nex_no\n",
        "  nex_no = nex_no + prev_no "
      ],
      "metadata": {
        "id": "_paHLhL-iTwT"
      },
      "execution_count": null,
      "outputs": []
    },
    {
      "cell_type": "code",
      "source": [
        "d = {(10,20): \"tyu\"}"
      ],
      "metadata": {
        "id": "yAO0BZcZh7bC"
      },
      "execution_count": null,
      "outputs": []
    },
    {
      "cell_type": "code",
      "source": [],
      "metadata": {
        "id": "9nyplT-Lh7eq"
      },
      "execution_count": null,
      "outputs": []
    },
    {
      "cell_type": "markdown",
      "source": [
        "# What is OOP's\n",
        "\n",
        "Object-oriented programming (OOP) is a computer programming model that organizes software design around data, or objects, rather than functions and logic."
      ],
      "metadata": {
        "id": "EiUKZCexEH34"
      }
    },
    {
      "cell_type": "code",
      "source": [],
      "metadata": {
        "id": "rhrFojl6EHHr"
      },
      "execution_count": null,
      "outputs": []
    },
    {
      "cell_type": "markdown",
      "source": [
        "What is self in a class?\n",
        "\n",
        "\n",
        "self represents the instance of the class. By using the “self” we can access the attributes and methods of the class in python. It binds the attributes with the given arguments. The reason you need to use self. is because Python does not use the @ syntax to refer to instance attributes."
      ],
      "metadata": {
        "id": "a4M2l_w9yfhU"
      }
    },
    {
      "cell_type": "markdown",
      "source": [
        "Attributes are data members inside a class or an object that represent the different **features** of the class."
      ],
      "metadata": {
        "id": "2QR9ubvaChQs"
      }
    },
    {
      "cell_type": "code",
      "source": [],
      "metadata": {
        "id": "plWSeTLK8_pI"
      },
      "execution_count": null,
      "outputs": []
    },
    {
      "cell_type": "code",
      "source": [],
      "metadata": {
        "id": "DxMaDknWGINF"
      },
      "execution_count": null,
      "outputs": []
    },
    {
      "cell_type": "markdown",
      "source": [
        "# What is the inheritance in OOPs?\n",
        "Inheritance in OOP = When a class derives from another class.\n",
        "\n",
        "Inheritance is a feature or a process in which, new classes are created from the existing classes."
      ],
      "metadata": {
        "id": "AfHJvo3HGJPa"
      }
    },
    {
      "cell_type": "code",
      "source": [],
      "metadata": {
        "id": "jUf5KIlDGIXT"
      },
      "execution_count": null,
      "outputs": []
    },
    {
      "cell_type": "markdown",
      "source": [
        "# Lecture Content"
      ],
      "metadata": {
        "id": "aNkUfJQj9Lr9"
      }
    },
    {
      "cell_type": "code",
      "source": [
        "# Python - Programming language \n",
        "# 1 - Easy to learn\n",
        "# 2 - libraries\n",
        "# 3 - Interpreted Language ( Line by line )\n",
        "# 4 - General Programming language ( Game, website, AI(Data Science), Script(1000), AP)\n",
        "# 5 - OOP'S\n",
        "# 6 - Open Source\n",
        "print('Uttam')"
      ],
      "metadata": {
        "colab": {
          "base_uri": "https://localhost:8080/"
        },
        "id": "PvDkrdciYEY7",
        "outputId": "2099adbd-c90c-4da2-d9da-3a6ce8f566fa"
      },
      "execution_count": null,
      "outputs": [
        {
          "output_type": "stream",
          "name": "stdout",
          "text": [
            "Uttam\n"
          ]
        }
      ]
    },
    {
      "cell_type": "code",
      "execution_count": null,
      "metadata": {
        "colab": {
          "base_uri": "https://localhost:8080/"
        },
        "id": "q55QeTaTYD9K",
        "outputId": "ceb5728d-115f-43c4-fdd9-f2fc63e80f5c"
      },
      "outputs": [
        {
          "output_type": "stream",
          "name": "stdout",
          "text": [
            "hello\n"
          ]
        }
      ],
      "source": [
        "# Python -- Programming Language (Program) - set of instruction ( 0, 1 )\n",
        "# mediator from Humar and machine ( computer ) - Java, C, C++, Kotlin, etc\n",
        "print('hello')"
      ]
    },
    {
      "cell_type": "code",
      "source": [
        "# Framework ( Pycharm, Jupyter, Jupyter Lab, Spyder, VS code etc, anaconda)\n",
        "# Long codes\n",
        "# debug code"
      ],
      "metadata": {
        "id": "DylWW_iBYEbh"
      },
      "execution_count": null,
      "outputs": []
    },
    {
      "cell_type": "code",
      "source": [
        "print('Uttam')\n",
        "print('Preeti')\n",
        "print('Shubam')"
      ],
      "metadata": {
        "colab": {
          "base_uri": "https://localhost:8080/"
        },
        "id": "hgk9mdmjYEeK",
        "outputId": "06726d3d-1d04-4e13-ac49-4e60b77f6e5a"
      },
      "execution_count": null,
      "outputs": [
        {
          "output_type": "stream",
          "name": "stdout",
          "text": [
            "Uttam\n",
            "Preeti\n",
            "Shubam\n"
          ]
        }
      ]
    },
    {
      "cell_type": "code",
      "source": [
        "print('Praveen')"
      ],
      "metadata": {
        "colab": {
          "base_uri": "https://localhost:8080/"
        },
        "id": "lhSMsVbHYEhI",
        "outputId": "2534f058-285f-4fdf-ac6e-e59197ab802a"
      },
      "execution_count": null,
      "outputs": [
        {
          "output_type": "stream",
          "name": "stdout",
          "text": [
            "Praveen\n"
          ]
        }
      ]
    },
    {
      "cell_type": "code",
      "source": [
        "# python\n",
        "# pip install notebook\n",
        "# jupyter notebook"
      ],
      "metadata": {
        "id": "ozla6iPeYEj5"
      },
      "execution_count": null,
      "outputs": []
    },
    {
      "cell_type": "code",
      "source": [
        "print('Uttam') # Predefined function"
      ],
      "metadata": {
        "colab": {
          "base_uri": "https://localhost:8080/"
        },
        "id": "Sk9p5ZXTYEmi",
        "outputId": "3715fa6f-bfc9-435c-a92f-4694419abfa7"
      },
      "execution_count": null,
      "outputs": [
        {
          "output_type": "stream",
          "name": "stdout",
          "text": [
            "Uttam\n"
          ]
        }
      ]
    },
    {
      "cell_type": "code",
      "source": [
        "print(45.8)"
      ],
      "metadata": {
        "colab": {
          "base_uri": "https://localhost:8080/"
        },
        "id": "nH7TFtGCqfUg",
        "outputId": "eec69c81-ecff-4a48-b4d4-8bd1ddad81c5"
      },
      "execution_count": null,
      "outputs": [
        {
          "output_type": "stream",
          "name": "stdout",
          "text": [
            "45.8\n"
          ]
        }
      ]
    },
    {
      "cell_type": "code",
      "source": [],
      "metadata": {
        "id": "y4sz665iqfaU"
      },
      "execution_count": null,
      "outputs": []
    },
    {
      "cell_type": "markdown",
      "source": [
        "** Data Types**"
      ],
      "metadata": {
        "id": "e2L03v71jiZp"
      }
    },
    {
      "cell_type": "code",
      "source": [
        "# Comments \n",
        "# for loop will print the number from 1 to 20\n",
        "# for i in range(1, 20, 3):\n",
        "#   print(i)"
      ],
      "metadata": {
        "id": "XWtC6aMcjgkX"
      },
      "execution_count": null,
      "outputs": []
    },
    {
      "cell_type": "code",
      "source": [
        "# print, uttam fkjf;lsdjfl;sdjfldskjf;sdjf;djs;lfj\n"
      ],
      "metadata": {
        "id": "zdJ4kIxAjgnV"
      },
      "execution_count": null,
      "outputs": []
    },
    {
      "cell_type": "markdown",
      "source": [
        "Data Types"
      ],
      "metadata": {
        "id": "DTmQF3b2lo-K"
      }
    },
    {
      "cell_type": "code",
      "source": [
        "# 1 --> 45 (Numers, Numeric)  --> Integer (int)\n",
        "# 2 --> 45.6(decimal)         --> Float( float )\n",
        "# 3 --> abc(characters)       --> string (str)\n",
        "# 4 --> True, False ( Truth table)   --> boolean ( bool)\n",
        "# 5 --> a+ib( complex )               --> complex (complex)"
      ],
      "metadata": {
        "id": "WaemgZ09jgp2"
      },
      "execution_count": null,
      "outputs": []
    },
    {
      "cell_type": "code",
      "source": [
        "a = 100 # varialbe\n",
        "b = 50\n",
        "c = a + b"
      ],
      "metadata": {
        "id": "qmsVGtG3jgss"
      },
      "execution_count": null,
      "outputs": []
    },
    {
      "cell_type": "code",
      "source": [
        "print(a)"
      ],
      "metadata": {
        "colab": {
          "base_uri": "https://localhost:8080/"
        },
        "id": "81aspRtXm745",
        "outputId": "79397e70-e1d8-4ab8-e8eb-e567d2c17011"
      },
      "execution_count": null,
      "outputs": [
        {
          "output_type": "stream",
          "name": "stdout",
          "text": [
            "100\n"
          ]
        }
      ]
    },
    {
      "cell_type": "code",
      "source": [
        "print(c)"
      ],
      "metadata": {
        "colab": {
          "base_uri": "https://localhost:8080/"
        },
        "id": "WOtyWBeam77i",
        "outputId": "b932d610-64fb-4f1b-a4e5-9b4de5200c9c"
      },
      "execution_count": null,
      "outputs": [
        {
          "output_type": "stream",
          "name": "stdout",
          "text": [
            "150\n"
          ]
        }
      ]
    },
    {
      "cell_type": "code",
      "source": [
        "'Uttam' + 'Grade' + \"200\""
      ],
      "metadata": {
        "colab": {
          "base_uri": "https://localhost:8080/",
          "height": 36
        },
        "id": "C-4xoJz0jgvu",
        "outputId": "c98085f7-cd60-4ee6-da25-3cd4ffa61716"
      },
      "execution_count": null,
      "outputs": [
        {
          "output_type": "execute_result",
          "data": {
            "text/plain": [
              "'UttamGrade200'"
            ],
            "application/vnd.google.colaboratory.intrinsic+json": {
              "type": "string"
            }
          },
          "metadata": {},
          "execution_count": 18
        }
      ]
    },
    {
      "cell_type": "code",
      "source": [
        "m = 200\n",
        "n = '200'\n",
        "type(n)"
      ],
      "metadata": {
        "id": "x8YovauoqfdK",
        "colab": {
          "base_uri": "https://localhost:8080/"
        },
        "outputId": "a0af7e67-c684-4a43-e491-88ab14537948"
      },
      "execution_count": null,
      "outputs": [
        {
          "output_type": "execute_result",
          "data": {
            "text/plain": [
              "str"
            ]
          },
          "metadata": {},
          "execution_count": 20
        }
      ]
    },
    {
      "cell_type": "code",
      "source": [
        "a = 20.5 # Conversion\n",
        "b = int(a)"
      ],
      "metadata": {
        "id": "hYeUhQCmqfgM"
      },
      "execution_count": null,
      "outputs": []
    },
    {
      "cell_type": "code",
      "source": [
        "type(b)"
      ],
      "metadata": {
        "colab": {
          "base_uri": "https://localhost:8080/"
        },
        "id": "lgS0z5xiqVjU",
        "outputId": "c73f6e4d-28c7-4b15-a183-0fc5ac9bda03"
      },
      "execution_count": null,
      "outputs": [
        {
          "output_type": "execute_result",
          "data": {
            "text/plain": [
              "int"
            ]
          },
          "metadata": {},
          "execution_count": 32
        }
      ]
    },
    {
      "cell_type": "code",
      "source": [
        "a = 100\n",
        "a = 200\n",
        "a = 300\n",
        "a = 1"
      ],
      "metadata": {
        "id": "UP5ZBOrrqVm0"
      },
      "execution_count": null,
      "outputs": []
    },
    {
      "cell_type": "code",
      "source": [
        "print(a)"
      ],
      "metadata": {
        "colab": {
          "base_uri": "https://localhost:8080/"
        },
        "id": "FteRSK-qrN_c",
        "outputId": "fb108155-3fd9-46e4-cb97-dbcaac7e30da"
      },
      "execution_count": null,
      "outputs": [
        {
          "output_type": "stream",
          "name": "stdout",
          "text": [
            "1\n"
          ]
        }
      ]
    },
    {
      "cell_type": "code",
      "source": [
        "'Uttam' + str(True)"
      ],
      "metadata": {
        "colab": {
          "base_uri": "https://localhost:8080/",
          "height": 36
        },
        "id": "65JwUPTNrOBq",
        "outputId": "cbd8e844-317d-452b-dafb-a2f3e32cf61a"
      },
      "execution_count": null,
      "outputs": [
        {
          "output_type": "execute_result",
          "data": {
            "text/plain": [
              "'UttamTrue'"
            ],
            "application/vnd.google.colaboratory.intrinsic+json": {
              "type": "string"
            }
          },
          "metadata": {},
          "execution_count": 56
        }
      ]
    },
    {
      "cell_type": "code",
      "source": [
        "print('Uttam')\n",
        "print('Neha')\n",
        "print(\"Sunil\")"
      ],
      "metadata": {
        "colab": {
          "base_uri": "https://localhost:8080/"
        },
        "id": "VBs2TC_AtisA",
        "outputId": "3e363f9d-0e78-43d4-a472-e4cefa980ce9"
      },
      "execution_count": null,
      "outputs": [
        {
          "output_type": "stream",
          "name": "stdout",
          "text": [
            "Uttam\n",
            "Neha\n",
            "Sunil\n"
          ]
        }
      ]
    },
    {
      "cell_type": "code",
      "source": [
        "# Data Structures # container(who contains multiple data or data type)\n",
        "# List , [], \n",
        "# Tuple ()\n",
        "# set ()\n",
        "# Dict {}\n",
        "akshada = ['B.TECH', 'M.TECH', 12, 12.5, True, 'Archana']"
      ],
      "metadata": {
        "id": "IDRrG8RyxwwI"
      },
      "execution_count": null,
      "outputs": []
    },
    {
      "cell_type": "code",
      "source": [
        "# Indexing\n",
        "akshada[4]"
      ],
      "metadata": {
        "colab": {
          "base_uri": "https://localhost:8080/"
        },
        "id": "Mrjlt-yBxwy3",
        "outputId": "7e6af488-8950-4cd8-9f33-929f45fed7c4"
      },
      "execution_count": null,
      "outputs": [
        {
          "output_type": "execute_result",
          "data": {
            "text/plain": [
              "True"
            ]
          },
          "metadata": {},
          "execution_count": 24
        }
      ]
    },
    {
      "cell_type": "code",
      "source": [
        "print(akshada)"
      ],
      "metadata": {
        "colab": {
          "base_uri": "https://localhost:8080/"
        },
        "id": "2atu3u0exw1F",
        "outputId": "226ce36a-af37-4985-c5dc-b1d59230fa03"
      },
      "execution_count": null,
      "outputs": [
        {
          "output_type": "stream",
          "name": "stdout",
          "text": [
            "['B.TECH', 'M.TECH', 12, 12.5, True, 'Archana']\n"
          ]
        }
      ]
    },
    {
      "cell_type": "code",
      "source": [
        "print(type(akshada))"
      ],
      "metadata": {
        "colab": {
          "base_uri": "https://localhost:8080/"
        },
        "id": "gaCeCFuwxw3Y",
        "outputId": "8cc2d94e-8b31-42fb-e61f-8249fbbde6ab"
      },
      "execution_count": null,
      "outputs": [
        {
          "output_type": "stream",
          "name": "stdout",
          "text": [
            "<class 'list'>\n"
          ]
        }
      ]
    },
    {
      "cell_type": "code",
      "source": [],
      "metadata": {
        "id": "Xz78JN_nxw6P"
      },
      "execution_count": null,
      "outputs": []
    },
    {
      "cell_type": "markdown",
      "source": [
        "03-September-2022"
      ],
      "metadata": {
        "id": "GhLFApdou-ZO"
      }
    },
    {
      "cell_type": "code",
      "source": [
        "float = 'Archana Mishra'# this is not a ggod practice\n",
        "print(type(float))"
      ],
      "metadata": {
        "id": "-gPv5lkdxw9O",
        "colab": {
          "base_uri": "https://localhost:8080/"
        },
        "outputId": "5e1c1cc8-9418-4b19-c81a-6ece0af11ecd"
      },
      "execution_count": null,
      "outputs": [
        {
          "output_type": "stream",
          "name": "stdout",
          "text": [
            "<class 'str'>\n"
          ]
        }
      ]
    },
    {
      "cell_type": "code",
      "source": [
        "10/2"
      ],
      "metadata": {
        "id": "MKtQhjWDxw_1",
        "colab": {
          "base_uri": "https://localhost:8080/"
        },
        "outputId": "1f22bd94-5797-46d6-d997-60f65fca3583"
      },
      "execution_count": null,
      "outputs": [
        {
          "output_type": "execute_result",
          "data": {
            "text/plain": [
              "5.0"
            ]
          },
          "metadata": {},
          "execution_count": 28
        }
      ]
    },
    {
      "cell_type": "code",
      "source": [
        "type(10//2)"
      ],
      "metadata": {
        "id": "7RptfMJ2xxDL",
        "colab": {
          "base_uri": "https://localhost:8080/"
        },
        "outputId": "908106d5-8f24-49de-8177-d84cd68d624b"
      },
      "execution_count": null,
      "outputs": [
        {
          "output_type": "execute_result",
          "data": {
            "text/plain": [
              "int"
            ]
          },
          "metadata": {},
          "execution_count": 29
        }
      ]
    },
    {
      "cell_type": "code",
      "source": [
        "##### String(abcd) Formatting - 1 #####\n",
        "a = 'Archana'\n",
        "b = 'Raj'\n",
        "c = 25\n",
        "print('Hello {} How are you? How about your studies {}, I know that your age is {}'.format(a, c, b))"
      ],
      "metadata": {
        "id": "wS9ohLY0YEpj",
        "colab": {
          "base_uri": "https://localhost:8080/"
        },
        "outputId": "53b7255b-3cbb-4304-ff81-36630abe901b"
      },
      "execution_count": 1,
      "outputs": [
        {
          "output_type": "stream",
          "name": "stdout",
          "text": [
            "Hello Archana How are you? How about your studies 25, I know that your age is Raj\n"
          ]
        }
      ]
    },
    {
      "cell_type": "code",
      "source": [
        "##### String(abcd) Formatting - 2 #####\n",
        "a = 'Archana'\n",
        "b = 'Raj'\n",
        "c = 25\n",
        "print(f'Hello {a} How are you? How about your studies {b}, I know that your age is {c}')"
      ],
      "metadata": {
        "colab": {
          "base_uri": "https://localhost:8080/"
        },
        "id": "3s9MW_l_wzsq",
        "outputId": "1dd710a4-c774-4369-82fa-094a2cd87eb3"
      },
      "execution_count": null,
      "outputs": [
        {
          "output_type": "stream",
          "name": "stdout",
          "text": [
            "Hello Archana How are you? How about your studies Raj, I know that your age is 25\n"
          ]
        }
      ]
    },
    {
      "cell_type": "code",
      "source": [
        "#### input ########\n",
        "name = input('Please Enter your Name')\n",
        "\n",
        "if (name == 'Archana'):\n",
        "  print(f'Welcome {name}, How much money you want to withdrawal.')\n",
        "else:\n",
        "  print('Wrong User, Calling to POLICE')\n",
        "\n"
      ],
      "metadata": {
        "colab": {
          "base_uri": "https://localhost:8080/"
        },
        "id": "nFVkzLvVwzvu",
        "outputId": "2dfb7fcd-1cd8-4d2c-93cf-09dce0429151"
      },
      "execution_count": null,
      "outputs": [
        {
          "output_type": "stream",
          "name": "stdout",
          "text": [
            "Please Enter your Namefghj\n",
            "Wrong User, Calling to POLICE\n"
          ]
        }
      ]
    },
    {
      "cell_type": "code",
      "source": [],
      "metadata": {
        "id": "k0yadwDASvw8"
      },
      "execution_count": null,
      "outputs": []
    },
    {
      "cell_type": "markdown",
      "source": [
        "# Variable assignment lecture"
      ],
      "metadata": {
        "id": "WDcsBV6p9q0J"
      }
    },
    {
      "cell_type": "code",
      "source": [],
      "metadata": {
        "id": "jkbUOp0G9z-J"
      },
      "execution_count": null,
      "outputs": []
    },
    {
      "cell_type": "markdown",
      "source": [
        "05-September-2022"
      ],
      "metadata": {
        "id": "PQaNdpmaAwoE"
      }
    },
    {
      "cell_type": "code",
      "source": [
        "x = 1\n",
        "id(x)"
      ],
      "metadata": {
        "colab": {
          "base_uri": "https://localhost:8080/"
        },
        "id": "6O-2TL2N_TOn",
        "outputId": "66e49b3e-52cf-4241-8dfa-0823835228f6"
      },
      "execution_count": null,
      "outputs": [
        {
          "output_type": "execute_result",
          "data": {
            "text/plain": [
              "11256064"
            ]
          },
          "metadata": {},
          "execution_count": 1
        }
      ]
    },
    {
      "cell_type": "code",
      "source": [
        "# this is object intering x(above) & y have same value\n",
        "y = 1\n",
        "id(y)"
      ],
      "metadata": {
        "colab": {
          "base_uri": "https://localhost:8080/"
        },
        "id": "TNcjlcCD-emn",
        "outputId": "be7ab5ed-3b47-4091-b78b-8fa906a76756"
      },
      "execution_count": null,
      "outputs": [
        {
          "output_type": "execute_result",
          "data": {
            "text/plain": [
              "11256064"
            ]
          },
          "metadata": {},
          "execution_count": 2
        }
      ]
    },
    {
      "cell_type": "code",
      "source": [
        "x =2 \n",
        "id(x)"
      ],
      "metadata": {
        "colab": {
          "base_uri": "https://localhost:8080/"
        },
        "id": "d5PpS5G-_TRs",
        "outputId": "b3dbdde2-b076-48f8-b6cc-1959277aaeeb"
      },
      "execution_count": null,
      "outputs": [
        {
          "output_type": "execute_result",
          "data": {
            "text/plain": [
              "11256096"
            ]
          },
          "metadata": {},
          "execution_count": 3
        }
      ]
    },
    {
      "cell_type": "code",
      "source": [
        "hex(id(x))"
      ],
      "metadata": {
        "colab": {
          "base_uri": "https://localhost:8080/",
          "height": 36
        },
        "id": "viZLNjKf_TVE",
        "outputId": "fa0b2580-e41c-4c8e-8417-1458d171c803"
      },
      "execution_count": null,
      "outputs": [
        {
          "output_type": "execute_result",
          "data": {
            "text/plain": [
              "'0xabc100'"
            ],
            "application/vnd.google.colaboratory.intrinsic+json": {
              "type": "string"
            }
          },
          "metadata": {},
          "execution_count": 3
        }
      ]
    },
    {
      "cell_type": "code",
      "source": [
        "s1 = 'uttam'\n",
        "id(s1)"
      ],
      "metadata": {
        "colab": {
          "base_uri": "https://localhost:8080/"
        },
        "id": "aqfwCcO4_TYp",
        "outputId": "180128f7-b8bb-427b-bc7a-d6599b9ca441"
      },
      "execution_count": null,
      "outputs": [
        {
          "output_type": "execute_result",
          "data": {
            "text/plain": [
              "140219404696624"
            ]
          },
          "metadata": {},
          "execution_count": 4
        }
      ]
    },
    {
      "cell_type": "code",
      "source": [
        "print('Uttam')"
      ],
      "metadata": {
        "colab": {
          "base_uri": "https://localhost:8080/"
        },
        "id": "v1OOQJXP_Tbq",
        "outputId": "56edc9a3-9271-40d7-b026-f02bf486afb6"
      },
      "execution_count": null,
      "outputs": [
        {
          "output_type": "stream",
          "name": "stdout",
          "text": [
            "Uttam\n"
          ]
        }
      ]
    },
    {
      "cell_type": "code",
      "source": [
        "list(range(1, 20))"
      ],
      "metadata": {
        "colab": {
          "base_uri": "https://localhost:8080/"
        },
        "id": "uqdEJY33_Tev",
        "outputId": "74fdbae5-34e6-47e0-ec73-261a64de9dab"
      },
      "execution_count": null,
      "outputs": [
        {
          "output_type": "execute_result",
          "data": {
            "text/plain": [
              "[1, 2, 3, 4, 5, 6, 7, 8, 9, 10, 11, 12, 13, 14, 15, 16, 17, 18, 19]"
            ]
          },
          "metadata": {},
          "execution_count": 6
        }
      ]
    },
    {
      "cell_type": "code",
      "source": [
        "l1 = [10,20,30,40,50]\n",
        "print(l1)"
      ],
      "metadata": {
        "colab": {
          "base_uri": "https://localhost:8080/"
        },
        "id": "o6k0iTFM_Tv6",
        "outputId": "10309e43-6081-4d38-e34c-53d5ed7a3d01"
      },
      "execution_count": null,
      "outputs": [
        {
          "output_type": "stream",
          "name": "stdout",
          "text": [
            "[10, 20, 30, 40, 50]\n"
          ]
        }
      ]
    },
    {
      "cell_type": "code",
      "source": [
        "l2 = l1.copy()\n",
        "print(l2)"
      ],
      "metadata": {
        "colab": {
          "base_uri": "https://localhost:8080/"
        },
        "id": "sgOq1lNW_Tyz",
        "outputId": "c932a0bf-615f-4ca9-968b-414726c79f3b"
      },
      "execution_count": null,
      "outputs": [
        {
          "output_type": "stream",
          "name": "stdout",
          "text": [
            "[10, 20, 30, 40, 50]\n"
          ]
        }
      ]
    },
    {
      "cell_type": "code",
      "source": [
        "aniket = ['Aniket', 'Preeti', 'Akshada', True, 45, 67.8, False]\n",
        "print(aniket)"
      ],
      "metadata": {
        "colab": {
          "base_uri": "https://localhost:8080/"
        },
        "id": "3tBf6HCM_U2n",
        "outputId": "e5529da1-aee3-4401-87e1-4e5cae07a029"
      },
      "execution_count": null,
      "outputs": [
        {
          "output_type": "stream",
          "name": "stdout",
          "text": [
            "['Aniket', 'Preeti', 'Akshada', True, 45, 67.8, False]\n"
          ]
        }
      ]
    },
    {
      "cell_type": "code",
      "source": [
        "# if we replace pairwise then it will replace smoothly\n",
        "aniket[2:5] = ['Uttam', 'Ujjwal', 'Aditya']"
      ],
      "metadata": {
        "id": "9LHHHtmAJoLh"
      },
      "execution_count": null,
      "outputs": []
    },
    {
      "cell_type": "code",
      "source": [
        "aniket"
      ],
      "metadata": {
        "colab": {
          "base_uri": "https://localhost:8080/"
        },
        "id": "1sVEnthCJoOg",
        "outputId": "8c32a37d-59c3-48e4-b30a-ef9361e7224f"
      },
      "execution_count": null,
      "outputs": [
        {
          "output_type": "execute_result",
          "data": {
            "text/plain": [
              "['Aniket', 'Preeti', 'Uttam', 'Ujjwal', 'Aditya', 67.8, False]"
            ]
          },
          "metadata": {},
          "execution_count": 17
        }
      ]
    },
    {
      "cell_type": "code",
      "source": [
        "s = ['Uttam', 10, True, 'Ijaz', 'Sunil', 'Durgesh']"
      ],
      "metadata": {
        "id": "5NGG7xQeJoRJ"
      },
      "execution_count": null,
      "outputs": []
    },
    {
      "cell_type": "code",
      "source": [
        "s[0] = 'vishal'"
      ],
      "metadata": {
        "id": "n285eoF8JoUH"
      },
      "execution_count": null,
      "outputs": []
    },
    {
      "cell_type": "code",
      "source": [
        "s"
      ],
      "metadata": {
        "colab": {
          "base_uri": "https://localhost:8080/"
        },
        "id": "ZB9Xp4rCJoWa",
        "outputId": "94a030f3-d709-43f9-f308-1b41485d4330"
      },
      "execution_count": null,
      "outputs": [
        {
          "output_type": "execute_result",
          "data": {
            "text/plain": [
              "['vishal', 10, True, 'Ijaz', 'Sunil', 'Durgesh']"
            ]
          },
          "metadata": {},
          "execution_count": 43
        }
      ]
    },
    {
      "cell_type": "code",
      "source": [
        "s[0:2] = ['Aniket', 100]"
      ],
      "metadata": {
        "id": "3a462miIJoZV"
      },
      "execution_count": null,
      "outputs": []
    },
    {
      "cell_type": "code",
      "source": [
        "s"
      ],
      "metadata": {
        "colab": {
          "base_uri": "https://localhost:8080/"
        },
        "id": "Qp34CH5vJob4",
        "outputId": "88ae177b-6ba2-4b4d-d92e-ca5ec33c2846"
      },
      "execution_count": null,
      "outputs": [
        {
          "output_type": "execute_result",
          "data": {
            "text/plain": [
              "['Aniket', 100, True, 'Ijaz', 'Sunil', 'Durgesh']"
            ]
          },
          "metadata": {},
          "execution_count": 45
        }
      ]
    },
    {
      "cell_type": "code",
      "source": [
        "s[0:2] = '700', 800"
      ],
      "metadata": {
        "id": "-Wt_N947Joe8"
      },
      "execution_count": null,
      "outputs": []
    },
    {
      "cell_type": "code",
      "source": [
        "#######\n",
        "sp = ['Uttam', 10, True, 'Ijaz', 'Sunil', 'Durgesh']\n",
        "sp[0:2] = 'Durgesh'\n",
        "sp"
      ],
      "metadata": {
        "colab": {
          "base_uri": "https://localhost:8080/"
        },
        "id": "v8D7HUolAk4Y",
        "outputId": "0ddc3dca-0510-4563-b20d-652a849b03e7"
      },
      "execution_count": null,
      "outputs": [
        {
          "output_type": "execute_result",
          "data": {
            "text/plain": [
              "['D', 'u', 'r', 'g', 'e', 's', 'h', True, 'Ijaz', 'Sunil', 'Durgesh']"
            ]
          },
          "metadata": {},
          "execution_count": 12
        }
      ]
    },
    {
      "cell_type": "code",
      "source": [
        "# here the value is int after separation meaning will be change that's it is showing error\n",
        "sp = ['Uttam', 10, True, 'Ijaz', 'Sunil', 'Durgesh']\n",
        "s[0:2] = 30\n",
        "s"
      ],
      "metadata": {
        "id": "XFk8EH0ABQ4P"
      },
      "execution_count": null,
      "outputs": []
    },
    {
      "cell_type": "code",
      "source": [
        "s"
      ],
      "metadata": {
        "colab": {
          "base_uri": "https://localhost:8080/"
        },
        "id": "-9kFh3-iJoiQ",
        "outputId": "e059bd8b-3d61-4310-d2ee-c0a3f5b88214"
      },
      "execution_count": null,
      "outputs": [
        {
          "output_type": "execute_result",
          "data": {
            "text/plain": [
              "['700', 800, True, 'Ijaz', 'Sunil', 'Durgesh']"
            ]
          },
          "metadata": {},
          "execution_count": 48
        }
      ]
    },
    {
      "cell_type": "code",
      "source": [
        "s2 = ['uttam', 'rakesh', 'Aniket']\n",
        "s2"
      ],
      "metadata": {
        "colab": {
          "base_uri": "https://localhost:8080/"
        },
        "id": "useQMGwX_U6H",
        "outputId": "dd6e29da-8d32-4318-aad6-e70793a80d6f"
      },
      "execution_count": null,
      "outputs": [
        {
          "output_type": "execute_result",
          "data": {
            "text/plain": [
              "['uttam', 'rakesh', 'Aniket']"
            ]
          },
          "metadata": {},
          "execution_count": 49
        }
      ]
    },
    {
      "cell_type": "code",
      "source": [
        "####### now see carefully assigning two names at 0 index\n",
        "s2[0] = 'rohan', 'Sunil'"
      ],
      "metadata": {
        "id": "XPnSqLL5_SHx"
      },
      "execution_count": null,
      "outputs": []
    },
    {
      "cell_type": "code",
      "source": [
        "s2"
      ],
      "metadata": {
        "colab": {
          "base_uri": "https://localhost:8080/"
        },
        "id": "RH-riyFb_SKf",
        "outputId": "494af49d-2276-4895-933e-d37737af8b08"
      },
      "execution_count": null,
      "outputs": [
        {
          "output_type": "execute_result",
          "data": {
            "text/plain": [
              "[('rohan', 'Sunil'), 'rakesh', 'Aniket']"
            ]
          },
          "metadata": {},
          "execution_count": 29
        }
      ]
    },
    {
      "cell_type": "code",
      "source": [],
      "metadata": {
        "id": "Tbm5vjyP_SPY"
      },
      "execution_count": null,
      "outputs": []
    },
    {
      "cell_type": "markdown",
      "source": [
        "Dictionary"
      ],
      "metadata": {
        "id": "9FQiNvi2REu0"
      }
    },
    {
      "cell_type": "code",
      "source": [
        "# dict, {}, key: value\n",
        "d = { \n",
        "    'Uttam': ['Akshada', 'ANiket', 'Prajwal'], \n",
        "     \n",
        "     'Maju': ['Indresh', True, 'majulika']\n",
        "     }"
      ],
      "metadata": {
        "id": "iLYXKkng_SSd"
      },
      "execution_count": null,
      "outputs": []
    },
    {
      "cell_type": "code",
      "source": [
        "type(d)"
      ],
      "metadata": {
        "colab": {
          "base_uri": "https://localhost:8080/"
        },
        "id": "rmtI9qqc_SVi",
        "outputId": "208d91a4-e789-4e65-ce84-756a9de86d0a"
      },
      "execution_count": null,
      "outputs": [
        {
          "output_type": "execute_result",
          "data": {
            "text/plain": [
              "dict"
            ]
          },
          "metadata": {},
          "execution_count": 31
        }
      ]
    },
    {
      "cell_type": "code",
      "source": [
        "d.keys()"
      ],
      "metadata": {
        "colab": {
          "base_uri": "https://localhost:8080/"
        },
        "id": "Sf-2DItt_SYl",
        "outputId": "9fc6848a-5554-447a-d632-44595f95b580"
      },
      "execution_count": null,
      "outputs": [
        {
          "output_type": "execute_result",
          "data": {
            "text/plain": [
              "dict_keys(['Uttam', 'Maju'])"
            ]
          },
          "metadata": {},
          "execution_count": 32
        }
      ]
    },
    {
      "cell_type": "code",
      "source": [
        "d.values()"
      ],
      "metadata": {
        "colab": {
          "base_uri": "https://localhost:8080/"
        },
        "id": "KjDuakf3_SbJ",
        "outputId": "f2887487-c1da-4805-a1b0-11a348a8073a"
      },
      "execution_count": null,
      "outputs": [
        {
          "output_type": "execute_result",
          "data": {
            "text/plain": [
              "dict_values([['Akshada', 'ANiket', 'Prajwal'], ['Indresh', True, 'majulika']])"
            ]
          },
          "metadata": {},
          "execution_count": 33
        }
      ]
    },
    {
      "cell_type": "code",
      "source": [
        "#Exercise 1: Reverse a list in Python\n",
        "l1 =[1,2,3,4]\n",
        "l1.reverse()\n",
        "print(l1)\n"
      ],
      "metadata": {
        "colab": {
          "base_uri": "https://localhost:8080/"
        },
        "id": "bNbqjnZh_SeA",
        "outputId": "cbbd87ee-3cc9-4b32-dc93-340a492b6d18"
      },
      "execution_count": null,
      "outputs": [
        {
          "output_type": "stream",
          "name": "stdout",
          "text": [
            "[4, 3, 2, 1]\n"
          ]
        }
      ]
    },
    {
      "cell_type": "code",
      "source": [
        "l1=10,20,30,40,50 \n",
        "l1[::-1]\n"
      ],
      "metadata": {
        "colab": {
          "base_uri": "https://localhost:8080/"
        },
        "id": "Bah5IAYA_Sij",
        "outputId": "d9d443ef-bb0e-4472-ccf0-4623156c609a"
      },
      "execution_count": null,
      "outputs": [
        {
          "output_type": "execute_result",
          "data": {
            "text/plain": [
              "(50, 40, 30, 20, 10)"
            ]
          },
          "metadata": {},
          "execution_count": 52
        }
      ]
    },
    {
      "cell_type": "code",
      "source": [
        "# Exercise 2: Concatenate two lists index-wise\n",
        "# Exercise 3: Remove empty strings from the list of strings"
      ],
      "metadata": {
        "id": "XU6zpUFz_Slg"
      },
      "execution_count": null,
      "outputs": []
    },
    {
      "cell_type": "code",
      "source": [
        "dlist = [1,2,3,4,5,'my name',True,False]\n",
        "print (f' concatinating {dlist[0:5]} and Durgesh i.e {dlist[5:6]}')"
      ],
      "metadata": {
        "colab": {
          "base_uri": "https://localhost:8080/"
        },
        "id": "78PdEYobCZvS",
        "outputId": "1d0456db-5c56-40fe-c25a-53413395d73e"
      },
      "execution_count": null,
      "outputs": [
        {
          "output_type": "stream",
          "name": "stdout",
          "text": [
            " concatinatinating [1, 2, 3, 4, 5] and Durgesh i.e ['my name']\n"
          ]
        }
      ]
    },
    {
      "cell_type": "code",
      "source": [
        "dstring \"my name is jovani georgio but everbody calls me georgio \"\n"
      ],
      "metadata": {
        "id": "iUCHUoURDtBt"
      },
      "execution_count": null,
      "outputs": []
    },
    {
      "cell_type": "code",
      "source": [
        "# initializing list\n",
        "test_list = [\"\", \"GeeksforGeeks\", \"\", \"is\", \"best\", \"\"]\n",
        " \n",
        "# Printing original list\n",
        "print (\"Original list is : \" + str(test_list))\n",
        " \n",
        "# using remove() to\n",
        "# perform removal\n",
        "while(\"\" in test_list) :\n",
        "    test_list.remove(\"\")\n",
        "     \n",
        "# Printing modified list\n",
        "print (\"Modified list is : \" + str(test_list))"
      ],
      "metadata": {
        "colab": {
          "base_uri": "https://localhost:8080/"
        },
        "id": "WJITk708E-B7",
        "outputId": "19505013-2f7b-4fc2-cb32-1570c99c78d6"
      },
      "execution_count": null,
      "outputs": [
        {
          "output_type": "stream",
          "name": "stdout",
          "text": [
            "Original list is : ['', 'GeeksforGeeks', '', 'is', 'best', '']\n",
            "Modified list is : ['GeeksforGeeks', 'is', 'best']\n"
          ]
        }
      ]
    },
    {
      "cell_type": "code",
      "source": [
        "\n",
        "test_list = [\"\", \"thor\", \"\", \"ironman\", \"best\", \"\",\"sunnypaji\"]\n",
        "nlist = []\n",
        "for new in test_list:\n",
        "  if new != \"\":\n",
        "    nlist.append(new)\n",
        "print(nlist)"
      ],
      "metadata": {
        "colab": {
          "base_uri": "https://localhost:8080/"
        },
        "id": "zLDFjemqFMcw",
        "outputId": "4db53baa-aeb2-4185-9d1c-28e7ef0ed0fe"
      },
      "execution_count": null,
      "outputs": [
        {
          "output_type": "stream",
          "name": "stdout",
          "text": [
            "['thor', 'ironman', 'best', 'sunnypaji']\n"
          ]
        }
      ]
    },
    {
      "cell_type": "code",
      "source": [
        "test_list.remove(\"\")\n"
      ],
      "metadata": {
        "id": "pCL0dPtgFzSo"
      },
      "execution_count": null,
      "outputs": []
    },
    {
      "cell_type": "code",
      "source": [
        "test_list"
      ],
      "metadata": {
        "colab": {
          "base_uri": "https://localhost:8080/"
        },
        "id": "_AfTYBV0KGxR",
        "outputId": "e765da3d-24fd-4a25-c537-b9aeecbe1777"
      },
      "execution_count": null,
      "outputs": [
        {
          "output_type": "execute_result",
          "data": {
            "text/plain": [
              "['thor', '', 'ironman', 'best', '', 'sunnypaji']"
            ]
          },
          "metadata": {},
          "execution_count": 3
        }
      ]
    },
    {
      "cell_type": "code",
      "source": [
        "g = (1,2,3,4)\n",
        "id(g)"
      ],
      "metadata": {
        "colab": {
          "base_uri": "https://localhost:8080/"
        },
        "id": "d6e_RGN6NOrS",
        "outputId": "4970fe1c-f677-470c-9e71-3f085ed1c0dd"
      },
      "execution_count": null,
      "outputs": [
        {
          "output_type": "execute_result",
          "data": {
            "text/plain": [
              "140455507445808"
            ]
          },
          "metadata": {},
          "execution_count": 5
        }
      ]
    },
    {
      "cell_type": "code",
      "source": [
        "# Exercise 2: Concatenate two lists index-wise\n",
        "# Exercise 3: Remove empty strings from the list of strings"
      ],
      "metadata": {
        "id": "r2jd3jEMOp7c"
      },
      "execution_count": null,
      "outputs": []
    },
    {
      "cell_type": "code",
      "source": [
        "#remove empty string from the list\n",
        "l4 = ['ka ','ku','ki',' ','ke', ' ']\n",
        "l4.remove(' ')\n",
        "l4\n"
      ],
      "metadata": {
        "colab": {
          "base_uri": "https://localhost:8080/"
        },
        "id": "J1bGn5EkJsN2",
        "outputId": "0ece361c-76e2-40fe-95c9-a85c360ce09a"
      },
      "execution_count": 3,
      "outputs": [
        {
          "output_type": "execute_result",
          "data": {
            "text/plain": [
              "['ka ', 'ku', 'ki', 'ke', ' ']"
            ]
          },
          "metadata": {},
          "execution_count": 3
        }
      ]
    },
    {
      "cell_type": "code",
      "source": [],
      "metadata": {
        "id": "LJjUPqbJJsVi"
      },
      "execution_count": null,
      "outputs": []
    },
    {
      "cell_type": "code",
      "source": [
        "########\n",
        "list1 = [\"m\",\"na\",\"i\",\"ke\"]\n",
        "list2 = [\"y\",\"me\",\"s\",\"lly\"]\n",
        "list3 = [i + j for i, j in zip(list1, list2)]\n",
        "print(list3)\n"
      ],
      "metadata": {
        "id": "e8C0fmY1WKb4",
        "colab": {
          "base_uri": "https://localhost:8080/"
        },
        "outputId": "d5b0219e-92d0-4d60-ed57-aa38792eaa14"
      },
      "execution_count": null,
      "outputs": [
        {
          "output_type": "stream",
          "name": "stdout",
          "text": [
            "['my', 'name', 'is', 'kelly']\n"
          ]
        }
      ]
    },
    {
      "cell_type": "code",
      "source": [
        "#######\n",
        "l1 = [\"Shubham\",\"rohit\",True, 12,False]\n",
        "l2 =[\"Radha\",\"Deepak\",6,45, \"Uttam\"]\n",
        "l3 = l1 + l2\n",
        "print(l3)\n"
      ],
      "metadata": {
        "colab": {
          "base_uri": "https://localhost:8080/"
        },
        "id": "OKjchlcDHTSC",
        "outputId": "5f55e244-0296-4204-cd05-7fd2e61e81f0"
      },
      "execution_count": null,
      "outputs": [
        {
          "output_type": "stream",
          "name": "stdout",
          "text": [
            "['Shubham', 'rohit', True, 12, False, 'Radha', 'Deepak', 6, 45, 'Uttam']\n"
          ]
        }
      ]
    },
    {
      "cell_type": "code",
      "source": [
        "#concatination of two list index wise\n",
        "l1 = [10,20,30,40]\n",
        "l2 = [50,60,70]\n",
        "l3 = l1 + l2\n",
        "print(l3)\n",
        "# [60, 80, 100]"
      ],
      "metadata": {
        "colab": {
          "base_uri": "https://localhost:8080/"
        },
        "id": "50D20W7FHTaL",
        "outputId": "8bec46a5-e6d1-4ca6-94bb-f044806f2ca4"
      },
      "execution_count": null,
      "outputs": [
        {
          "output_type": "stream",
          "name": "stdout",
          "text": [
            "[10, 20, 30, 40, 50, 60, 70]\n"
          ]
        }
      ]
    },
    {
      "cell_type": "code",
      "source": [
        "#######\n",
        "list1 =[\"indresh\",\"rohit\",\"amit\",\"sumit\"]\n",
        "list2 =[\"soni\",\"singh\",\"raikwar\",\"kumar\"]\n",
        "for i in range(len(list1)):\n",
        "  list3=list1[i]+\" \"+list2[i]\n",
        "  print(list3)\n"
      ],
      "metadata": {
        "colab": {
          "base_uri": "https://localhost:8080/"
        },
        "id": "CacE9dVKHTcs",
        "outputId": "7cc3d079-7339-4a6a-eacc-aea7becd9bb3"
      },
      "execution_count": 4,
      "outputs": [
        {
          "output_type": "stream",
          "name": "stdout",
          "text": [
            "indresh soni\n",
            "rohit singh\n",
            "amit raikwar\n",
            "sumit kumar\n"
          ]
        }
      ]
    },
    {
      "cell_type": "code",
      "source": [
        "# dictionary \n",
        "d = {'Tiffany': ['yes', 'No'], \n",
        "     'Shubham': 'B.Tech'}"
      ],
      "metadata": {
        "id": "KKd2HjvkLgkM"
      },
      "execution_count": null,
      "outputs": []
    },
    {
      "cell_type": "code",
      "source": [
        "# List, Dictionary, tuple"
      ],
      "metadata": {
        "id": "nhVa-kLYLgm7"
      },
      "execution_count": null,
      "outputs": []
    },
    {
      "cell_type": "code",
      "source": [
        "a = (1,2,3,4)\n",
        "a"
      ],
      "metadata": {
        "colab": {
          "base_uri": "https://localhost:8080/"
        },
        "id": "1DxVS9APLgpR",
        "outputId": "19f2cda0-6443-42ce-be28-3a9c7c9374d4"
      },
      "execution_count": 5,
      "outputs": [
        {
          "output_type": "execute_result",
          "data": {
            "text/plain": [
              "(1, 2, 3, 4)"
            ]
          },
          "metadata": {},
          "execution_count": 5
        }
      ]
    },
    {
      "cell_type": "code",
      "source": [
        "a[0] = 100"
      ],
      "metadata": {
        "id": "fuPGicu_Lgrr"
      },
      "execution_count": null,
      "outputs": []
    },
    {
      "cell_type": "code",
      "source": [
        "a"
      ],
      "metadata": {
        "colab": {
          "base_uri": "https://localhost:8080/"
        },
        "id": "wm-UmE4bLgu_",
        "outputId": "8e9a5dd3-cddc-4312-d13f-f863cd3d36fd"
      },
      "execution_count": 7,
      "outputs": [
        {
          "output_type": "execute_result",
          "data": {
            "text/plain": [
              "(1, 2, 3, 4)"
            ]
          },
          "metadata": {},
          "execution_count": 7
        }
      ]
    },
    {
      "cell_type": "code",
      "source": [
        "# Exercise 7: Add new item to list after a specified item\n",
        "# Extend nested list by adding the sublist"
      ],
      "metadata": {
        "id": "6n5-GR-UHTlT"
      },
      "execution_count": null,
      "outputs": []
    },
    {
      "cell_type": "code",
      "source": [
        "a = [1,2,3,4]\n",
        "a.append(5)"
      ],
      "metadata": {
        "id": "PfuAI-5bHTnU"
      },
      "execution_count": 14,
      "outputs": []
    },
    {
      "cell_type": "code",
      "source": [
        "mylist=[1,2]\n",
        "mylist.append(7)\n"
      ],
      "metadata": {
        "id": "AHAjhdSzHTqz"
      },
      "execution_count": 15,
      "outputs": []
    },
    {
      "cell_type": "code",
      "source": [
        "#######\n",
        "a.insert(5, 'durgesh') # insert taking two arguments 'index' and 'value' here index is 5 and value is durgesh"
      ],
      "metadata": {
        "id": "7apHYNSYRL8k"
      },
      "execution_count": 16,
      "outputs": []
    },
    {
      "cell_type": "code",
      "source": [
        "a"
      ],
      "metadata": {
        "colab": {
          "base_uri": "https://localhost:8080/"
        },
        "id": "S3bTcHaURMBY",
        "outputId": "bd0008b7-045d-4edb-8533-0630f8184be2"
      },
      "execution_count": 17,
      "outputs": [
        {
          "output_type": "execute_result",
          "data": {
            "text/plain": [
              "[1, 2, 3, 4, 5, 'durgesh']"
            ]
          },
          "metadata": {},
          "execution_count": 17
        }
      ]
    },
    {
      "cell_type": "code",
      "source": [
        "# Arthmatic Operators ( +, -, *, /, %, **, //)\n",
        "5 // 2"
      ],
      "metadata": {
        "colab": {
          "base_uri": "https://localhost:8080/"
        },
        "id": "bDzBulK4HTtX",
        "outputId": "0d90d40a-347e-45c7-e11a-acca0cd89c97"
      },
      "execution_count": 18,
      "outputs": [
        {
          "output_type": "execute_result",
          "data": {
            "text/plain": [
              "2"
            ]
          },
          "metadata": {},
          "execution_count": 18
        }
      ]
    },
    {
      "cell_type": "code",
      "source": [
        "# assignment Operators ( =, +=, -=, *=, %=, //=, **=, &=, ^=, >>=, <<=)"
      ],
      "metadata": {
        "id": "auj1LcoZSJgj"
      },
      "execution_count": 19,
      "outputs": []
    },
    {
      "cell_type": "code",
      "source": [
        "x = 5\n",
        "x = x + 5"
      ],
      "metadata": {
        "id": "gQANuVJ6SJjK"
      },
      "execution_count": 20,
      "outputs": []
    },
    {
      "cell_type": "code",
      "source": [
        "x += 50"
      ],
      "metadata": {
        "id": "ruMUZfBoSJnS"
      },
      "execution_count": 21,
      "outputs": []
    },
    {
      "cell_type": "code",
      "source": [
        "x"
      ],
      "metadata": {
        "colab": {
          "base_uri": "https://localhost:8080/"
        },
        "id": "BDDmqUCkSJqD",
        "outputId": "2d94aa30-1e7a-4e92-eb9a-4f3f04eedd4c"
      },
      "execution_count": null,
      "outputs": [
        {
          "output_type": "execute_result",
          "data": {
            "text/plain": [
              "60"
            ]
          },
          "metadata": {},
          "execution_count": 53
        }
      ]
    },
    {
      "cell_type": "code",
      "source": [
        "# Write a Python program to find unique triplets whose three elements gives the sum of zero from an array of n integers."
      ],
      "metadata": {
        "id": "28ol8exzSJr-"
      },
      "execution_count": null,
      "outputs": []
    },
    {
      "cell_type": "code",
      "source": [
        "# Comparision operator ( ==, !=, > , <, >=, <=)"
      ],
      "metadata": {
        "id": "6ED9ia-3SJu3"
      },
      "execution_count": null,
      "outputs": []
    },
    {
      "cell_type": "code",
      "source": [
        "10<5"
      ],
      "metadata": {
        "colab": {
          "base_uri": "https://localhost:8080/"
        },
        "id": "06wDamL1SJyz",
        "outputId": "57c7f535-31c7-4f1e-d310-90218926463f"
      },
      "execution_count": null,
      "outputs": [
        {
          "output_type": "execute_result",
          "data": {
            "text/plain": [
              "False"
            ]
          },
          "metadata": {},
          "execution_count": 55
        }
      ]
    },
    {
      "cell_type": "code",
      "source": [
        "# Logical Operators\n",
        "# and (&), or (|), not (!, ~)"
      ],
      "metadata": {
        "id": "kL9Dc6ACSJ3t"
      },
      "execution_count": null,
      "outputs": []
    },
    {
      "cell_type": "code",
      "source": [
        "# Membership opertaors (identity)\n",
        "# in, not in\n",
        "\n",
        "4 in [1,2,3] "
      ],
      "metadata": {
        "colab": {
          "base_uri": "https://localhost:8080/"
        },
        "id": "jZT3Rp1rSJ6t",
        "outputId": "8ed5a81a-10c1-4df9-dd5a-056d81a6dcab"
      },
      "execution_count": null,
      "outputs": [
        {
          "output_type": "execute_result",
          "data": {
            "text/plain": [
              "False"
            ]
          },
          "metadata": {},
          "execution_count": 57
        }
      ]
    },
    {
      "cell_type": "code",
      "source": [
        "# Bitwise operators\n",
        "# &, |, ^, ~ , <<, >>"
      ],
      "metadata": {
        "id": "kDNVQN7jWKeZ"
      },
      "execution_count": null,
      "outputs": []
    },
    {
      "cell_type": "code",
      "source": [
        "(1 + 5) *3"
      ],
      "metadata": {
        "colab": {
          "base_uri": "https://localhost:8080/"
        },
        "id": "-HOYEdSgYcCM",
        "outputId": "00366464-c5c2-47dd-e1e2-3fe97d642a40"
      },
      "execution_count": null,
      "outputs": [
        {
          "output_type": "execute_result",
          "data": {
            "text/plain": [
              "18"
            ]
          },
          "metadata": {},
          "execution_count": 61
        }
      ]
    },
    {
      "cell_type": "code",
      "source": [
        "x =(a+b)*c/d  \n",
        "print(\"value : \",x)\n"
      ],
      "metadata": {
        "id": "wRBh6iTmYcFA"
      },
      "execution_count": null,
      "outputs": []
    },
    {
      "cell_type": "code",
      "source": [
        "t = tuple('Prajwal') # immutable( add, update, remove)"
      ],
      "metadata": {
        "id": "tzgp3s35YcIY"
      },
      "execution_count": null,
      "outputs": []
    },
    {
      "cell_type": "code",
      "source": [
        "t"
      ],
      "metadata": {
        "colab": {
          "base_uri": "https://localhost:8080/"
        },
        "id": "Kx2BPghEYcL-",
        "outputId": "cfb6e23a-fad6-4574-c2e9-a7635bf61d48"
      },
      "execution_count": null,
      "outputs": [
        {
          "output_type": "execute_result",
          "data": {
            "text/plain": [
              "('P', 'r', 'a', 'j', 'w', 'a', 'l')"
            ]
          },
          "metadata": {},
          "execution_count": 63
        }
      ]
    },
    {
      "cell_type": "code",
      "source": [
        "t.remove('j')"
      ],
      "metadata": {
        "colab": {
          "base_uri": "https://localhost:8080/",
          "height": 171
        },
        "id": "z39rbk-_YcNn",
        "outputId": "bd14e541-e28c-4ca3-c289-6c9cf1baff20"
      },
      "execution_count": null,
      "outputs": [
        {
          "output_type": "error",
          "ename": "AttributeError",
          "evalue": "ignored",
          "traceback": [
            "\u001b[0;31m---------------------------------------------------------------------------\u001b[0m",
            "\u001b[0;31mAttributeError\u001b[0m                            Traceback (most recent call last)",
            "\u001b[0;32m<ipython-input-67-84af49b96222>\u001b[0m in \u001b[0;36m<module>\u001b[0;34m\u001b[0m\n\u001b[0;32m----> 1\u001b[0;31m \u001b[0mt\u001b[0m\u001b[0;34m.\u001b[0m\u001b[0mremove\u001b[0m\u001b[0;34m(\u001b[0m\u001b[0;34m'j'\u001b[0m\u001b[0;34m)\u001b[0m\u001b[0;34m\u001b[0m\u001b[0;34m\u001b[0m\u001b[0m\n\u001b[0m",
            "\u001b[0;31mAttributeError\u001b[0m: 'tuple' object has no attribute 'remove'"
          ]
        }
      ]
    },
    {
      "cell_type": "code",
      "source": [
        "# conditions statement\n",
        "# if something:\n",
        "#   do something\n",
        "# else:\n",
        "#   do something"
      ],
      "metadata": {
        "id": "DAaOIwT1YcP9"
      },
      "execution_count": null,
      "outputs": []
    },
    {
      "cell_type": "code",
      "source": [
        "x = 3\n",
        "if x == 2:\n",
        "  print('Uttam')\n",
        "else:\n",
        "  print('Akshada')"
      ],
      "metadata": {
        "colab": {
          "base_uri": "https://localhost:8080/"
        },
        "id": "9vaKy_XGYcVt",
        "outputId": "ebe9333d-694e-4d82-c7bb-2c88267a0d38"
      },
      "execution_count": 22,
      "outputs": [
        {
          "output_type": "stream",
          "name": "stdout",
          "text": [
            "Akshada\n"
          ]
        }
      ]
    },
    {
      "cell_type": "code",
      "source": [],
      "metadata": {
        "id": "lSxcSLt-YcYd"
      },
      "execution_count": null,
      "outputs": []
    },
    {
      "cell_type": "markdown",
      "source": [
        "07-09-2022"
      ],
      "metadata": {
        "id": "Sw2N-usyStfc"
      }
    },
    {
      "cell_type": "code",
      "source": [
        "# dictionary \n",
        "# dict, {}\n",
        "dic = {'vivek': ['Prajwal', 23, True], \n",
        "       'Pretti': 'Parshuram'}"
      ],
      "metadata": {
        "id": "b2f4G42JSrs_"
      },
      "execution_count": 24,
      "outputs": []
    },
    {
      "cell_type": "code",
      "source": [
        "dic.keys()"
      ],
      "metadata": {
        "colab": {
          "base_uri": "https://localhost:8080/"
        },
        "id": "TzC3xDsiSrwK",
        "outputId": "1352afcc-6b0f-45b3-a2f1-9384fe08c2d9"
      },
      "execution_count": 25,
      "outputs": [
        {
          "output_type": "execute_result",
          "data": {
            "text/plain": [
              "dict_keys(['vivek', 'Pretti'])"
            ]
          },
          "metadata": {},
          "execution_count": 25
        }
      ]
    },
    {
      "cell_type": "code",
      "source": [
        "dic.values()"
      ],
      "metadata": {
        "colab": {
          "base_uri": "https://localhost:8080/"
        },
        "id": "vV6CkoPQSrz7",
        "outputId": "8032cf3c-51a2-4792-eb84-edbd9b951097"
      },
      "execution_count": 26,
      "outputs": [
        {
          "output_type": "execute_result",
          "data": {
            "text/plain": [
              "dict_values([['Prajwal', 23, True], 'Parshuram'])"
            ]
          },
          "metadata": {},
          "execution_count": 26
        }
      ]
    },
    {
      "cell_type": "code",
      "source": [
        "dic.items()"
      ],
      "metadata": {
        "colab": {
          "base_uri": "https://localhost:8080/"
        },
        "id": "OiPfsBikSr48",
        "outputId": "f6ff6794-fedf-4d3a-dcef-a201491e5ac1"
      },
      "execution_count": 27,
      "outputs": [
        {
          "output_type": "execute_result",
          "data": {
            "text/plain": [
              "dict_items([('vivek', ['Prajwal', 23, True]), ('Pretti', 'Parshuram')])"
            ]
          },
          "metadata": {},
          "execution_count": 27
        }
      ]
    },
    {
      "cell_type": "code",
      "source": [
        "dic[1] # index in dict not follwed"
      ],
      "metadata": {
        "colab": {
          "base_uri": "https://localhost:8080/",
          "height": 165
        },
        "id": "nwy5vOqjSr7K",
        "outputId": "e48846de-b47b-4813-d07e-7af0d7665475"
      },
      "execution_count": 28,
      "outputs": [
        {
          "output_type": "error",
          "ename": "KeyError",
          "evalue": "ignored",
          "traceback": [
            "\u001b[0;31m---------------------------------------------------------------------------\u001b[0m",
            "\u001b[0;31mKeyError\u001b[0m                                  Traceback (most recent call last)",
            "\u001b[0;32m<ipython-input-28-44fd7baa145e>\u001b[0m in \u001b[0;36m<module>\u001b[0;34m\u001b[0m\n\u001b[0;32m----> 1\u001b[0;31m \u001b[0mdic\u001b[0m\u001b[0;34m[\u001b[0m\u001b[0;36m1\u001b[0m\u001b[0;34m]\u001b[0m\u001b[0;34m\u001b[0m\u001b[0;34m\u001b[0m\u001b[0m\n\u001b[0m",
            "\u001b[0;31mKeyError\u001b[0m: 1"
          ]
        }
      ]
    },
    {
      "cell_type": "code",
      "source": [
        "# List, Tuple, dictionary, sets"
      ],
      "metadata": {
        "id": "p96DBcjeSr_G"
      },
      "execution_count": null,
      "outputs": []
    },
    {
      "cell_type": "code",
      "source": [
        "# set {}\n",
        "s = {'Uttam', 'SHubham', 'Ijaz', 'uttam','zr'}\n",
        "type(s)\n",
        "print(s)"
      ],
      "metadata": {
        "colab": {
          "base_uri": "https://localhost:8080/"
        },
        "id": "Tfc4r3oVSsCa",
        "outputId": "633bd050-7859-4467-f2c3-01bdf321c7ed"
      },
      "execution_count": null,
      "outputs": [
        {
          "output_type": "stream",
          "name": "stdout",
          "text": [
            "{'Uttam', 'Ijaz', 'uttam', 'zr', 'SHubham'}\n"
          ]
        }
      ]
    },
    {
      "cell_type": "code",
      "source": [
        "# list, []\n",
        "# tuple,()\n",
        "# set, {}"
      ],
      "metadata": {
        "id": "Ei5NnOJ3SsFf"
      },
      "execution_count": null,
      "outputs": []
    },
    {
      "cell_type": "code",
      "source": [
        "# Conditional Statement\n",
        "# Indresh < 35 (pass) (fail)\n",
        "indresh = int(input('Enter Your Marks -->'))\n",
        "if indresh < 35:\n",
        "  print('Fail')\n",
        "else:\n",
        "  print(\"Pass\")\n"
      ],
      "metadata": {
        "colab": {
          "base_uri": "https://localhost:8080/"
        },
        "id": "smkdoxjZWUjP",
        "outputId": "ddd7978d-30f0-4469-e049-1fd4a7e0f9ab"
      },
      "execution_count": null,
      "outputs": [
        {
          "output_type": "stream",
          "name": "stdout",
          "text": [
            "Enter Your Marks -->80\n",
            "Pass\n"
          ]
        }
      ]
    },
    {
      "cell_type": "code",
      "source": [
        "indresh = input('Enter Your Marks -->')\n",
        "\n",
        "if int(indresh) < 35:\n",
        "  print('Fail')\n",
        "elif 35 <= int(indresh) < 50:\n",
        "  print('Average')\n",
        "else:\n",
        "  print(\"Pass\")"
      ],
      "metadata": {
        "colab": {
          "base_uri": "https://localhost:8080/"
        },
        "id": "jOegalCHWUl-",
        "outputId": "2bf17614-e291-4471-c662-8e4e567c6a65"
      },
      "execution_count": null,
      "outputs": [
        {
          "output_type": "stream",
          "name": "stdout",
          "text": [
            "Enter Your Marks -->56\n",
            "Pass\n"
          ]
        }
      ]
    },
    {
      "cell_type": "code",
      "source": [
        "# write a program to check wheather a number is divisible by 7 or not?\n",
        "n = int(input(\"Enter the number\"))\n",
        "\n",
        "if n%7 == 0:\n",
        "  print('Yes')\n",
        "else:\n",
        "  print('No')"
      ],
      "metadata": {
        "colab": {
          "base_uri": "https://localhost:8080/"
        },
        "id": "XAXb9E2cWUon",
        "outputId": "b8df834b-c02c-4464-e0b3-5b174c4ab949"
      },
      "execution_count": null,
      "outputs": [
        {
          "output_type": "stream",
          "name": "stdout",
          "text": [
            "Enter the number67\n",
            "No\n"
          ]
        }
      ]
    },
    {
      "cell_type": "code",
      "source": [
        "14%7"
      ],
      "metadata": {
        "colab": {
          "base_uri": "https://localhost:8080/"
        },
        "id": "ME-GSTXAWUrw",
        "outputId": "ee54a20b-7224-4c3a-d4a0-c81ce04fa679"
      },
      "execution_count": null,
      "outputs": [
        {
          "output_type": "execute_result",
          "data": {
            "text/plain": [
              "0"
            ]
          },
          "metadata": {},
          "execution_count": 30
        }
      ]
    },
    {
      "cell_type": "code",
      "source": [
        "l = ['Uttam', 'Raj', 'Aniket', 'Aadi']\n"
      ],
      "metadata": {
        "id": "aMsD4cQ6WUuL"
      },
      "execution_count": null,
      "outputs": []
    },
    {
      "cell_type": "code",
      "source": [
        "for x in l:\n",
        "  \n",
        "  print(x)"
      ],
      "metadata": {
        "colab": {
          "base_uri": "https://localhost:8080/"
        },
        "id": "2ooyxyZTWUxX",
        "outputId": "563350af-f946-4513-f700-35504bd32b35"
      },
      "execution_count": null,
      "outputs": [
        {
          "output_type": "stream",
          "name": "stdout",
          "text": [
            "Uttam\n",
            "Raj\n",
            "Aniket\n",
            "Aadi\n"
          ]
        }
      ]
    },
    {
      "cell_type": "code",
      "source": [
        "n = int(input(\"Enter the number\"))\n",
        "if n%7 ==0:\n",
        "  print('yes')\n",
        "else:\n",
        "  print('no')\n"
      ],
      "metadata": {
        "colab": {
          "base_uri": "https://localhost:8080/"
        },
        "id": "lmmcNXl-WU_W",
        "outputId": "07effe2f-cf59-460c-ba27-737c1cb4cc0a"
      },
      "execution_count": null,
      "outputs": [
        {
          "output_type": "stream",
          "name": "stdout",
          "text": [
            "Enter the number15\n",
            "no\n"
          ]
        }
      ]
    },
    {
      "cell_type": "code",
      "source": [
        "p1=(0,1,2,3,4,5,6,7,8,9,10)\n",
        "for i in p1:\n",
        "  print(i)"
      ],
      "metadata": {
        "colab": {
          "base_uri": "https://localhost:8080/"
        },
        "id": "LXzcqhhFWVaA",
        "outputId": "1bfbc1f7-d523-4043-831b-84901863af13"
      },
      "execution_count": null,
      "outputs": [
        {
          "output_type": "stream",
          "name": "stdout",
          "text": [
            "0\n",
            "1\n",
            "2\n",
            "3\n",
            "4\n",
            "5\n",
            "6\n",
            "7\n",
            "8\n",
            "9\n",
            "10\n"
          ]
        }
      ]
    },
    {
      "cell_type": "code",
      "source": [
        "len(A)"
      ],
      "metadata": {
        "colab": {
          "base_uri": "https://localhost:8080/"
        },
        "id": "1jDWXavCWVff",
        "outputId": "0f601872-7f9e-4389-a55b-e16b8a2bb3cd"
      },
      "execution_count": null,
      "outputs": [
        {
          "output_type": "execute_result",
          "data": {
            "text/plain": [
              "10"
            ]
          },
          "metadata": {},
          "execution_count": 47
        }
      ]
    },
    {
      "cell_type": "code",
      "source": [
        "d = {'AKshada': ['B.Tech', 'M.TEch', 'M.Sc'], \n",
        "     'Delhi': 'Banglore'}"
      ],
      "metadata": {
        "id": "Nkq4FNiwWVjo"
      },
      "execution_count": null,
      "outputs": []
    },
    {
      "cell_type": "code",
      "source": [
        "####### caling dict\n",
        "for y in d.items():\n",
        "  print(y)"
      ],
      "metadata": {
        "colab": {
          "base_uri": "https://localhost:8080/"
        },
        "id": "mhrVxqaJWVr3",
        "outputId": "abb1df62-4e81-458e-f2a5-4eba70eb335d"
      },
      "execution_count": null,
      "outputs": [
        {
          "output_type": "stream",
          "name": "stdout",
          "text": [
            "('AKshada', ['B.Tech', 'M.TEch', 'M.Sc'])\n",
            "('Delhi', 'Banglore')\n"
          ]
        }
      ]
    },
    {
      "cell_type": "code",
      "source": [
        "# Print First 10 natural numbers using for loop\n",
        "# Calculate the sum of all numbers from 1 to a 10\n",
        "# Write a program to print multiplication table of a 5\n",
        "# Count the total number of digits in a number (1234567) ['123', '09345879', '345098734507395']\n",
        "# Print the pattern of U only"
      ],
      "metadata": {
        "id": "pz10cInWWVuw"
      },
      "execution_count": null,
      "outputs": []
    },
    {
      "cell_type": "code",
      "source": [
        "dlist = [1,2,3,4,5,6,7,8,9,10]"
      ],
      "metadata": {
        "id": "BY4j-aZtWVxy"
      },
      "execution_count": 30,
      "outputs": []
    },
    {
      "cell_type": "code",
      "source": [
        "x = 0\n",
        "for i in dlist:\n",
        "  x += i\n",
        "  print(x)\n"
      ],
      "metadata": {
        "id": "JqDkgj9PWV1G",
        "colab": {
          "base_uri": "https://localhost:8080/"
        },
        "outputId": "8332218b-ba52-4408-fc8d-924970b6bace"
      },
      "execution_count": null,
      "outputs": [
        {
          "output_type": "stream",
          "name": "stdout",
          "text": [
            "1\n",
            "3\n",
            "6\n",
            "10\n",
            "15\n",
            "21\n",
            "28\n",
            "36\n",
            "45\n",
            "55\n"
          ]
        }
      ]
    },
    {
      "cell_type": "code",
      "source": [
        "# Write a program to print multiplication table of a 5\n",
        "x = 0\n",
        "for i in dlist:\n",
        "  x = i*5\n",
        "  print(x)"
      ],
      "metadata": {
        "id": "aGOAC9RsNGqu",
        "colab": {
          "base_uri": "https://localhost:8080/"
        },
        "outputId": "aab0c6f0-2ff2-44e9-c5fb-157148633818"
      },
      "execution_count": 31,
      "outputs": [
        {
          "output_type": "stream",
          "name": "stdout",
          "text": [
            "5\n",
            "10\n",
            "15\n",
            "20\n",
            "25\n",
            "30\n",
            "35\n",
            "40\n",
            "45\n",
            "50\n"
          ]
        }
      ]
    },
    {
      "cell_type": "code",
      "source": [
        "x = 0\n",
        "for i in dlist:\n",
        "  x = i*5\n",
        "  print(x)"
      ],
      "metadata": {
        "id": "P2o_O1iDNGts",
        "colab": {
          "base_uri": "https://localhost:8080/"
        },
        "outputId": "bc8422c3-f8d8-4679-f725-5383f6419308"
      },
      "execution_count": null,
      "outputs": [
        {
          "output_type": "stream",
          "name": "stdout",
          "text": [
            "5\n",
            "10\n",
            "15\n",
            "20\n",
            "25\n",
            "30\n",
            "35\n",
            "40\n",
            "45\n",
            "50\n"
          ]
        }
      ]
    },
    {
      "cell_type": "code",
      "source": [
        "# Count the total number of digits in a number (1234567) ['123', '09345879', '345098734507395']\n",
        "d1list = ['123', '09345879', '345098734507395']\n",
        "y = []\n",
        "for i in d1list:\n",
        "  y = len(i)\n",
        "  print(y)"
      ],
      "metadata": {
        "id": "Lp3Vph4KNGxj",
        "colab": {
          "base_uri": "https://localhost:8080/"
        },
        "outputId": "477e907c-a223-4331-fa27-b1dd22923694"
      },
      "execution_count": null,
      "outputs": [
        {
          "output_type": "stream",
          "name": "stdout",
          "text": [
            "3\n",
            "8\n",
            "15\n"
          ]
        }
      ]
    },
    {
      "cell_type": "code",
      "source": [
        "# Print the pattern of U only\n"
      ],
      "metadata": {
        "id": "srDgaB9vyvLI"
      },
      "execution_count": null,
      "outputs": []
    },
    {
      "cell_type": "code",
      "source": [],
      "metadata": {
        "id": "YEfHBYxHzf8U"
      },
      "execution_count": null,
      "outputs": []
    },
    {
      "cell_type": "code",
      "source": [
        "str=\"\";    \n",
        "for Row in range(0,7):    \n",
        "    for Col in range(0,7):     \n",
        "        if (Col == 1 or ((Row == 0 or Row == 6) and (Col > 1 and Col < 5)) or (Col == 5 and Row != 0 and Row != 6)):  \n",
        "            str=str+\"*\"    \n",
        "        else:      \n",
        "            str=str+\" \"    \n",
        "    str=str+\"\\n\"    \n",
        "print(str);    "
      ],
      "metadata": {
        "id": "GMLGACxXSsHk",
        "colab": {
          "base_uri": "https://localhost:8080/"
        },
        "outputId": "57b02ff5-b22b-448b-ae6d-ec08ce95772c"
      },
      "execution_count": 42,
      "outputs": [
        {
          "output_type": "stream",
          "name": "stdout",
          "text": [
            " ****  \n",
            " *   * \n",
            " *   * \n",
            " *   * \n",
            " *   * \n",
            " *   * \n",
            " ****  \n",
            "\n"
          ]
        }
      ]
    },
    {
      "cell_type": "code",
      "source": [
        "# This is the example of print simple pyramid pattern  \n",
        "n = int(input(\"Enter the number of rows\"))  \n",
        "# outer loop to handle number of rows  \n",
        "for i in range(0, n):  \n",
        "    # inner loop to handle number of columns  \n",
        "    # values is changing according to outer loop  \n",
        "        for j in range(0, i + 1):  \n",
        "            # printing stars  \n",
        "            print(\"* \", end=\"\")       \n",
        "  \n",
        "        # ending line after each row  \n",
        "        print()  "
      ],
      "metadata": {
        "colab": {
          "base_uri": "https://localhost:8080/"
        },
        "id": "uLSCMH84yvOd",
        "outputId": "2de608ed-f4e1-4528-9b99-980d735738f6"
      },
      "execution_count": null,
      "outputs": [
        {
          "output_type": "stream",
          "name": "stdout",
          "text": [
            "Enter the number of rows5\n",
            "* \n",
            "* * \n",
            "* * * \n",
            "* * * * \n",
            "* * * * * \n"
          ]
        }
      ]
    },
    {
      "cell_type": "code",
      "source": [
        "n = int(input(\"Enter the number of rows\"))  \n",
        "for i in range(0, n):  \n",
        "  t = i/2 \n",
        "  for j in "
      ],
      "metadata": {
        "id": "Q9OjQezm0w0U"
      },
      "execution_count": null,
      "outputs": []
    },
    {
      "cell_type": "code",
      "source": [],
      "metadata": {
        "id": "ExCjgPNDCWmp"
      },
      "execution_count": null,
      "outputs": []
    },
    {
      "cell_type": "code",
      "source": [
        "\n",
        "for i in range(1,10):\n",
        "  print(\"*         *\")\n",
        "for j in range(1,7):\n",
        "  print(\"*\",end=\" \")"
      ],
      "metadata": {
        "id": "ep68JiOECWcY",
        "colab": {
          "base_uri": "https://localhost:8080/"
        },
        "outputId": "448d46ef-08d2-4a30-e654-bef9e3ee0ea2"
      },
      "execution_count": null,
      "outputs": [
        {
          "output_type": "stream",
          "name": "stdout",
          "text": [
            "*         *\n",
            "*         *\n",
            "*         *\n",
            "*         *\n",
            "*         *\n",
            "*         *\n",
            "*         *\n",
            "*         *\n",
            "*         *\n",
            "* * * * * * "
          ]
        }
      ]
    },
    {
      "cell_type": "code",
      "source": [
        "#print pattern of * in w\n",
        "for i in range(1,6):\n",
        "    print('*     *     *')\n",
        "for j in range(1,6):\n",
        "    print('*',end='  ')"
      ],
      "metadata": {
        "id": "X1870_0WCWYN"
      },
      "execution_count": null,
      "outputs": []
    },
    {
      "cell_type": "code",
      "source": [],
      "metadata": {
        "id": "LyKtkxtPyvZI"
      },
      "execution_count": null,
      "outputs": []
    },
    {
      "cell_type": "code",
      "source": [
        "# This is the example of print simple reversed right angle pyramid pattern  \n",
        "#rows = int(input(\"Enter the number of rows:\")) \n",
        "rows = 10 \n",
        "k = 2 * rows - 2  # It is used for number of spaces  \n",
        "for i in range(0, rows):  \n",
        "    for j in range(0, k):  \n",
        "        print(end=\" \")  \n",
        "    k = k - 2   # decrement k value after each iteration  \n",
        "    for j in range(0, i + 1):  \n",
        "        print(\"* \", end=\"\")  # printing star  \n",
        "    print(\"9\")  "
      ],
      "metadata": {
        "id": "w_WUBi3fSsNJ",
        "colab": {
          "base_uri": "https://localhost:8080/"
        },
        "outputId": "64c6a45b-39ef-4069-dd7b-7419f57c16f6"
      },
      "execution_count": null,
      "outputs": [
        {
          "output_type": "stream",
          "name": "stdout",
          "text": [
            "                  * 9\n",
            "                * * 9\n",
            "              * * * 9\n",
            "            * * * * 9\n",
            "          * * * * * 9\n",
            "        * * * * * * 9\n",
            "      * * * * * * * 9\n",
            "    * * * * * * * * 9\n",
            "  * * * * * * * * * 9\n",
            "* * * * * * * * * * 9\n"
          ]
        }
      ]
    },
    {
      "cell_type": "code",
      "source": [
        "# This is the example of Printing Triangle Pyramid \n",
        "#rows = int(input(\"Enter the number of rows:\")) \n",
        "rows = 10 \n",
        "k = 2 * rows - 2  # It is used for number of spaces  \n",
        "for i in range(0, rows):  \n",
        "    for j in range(0, k):  \n",
        "        print(end=\" \")  \n",
        "    k = k - 1   # decrement k value after each iteration  if we fo -1 then it will convert to right angle triangel\n",
        "    for j in range(0, i + 1):  \n",
        "        print(\"* \", end=\"\")  # printing star  \n",
        "    print(\"\")  "
      ],
      "metadata": {
        "colab": {
          "base_uri": "https://localhost:8080/"
        },
        "id": "xCeVngOBNan5",
        "outputId": "9d0776cb-32b7-4b90-dc84-c691644775f3"
      },
      "execution_count": null,
      "outputs": [
        {
          "output_type": "stream",
          "name": "stdout",
          "text": [
            "                  * \n",
            "                 * * \n",
            "                * * * \n",
            "               * * * * \n",
            "              * * * * * \n",
            "             * * * * * * \n",
            "            * * * * * * * \n",
            "           * * * * * * * * \n",
            "          * * * * * * * * * \n",
            "         * * * * * * * * * * \n"
          ]
        }
      ]
    },
    {
      "cell_type": "code",
      "source": [],
      "metadata": {
        "id": "IwC-Lv_wKRRf"
      },
      "execution_count": null,
      "outputs": []
    },
    {
      "cell_type": "code",
      "source": [
        "# This is the example of Printing Triangle Pyramid \n",
        "#rows = int(input(\"Enter the number of rows:\")) \n",
        "rows = 10 \n",
        "k = 2 * rows - 2  # It is used for number of spaces  \n",
        "for i in range(0, rows):  \n",
        "    for j in range(0, k):  \n",
        "        print(end=\"*\")  \n",
        "    k = k - 2   # decrement k value after each iteration  if we fo -1 then it will convert to right angle triangel\n",
        "    for j in range(0, i + 1):  \n",
        "        print(\" \", end=\"\")  # printing star  \n",
        "    print(\"\")  "
      ],
      "metadata": {
        "colab": {
          "base_uri": "https://localhost:8080/"
        },
        "outputId": "f4a5c5a4-04fd-41a3-e095-38f33c41edb8",
        "id": "ZW5kykpvKR5T"
      },
      "execution_count": null,
      "outputs": [
        {
          "output_type": "stream",
          "name": "stdout",
          "text": [
            "****************** \n",
            "**************** \n",
            "************** \n",
            "************ \n",
            "********** \n",
            "******** \n",
            "****** \n",
            "**** \n",
            "** \n",
            " \n"
          ]
        }
      ]
    },
    {
      "cell_type": "code",
      "source": [
        "rows =  10\n",
        "for i in range(0,rows):\n",
        "  for j in range(0,i):\n",
        "    print(\"* \",end='')\n",
        "  print(\"9\")   "
      ],
      "metadata": {
        "colab": {
          "base_uri": "https://localhost:8080/"
        },
        "id": "EDOCKhELNauF",
        "outputId": "befdab0c-bfb6-4932-aea1-b1603029a082"
      },
      "execution_count": null,
      "outputs": [
        {
          "output_type": "stream",
          "name": "stdout",
          "text": [
            "9\n",
            "* 9\n",
            "* * 9\n",
            "* * * 9\n",
            "* * * * 9\n",
            "* * * * * 9\n",
            "* * * * * * 9\n",
            "* * * * * * * 9\n",
            "* * * * * * * * 9\n",
            "* * * * * * * * * 9\n"
          ]
        }
      ]
    },
    {
      "cell_type": "code",
      "source": [],
      "metadata": {
        "id": "0ZBdZHpW6BYL"
      },
      "execution_count": null,
      "outputs": []
    },
    {
      "cell_type": "code",
      "source": [
        "marks = int(input('enter your marks '))\n",
        "if marks == 90:\n",
        "  print('FAJ')\n",
        "if marks >75:\n",
        "  print('pdaku')\n",
        "if marks >=50:\n",
        "  print('avg') \n",
        "#else :\n",
        " # print('pdai likhai karo ias wais bano ')     "
      ],
      "metadata": {
        "colab": {
          "base_uri": "https://localhost:8080/"
        },
        "id": "gILfpxnBvFCS",
        "outputId": "f9c17c64-7fbb-48bf-ffed-b23d57a320e9"
      },
      "execution_count": null,
      "outputs": [
        {
          "output_type": "stream",
          "name": "stdout",
          "text": [
            "enter your marks 90\n",
            "FAJ\n",
            "pdaku\n",
            "avg\n"
          ]
        }
      ]
    },
    {
      "cell_type": "code",
      "source": [],
      "metadata": {
        "id": "dhtqw8AAvFJE"
      },
      "execution_count": null,
      "outputs": []
    },
    {
      "cell_type": "code",
      "source": [],
      "metadata": {
        "id": "ruy1yQL66BcD"
      },
      "execution_count": null,
      "outputs": []
    },
    {
      "cell_type": "markdown",
      "source": [
        "# 7 september"
      ],
      "metadata": {
        "id": "9voNe4KsSnRp"
      }
    },
    {
      "cell_type": "code",
      "source": [
        "dinput = input( )\n",
        "if int(dinput)%7 == 0:\n",
        "  print( 'divisible')\n",
        "else:\n",
        "  print('not divisible' )\n"
      ],
      "metadata": {
        "colab": {
          "base_uri": "https://localhost:8080/"
        },
        "id": "2Ma2_u2JSl1y",
        "outputId": "9a4e88a1-f8eb-4eec-ca15-e61c1ac1dc8f"
      },
      "execution_count": null,
      "outputs": [
        {
          "output_type": "stream",
          "name": "stdout",
          "text": [
            "7\n",
            "divisible\n"
          ]
        }
      ]
    },
    {
      "cell_type": "code",
      "source": [
        "d1=(0,1,2,3,4,5,6,7,8,9,10)\n",
        "for i in d1:\n",
        "  print(i)\n"
      ],
      "metadata": {
        "colab": {
          "base_uri": "https://localhost:8080/"
        },
        "id": "iRo_r-3Ya7jV",
        "outputId": "3de29bd2-94a3-4003-f6de-b33f23fff56a"
      },
      "execution_count": null,
      "outputs": [
        {
          "output_type": "stream",
          "name": "stdout",
          "text": [
            "0\n",
            "1\n",
            "2\n",
            "3\n",
            "4\n",
            "5\n",
            "6\n",
            "7\n",
            "8\n",
            "9\n",
            "10\n"
          ]
        }
      ]
    },
    {
      "cell_type": "markdown",
      "source": [
        "# 10 September"
      ],
      "metadata": {
        "id": "mkSOv8chAEfE"
      }
    }
  ]
}