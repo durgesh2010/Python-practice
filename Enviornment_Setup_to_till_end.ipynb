{
  "nbformat": 4,
  "nbformat_minor": 0,
  "metadata": {
    "colab": {
      "provenance": [],
      "collapsed_sections": [],
      "include_colab_link": true
    },
    "kernelspec": {
      "name": "python3",
      "display_name": "Python 3"
    },
    "language_info": {
      "name": "python"
    }
  },
  "cells": [
    {
      "cell_type": "markdown",
      "metadata": {
        "id": "view-in-github",
        "colab_type": "text"
      },
      "source": [
        "<a href=\"https://colab.research.google.com/github/durgesh2010/Python-practice/blob/main/Enviornment_Setup_to_till_end.ipynb\" target=\"_parent\"><img src=\"https://colab.research.google.com/assets/colab-badge.svg\" alt=\"Open In Colab\"/></a>"
      ]
    },
    {
      "cell_type": "markdown",
      "source": [
        "# My Notes"
      ],
      "metadata": {
        "id": "n89g9Fpd8_EL"
      }
    },
    {
      "cell_type": "code",
      "execution_count": null,
      "metadata": {
        "id": "NLCxR3WXo3ZU"
      },
      "outputs": [],
      "source": [
        "a = 20 + 4.5"
      ]
    },
    {
      "cell_type": "code",
      "source": [
        "type(a)"
      ],
      "metadata": {
        "colab": {
          "base_uri": "https://localhost:8080/"
        },
        "id": "Kfo4Yp9O9H9b",
        "outputId": "401d5ea5-6f38-4190-848e-9794fa030980"
      },
      "execution_count": null,
      "outputs": [
        {
          "output_type": "execute_result",
          "data": {
            "text/plain": [
              "float"
            ]
          },
          "metadata": {},
          "execution_count": 15
        }
      ]
    },
    {
      "cell_type": "code",
      "execution_count": null,
      "metadata": {
        "colab": {
          "base_uri": "https://localhost:8080/"
        },
        "id": "lrDhf-vfpFq7",
        "outputId": "2890ac66-6a9e-4e02-95d8-ca6d554fe99c"
      },
      "outputs": [
        {
          "output_type": "execute_result",
          "data": {
            "text/plain": [
              "24"
            ]
          },
          "metadata": {},
          "execution_count": 16
        }
      ],
      "source": [
        "int(a)"
      ]
    },
    {
      "cell_type": "code",
      "execution_count": null,
      "metadata": {
        "id": "HD5FIQNUpFu8",
        "colab": {
          "base_uri": "https://localhost:8080/"
        },
        "outputId": "e8f97357-544b-4382-8a70-3c7d6b88bf81"
      },
      "outputs": [
        {
          "output_type": "execute_result",
          "data": {
            "text/plain": [
              "11"
            ]
          },
          "metadata": {},
          "execution_count": 17
        }
      ],
      "source": [
        "10 + True # True has value 1 inside"
      ]
    },
    {
      "cell_type": "code",
      "execution_count": null,
      "metadata": {
        "id": "_MlD52cxpFx5",
        "colab": {
          "base_uri": "https://localhost:8080/"
        },
        "outputId": "8fcfee9b-7460-4f44-90ed-5f8e4d8f153f"
      },
      "outputs": [
        {
          "output_type": "execute_result",
          "data": {
            "text/plain": [
              "10"
            ]
          },
          "metadata": {},
          "execution_count": 4
        }
      ],
      "source": [
        "10 + False # True has value 0 inside"
      ]
    },
    {
      "cell_type": "code",
      "execution_count": null,
      "metadata": {
        "id": "MyWavqQSpF1-",
        "colab": {
          "base_uri": "https://localhost:8080/"
        },
        "outputId": "36a0c870-87f9-4985-c329-17aa901c330a"
      },
      "outputs": [
        {
          "output_type": "stream",
          "name": "stdout",
          "text": [
            "print your name Durgesh\n",
            "good to go Durgesh\n"
          ]
        }
      ],
      "source": [
        "name = input('print your name ')\n",
        "if name =='Durgesh':\n",
        "  print(f'good to go {name}')\n",
        "else:\n",
        "  print('hey XYZ you are not allowed')"
      ]
    },
    {
      "cell_type": "code",
      "source": [
        "a = 10 \n",
        "b = 20 \n",
        "c = 30\n",
        "print(f'hey a got  {a} b got {b} and c got {c}')"
      ],
      "metadata": {
        "id": "sexe3LkByk4A",
        "colab": {
          "base_uri": "https://localhost:8080/"
        },
        "outputId": "f541eb83-1083-4f09-bb94-1ca4e2fc0da3"
      },
      "execution_count": null,
      "outputs": [
        {
          "output_type": "stream",
          "name": "stdout",
          "text": [
            "hey a got  10 b got 20 and c got 30\n"
          ]
        }
      ]
    },
    {
      "cell_type": "code",
      "source": [
        "name = input('')\n",
        "marks = input('')\n",
        "print('{}got {} marks these are good but you can score more keep learning'.format(name,marks))"
      ],
      "metadata": {
        "colab": {
          "base_uri": "https://localhost:8080/"
        },
        "id": "YJCRkeigALFR",
        "outputId": "e71865dc-30fc-4d62-b0ec-857ff13c3576"
      },
      "execution_count": null,
      "outputs": [
        {
          "output_type": "stream",
          "name": "stdout",
          "text": [
            "rakesh \n",
            "90\n",
            "rakesh got 90 marks these are good but you can score more keep learning\n"
          ]
        }
      ]
    },
    {
      "cell_type": "code",
      "source": [
        "\n",
        "nlist =tuple([9,8,7])\n",
        "a = (1,2,nlist ,'lit')\n",
        "nlist[0] = 9\n",
        "a"
      ],
      "metadata": {
        "id": "XuCYpLYFyk7q",
        "colab": {
          "base_uri": "https://localhost:8080/"
        },
        "outputId": "82b0c328-8d76-407e-d6cc-580fb1c9abb2"
      },
      "execution_count": null,
      "outputs": [
        {
          "output_type": "execute_result",
          "data": {
            "text/plain": [
              "(1, 2, [9, 8, 7], 'lit')"
            ]
          },
          "metadata": {},
          "execution_count": 11
        }
      ]
    },
    {
      "cell_type": "code",
      "source": [
        "nlist1 = list((9,8,7))\n",
        "nlist1[0] = 6\n",
        "nlist1"
      ],
      "metadata": {
        "colab": {
          "base_uri": "https://localhost:8080/"
        },
        "id": "0GYak_-WxssQ",
        "outputId": "f9f7c0b6-5c96-43a8-a46a-fb2a6c48aae8"
      },
      "execution_count": null,
      "outputs": [
        {
          "output_type": "execute_result",
          "data": {
            "text/plain": [
              "[6, 8, 7]"
            ]
          },
          "metadata": {},
          "execution_count": 15
        }
      ]
    },
    {
      "cell_type": "code",
      "source": [],
      "metadata": {
        "id": "sBf0eO5EeNZf"
      },
      "execution_count": null,
      "outputs": []
    },
    {
      "cell_type": "code",
      "source": [
        "\n",
        "nlist = [1,2,3,4,5,6]\n",
        "print(nlist[::-1])"
      ],
      "metadata": {
        "id": "7pyoEKSwSvqr"
      },
      "execution_count": null,
      "outputs": []
    },
    {
      "cell_type": "markdown",
      "source": [
        "Q.1 Write a Python program to get the Fibonacci series between 0 to 50\n",
        "\n",
        "\n",
        "\n",
        "Note : The Fibonacci Sequence is the series of numbers :\n",
        "\n",
        "0, 1, 1, 2, 3, 5, 8, 13, 21, ....\n",
        "\n",
        "Every next number is found by adding up the two numbers before it.\n",
        "\n",
        "Expected Output : 1 1 2 3 5 8 13 21 34"
      ],
      "metadata": {
        "id": "n6ujxS-dELDt"
      }
    },
    {
      "cell_type": "code",
      "source": [
        "##### \n",
        "prev_no = 0\n",
        "nex_no = 1\n",
        "while nex_no < 50:\n",
        "  print(nex_no)\n",
        "  prev_no,nex_no = nex_no, nex_no + prev_no ## by taking two two values at the same line fark pdta hai instead of line by line \n"
      ],
      "metadata": {
        "colab": {
          "base_uri": "https://localhost:8080/"
        },
        "id": "NifDWCNwEGkc",
        "outputId": "50c98b2c-c69b-48fa-91de-a7765d9b7efd"
      },
      "execution_count": null,
      "outputs": [
        {
          "output_type": "stream",
          "name": "stdout",
          "text": [
            "1\n",
            "1\n",
            "2\n",
            "3\n",
            "5\n",
            "8\n",
            "13\n",
            "21\n",
            "34\n"
          ]
        }
      ]
    },
    {
      "cell_type": "code",
      "source": [
        "#### the result of above code and this one is different\n",
        "prev_no = 0\n",
        "nex_no = 1\n",
        "while nex_no < 50:\n",
        "  print(nex_no)\n",
        "  prev_no= nex_no\n",
        "  nex_no = nex_no + prev_no "
      ],
      "metadata": {
        "id": "_paHLhL-iTwT"
      },
      "execution_count": null,
      "outputs": []
    },
    {
      "cell_type": "code",
      "source": [
        "d = {(10,20): \"tyu\"}"
      ],
      "metadata": {
        "id": "yAO0BZcZh7bC"
      },
      "execution_count": null,
      "outputs": []
    },
    {
      "cell_type": "code",
      "source": [],
      "metadata": {
        "id": "9nyplT-Lh7eq"
      },
      "execution_count": null,
      "outputs": []
    },
    {
      "cell_type": "markdown",
      "source": [
        "# What is OOP's\n",
        "\n",
        "Object-oriented programming (OOP) is a computer programming model that organizes software design around data, or objects, rather than functions and logic."
      ],
      "metadata": {
        "id": "EiUKZCexEH34"
      }
    },
    {
      "cell_type": "code",
      "source": [],
      "metadata": {
        "id": "rhrFojl6EHHr"
      },
      "execution_count": null,
      "outputs": []
    },
    {
      "cell_type": "markdown",
      "source": [
        "What is self in a class?\n",
        "\n",
        "\n",
        "self represents the instance of the class. By using the “self” we can access the attributes and methods of the class in python. It binds the attributes with the given arguments. The reason you need to use self. is because Python does not use the @ syntax to refer to instance attributes."
      ],
      "metadata": {
        "id": "a4M2l_w9yfhU"
      }
    },
    {
      "cell_type": "markdown",
      "source": [
        "Attributes are data members inside a class or an object that represent the different **features** of the class."
      ],
      "metadata": {
        "id": "2QR9ubvaChQs"
      }
    },
    {
      "cell_type": "code",
      "source": [],
      "metadata": {
        "id": "plWSeTLK8_pI"
      },
      "execution_count": null,
      "outputs": []
    },
    {
      "cell_type": "code",
      "source": [],
      "metadata": {
        "id": "DxMaDknWGINF"
      },
      "execution_count": null,
      "outputs": []
    },
    {
      "cell_type": "markdown",
      "source": [
        "# What is the inheritance in OOPs?\n",
        "Inheritance in OOP = When a class derives from another class.\n",
        "\n",
        "Inheritance is a feature or a process in which, new classes are created from the existing classes."
      ],
      "metadata": {
        "id": "AfHJvo3HGJPa"
      }
    },
    {
      "cell_type": "code",
      "source": [],
      "metadata": {
        "id": "jUf5KIlDGIXT"
      },
      "execution_count": null,
      "outputs": []
    },
    {
      "cell_type": "markdown",
      "source": [
        "# Lecture Content"
      ],
      "metadata": {
        "id": "aNkUfJQj9Lr9"
      }
    },
    {
      "cell_type": "code",
      "source": [
        "# Python - Programming language \n",
        "# 1 - Easy to learn\n",
        "# 2 - libraries\n",
        "# 3 - Interpreted Language ( Line by line )\n",
        "# 4 - General Programming language ( Game, website, AI(Data Science), Script(1000), AP)\n",
        "# 5 - OOP'S\n",
        "# 6 - Open Source\n",
        "print('Uttam')"
      ],
      "metadata": {
        "colab": {
          "base_uri": "https://localhost:8080/"
        },
        "id": "PvDkrdciYEY7",
        "outputId": "2099adbd-c90c-4da2-d9da-3a6ce8f566fa"
      },
      "execution_count": null,
      "outputs": [
        {
          "output_type": "stream",
          "name": "stdout",
          "text": [
            "Uttam\n"
          ]
        }
      ]
    },
    {
      "cell_type": "code",
      "execution_count": null,
      "metadata": {
        "colab": {
          "base_uri": "https://localhost:8080/"
        },
        "id": "q55QeTaTYD9K",
        "outputId": "ceb5728d-115f-43c4-fdd9-f2fc63e80f5c"
      },
      "outputs": [
        {
          "output_type": "stream",
          "name": "stdout",
          "text": [
            "hello\n"
          ]
        }
      ],
      "source": [
        "# Python -- Programming Language (Program) - set of instruction ( 0, 1 )\n",
        "# mediator from Humar and machine ( computer ) - Java, C, C++, Kotlin, etc\n",
        "print('hello')"
      ]
    },
    {
      "cell_type": "code",
      "source": [
        "# Framework ( Pycharm, Jupyter, Jupyter Lab, Spyder, VS code etc, anaconda)\n",
        "# Long codes\n",
        "# debug code"
      ],
      "metadata": {
        "id": "DylWW_iBYEbh"
      },
      "execution_count": null,
      "outputs": []
    },
    {
      "cell_type": "code",
      "source": [
        "print('Uttam')\n",
        "print('Preeti')\n",
        "print('Shubam')"
      ],
      "metadata": {
        "colab": {
          "base_uri": "https://localhost:8080/"
        },
        "id": "hgk9mdmjYEeK",
        "outputId": "06726d3d-1d04-4e13-ac49-4e60b77f6e5a"
      },
      "execution_count": null,
      "outputs": [
        {
          "output_type": "stream",
          "name": "stdout",
          "text": [
            "Uttam\n",
            "Preeti\n",
            "Shubam\n"
          ]
        }
      ]
    },
    {
      "cell_type": "code",
      "source": [
        "print('Praveen')"
      ],
      "metadata": {
        "colab": {
          "base_uri": "https://localhost:8080/"
        },
        "id": "lhSMsVbHYEhI",
        "outputId": "2534f058-285f-4fdf-ac6e-e59197ab802a"
      },
      "execution_count": null,
      "outputs": [
        {
          "output_type": "stream",
          "name": "stdout",
          "text": [
            "Praveen\n"
          ]
        }
      ]
    },
    {
      "cell_type": "code",
      "source": [
        "# python\n",
        "# pip install notebook\n",
        "# jupyter notebook"
      ],
      "metadata": {
        "id": "ozla6iPeYEj5"
      },
      "execution_count": null,
      "outputs": []
    },
    {
      "cell_type": "code",
      "source": [
        "print('Uttam') # Predefined function"
      ],
      "metadata": {
        "colab": {
          "base_uri": "https://localhost:8080/"
        },
        "id": "Sk9p5ZXTYEmi",
        "outputId": "3715fa6f-bfc9-435c-a92f-4694419abfa7"
      },
      "execution_count": null,
      "outputs": [
        {
          "output_type": "stream",
          "name": "stdout",
          "text": [
            "Uttam\n"
          ]
        }
      ]
    },
    {
      "cell_type": "code",
      "source": [
        "print(45.8)"
      ],
      "metadata": {
        "colab": {
          "base_uri": "https://localhost:8080/"
        },
        "id": "nH7TFtGCqfUg",
        "outputId": "eec69c81-ecff-4a48-b4d4-8bd1ddad81c5"
      },
      "execution_count": null,
      "outputs": [
        {
          "output_type": "stream",
          "name": "stdout",
          "text": [
            "45.8\n"
          ]
        }
      ]
    },
    {
      "cell_type": "code",
      "source": [],
      "metadata": {
        "id": "y4sz665iqfaU"
      },
      "execution_count": null,
      "outputs": []
    },
    {
      "cell_type": "markdown",
      "source": [
        "** Data Types**"
      ],
      "metadata": {
        "id": "e2L03v71jiZp"
      }
    },
    {
      "cell_type": "code",
      "source": [
        "# Comments \n",
        "# for loop will print the number from 1 to 20\n",
        "# for i in range(1, 20, 3):\n",
        "#   print(i)"
      ],
      "metadata": {
        "id": "XWtC6aMcjgkX"
      },
      "execution_count": null,
      "outputs": []
    },
    {
      "cell_type": "code",
      "source": [
        "# print, uttam fkjf;lsdjfl;sdjfldskjf;sdjf;djs;lfj\n"
      ],
      "metadata": {
        "id": "zdJ4kIxAjgnV"
      },
      "execution_count": null,
      "outputs": []
    },
    {
      "cell_type": "markdown",
      "source": [
        "Data Types"
      ],
      "metadata": {
        "id": "DTmQF3b2lo-K"
      }
    },
    {
      "cell_type": "code",
      "source": [
        "# 1 --> 45 (Numers, Numeric)  --> Integer (int)\n",
        "# 2 --> 45.6(decimal)         --> Float( float )\n",
        "# 3 --> abc(characters)       --> string (str)\n",
        "# 4 --> True, False ( Truth table)   --> boolean ( bool)\n",
        "# 5 --> a+ib( complex )               --> complex (complex)"
      ],
      "metadata": {
        "id": "WaemgZ09jgp2"
      },
      "execution_count": null,
      "outputs": []
    },
    {
      "cell_type": "code",
      "source": [
        "a = 100 # varialbe\n",
        "b = 50\n",
        "c = a + b"
      ],
      "metadata": {
        "id": "qmsVGtG3jgss"
      },
      "execution_count": null,
      "outputs": []
    },
    {
      "cell_type": "code",
      "source": [
        "print(a)"
      ],
      "metadata": {
        "colab": {
          "base_uri": "https://localhost:8080/"
        },
        "id": "81aspRtXm745",
        "outputId": "79397e70-e1d8-4ab8-e8eb-e567d2c17011"
      },
      "execution_count": null,
      "outputs": [
        {
          "output_type": "stream",
          "name": "stdout",
          "text": [
            "100\n"
          ]
        }
      ]
    },
    {
      "cell_type": "code",
      "source": [
        "print(c)"
      ],
      "metadata": {
        "colab": {
          "base_uri": "https://localhost:8080/"
        },
        "id": "WOtyWBeam77i",
        "outputId": "b932d610-64fb-4f1b-a4e5-9b4de5200c9c"
      },
      "execution_count": null,
      "outputs": [
        {
          "output_type": "stream",
          "name": "stdout",
          "text": [
            "150\n"
          ]
        }
      ]
    },
    {
      "cell_type": "code",
      "source": [
        "'Uttam' + 'Grade' + \"200\""
      ],
      "metadata": {
        "colab": {
          "base_uri": "https://localhost:8080/",
          "height": 36
        },
        "id": "C-4xoJz0jgvu",
        "outputId": "c98085f7-cd60-4ee6-da25-3cd4ffa61716"
      },
      "execution_count": null,
      "outputs": [
        {
          "output_type": "execute_result",
          "data": {
            "text/plain": [
              "'UttamGrade200'"
            ],
            "application/vnd.google.colaboratory.intrinsic+json": {
              "type": "string"
            }
          },
          "metadata": {},
          "execution_count": 18
        }
      ]
    },
    {
      "cell_type": "code",
      "source": [
        "m = 200\n",
        "n = '200'\n",
        "type(n)"
      ],
      "metadata": {
        "id": "x8YovauoqfdK",
        "colab": {
          "base_uri": "https://localhost:8080/"
        },
        "outputId": "a0af7e67-c684-4a43-e491-88ab14537948"
      },
      "execution_count": null,
      "outputs": [
        {
          "output_type": "execute_result",
          "data": {
            "text/plain": [
              "str"
            ]
          },
          "metadata": {},
          "execution_count": 20
        }
      ]
    },
    {
      "cell_type": "code",
      "source": [
        "a = 20.5 # Conversion\n",
        "b = int(a)"
      ],
      "metadata": {
        "id": "hYeUhQCmqfgM"
      },
      "execution_count": null,
      "outputs": []
    },
    {
      "cell_type": "code",
      "source": [
        "type(b)"
      ],
      "metadata": {
        "colab": {
          "base_uri": "https://localhost:8080/"
        },
        "id": "lgS0z5xiqVjU",
        "outputId": "c73f6e4d-28c7-4b15-a183-0fc5ac9bda03"
      },
      "execution_count": null,
      "outputs": [
        {
          "output_type": "execute_result",
          "data": {
            "text/plain": [
              "int"
            ]
          },
          "metadata": {},
          "execution_count": 32
        }
      ]
    },
    {
      "cell_type": "code",
      "source": [
        "a = 100\n",
        "a = 200\n",
        "a = 300\n",
        "a = 1"
      ],
      "metadata": {
        "id": "UP5ZBOrrqVm0"
      },
      "execution_count": null,
      "outputs": []
    },
    {
      "cell_type": "code",
      "source": [
        "print(a)"
      ],
      "metadata": {
        "colab": {
          "base_uri": "https://localhost:8080/"
        },
        "id": "FteRSK-qrN_c",
        "outputId": "fb108155-3fd9-46e4-cb97-dbcaac7e30da"
      },
      "execution_count": null,
      "outputs": [
        {
          "output_type": "stream",
          "name": "stdout",
          "text": [
            "1\n"
          ]
        }
      ]
    },
    {
      "cell_type": "code",
      "source": [
        "'Uttam' + str(True)"
      ],
      "metadata": {
        "colab": {
          "base_uri": "https://localhost:8080/",
          "height": 36
        },
        "id": "65JwUPTNrOBq",
        "outputId": "cbd8e844-317d-452b-dafb-a2f3e32cf61a"
      },
      "execution_count": null,
      "outputs": [
        {
          "output_type": "execute_result",
          "data": {
            "text/plain": [
              "'UttamTrue'"
            ],
            "application/vnd.google.colaboratory.intrinsic+json": {
              "type": "string"
            }
          },
          "metadata": {},
          "execution_count": 56
        }
      ]
    },
    {
      "cell_type": "code",
      "source": [
        "print('Uttam')\n",
        "print('Neha')\n",
        "print(\"Sunil\")"
      ],
      "metadata": {
        "colab": {
          "base_uri": "https://localhost:8080/"
        },
        "id": "VBs2TC_AtisA",
        "outputId": "3e363f9d-0e78-43d4-a472-e4cefa980ce9"
      },
      "execution_count": null,
      "outputs": [
        {
          "output_type": "stream",
          "name": "stdout",
          "text": [
            "Uttam\n",
            "Neha\n",
            "Sunil\n"
          ]
        }
      ]
    },
    {
      "cell_type": "code",
      "source": [
        "# Data Structures # container(who contains multiple data or data type)\n",
        "# List , [], \n",
        "# Tuple ()\n",
        "# set ()\n",
        "# Dict {}\n",
        "akshada = ['B.TECH', 'M.TECH', 12, 12.5, True, 'Archana']"
      ],
      "metadata": {
        "id": "IDRrG8RyxwwI"
      },
      "execution_count": null,
      "outputs": []
    },
    {
      "cell_type": "code",
      "source": [
        "# Indexing\n",
        "akshada[4]"
      ],
      "metadata": {
        "colab": {
          "base_uri": "https://localhost:8080/"
        },
        "id": "Mrjlt-yBxwy3",
        "outputId": "7e6af488-8950-4cd8-9f33-929f45fed7c4"
      },
      "execution_count": null,
      "outputs": [
        {
          "output_type": "execute_result",
          "data": {
            "text/plain": [
              "True"
            ]
          },
          "metadata": {},
          "execution_count": 24
        }
      ]
    },
    {
      "cell_type": "code",
      "source": [
        "print(akshada)"
      ],
      "metadata": {
        "colab": {
          "base_uri": "https://localhost:8080/"
        },
        "id": "2atu3u0exw1F",
        "outputId": "226ce36a-af37-4985-c5dc-b1d59230fa03"
      },
      "execution_count": null,
      "outputs": [
        {
          "output_type": "stream",
          "name": "stdout",
          "text": [
            "['B.TECH', 'M.TECH', 12, 12.5, True, 'Archana']\n"
          ]
        }
      ]
    },
    {
      "cell_type": "code",
      "source": [
        "print(type(akshada))"
      ],
      "metadata": {
        "colab": {
          "base_uri": "https://localhost:8080/"
        },
        "id": "gaCeCFuwxw3Y",
        "outputId": "8cc2d94e-8b31-42fb-e61f-8249fbbde6ab"
      },
      "execution_count": null,
      "outputs": [
        {
          "output_type": "stream",
          "name": "stdout",
          "text": [
            "<class 'list'>\n"
          ]
        }
      ]
    },
    {
      "cell_type": "code",
      "source": [],
      "metadata": {
        "id": "Xz78JN_nxw6P"
      },
      "execution_count": null,
      "outputs": []
    },
    {
      "cell_type": "markdown",
      "source": [
        "03-September-2022"
      ],
      "metadata": {
        "id": "GhLFApdou-ZO"
      }
    },
    {
      "cell_type": "code",
      "source": [
        "float = 'Archana Mishra'# this is not a ggod practice\n",
        "print(type(float))"
      ],
      "metadata": {
        "id": "-gPv5lkdxw9O",
        "colab": {
          "base_uri": "https://localhost:8080/"
        },
        "outputId": "5e1c1cc8-9418-4b19-c81a-6ece0af11ecd"
      },
      "execution_count": null,
      "outputs": [
        {
          "output_type": "stream",
          "name": "stdout",
          "text": [
            "<class 'str'>\n"
          ]
        }
      ]
    },
    {
      "cell_type": "code",
      "source": [
        "10/2"
      ],
      "metadata": {
        "id": "MKtQhjWDxw_1",
        "colab": {
          "base_uri": "https://localhost:8080/"
        },
        "outputId": "1f22bd94-5797-46d6-d997-60f65fca3583"
      },
      "execution_count": null,
      "outputs": [
        {
          "output_type": "execute_result",
          "data": {
            "text/plain": [
              "5.0"
            ]
          },
          "metadata": {},
          "execution_count": 28
        }
      ]
    },
    {
      "cell_type": "code",
      "source": [
        "type(10//2)"
      ],
      "metadata": {
        "id": "7RptfMJ2xxDL",
        "colab": {
          "base_uri": "https://localhost:8080/"
        },
        "outputId": "908106d5-8f24-49de-8177-d84cd68d624b"
      },
      "execution_count": null,
      "outputs": [
        {
          "output_type": "execute_result",
          "data": {
            "text/plain": [
              "int"
            ]
          },
          "metadata": {},
          "execution_count": 29
        }
      ]
    },
    {
      "cell_type": "code",
      "source": [
        "##### String(abcd) Formatting - 1 #####\n",
        "a = 'Archana'\n",
        "b = 'Raj'\n",
        "c = 25\n",
        "print('Hello {} How are you? How about your studies {}, I know that your age is {}'.format(a, c, b))"
      ],
      "metadata": {
        "id": "wS9ohLY0YEpj",
        "colab": {
          "base_uri": "https://localhost:8080/"
        },
        "outputId": "53b7255b-3cbb-4304-ff81-36630abe901b"
      },
      "execution_count": null,
      "outputs": [
        {
          "output_type": "stream",
          "name": "stdout",
          "text": [
            "Hello Archana How are you? How about your studies 25, I know that your age is Raj\n"
          ]
        }
      ]
    },
    {
      "cell_type": "code",
      "source": [
        "##### String(abcd) Formatting - 2 #####\n",
        "a = 'Archana'\n",
        "b = 'Raj'\n",
        "c = 25\n",
        "print(f'Hello {a} How are you? How about your studies {b}, I know that your age is {c}')"
      ],
      "metadata": {
        "colab": {
          "base_uri": "https://localhost:8080/"
        },
        "id": "3s9MW_l_wzsq",
        "outputId": "1dd710a4-c774-4369-82fa-094a2cd87eb3"
      },
      "execution_count": null,
      "outputs": [
        {
          "output_type": "stream",
          "name": "stdout",
          "text": [
            "Hello Archana How are you? How about your studies Raj, I know that your age is 25\n"
          ]
        }
      ]
    },
    {
      "cell_type": "code",
      "source": [
        "#### input ########\n",
        "name = input('Please Enter your Name')\n",
        "\n",
        "if (name == 'Archana'):\n",
        "  print(f'Welcome {name}, How much money you want to withdrawal.')\n",
        "else:\n",
        "  print('Wrong User, Calling to POLICE')\n",
        "\n"
      ],
      "metadata": {
        "colab": {
          "base_uri": "https://localhost:8080/"
        },
        "id": "nFVkzLvVwzvu",
        "outputId": "2dfb7fcd-1cd8-4d2c-93cf-09dce0429151"
      },
      "execution_count": null,
      "outputs": [
        {
          "output_type": "stream",
          "name": "stdout",
          "text": [
            "Please Enter your Namefghj\n",
            "Wrong User, Calling to POLICE\n"
          ]
        }
      ]
    },
    {
      "cell_type": "code",
      "source": [],
      "metadata": {
        "id": "k0yadwDASvw8"
      },
      "execution_count": null,
      "outputs": []
    },
    {
      "cell_type": "markdown",
      "source": [
        "# Variable assignment lecture"
      ],
      "metadata": {
        "id": "WDcsBV6p9q0J"
      }
    },
    {
      "cell_type": "code",
      "source": [],
      "metadata": {
        "id": "jkbUOp0G9z-J"
      },
      "execution_count": null,
      "outputs": []
    },
    {
      "cell_type": "markdown",
      "source": [
        "05-September-2022"
      ],
      "metadata": {
        "id": "PQaNdpmaAwoE"
      }
    },
    {
      "cell_type": "code",
      "source": [
        "x = 1\n",
        "id(x)"
      ],
      "metadata": {
        "colab": {
          "base_uri": "https://localhost:8080/"
        },
        "id": "6O-2TL2N_TOn",
        "outputId": "66e49b3e-52cf-4241-8dfa-0823835228f6"
      },
      "execution_count": null,
      "outputs": [
        {
          "output_type": "execute_result",
          "data": {
            "text/plain": [
              "11256064"
            ]
          },
          "metadata": {},
          "execution_count": 1
        }
      ]
    },
    {
      "cell_type": "code",
      "source": [
        "# this is object intering x(above) & y have same value\n",
        "y = 1\n",
        "id(y)"
      ],
      "metadata": {
        "colab": {
          "base_uri": "https://localhost:8080/"
        },
        "id": "TNcjlcCD-emn",
        "outputId": "be7ab5ed-3b47-4091-b78b-8fa906a76756"
      },
      "execution_count": null,
      "outputs": [
        {
          "output_type": "execute_result",
          "data": {
            "text/plain": [
              "11256064"
            ]
          },
          "metadata": {},
          "execution_count": 2
        }
      ]
    },
    {
      "cell_type": "code",
      "source": [
        "x =2 \n",
        "id(x)"
      ],
      "metadata": {
        "colab": {
          "base_uri": "https://localhost:8080/"
        },
        "id": "d5PpS5G-_TRs",
        "outputId": "b3dbdde2-b076-48f8-b6cc-1959277aaeeb"
      },
      "execution_count": null,
      "outputs": [
        {
          "output_type": "execute_result",
          "data": {
            "text/plain": [
              "11256096"
            ]
          },
          "metadata": {},
          "execution_count": 3
        }
      ]
    },
    {
      "cell_type": "code",
      "source": [
        "hex(id(x))"
      ],
      "metadata": {
        "colab": {
          "base_uri": "https://localhost:8080/",
          "height": 36
        },
        "id": "viZLNjKf_TVE",
        "outputId": "fa0b2580-e41c-4c8e-8417-1458d171c803"
      },
      "execution_count": null,
      "outputs": [
        {
          "output_type": "execute_result",
          "data": {
            "text/plain": [
              "'0xabc100'"
            ],
            "application/vnd.google.colaboratory.intrinsic+json": {
              "type": "string"
            }
          },
          "metadata": {},
          "execution_count": 3
        }
      ]
    },
    {
      "cell_type": "code",
      "source": [
        "s1 = 'uttam'\n",
        "id(s1)"
      ],
      "metadata": {
        "colab": {
          "base_uri": "https://localhost:8080/"
        },
        "id": "aqfwCcO4_TYp",
        "outputId": "180128f7-b8bb-427b-bc7a-d6599b9ca441"
      },
      "execution_count": null,
      "outputs": [
        {
          "output_type": "execute_result",
          "data": {
            "text/plain": [
              "140219404696624"
            ]
          },
          "metadata": {},
          "execution_count": 4
        }
      ]
    },
    {
      "cell_type": "code",
      "source": [
        "print('Uttam')"
      ],
      "metadata": {
        "colab": {
          "base_uri": "https://localhost:8080/"
        },
        "id": "v1OOQJXP_Tbq",
        "outputId": "56edc9a3-9271-40d7-b026-f02bf486afb6"
      },
      "execution_count": null,
      "outputs": [
        {
          "output_type": "stream",
          "name": "stdout",
          "text": [
            "Uttam\n"
          ]
        }
      ]
    },
    {
      "cell_type": "code",
      "source": [
        "list(range(1, 20))"
      ],
      "metadata": {
        "colab": {
          "base_uri": "https://localhost:8080/"
        },
        "id": "uqdEJY33_Tev",
        "outputId": "74fdbae5-34e6-47e0-ec73-261a64de9dab"
      },
      "execution_count": null,
      "outputs": [
        {
          "output_type": "execute_result",
          "data": {
            "text/plain": [
              "[1, 2, 3, 4, 5, 6, 7, 8, 9, 10, 11, 12, 13, 14, 15, 16, 17, 18, 19]"
            ]
          },
          "metadata": {},
          "execution_count": 6
        }
      ]
    },
    {
      "cell_type": "code",
      "source": [
        "l1 = [10,20,30,40,50]\n",
        "print(l1)"
      ],
      "metadata": {
        "colab": {
          "base_uri": "https://localhost:8080/"
        },
        "id": "o6k0iTFM_Tv6",
        "outputId": "10309e43-6081-4d38-e34c-53d5ed7a3d01"
      },
      "execution_count": null,
      "outputs": [
        {
          "output_type": "stream",
          "name": "stdout",
          "text": [
            "[10, 20, 30, 40, 50]\n"
          ]
        }
      ]
    },
    {
      "cell_type": "code",
      "source": [
        "l2 = l1.copy()\n",
        "print(l2)"
      ],
      "metadata": {
        "colab": {
          "base_uri": "https://localhost:8080/"
        },
        "id": "sgOq1lNW_Tyz",
        "outputId": "c932a0bf-615f-4ca9-968b-414726c79f3b"
      },
      "execution_count": null,
      "outputs": [
        {
          "output_type": "stream",
          "name": "stdout",
          "text": [
            "[10, 20, 30, 40, 50]\n"
          ]
        }
      ]
    },
    {
      "cell_type": "code",
      "source": [
        "aniket = ['Aniket', 'Preeti', 'Akshada', True, 45, 67.8, False]\n",
        "print(aniket)"
      ],
      "metadata": {
        "colab": {
          "base_uri": "https://localhost:8080/"
        },
        "id": "3tBf6HCM_U2n",
        "outputId": "e5529da1-aee3-4401-87e1-4e5cae07a029"
      },
      "execution_count": null,
      "outputs": [
        {
          "output_type": "stream",
          "name": "stdout",
          "text": [
            "['Aniket', 'Preeti', 'Akshada', True, 45, 67.8, False]\n"
          ]
        }
      ]
    },
    {
      "cell_type": "code",
      "source": [
        "# if we replace pairwise then it will replace smoothly\n",
        "aniket[2:5] = ['Uttam', 'Ujjwal', 'Aditya']"
      ],
      "metadata": {
        "id": "9LHHHtmAJoLh"
      },
      "execution_count": null,
      "outputs": []
    },
    {
      "cell_type": "code",
      "source": [
        "aniket"
      ],
      "metadata": {
        "colab": {
          "base_uri": "https://localhost:8080/"
        },
        "id": "1sVEnthCJoOg",
        "outputId": "8c32a37d-59c3-48e4-b30a-ef9361e7224f"
      },
      "execution_count": null,
      "outputs": [
        {
          "output_type": "execute_result",
          "data": {
            "text/plain": [
              "['Aniket', 'Preeti', 'Uttam', 'Ujjwal', 'Aditya', 67.8, False]"
            ]
          },
          "metadata": {},
          "execution_count": 17
        }
      ]
    },
    {
      "cell_type": "code",
      "source": [
        "s = ['Uttam', 10, True, 'Ijaz', 'Sunil', 'Durgesh']"
      ],
      "metadata": {
        "id": "5NGG7xQeJoRJ"
      },
      "execution_count": null,
      "outputs": []
    },
    {
      "cell_type": "code",
      "source": [
        "s[0] = 'vishal'"
      ],
      "metadata": {
        "id": "n285eoF8JoUH"
      },
      "execution_count": null,
      "outputs": []
    },
    {
      "cell_type": "code",
      "source": [
        "s"
      ],
      "metadata": {
        "colab": {
          "base_uri": "https://localhost:8080/"
        },
        "id": "ZB9Xp4rCJoWa",
        "outputId": "94a030f3-d709-43f9-f308-1b41485d4330"
      },
      "execution_count": null,
      "outputs": [
        {
          "output_type": "execute_result",
          "data": {
            "text/plain": [
              "['vishal', 10, True, 'Ijaz', 'Sunil', 'Durgesh']"
            ]
          },
          "metadata": {},
          "execution_count": 43
        }
      ]
    },
    {
      "cell_type": "code",
      "source": [
        "s[0:2] = ['Aniket', 100]"
      ],
      "metadata": {
        "id": "3a462miIJoZV"
      },
      "execution_count": null,
      "outputs": []
    },
    {
      "cell_type": "code",
      "source": [
        "s"
      ],
      "metadata": {
        "colab": {
          "base_uri": "https://localhost:8080/"
        },
        "id": "Qp34CH5vJob4",
        "outputId": "88ae177b-6ba2-4b4d-d92e-ca5ec33c2846"
      },
      "execution_count": null,
      "outputs": [
        {
          "output_type": "execute_result",
          "data": {
            "text/plain": [
              "['Aniket', 100, True, 'Ijaz', 'Sunil', 'Durgesh']"
            ]
          },
          "metadata": {},
          "execution_count": 45
        }
      ]
    },
    {
      "cell_type": "code",
      "source": [
        "s[0:2] = '700', 800"
      ],
      "metadata": {
        "id": "-Wt_N947Joe8"
      },
      "execution_count": null,
      "outputs": []
    },
    {
      "cell_type": "code",
      "source": [
        "#######\n",
        "sp = ['Uttam', 10, True, 'Ijaz', 'Sunil', 'Durgesh']\n",
        "sp[0:2] = 'Durgesh'\n",
        "sp"
      ],
      "metadata": {
        "colab": {
          "base_uri": "https://localhost:8080/"
        },
        "id": "v8D7HUolAk4Y",
        "outputId": "0ddc3dca-0510-4563-b20d-652a849b03e7"
      },
      "execution_count": null,
      "outputs": [
        {
          "output_type": "execute_result",
          "data": {
            "text/plain": [
              "['D', 'u', 'r', 'g', 'e', 's', 'h', True, 'Ijaz', 'Sunil', 'Durgesh']"
            ]
          },
          "metadata": {},
          "execution_count": 12
        }
      ]
    },
    {
      "cell_type": "code",
      "source": [
        "# here the value is int after separation meaning will be change that's it is showing error\n",
        "sp = ['Uttam', 10, True, 'Ijaz', 'Sunil', 'Durgesh']\n",
        "s[0:2] = 30\n",
        "s"
      ],
      "metadata": {
        "id": "XFk8EH0ABQ4P"
      },
      "execution_count": null,
      "outputs": []
    },
    {
      "cell_type": "code",
      "source": [
        "s"
      ],
      "metadata": {
        "colab": {
          "base_uri": "https://localhost:8080/"
        },
        "id": "-9kFh3-iJoiQ",
        "outputId": "e059bd8b-3d61-4310-d2ee-c0a3f5b88214"
      },
      "execution_count": null,
      "outputs": [
        {
          "output_type": "execute_result",
          "data": {
            "text/plain": [
              "['700', 800, True, 'Ijaz', 'Sunil', 'Durgesh']"
            ]
          },
          "metadata": {},
          "execution_count": 48
        }
      ]
    },
    {
      "cell_type": "code",
      "source": [
        "s2 = ['uttam', 'rakesh', 'Aniket']\n",
        "s2"
      ],
      "metadata": {
        "colab": {
          "base_uri": "https://localhost:8080/"
        },
        "id": "useQMGwX_U6H",
        "outputId": "dd6e29da-8d32-4318-aad6-e70793a80d6f"
      },
      "execution_count": null,
      "outputs": [
        {
          "output_type": "execute_result",
          "data": {
            "text/plain": [
              "['uttam', 'rakesh', 'Aniket']"
            ]
          },
          "metadata": {},
          "execution_count": 49
        }
      ]
    },
    {
      "cell_type": "code",
      "source": [
        "####### now see carefully assigning two names at 0 index\n",
        "s2[0] = 'rohan', 'Sunil'"
      ],
      "metadata": {
        "id": "XPnSqLL5_SHx"
      },
      "execution_count": null,
      "outputs": []
    },
    {
      "cell_type": "code",
      "source": [
        "s2"
      ],
      "metadata": {
        "colab": {
          "base_uri": "https://localhost:8080/"
        },
        "id": "RH-riyFb_SKf",
        "outputId": "494af49d-2276-4895-933e-d37737af8b08"
      },
      "execution_count": null,
      "outputs": [
        {
          "output_type": "execute_result",
          "data": {
            "text/plain": [
              "[('rohan', 'Sunil'), 'rakesh', 'Aniket']"
            ]
          },
          "metadata": {},
          "execution_count": 29
        }
      ]
    },
    {
      "cell_type": "code",
      "source": [],
      "metadata": {
        "id": "Tbm5vjyP_SPY"
      },
      "execution_count": null,
      "outputs": []
    },
    {
      "cell_type": "markdown",
      "source": [
        "Dictionary"
      ],
      "metadata": {
        "id": "9FQiNvi2REu0"
      }
    },
    {
      "cell_type": "code",
      "source": [
        "# dict, {}, key: value\n",
        "d = { \n",
        "    'Uttam': ['Akshada', 'ANiket', 'Prajwal'], \n",
        "     \n",
        "     'Maju': ['Indresh', True, 'majulika']\n",
        "     }"
      ],
      "metadata": {
        "id": "iLYXKkng_SSd"
      },
      "execution_count": null,
      "outputs": []
    },
    {
      "cell_type": "code",
      "source": [
        "type(d)"
      ],
      "metadata": {
        "colab": {
          "base_uri": "https://localhost:8080/"
        },
        "id": "rmtI9qqc_SVi",
        "outputId": "208d91a4-e789-4e65-ce84-756a9de86d0a"
      },
      "execution_count": null,
      "outputs": [
        {
          "output_type": "execute_result",
          "data": {
            "text/plain": [
              "dict"
            ]
          },
          "metadata": {},
          "execution_count": 31
        }
      ]
    },
    {
      "cell_type": "code",
      "source": [
        "d.keys()"
      ],
      "metadata": {
        "colab": {
          "base_uri": "https://localhost:8080/"
        },
        "id": "Sf-2DItt_SYl",
        "outputId": "9fc6848a-5554-447a-d632-44595f95b580"
      },
      "execution_count": null,
      "outputs": [
        {
          "output_type": "execute_result",
          "data": {
            "text/plain": [
              "dict_keys(['Uttam', 'Maju'])"
            ]
          },
          "metadata": {},
          "execution_count": 32
        }
      ]
    },
    {
      "cell_type": "code",
      "source": [
        "d.values()"
      ],
      "metadata": {
        "colab": {
          "base_uri": "https://localhost:8080/"
        },
        "id": "KjDuakf3_SbJ",
        "outputId": "f2887487-c1da-4805-a1b0-11a348a8073a"
      },
      "execution_count": null,
      "outputs": [
        {
          "output_type": "execute_result",
          "data": {
            "text/plain": [
              "dict_values([['Akshada', 'ANiket', 'Prajwal'], ['Indresh', True, 'majulika']])"
            ]
          },
          "metadata": {},
          "execution_count": 33
        }
      ]
    },
    {
      "cell_type": "code",
      "source": [
        "#Exercise 1: Reverse a list in Python\n",
        "l1 =[1,2,3,4]\n",
        "l1.reverse()\n",
        "print(l1)\n"
      ],
      "metadata": {
        "colab": {
          "base_uri": "https://localhost:8080/"
        },
        "id": "bNbqjnZh_SeA",
        "outputId": "cbbd87ee-3cc9-4b32-dc93-340a492b6d18"
      },
      "execution_count": null,
      "outputs": [
        {
          "output_type": "stream",
          "name": "stdout",
          "text": [
            "[4, 3, 2, 1]\n"
          ]
        }
      ]
    },
    {
      "cell_type": "code",
      "source": [
        "l1=10,20,30,40,50 \n",
        "l1[::-1]\n"
      ],
      "metadata": {
        "colab": {
          "base_uri": "https://localhost:8080/"
        },
        "id": "Bah5IAYA_Sij",
        "outputId": "d9d443ef-bb0e-4472-ccf0-4623156c609a"
      },
      "execution_count": null,
      "outputs": [
        {
          "output_type": "execute_result",
          "data": {
            "text/plain": [
              "(50, 40, 30, 20, 10)"
            ]
          },
          "metadata": {},
          "execution_count": 52
        }
      ]
    },
    {
      "cell_type": "code",
      "source": [
        "# Exercise 2: Concatenate two lists index-wise\n",
        "# Exercise 3: Remove empty strings from the list of strings"
      ],
      "metadata": {
        "id": "XU6zpUFz_Slg"
      },
      "execution_count": null,
      "outputs": []
    },
    {
      "cell_type": "code",
      "source": [
        "dlist = [1,2,3,4,5,'my name',True,False]\n",
        "print (f' concatinating {dlist[0:5]} and Durgesh i.e {dlist[5:6]}')"
      ],
      "metadata": {
        "colab": {
          "base_uri": "https://localhost:8080/"
        },
        "id": "78PdEYobCZvS",
        "outputId": "1d0456db-5c56-40fe-c25a-53413395d73e"
      },
      "execution_count": null,
      "outputs": [
        {
          "output_type": "stream",
          "name": "stdout",
          "text": [
            " concatinatinating [1, 2, 3, 4, 5] and Durgesh i.e ['my name']\n"
          ]
        }
      ]
    },
    {
      "cell_type": "code",
      "source": [
        "dstring = \"my name is jovani georgio but everbody calls me georgio \"\n"
      ],
      "metadata": {
        "id": "iUCHUoURDtBt"
      },
      "execution_count": null,
      "outputs": []
    },
    {
      "cell_type": "code",
      "source": [
        "# initializing list\n",
        "test_list = [\"\", \"GeeksforGeeks\", \"\", \"is\", \"best\", \"\"]\n",
        " \n",
        "# Printing original list\n",
        "print (\"Original list is : \" + str(test_list))\n",
        " \n",
        "# using remove() to\n",
        "# perform removal\n",
        "while(\"\" in test_list) :\n",
        "    test_list.remove(\"\")\n",
        "     \n",
        "# Printing modified list\n",
        "print (\"Modified list is : \" + str(test_list))"
      ],
      "metadata": {
        "colab": {
          "base_uri": "https://localhost:8080/"
        },
        "id": "WJITk708E-B7",
        "outputId": "19505013-2f7b-4fc2-cb32-1570c99c78d6"
      },
      "execution_count": null,
      "outputs": [
        {
          "output_type": "stream",
          "name": "stdout",
          "text": [
            "Original list is : ['', 'GeeksforGeeks', '', 'is', 'best', '']\n",
            "Modified list is : ['GeeksforGeeks', 'is', 'best']\n"
          ]
        }
      ]
    },
    {
      "cell_type": "code",
      "source": [
        "\n",
        "test_list = [\"\", \"thor\", \"\", \"ironman\", \"best\", \"\",\"sunnypaji\"]\n",
        "nlist = []\n",
        "for new in test_list:\n",
        "  if new != \"\":\n",
        "    nlist.append(new)\n",
        "print(nlist)"
      ],
      "metadata": {
        "colab": {
          "base_uri": "https://localhost:8080/"
        },
        "id": "zLDFjemqFMcw",
        "outputId": "4db53baa-aeb2-4185-9d1c-28e7ef0ed0fe"
      },
      "execution_count": null,
      "outputs": [
        {
          "output_type": "stream",
          "name": "stdout",
          "text": [
            "['thor', 'ironman', 'best', 'sunnypaji']\n"
          ]
        }
      ]
    },
    {
      "cell_type": "code",
      "source": [
        "test_list.remove(\"\")\n"
      ],
      "metadata": {
        "id": "pCL0dPtgFzSo"
      },
      "execution_count": null,
      "outputs": []
    },
    {
      "cell_type": "code",
      "source": [
        "test_list"
      ],
      "metadata": {
        "colab": {
          "base_uri": "https://localhost:8080/"
        },
        "id": "_AfTYBV0KGxR",
        "outputId": "e765da3d-24fd-4a25-c537-b9aeecbe1777"
      },
      "execution_count": null,
      "outputs": [
        {
          "output_type": "execute_result",
          "data": {
            "text/plain": [
              "['thor', '', 'ironman', 'best', '', 'sunnypaji']"
            ]
          },
          "metadata": {},
          "execution_count": 3
        }
      ]
    },
    {
      "cell_type": "code",
      "source": [
        "g = (1,2,3,4)\n",
        "id(g)"
      ],
      "metadata": {
        "colab": {
          "base_uri": "https://localhost:8080/"
        },
        "id": "d6e_RGN6NOrS",
        "outputId": "4970fe1c-f677-470c-9e71-3f085ed1c0dd"
      },
      "execution_count": null,
      "outputs": [
        {
          "output_type": "execute_result",
          "data": {
            "text/plain": [
              "140455507445808"
            ]
          },
          "metadata": {},
          "execution_count": 5
        }
      ]
    },
    {
      "cell_type": "code",
      "source": [
        "# Exercise 2: Concatenate two lists index-wise\n",
        "# Exercise 3: Remove empty strings from the list of strings"
      ],
      "metadata": {
        "id": "r2jd3jEMOp7c"
      },
      "execution_count": null,
      "outputs": []
    },
    {
      "cell_type": "code",
      "source": [
        "#remove empty string from the list\n",
        "l4 = ['ka ','ku','ki',' ','ke', ' ']\n",
        "l4.remove(' ')\n",
        "l4\n"
      ],
      "metadata": {
        "colab": {
          "base_uri": "https://localhost:8080/"
        },
        "id": "J1bGn5EkJsN2",
        "outputId": "0ece361c-76e2-40fe-95c9-a85c360ce09a"
      },
      "execution_count": null,
      "outputs": [
        {
          "output_type": "execute_result",
          "data": {
            "text/plain": [
              "['ka ', 'ku', 'ki', 'ke', ' ']"
            ]
          },
          "metadata": {},
          "execution_count": 3
        }
      ]
    },
    {
      "cell_type": "code",
      "source": [],
      "metadata": {
        "id": "LJjUPqbJJsVi"
      },
      "execution_count": null,
      "outputs": []
    },
    {
      "cell_type": "code",
      "source": [
        "########\n",
        "list1 = [\"m\",\"na\",\"i\",\"ke\"]\n",
        "list2 = [\"y\",\"me\",\"s\",\"lly\"]\n",
        "list3 = [i + j for i, j in zip(list1, list2)]\n",
        "print(list3)\n"
      ],
      "metadata": {
        "id": "e8C0fmY1WKb4",
        "colab": {
          "base_uri": "https://localhost:8080/"
        },
        "outputId": "d5b0219e-92d0-4d60-ed57-aa38792eaa14"
      },
      "execution_count": null,
      "outputs": [
        {
          "output_type": "stream",
          "name": "stdout",
          "text": [
            "['my', 'name', 'is', 'kelly']\n"
          ]
        }
      ]
    },
    {
      "cell_type": "code",
      "source": [
        "#######\n",
        "l1 = [\"Shubham\",\"rohit\",True, 12,False]\n",
        "l2 =[\"Radha\",\"Deepak\",6,45, \"Uttam\"]\n",
        "l3 = l1 + l2\n",
        "print(l3)\n"
      ],
      "metadata": {
        "colab": {
          "base_uri": "https://localhost:8080/"
        },
        "id": "OKjchlcDHTSC",
        "outputId": "5f55e244-0296-4204-cd05-7fd2e61e81f0"
      },
      "execution_count": null,
      "outputs": [
        {
          "output_type": "stream",
          "name": "stdout",
          "text": [
            "['Shubham', 'rohit', True, 12, False, 'Radha', 'Deepak', 6, 45, 'Uttam']\n"
          ]
        }
      ]
    },
    {
      "cell_type": "code",
      "source": [
        "#concatination of two list index wise\n",
        "l1 = [10,20,30,40]\n",
        "l2 = [50,60,70]\n",
        "l3 = l1 + l2\n",
        "print(l3)\n",
        "# [60, 80, 100]"
      ],
      "metadata": {
        "colab": {
          "base_uri": "https://localhost:8080/"
        },
        "id": "50D20W7FHTaL",
        "outputId": "8bec46a5-e6d1-4ca6-94bb-f044806f2ca4"
      },
      "execution_count": null,
      "outputs": [
        {
          "output_type": "stream",
          "name": "stdout",
          "text": [
            "[10, 20, 30, 40, 50, 60, 70]\n"
          ]
        }
      ]
    },
    {
      "cell_type": "code",
      "source": [
        "#######\n",
        "list1 =[\"indresh\",\"rohit\",\"amit\",\"sumit\"]\n",
        "list2 =[\"soni\",\"singh\",\"raikwar\",\"kumar\"]\n",
        "for i in range(len(list1)):\n",
        "  list3=list1[i]+\" \"+list2[i]\n",
        "  print(list3)\n"
      ],
      "metadata": {
        "colab": {
          "base_uri": "https://localhost:8080/"
        },
        "id": "CacE9dVKHTcs",
        "outputId": "7cc3d079-7339-4a6a-eacc-aea7becd9bb3"
      },
      "execution_count": null,
      "outputs": [
        {
          "output_type": "stream",
          "name": "stdout",
          "text": [
            "indresh soni\n",
            "rohit singh\n",
            "amit raikwar\n",
            "sumit kumar\n"
          ]
        }
      ]
    },
    {
      "cell_type": "code",
      "source": [
        "# dictionary \n",
        "d = {'Tiffany': ['yes', 'No'], \n",
        "     'Shubham': 'B.Tech'}"
      ],
      "metadata": {
        "id": "KKd2HjvkLgkM"
      },
      "execution_count": null,
      "outputs": []
    },
    {
      "cell_type": "code",
      "source": [
        "# List, Dictionary, tuple"
      ],
      "metadata": {
        "id": "nhVa-kLYLgm7"
      },
      "execution_count": null,
      "outputs": []
    },
    {
      "cell_type": "code",
      "source": [
        "a = (1,2,3,4)\n",
        "a"
      ],
      "metadata": {
        "colab": {
          "base_uri": "https://localhost:8080/"
        },
        "id": "1DxVS9APLgpR",
        "outputId": "19f2cda0-6443-42ce-be28-3a9c7c9374d4"
      },
      "execution_count": null,
      "outputs": [
        {
          "output_type": "execute_result",
          "data": {
            "text/plain": [
              "(1, 2, 3, 4)"
            ]
          },
          "metadata": {},
          "execution_count": 5
        }
      ]
    },
    {
      "cell_type": "code",
      "source": [
        "a[0] = 100"
      ],
      "metadata": {
        "id": "fuPGicu_Lgrr"
      },
      "execution_count": null,
      "outputs": []
    },
    {
      "cell_type": "code",
      "source": [
        "a"
      ],
      "metadata": {
        "colab": {
          "base_uri": "https://localhost:8080/"
        },
        "id": "wm-UmE4bLgu_",
        "outputId": "8e9a5dd3-cddc-4312-d13f-f863cd3d36fd"
      },
      "execution_count": null,
      "outputs": [
        {
          "output_type": "execute_result",
          "data": {
            "text/plain": [
              "(1, 2, 3, 4)"
            ]
          },
          "metadata": {},
          "execution_count": 7
        }
      ]
    },
    {
      "cell_type": "code",
      "source": [
        "# Exercise 7: Add new item to list after a specified item\n",
        "# Extend nested list by adding the sublist"
      ],
      "metadata": {
        "id": "6n5-GR-UHTlT"
      },
      "execution_count": null,
      "outputs": []
    },
    {
      "cell_type": "code",
      "source": [
        "a = [1,2,3,4]\n",
        "a.append(5)"
      ],
      "metadata": {
        "id": "PfuAI-5bHTnU"
      },
      "execution_count": null,
      "outputs": []
    },
    {
      "cell_type": "code",
      "source": [
        "mylist=[1,2]\n",
        "mylist.append(7)\n"
      ],
      "metadata": {
        "id": "AHAjhdSzHTqz"
      },
      "execution_count": null,
      "outputs": []
    },
    {
      "cell_type": "code",
      "source": [
        "#######\n",
        "a.insert(5, 'durgesh') # insert taking two arguments 'index' and 'value' here index is 5 and value is durgesh"
      ],
      "metadata": {
        "id": "7apHYNSYRL8k"
      },
      "execution_count": null,
      "outputs": []
    },
    {
      "cell_type": "code",
      "source": [
        "a"
      ],
      "metadata": {
        "colab": {
          "base_uri": "https://localhost:8080/"
        },
        "id": "S3bTcHaURMBY",
        "outputId": "bd0008b7-045d-4edb-8533-0630f8184be2"
      },
      "execution_count": null,
      "outputs": [
        {
          "output_type": "execute_result",
          "data": {
            "text/plain": [
              "[1, 2, 3, 4, 5, 'durgesh']"
            ]
          },
          "metadata": {},
          "execution_count": 17
        }
      ]
    },
    {
      "cell_type": "code",
      "source": [
        "# Arthmatic Operators ( +, -, *, /, %, **, //)\n",
        "5 // 2"
      ],
      "metadata": {
        "colab": {
          "base_uri": "https://localhost:8080/"
        },
        "id": "bDzBulK4HTtX",
        "outputId": "0d90d40a-347e-45c7-e11a-acca0cd89c97"
      },
      "execution_count": null,
      "outputs": [
        {
          "output_type": "execute_result",
          "data": {
            "text/plain": [
              "2"
            ]
          },
          "metadata": {},
          "execution_count": 18
        }
      ]
    },
    {
      "cell_type": "code",
      "source": [
        "# assignment Operators ( =, +=, -=, *=, %=, //=, **=, &=, ^=, >>=, <<=)"
      ],
      "metadata": {
        "id": "auj1LcoZSJgj"
      },
      "execution_count": null,
      "outputs": []
    },
    {
      "cell_type": "code",
      "source": [
        "x = 5\n",
        "x = x + 5"
      ],
      "metadata": {
        "id": "gQANuVJ6SJjK"
      },
      "execution_count": null,
      "outputs": []
    },
    {
      "cell_type": "code",
      "source": [
        "x += 50"
      ],
      "metadata": {
        "id": "ruMUZfBoSJnS"
      },
      "execution_count": null,
      "outputs": []
    },
    {
      "cell_type": "code",
      "source": [
        "x"
      ],
      "metadata": {
        "colab": {
          "base_uri": "https://localhost:8080/"
        },
        "id": "BDDmqUCkSJqD",
        "outputId": "2d94aa30-1e7a-4e92-eb9a-4f3f04eedd4c"
      },
      "execution_count": null,
      "outputs": [
        {
          "output_type": "execute_result",
          "data": {
            "text/plain": [
              "60"
            ]
          },
          "metadata": {},
          "execution_count": 53
        }
      ]
    },
    {
      "cell_type": "code",
      "source": [
        "# Write a Python program to find unique triplets whose three elements gives the sum of zero from an array of n integers."
      ],
      "metadata": {
        "id": "28ol8exzSJr-"
      },
      "execution_count": null,
      "outputs": []
    },
    {
      "cell_type": "code",
      "source": [
        "# Comparision operator ( ==, !=, > , <, >=, <=)"
      ],
      "metadata": {
        "id": "6ED9ia-3SJu3"
      },
      "execution_count": null,
      "outputs": []
    },
    {
      "cell_type": "code",
      "source": [
        "10<5"
      ],
      "metadata": {
        "colab": {
          "base_uri": "https://localhost:8080/"
        },
        "id": "06wDamL1SJyz",
        "outputId": "57c7f535-31c7-4f1e-d310-90218926463f"
      },
      "execution_count": null,
      "outputs": [
        {
          "output_type": "execute_result",
          "data": {
            "text/plain": [
              "False"
            ]
          },
          "metadata": {},
          "execution_count": 55
        }
      ]
    },
    {
      "cell_type": "code",
      "source": [
        "# Logical Operators\n",
        "# and (&), or (|), not (!, ~)"
      ],
      "metadata": {
        "id": "kL9Dc6ACSJ3t"
      },
      "execution_count": null,
      "outputs": []
    },
    {
      "cell_type": "code",
      "source": [
        "# Membership opertaors (identity)\n",
        "# in, not in\n",
        "\n",
        "4 in [1,2,3] "
      ],
      "metadata": {
        "colab": {
          "base_uri": "https://localhost:8080/"
        },
        "id": "jZT3Rp1rSJ6t",
        "outputId": "8ed5a81a-10c1-4df9-dd5a-056d81a6dcab"
      },
      "execution_count": null,
      "outputs": [
        {
          "output_type": "execute_result",
          "data": {
            "text/plain": [
              "False"
            ]
          },
          "metadata": {},
          "execution_count": 57
        }
      ]
    },
    {
      "cell_type": "code",
      "source": [
        "# Bitwise operators\n",
        "# &, |, ^, ~ , <<, >>"
      ],
      "metadata": {
        "id": "kDNVQN7jWKeZ"
      },
      "execution_count": null,
      "outputs": []
    },
    {
      "cell_type": "code",
      "source": [
        "(1 + 5) *3"
      ],
      "metadata": {
        "colab": {
          "base_uri": "https://localhost:8080/"
        },
        "id": "-HOYEdSgYcCM",
        "outputId": "00366464-c5c2-47dd-e1e2-3fe97d642a40"
      },
      "execution_count": null,
      "outputs": [
        {
          "output_type": "execute_result",
          "data": {
            "text/plain": [
              "18"
            ]
          },
          "metadata": {},
          "execution_count": 61
        }
      ]
    },
    {
      "cell_type": "code",
      "source": [
        "x =(a+b)*c/d  \n",
        "print(\"value : \",x)\n"
      ],
      "metadata": {
        "id": "wRBh6iTmYcFA"
      },
      "execution_count": null,
      "outputs": []
    },
    {
      "cell_type": "code",
      "source": [
        "t = tuple('Prajwal') # immutable( add, update, remove)"
      ],
      "metadata": {
        "id": "tzgp3s35YcIY"
      },
      "execution_count": null,
      "outputs": []
    },
    {
      "cell_type": "code",
      "source": [
        "t"
      ],
      "metadata": {
        "colab": {
          "base_uri": "https://localhost:8080/"
        },
        "id": "Kx2BPghEYcL-",
        "outputId": "cfb6e23a-fad6-4574-c2e9-a7635bf61d48"
      },
      "execution_count": null,
      "outputs": [
        {
          "output_type": "execute_result",
          "data": {
            "text/plain": [
              "('P', 'r', 'a', 'j', 'w', 'a', 'l')"
            ]
          },
          "metadata": {},
          "execution_count": 63
        }
      ]
    },
    {
      "cell_type": "code",
      "source": [
        "t.remove('j')"
      ],
      "metadata": {
        "colab": {
          "base_uri": "https://localhost:8080/",
          "height": 171
        },
        "id": "z39rbk-_YcNn",
        "outputId": "bd14e541-e28c-4ca3-c289-6c9cf1baff20"
      },
      "execution_count": null,
      "outputs": [
        {
          "output_type": "error",
          "ename": "AttributeError",
          "evalue": "ignored",
          "traceback": [
            "\u001b[0;31m---------------------------------------------------------------------------\u001b[0m",
            "\u001b[0;31mAttributeError\u001b[0m                            Traceback (most recent call last)",
            "\u001b[0;32m<ipython-input-67-84af49b96222>\u001b[0m in \u001b[0;36m<module>\u001b[0;34m\u001b[0m\n\u001b[0;32m----> 1\u001b[0;31m \u001b[0mt\u001b[0m\u001b[0;34m.\u001b[0m\u001b[0mremove\u001b[0m\u001b[0;34m(\u001b[0m\u001b[0;34m'j'\u001b[0m\u001b[0;34m)\u001b[0m\u001b[0;34m\u001b[0m\u001b[0;34m\u001b[0m\u001b[0m\n\u001b[0m",
            "\u001b[0;31mAttributeError\u001b[0m: 'tuple' object has no attribute 'remove'"
          ]
        }
      ]
    },
    {
      "cell_type": "code",
      "source": [
        "# conditions statement\n",
        "# if something:\n",
        "#   do something\n",
        "# else:\n",
        "#   do something"
      ],
      "metadata": {
        "id": "DAaOIwT1YcP9"
      },
      "execution_count": null,
      "outputs": []
    },
    {
      "cell_type": "code",
      "source": [
        "x = 3\n",
        "if x == 2:\n",
        "  print('Uttam')\n",
        "else:\n",
        "  print('Akshada')"
      ],
      "metadata": {
        "colab": {
          "base_uri": "https://localhost:8080/"
        },
        "id": "9vaKy_XGYcVt",
        "outputId": "ebe9333d-694e-4d82-c7bb-2c88267a0d38"
      },
      "execution_count": null,
      "outputs": [
        {
          "output_type": "stream",
          "name": "stdout",
          "text": [
            "Akshada\n"
          ]
        }
      ]
    },
    {
      "cell_type": "code",
      "source": [],
      "metadata": {
        "id": "lSxcSLt-YcYd"
      },
      "execution_count": null,
      "outputs": []
    },
    {
      "cell_type": "markdown",
      "source": [
        "07-09-2022"
      ],
      "metadata": {
        "id": "Sw2N-usyStfc"
      }
    },
    {
      "cell_type": "code",
      "source": [
        "# dictionary \n",
        "# dict, {}\n",
        "dic = {'vivek': ['Prajwal', 23, True], \n",
        "       'Pretti': 'Parshuram'}"
      ],
      "metadata": {
        "id": "b2f4G42JSrs_"
      },
      "execution_count": null,
      "outputs": []
    },
    {
      "cell_type": "code",
      "source": [
        "dic.keys()"
      ],
      "metadata": {
        "colab": {
          "base_uri": "https://localhost:8080/"
        },
        "id": "TzC3xDsiSrwK",
        "outputId": "1352afcc-6b0f-45b3-a2f1-9384fe08c2d9"
      },
      "execution_count": null,
      "outputs": [
        {
          "output_type": "execute_result",
          "data": {
            "text/plain": [
              "dict_keys(['vivek', 'Pretti'])"
            ]
          },
          "metadata": {},
          "execution_count": 25
        }
      ]
    },
    {
      "cell_type": "code",
      "source": [
        "dic.values()"
      ],
      "metadata": {
        "colab": {
          "base_uri": "https://localhost:8080/"
        },
        "id": "vV6CkoPQSrz7",
        "outputId": "8032cf3c-51a2-4792-eb84-edbd9b951097"
      },
      "execution_count": null,
      "outputs": [
        {
          "output_type": "execute_result",
          "data": {
            "text/plain": [
              "dict_values([['Prajwal', 23, True], 'Parshuram'])"
            ]
          },
          "metadata": {},
          "execution_count": 26
        }
      ]
    },
    {
      "cell_type": "code",
      "source": [
        "dic.items()"
      ],
      "metadata": {
        "colab": {
          "base_uri": "https://localhost:8080/"
        },
        "id": "OiPfsBikSr48",
        "outputId": "f6ff6794-fedf-4d3a-dcef-a201491e5ac1"
      },
      "execution_count": null,
      "outputs": [
        {
          "output_type": "execute_result",
          "data": {
            "text/plain": [
              "dict_items([('vivek', ['Prajwal', 23, True]), ('Pretti', 'Parshuram')])"
            ]
          },
          "metadata": {},
          "execution_count": 27
        }
      ]
    },
    {
      "cell_type": "code",
      "source": [
        "dic[1] # index in dict not follwed"
      ],
      "metadata": {
        "colab": {
          "base_uri": "https://localhost:8080/",
          "height": 171
        },
        "id": "nwy5vOqjSr7K",
        "outputId": "e48846de-b47b-4813-d07e-7af0d7665475"
      },
      "execution_count": null,
      "outputs": [
        {
          "output_type": "error",
          "ename": "KeyError",
          "evalue": "ignored",
          "traceback": [
            "\u001b[0;31m---------------------------------------------------------------------------\u001b[0m",
            "\u001b[0;31mKeyError\u001b[0m                                  Traceback (most recent call last)",
            "\u001b[0;32m<ipython-input-28-44fd7baa145e>\u001b[0m in \u001b[0;36m<module>\u001b[0;34m\u001b[0m\n\u001b[0;32m----> 1\u001b[0;31m \u001b[0mdic\u001b[0m\u001b[0;34m[\u001b[0m\u001b[0;36m1\u001b[0m\u001b[0;34m]\u001b[0m\u001b[0;34m\u001b[0m\u001b[0;34m\u001b[0m\u001b[0m\n\u001b[0m",
            "\u001b[0;31mKeyError\u001b[0m: 1"
          ]
        }
      ]
    },
    {
      "cell_type": "code",
      "source": [
        "# List, Tuple, dictionary, sets"
      ],
      "metadata": {
        "id": "p96DBcjeSr_G"
      },
      "execution_count": null,
      "outputs": []
    },
    {
      "cell_type": "code",
      "source": [
        "# set {}\n",
        "s = {'Uttam', 'SHubham', 'Ijaz', 'uttam','zr'}\n",
        "type(s)\n",
        "print(s)"
      ],
      "metadata": {
        "colab": {
          "base_uri": "https://localhost:8080/"
        },
        "id": "Tfc4r3oVSsCa",
        "outputId": "633bd050-7859-4467-f2c3-01bdf321c7ed"
      },
      "execution_count": null,
      "outputs": [
        {
          "output_type": "stream",
          "name": "stdout",
          "text": [
            "{'Uttam', 'Ijaz', 'uttam', 'zr', 'SHubham'}\n"
          ]
        }
      ]
    },
    {
      "cell_type": "code",
      "source": [
        "# list, []\n",
        "# tuple,()\n",
        "# set, {}"
      ],
      "metadata": {
        "id": "Ei5NnOJ3SsFf"
      },
      "execution_count": null,
      "outputs": []
    },
    {
      "cell_type": "code",
      "source": [
        "# Conditional Statement\n",
        "# Indresh < 35 (pass) (fail)\n",
        "indresh = int(input('Enter Your Marks -->'))\n",
        "if indresh < 35:\n",
        "  print('Fail')\n",
        "else:\n",
        "  print(\"Pass\")\n"
      ],
      "metadata": {
        "colab": {
          "base_uri": "https://localhost:8080/"
        },
        "id": "smkdoxjZWUjP",
        "outputId": "ddd7978d-30f0-4469-e049-1fd4a7e0f9ab"
      },
      "execution_count": null,
      "outputs": [
        {
          "output_type": "stream",
          "name": "stdout",
          "text": [
            "Enter Your Marks -->80\n",
            "Pass\n"
          ]
        }
      ]
    },
    {
      "cell_type": "code",
      "source": [
        "indresh = input('Enter Your Marks -->')\n",
        "\n",
        "if int(indresh) < 35:\n",
        "  print('Fail')\n",
        "elif 35 <= int(indresh) < 50:\n",
        "  print('Average')\n",
        "else:\n",
        "  print(\"Pass\")"
      ],
      "metadata": {
        "colab": {
          "base_uri": "https://localhost:8080/"
        },
        "id": "jOegalCHWUl-",
        "outputId": "2bf17614-e291-4471-c662-8e4e567c6a65"
      },
      "execution_count": null,
      "outputs": [
        {
          "output_type": "stream",
          "name": "stdout",
          "text": [
            "Enter Your Marks -->56\n",
            "Pass\n"
          ]
        }
      ]
    },
    {
      "cell_type": "code",
      "source": [
        "# write a program to check wheather a number is divisible by 7 or not?\n",
        "n = int(input(\"Enter the number\"))\n",
        "\n",
        "if n%7 == 0:\n",
        "  print('Yes')\n",
        "else:\n",
        "  print('No')"
      ],
      "metadata": {
        "colab": {
          "base_uri": "https://localhost:8080/"
        },
        "id": "XAXb9E2cWUon",
        "outputId": "b8df834b-c02c-4464-e0b3-5b174c4ab949"
      },
      "execution_count": null,
      "outputs": [
        {
          "output_type": "stream",
          "name": "stdout",
          "text": [
            "Enter the number67\n",
            "No\n"
          ]
        }
      ]
    },
    {
      "cell_type": "code",
      "source": [
        "14%7"
      ],
      "metadata": {
        "colab": {
          "base_uri": "https://localhost:8080/"
        },
        "id": "ME-GSTXAWUrw",
        "outputId": "ee54a20b-7224-4c3a-d4a0-c81ce04fa679"
      },
      "execution_count": null,
      "outputs": [
        {
          "output_type": "execute_result",
          "data": {
            "text/plain": [
              "0"
            ]
          },
          "metadata": {},
          "execution_count": 30
        }
      ]
    },
    {
      "cell_type": "code",
      "source": [
        "l = ['Uttam', 'Raj', 'Aniket', 'Aadi']\n"
      ],
      "metadata": {
        "id": "aMsD4cQ6WUuL"
      },
      "execution_count": null,
      "outputs": []
    },
    {
      "cell_type": "code",
      "source": [
        "for x in l:\n",
        "  \n",
        "  print(x)"
      ],
      "metadata": {
        "colab": {
          "base_uri": "https://localhost:8080/"
        },
        "id": "2ooyxyZTWUxX",
        "outputId": "563350af-f946-4513-f700-35504bd32b35"
      },
      "execution_count": null,
      "outputs": [
        {
          "output_type": "stream",
          "name": "stdout",
          "text": [
            "Uttam\n",
            "Raj\n",
            "Aniket\n",
            "Aadi\n"
          ]
        }
      ]
    },
    {
      "cell_type": "code",
      "source": [
        "n = int(input(\"Enter the number\"))\n",
        "if n%7 ==0:\n",
        "  print('yes')\n",
        "else:\n",
        "  print('no')\n"
      ],
      "metadata": {
        "colab": {
          "base_uri": "https://localhost:8080/"
        },
        "id": "lmmcNXl-WU_W",
        "outputId": "07effe2f-cf59-460c-ba27-737c1cb4cc0a"
      },
      "execution_count": null,
      "outputs": [
        {
          "output_type": "stream",
          "name": "stdout",
          "text": [
            "Enter the number15\n",
            "no\n"
          ]
        }
      ]
    },
    {
      "cell_type": "code",
      "source": [
        "p1=(0,1,2,3,4,5,6,7,8,9,10)\n",
        "for i in p1:\n",
        "  print(i)"
      ],
      "metadata": {
        "colab": {
          "base_uri": "https://localhost:8080/"
        },
        "id": "LXzcqhhFWVaA",
        "outputId": "1bfbc1f7-d523-4043-831b-84901863af13"
      },
      "execution_count": null,
      "outputs": [
        {
          "output_type": "stream",
          "name": "stdout",
          "text": [
            "0\n",
            "1\n",
            "2\n",
            "3\n",
            "4\n",
            "5\n",
            "6\n",
            "7\n",
            "8\n",
            "9\n",
            "10\n"
          ]
        }
      ]
    },
    {
      "cell_type": "code",
      "source": [
        "len(A)"
      ],
      "metadata": {
        "colab": {
          "base_uri": "https://localhost:8080/"
        },
        "id": "1jDWXavCWVff",
        "outputId": "0f601872-7f9e-4389-a55b-e16b8a2bb3cd"
      },
      "execution_count": null,
      "outputs": [
        {
          "output_type": "execute_result",
          "data": {
            "text/plain": [
              "10"
            ]
          },
          "metadata": {},
          "execution_count": 47
        }
      ]
    },
    {
      "cell_type": "code",
      "source": [
        "d = {'AKshada': ['B.Tech', 'M.TEch', 'M.Sc'], \n",
        "     'Delhi': 'Banglore'}"
      ],
      "metadata": {
        "id": "Nkq4FNiwWVjo"
      },
      "execution_count": null,
      "outputs": []
    },
    {
      "cell_type": "code",
      "source": [
        "####### caling dict\n",
        "for y in d.items():\n",
        "  print(y)"
      ],
      "metadata": {
        "colab": {
          "base_uri": "https://localhost:8080/"
        },
        "id": "mhrVxqaJWVr3",
        "outputId": "abb1df62-4e81-458e-f2a5-4eba70eb335d"
      },
      "execution_count": null,
      "outputs": [
        {
          "output_type": "stream",
          "name": "stdout",
          "text": [
            "('AKshada', ['B.Tech', 'M.TEch', 'M.Sc'])\n",
            "('Delhi', 'Banglore')\n"
          ]
        }
      ]
    },
    {
      "cell_type": "code",
      "source": [
        "# Print First 10 natural numbers using for loop\n",
        "# Calculate the sum of all numbers from 1 to a 10\n",
        "# Write a program to print multiplication table of a 5\n",
        "# Count the total number of digits in a number (1234567) ['123', '09345879', '345098734507395']\n",
        "# Print the pattern of U only"
      ],
      "metadata": {
        "id": "pz10cInWWVuw"
      },
      "execution_count": null,
      "outputs": []
    },
    {
      "cell_type": "code",
      "source": [
        "dlist = [1,2,3,4,5,6,7,8,9,10]"
      ],
      "metadata": {
        "id": "BY4j-aZtWVxy"
      },
      "execution_count": null,
      "outputs": []
    },
    {
      "cell_type": "code",
      "source": [
        "x = 0\n",
        "for i in dlist:\n",
        "  x += i\n",
        "  print(x)\n"
      ],
      "metadata": {
        "id": "JqDkgj9PWV1G",
        "colab": {
          "base_uri": "https://localhost:8080/"
        },
        "outputId": "8332218b-ba52-4408-fc8d-924970b6bace"
      },
      "execution_count": null,
      "outputs": [
        {
          "output_type": "stream",
          "name": "stdout",
          "text": [
            "1\n",
            "3\n",
            "6\n",
            "10\n",
            "15\n",
            "21\n",
            "28\n",
            "36\n",
            "45\n",
            "55\n"
          ]
        }
      ]
    },
    {
      "cell_type": "code",
      "source": [
        "# Write a program to print multiplication table of a 5\n",
        "x = 0\n",
        "for i in dlist:\n",
        "  x = i*5\n",
        "  print(x)"
      ],
      "metadata": {
        "id": "aGOAC9RsNGqu",
        "colab": {
          "base_uri": "https://localhost:8080/"
        },
        "outputId": "aab0c6f0-2ff2-44e9-c5fb-157148633818"
      },
      "execution_count": null,
      "outputs": [
        {
          "output_type": "stream",
          "name": "stdout",
          "text": [
            "5\n",
            "10\n",
            "15\n",
            "20\n",
            "25\n",
            "30\n",
            "35\n",
            "40\n",
            "45\n",
            "50\n"
          ]
        }
      ]
    },
    {
      "cell_type": "code",
      "source": [
        "x = 0\n",
        "for i in dlist:\n",
        "  x = i*5\n",
        "  print(x)"
      ],
      "metadata": {
        "id": "P2o_O1iDNGts",
        "colab": {
          "base_uri": "https://localhost:8080/"
        },
        "outputId": "bc8422c3-f8d8-4679-f725-5383f6419308"
      },
      "execution_count": null,
      "outputs": [
        {
          "output_type": "stream",
          "name": "stdout",
          "text": [
            "5\n",
            "10\n",
            "15\n",
            "20\n",
            "25\n",
            "30\n",
            "35\n",
            "40\n",
            "45\n",
            "50\n"
          ]
        }
      ]
    },
    {
      "cell_type": "code",
      "source": [
        "# Count the total number of digits in a number (1234567) ['123', '09345879', '345098734507395']\n",
        "d1list = ['123', '09345879', '345098734507395']\n",
        "y = []\n",
        "for i in d1list:\n",
        "  y = len(i)\n",
        "  print(y)"
      ],
      "metadata": {
        "id": "Lp3Vph4KNGxj",
        "colab": {
          "base_uri": "https://localhost:8080/"
        },
        "outputId": "477e907c-a223-4331-fa27-b1dd22923694"
      },
      "execution_count": null,
      "outputs": [
        {
          "output_type": "stream",
          "name": "stdout",
          "text": [
            "3\n",
            "8\n",
            "15\n"
          ]
        }
      ]
    },
    {
      "cell_type": "code",
      "source": [
        "# Print the pattern of U only\n"
      ],
      "metadata": {
        "id": "srDgaB9vyvLI"
      },
      "execution_count": null,
      "outputs": []
    },
    {
      "cell_type": "code",
      "source": [],
      "metadata": {
        "id": "YEfHBYxHzf8U"
      },
      "execution_count": null,
      "outputs": []
    },
    {
      "cell_type": "code",
      "source": [
        "n = int(input(\"Enter the number of rows\"))  \n",
        "for i in range(0, n):  \n",
        "  t = i/2 \n",
        "  for j in "
      ],
      "metadata": {
        "id": "Q9OjQezm0w0U"
      },
      "execution_count": null,
      "outputs": []
    },
    {
      "cell_type": "code",
      "source": [],
      "metadata": {
        "id": "ExCjgPNDCWmp"
      },
      "execution_count": null,
      "outputs": []
    },
    {
      "cell_type": "code",
      "source": [],
      "metadata": {
        "id": "LyKtkxtPyvZI"
      },
      "execution_count": null,
      "outputs": []
    },
    {
      "cell_type": "code",
      "source": [],
      "metadata": {
        "id": "IwC-Lv_wKRRf"
      },
      "execution_count": null,
      "outputs": []
    },
    {
      "cell_type": "code",
      "source": [],
      "metadata": {
        "id": "dhtqw8AAvFJE"
      },
      "execution_count": null,
      "outputs": []
    },
    {
      "cell_type": "code",
      "source": [],
      "metadata": {
        "id": "ruy1yQL66BcD"
      },
      "execution_count": null,
      "outputs": []
    },
    {
      "cell_type": "markdown",
      "source": [
        "# 7 september"
      ],
      "metadata": {
        "id": "9voNe4KsSnRp"
      }
    },
    {
      "cell_type": "code",
      "source": [
        "dinput = input( )\n",
        "if int(dinput)%7 == 0:\n",
        "  print( 'divisible')\n",
        "else:\n",
        "  print('not divisible' )\n"
      ],
      "metadata": {
        "colab": {
          "base_uri": "https://localhost:8080/"
        },
        "id": "2Ma2_u2JSl1y",
        "outputId": "9a4e88a1-f8eb-4eec-ca15-e61c1ac1dc8f"
      },
      "execution_count": null,
      "outputs": [
        {
          "output_type": "stream",
          "name": "stdout",
          "text": [
            "7\n",
            "divisible\n"
          ]
        }
      ]
    },
    {
      "cell_type": "code",
      "source": [
        "d1=(0,1,2,3,4,5,6,7,8,9,10)\n",
        "for i in d1:\n",
        "  print(i)\n"
      ],
      "metadata": {
        "colab": {
          "base_uri": "https://localhost:8080/"
        },
        "id": "iRo_r-3Ya7jV",
        "outputId": "3de29bd2-94a3-4003-f6de-b33f23fff56a"
      },
      "execution_count": null,
      "outputs": [
        {
          "output_type": "stream",
          "name": "stdout",
          "text": [
            "0\n",
            "1\n",
            "2\n",
            "3\n",
            "4\n",
            "5\n",
            "6\n",
            "7\n",
            "8\n",
            "9\n",
            "10\n"
          ]
        }
      ]
    },
    {
      "cell_type": "markdown",
      "source": [
        "# 10 September"
      ],
      "metadata": {
        "id": "mkSOv8chAEfE"
      }
    },
    {
      "cell_type": "code",
      "source": [],
      "metadata": {
        "id": "Gv7lm8ZRT0Fk"
      },
      "execution_count": null,
      "outputs": []
    },
    {
      "cell_type": "code",
      "source": [],
      "metadata": {
        "id": "CM-mnGZ_AC1V"
      },
      "execution_count": null,
      "outputs": []
    },
    {
      "cell_type": "code",
      "source": [
        "dlist = [2,5,4,6,3,6,7]\n",
        "newlist = 0\n",
        "for i in dlist:\n",
        "  newlist += i\n",
        "  print(newlist)"
      ],
      "metadata": {
        "colab": {
          "base_uri": "https://localhost:8080/"
        },
        "id": "EsmXYaH4ADDW",
        "outputId": "c9627901-954d-4468-bf09-6827f2ccd784"
      },
      "execution_count": null,
      "outputs": [
        {
          "output_type": "stream",
          "name": "stdout",
          "text": [
            "2\n",
            "7\n",
            "11\n",
            "17\n",
            "20\n",
            "26\n",
            "33\n"
          ]
        }
      ]
    },
    {
      "cell_type": "code",
      "source": [
        "total = 0\n",
        "list1 = [12, 5, 17, 15, 23]\n",
        "for ele in range(0, len(list1)):\n",
        "    total = total + list1[ele]\n",
        "print(\"Sum of all elements in given list: \", total)"
      ],
      "metadata": {
        "colab": {
          "base_uri": "https://localhost:8080/"
        },
        "id": "TIP0F3kdADHU",
        "outputId": "e5ddb7f4-0ce5-4f9d-f3d8-c83f4f95545c"
      },
      "execution_count": null,
      "outputs": [
        {
          "output_type": "stream",
          "name": "stdout",
          "text": [
            "Sum of all elements in given list:  72\n"
          ]
        }
      ]
    },
    {
      "cell_type": "code",
      "source": [
        "#program to find sum of all the number from list\n",
        "n = [1,3,5,6,7]\n",
        "len(n)\n",
        "sum = 0\n",
        "for i in range(1,len(n)) :\n",
        "\n",
        "  sum = sum + n[i]\n",
        "\n",
        "  print(sum )"
      ],
      "metadata": {
        "colab": {
          "base_uri": "https://localhost:8080/"
        },
        "id": "uNK5mi6TCHwt",
        "outputId": "29dc8dea-f539-4dd3-91a8-455218d9eff1"
      },
      "execution_count": null,
      "outputs": [
        {
          "output_type": "stream",
          "name": "stdout",
          "text": [
            "3\n",
            "8\n",
            "14\n",
            "21\n"
          ]
        }
      ]
    },
    {
      "cell_type": "code",
      "source": [
        "g = ['uttam','indresh','neha','durgesh']\n",
        "\n",
        "for i in range(0,len(g)):\n",
        "  print(g[i])"
      ],
      "metadata": {
        "colab": {
          "base_uri": "https://localhost:8080/"
        },
        "id": "LvihnD8oDmit",
        "outputId": "50320139-9508-458d-ef8c-2a37d8096325"
      },
      "execution_count": null,
      "outputs": [
        {
          "output_type": "stream",
          "name": "stdout",
          "text": [
            "uttam\n",
            "indresh\n",
            "neha\n",
            "durgesh\n"
          ]
        }
      ]
    },
    {
      "cell_type": "code",
      "source": [],
      "metadata": {
        "id": "U9Cpe66YJwzS"
      },
      "execution_count": null,
      "outputs": []
    },
    {
      "cell_type": "code",
      "source": [
        "list(range(1,20,2))"
      ],
      "metadata": {
        "colab": {
          "base_uri": "https://localhost:8080/"
        },
        "id": "kicZDscO4MeV",
        "outputId": "5775d91d-ae48-417a-edaf-48ebe8ff9385"
      },
      "execution_count": null,
      "outputs": [
        {
          "output_type": "execute_result",
          "data": {
            "text/plain": [
              "[1, 3, 5, 7, 9, 11, 13, 15, 17, 19]"
            ]
          },
          "metadata": {},
          "execution_count": 39
        }
      ]
    },
    {
      "cell_type": "code",
      "source": [],
      "metadata": {
        "id": "bU1AcX4FKnrp"
      },
      "execution_count": null,
      "outputs": []
    },
    {
      "cell_type": "code",
      "source": [
        "# Quiz discussing\n",
        "# Assignment discussion\n",
        "# Pattern discussion\n",
        "# Learn New concept"
      ],
      "metadata": {
        "id": "mbhmsD7Dv-nB"
      },
      "execution_count": null,
      "outputs": []
    },
    {
      "cell_type": "code",
      "source": [
        "# data structures ( contains)\n",
        "# list []\n",
        "# dict {}, key, values\n",
        "# tuple ()\n",
        "# set {}"
      ],
      "metadata": {
        "id": "eGwMFswVKoUC"
      },
      "execution_count": null,
      "outputs": []
    },
    {
      "cell_type": "code",
      "source": [
        "a = (1,2,3,4,5)\n",
        "print(a)"
      ],
      "metadata": {
        "id": "V-H406OKSsPu",
        "colab": {
          "base_uri": "https://localhost:8080/"
        },
        "outputId": "6c93110c-a487-4f52-9cd7-b9d71f351eb6"
      },
      "execution_count": null,
      "outputs": [
        {
          "output_type": "stream",
          "name": "stdout",
          "text": [
            "(1, 2, 3, 4, 5)\n"
          ]
        }
      ]
    },
    {
      "cell_type": "code",
      "source": [
        "a[0] = 10"
      ],
      "metadata": {
        "id": "4MvKkFyUSsSA",
        "colab": {
          "base_uri": "https://localhost:8080/",
          "height": 171
        },
        "outputId": "2c427e4a-1288-4114-e689-e0c25a4a1368"
      },
      "execution_count": null,
      "outputs": [
        {
          "output_type": "error",
          "ename": "TypeError",
          "evalue": "ignored",
          "traceback": [
            "\u001b[0;31m---------------------------------------------------------------------------\u001b[0m",
            "\u001b[0;31mTypeError\u001b[0m                                 Traceback (most recent call last)",
            "\u001b[0;32m<ipython-input-8-88fe5a9b0ebf>\u001b[0m in \u001b[0;36m<module>\u001b[0;34m\u001b[0m\n\u001b[0;32m----> 1\u001b[0;31m \u001b[0ma\u001b[0m\u001b[0;34m[\u001b[0m\u001b[0;36m0\u001b[0m\u001b[0;34m]\u001b[0m \u001b[0;34m=\u001b[0m \u001b[0;36m10\u001b[0m\u001b[0;34m\u001b[0m\u001b[0;34m\u001b[0m\u001b[0m\n\u001b[0m",
            "\u001b[0;31mTypeError\u001b[0m: 'tuple' object does not support item assignment"
          ]
        }
      ]
    },
    {
      "cell_type": "code",
      "source": [
        "d = {'Archana': [1,2,3,4],\n",
        "     'Archana': 'Akshada'}"
      ],
      "metadata": {
        "id": "TOy7ZtnnSsUs"
      },
      "execution_count": null,
      "outputs": []
    },
    {
      "cell_type": "code",
      "source": [
        "#######\n",
        "###### we can not take list as key bcz it is mutuable we can take string,tuple, int,float and we can can not take set as key \n",
        "###### so in conclusion we can not take list and set as key but for values wae can take everything \n",
        "d = {'Archana': [1,2,3,4],\n",
        "     [10]: 'Akshada'}\n",
        "     "
      ],
      "metadata": {
        "colab": {
          "base_uri": "https://localhost:8080/"
        },
        "id": "vlRx2asWK_mo",
        "outputId": "b13378d0-c914-447a-bab5-d0d257128ffd"
      },
      "execution_count": null,
      "outputs": [
        {
          "output_type": "execute_result",
          "data": {
            "text/plain": [
              "{'Archana': {1, 2, 3, 4}, 10: 'Akshada'}"
            ]
          },
          "metadata": {},
          "execution_count": 39
        }
      ]
    },
    {
      "cell_type": "code",
      "source": [
        "####### we can tuple as key \n",
        "d = {'uttam': [1,2,3,4],\n",
        "     (10): 'Akshada'} # (10) is a tuple and as key "
      ],
      "metadata": {
        "id": "JZZF7f0nYcbX"
      },
      "execution_count": null,
      "outputs": []
    },
    {
      "cell_type": "code",
      "source": [
        "a = (1,2,3, [10,20,30])"
      ],
      "metadata": {
        "id": "FgdngxMzSsXL"
      },
      "execution_count": null,
      "outputs": []
    },
    {
      "cell_type": "code",
      "source": [
        "####### see list in tuple can be edited\n",
        "a[3].append(40) #\n"
      ],
      "metadata": {
        "id": "rrYT4t6FSsbT"
      },
      "execution_count": null,
      "outputs": []
    },
    {
      "cell_type": "code",
      "source": [
        "####### understand with other example \n",
        "\n",
        "low = [1, 2, 3]\n",
        "high = [4, 5]\n",
        "\n",
        "rankings = (low, high)# ranking is tuple which contains two lists"
      ],
      "metadata": {
        "id": "4gEHrmL7Mo2E"
      },
      "execution_count": null,
      "outputs": []
    },
    {
      "cell_type": "code",
      "source": [
        "high.append(6)\n",
        "print(rankings) # it will be ([1, 2, 3], [4, 5, 6])"
      ],
      "metadata": {
        "id": "HIIx5TRvMsn6"
      },
      "execution_count": null,
      "outputs": []
    },
    {
      "cell_type": "code",
      "source": [
        "a = [1,2,3]"
      ],
      "metadata": {
        "id": "1zKnTrHBYcdg"
      },
      "execution_count": null,
      "outputs": []
    },
    {
      "cell_type": "code",
      "source": [
        "d[0] # as we indexing is not for set and dict"
      ],
      "metadata": {
        "id": "Vv_FcRazYcez",
        "colab": {
          "base_uri": "https://localhost:8080/",
          "height": 171
        },
        "outputId": "1d8841b5-0130-4015-efa3-0137720d1092"
      },
      "execution_count": null,
      "outputs": [
        {
          "output_type": "error",
          "ename": "KeyError",
          "evalue": "ignored",
          "traceback": [
            "\u001b[0;31m---------------------------------------------------------------------------\u001b[0m",
            "\u001b[0;31mKeyError\u001b[0m                                  Traceback (most recent call last)",
            "\u001b[0;32m<ipython-input-24-123a9cc6df61>\u001b[0m in \u001b[0;36m<module>\u001b[0;34m\u001b[0m\n\u001b[0;32m----> 1\u001b[0;31m \u001b[0md\u001b[0m\u001b[0;34m[\u001b[0m\u001b[0;36m0\u001b[0m\u001b[0;34m]\u001b[0m\u001b[0;34m\u001b[0m\u001b[0;34m\u001b[0m\u001b[0m\n\u001b[0m",
            "\u001b[0;31mKeyError\u001b[0m: 0"
          ]
        }
      ]
    },
    {
      "cell_type": "code",
      "source": [
        "b = 10\n",
        "id(b)"
      ],
      "metadata": {
        "id": "fcwMnp01Ycg5",
        "colab": {
          "base_uri": "https://localhost:8080/"
        },
        "outputId": "a5f10b37-0636-4341-8cd5-961da9e18ceb"
      },
      "execution_count": null,
      "outputs": [
        {
          "output_type": "execute_result",
          "data": {
            "text/plain": [
              "11256352"
            ]
          },
          "metadata": {},
          "execution_count": 25
        }
      ]
    },
    {
      "cell_type": "code",
      "source": [
        "c = 100\n",
        "id(c)"
      ],
      "metadata": {
        "colab": {
          "base_uri": "https://localhost:8080/"
        },
        "id": "BVkNR22a1uU4",
        "outputId": "029a1f04-0289-434e-cff0-c7ae42dd6991"
      },
      "execution_count": null,
      "outputs": [
        {
          "output_type": "execute_result",
          "data": {
            "text/plain": [
              "11259232"
            ]
          },
          "metadata": {},
          "execution_count": 29
        }
      ]
    },
    {
      "cell_type": "code",
      "source": [
        "d = (1,2)\n",
        "id(d)"
      ],
      "metadata": {
        "colab": {
          "base_uri": "https://localhost:8080/"
        },
        "id": "BtTXDGLN1uYs",
        "outputId": "b0f9edbd-52fc-41b5-fa8d-3f7082f7dda3"
      },
      "execution_count": null,
      "outputs": [
        {
          "output_type": "execute_result",
          "data": {
            "text/plain": [
              "140476438001696"
            ]
          },
          "metadata": {},
          "execution_count": 32
        }
      ]
    },
    {
      "cell_type": "code",
      "source": [],
      "metadata": {
        "id": "UHHjOuGIqLIv"
      },
      "execution_count": null,
      "outputs": []
    },
    {
      "cell_type": "code",
      "source": [],
      "metadata": {
        "id": "Tp_E_MLWqLLs"
      },
      "execution_count": null,
      "outputs": []
    },
    {
      "cell_type": "markdown",
      "source": [
        "# Pattern Practice by me only"
      ],
      "metadata": {
        "id": "2nCqa62vqONh"
      }
    },
    {
      "cell_type": "code",
      "source": [],
      "metadata": {
        "id": "l2IB8w2ZqLP9"
      },
      "execution_count": null,
      "outputs": []
    },
    {
      "cell_type": "code",
      "source": [
        "str=\"\";    \n",
        "for Row in range(0,7):    \n",
        "    for Col in range(0,7):     \n",
        "        if (Col == 1 or ((Row == 0 or Row == 6) and (Col > 1 and Col < 5)) or (Col == 5 and Row != 0 and Row != 6)):  \n",
        "            str=str+\"*\"    \n",
        "        else:      \n",
        "            str=str+\" \"    \n",
        "    str=str+\"\\n\"    \n",
        "print(str);    "
      ],
      "metadata": {
        "id": "GMLGACxXSsHk",
        "colab": {
          "base_uri": "https://localhost:8080/"
        },
        "outputId": "57b02ff5-b22b-448b-ae6d-ec08ce95772c"
      },
      "execution_count": null,
      "outputs": [
        {
          "output_type": "stream",
          "name": "stdout",
          "text": [
            " ****  \n",
            " *   * \n",
            " *   * \n",
            " *   * \n",
            " *   * \n",
            " *   * \n",
            " ****  \n",
            "\n"
          ]
        }
      ]
    },
    {
      "cell_type": "code",
      "source": [
        "# This is the example of print simple pyramid pattern  \n",
        "n = int(input(\"Enter the number of rows\"))  \n",
        "# outer loop to handle number of rows  \n",
        "for i in range(0, n):  \n",
        "    # inner loop to handle number of columns  \n",
        "    # values is changing according to outer loop  \n",
        "        for j in range(0, i + 1):  \n",
        "            # printing stars  \n",
        "            print(\"* \", end=\"\")       \n",
        "  \n",
        "        # ending line after each row  \n",
        "        print()  "
      ],
      "metadata": {
        "colab": {
          "base_uri": "https://localhost:8080/"
        },
        "id": "uLSCMH84yvOd",
        "outputId": "2de608ed-f4e1-4528-9b99-980d735738f6"
      },
      "execution_count": null,
      "outputs": [
        {
          "output_type": "stream",
          "name": "stdout",
          "text": [
            "Enter the number of rows5\n",
            "* \n",
            "* * \n",
            "* * * \n",
            "* * * * \n",
            "* * * * * \n"
          ]
        }
      ]
    },
    {
      "cell_type": "code",
      "source": [
        "\n",
        "for i in range(1,10):\n",
        "  print(\"*         *\")\n",
        "for j in range(1,7):\n",
        "  print(\"*\",end=\" \")"
      ],
      "metadata": {
        "id": "ep68JiOECWcY",
        "colab": {
          "base_uri": "https://localhost:8080/"
        },
        "outputId": "448d46ef-08d2-4a30-e654-bef9e3ee0ea2"
      },
      "execution_count": null,
      "outputs": [
        {
          "output_type": "stream",
          "name": "stdout",
          "text": [
            "*         *\n",
            "*         *\n",
            "*         *\n",
            "*         *\n",
            "*         *\n",
            "*         *\n",
            "*         *\n",
            "*         *\n",
            "*         *\n",
            "* * * * * * "
          ]
        }
      ]
    },
    {
      "cell_type": "code",
      "source": [
        "#print pattern of * in w\n",
        "for i in range(1,6):\n",
        "    print('*     *     *')\n",
        "for j in range(1,6):\n",
        "    print('*',end='  ')"
      ],
      "metadata": {
        "id": "X1870_0WCWYN"
      },
      "execution_count": null,
      "outputs": []
    },
    {
      "cell_type": "code",
      "source": [
        "# This is the example of print simple reversed right angle pyramid pattern  \n",
        "#rows = int(input(\"Enter the number of rows:\")) \n",
        "rows = 10 \n",
        "k = 2 * rows - 2  # It is used for number of spaces  \n",
        "for i in range(0, rows):  \n",
        "    for j in range(0, k):  \n",
        "        print(end=\" \")  \n",
        "    k = k - 2   # decrement k value after each iteration  \n",
        "    for j in range(0, i + 1):  \n",
        "        print(\"* \", end=\"\")  # printing star  \n",
        "    print(\"9\")  "
      ],
      "metadata": {
        "id": "w_WUBi3fSsNJ",
        "colab": {
          "base_uri": "https://localhost:8080/"
        },
        "outputId": "64c6a45b-39ef-4069-dd7b-7419f57c16f6"
      },
      "execution_count": null,
      "outputs": [
        {
          "output_type": "stream",
          "name": "stdout",
          "text": [
            "                  * 9\n",
            "                * * 9\n",
            "              * * * 9\n",
            "            * * * * 9\n",
            "          * * * * * 9\n",
            "        * * * * * * 9\n",
            "      * * * * * * * 9\n",
            "    * * * * * * * * 9\n",
            "  * * * * * * * * * 9\n",
            "* * * * * * * * * * 9\n"
          ]
        }
      ]
    },
    {
      "cell_type": "code",
      "source": [
        "# This is the example of Printing Triangle Pyramid \n",
        "#rows = int(input(\"Enter the number of rows:\")) \n",
        "rows = 10 \n",
        "k = 2 * rows - 2  # It is used for number of spaces  \n",
        "for i in range(0, rows):  \n",
        "    for j in range(0, k):  \n",
        "        print(end=\" \")  \n",
        "    k = k - 1   # decrement k value after each iteration  if we fo -1 then it will convert to right angle triangel\n",
        "    for j in range(0, i + 1):  \n",
        "        print(\"* \", end=\"\")  # printing star  \n",
        "    print(\"\")  "
      ],
      "metadata": {
        "colab": {
          "base_uri": "https://localhost:8080/"
        },
        "id": "xCeVngOBNan5",
        "outputId": "9d0776cb-32b7-4b90-dc84-c691644775f3"
      },
      "execution_count": null,
      "outputs": [
        {
          "output_type": "stream",
          "name": "stdout",
          "text": [
            "                  * \n",
            "                 * * \n",
            "                * * * \n",
            "               * * * * \n",
            "              * * * * * \n",
            "             * * * * * * \n",
            "            * * * * * * * \n",
            "           * * * * * * * * \n",
            "          * * * * * * * * * \n",
            "         * * * * * * * * * * \n"
          ]
        }
      ]
    },
    {
      "cell_type": "code",
      "source": [
        "####### amulya logic \"middle triangle pyramid\"\n",
        "n = int(input('enter the no. of rows'))\n",
        "for i in range(0,n):\n",
        "  for j in range(0,n-i-1):\n",
        "    print(\" \",end = \"\")\n",
        "  for k in range(0,i+1):\n",
        "    print(\"*\",end = \" \") \n",
        "  print()    "
      ],
      "metadata": {
        "colab": {
          "base_uri": "https://localhost:8080/"
        },
        "id": "zESwB00SeNUH",
        "outputId": "4bc30e14-fa65-47f8-f04b-239f7ee31483"
      },
      "execution_count": null,
      "outputs": [
        {
          "output_type": "stream",
          "name": "stdout",
          "text": [
            "enter the no. of rows5\n",
            "    * \n",
            "   * * \n",
            "  * * * \n",
            " * * * * \n",
            "* * * * * \n"
          ]
        }
      ]
    },
    {
      "cell_type": "code",
      "source": [
        "####### amulya logic \"middle triangle pyramid\" with odd no of * rows\n",
        "n = int(input('enter the no. of rows'))\n",
        "for i in range(0,n):\n",
        "  for j in range(0,n-i-1):\n",
        "    print(\" \",end = \"\")\n",
        "  for k in range(0,2*i+1): #just ,multiplying by 2 in in range upper limit \n",
        "    print(\"*\",end = \"\")   #removing the space in end \n",
        "  print()    "
      ],
      "metadata": {
        "colab": {
          "base_uri": "https://localhost:8080/"
        },
        "id": "kLP1Ol6ehlTY",
        "outputId": "b61cc66c-2b1a-4705-f8bc-89fa9218f0e9"
      },
      "execution_count": null,
      "outputs": [
        {
          "output_type": "stream",
          "name": "stdout",
          "text": [
            "enter the no. of rows5\n",
            "    *\n",
            "   ***\n",
            "  *****\n",
            " *******\n",
            "*********\n"
          ]
        }
      ]
    },
    {
      "cell_type": "code",
      "source": [
        "######\n",
        "###### function code of pyramid mid triangle, same output as above but in different way  \n",
        "#def midpyramid(rows):\n",
        "rows = 5\n",
        "for i in range(rows):\n",
        "  print(\" \"*(rows-i-1)+\"* \"*(i+1))"
      ],
      "metadata": {
        "colab": {
          "base_uri": "https://localhost:8080/"
        },
        "id": "96qchuTliuUb",
        "outputId": "40beeb54-99f2-4403-d84a-659b237a258b"
      },
      "execution_count": null,
      "outputs": [
        {
          "output_type": "stream",
          "name": "stdout",
          "text": [
            "    * \n",
            "   * * \n",
            "  * * * \n",
            " * * * * \n",
            "* * * * * \n"
          ]
        }
      ]
    },
    {
      "cell_type": "code",
      "source": [
        "####### amulya logic \"middle down triangle pyramid\" with odd no of * rows\n",
        "n = 6\n",
        "for i in range(0,n):\n",
        "  for j in range(0,i):\n",
        "    print(\" \",end = \"\")\n",
        "  for k in range(0,n-i):\n",
        "      print(\"* \",end = \"\")   #removing the space in end \n",
        "  print() \n",
        "     "
      ],
      "metadata": {
        "colab": {
          "base_uri": "https://localhost:8080/"
        },
        "outputId": "0d4c79d1-be61-42c2-fa19-9d1e3b1d61fe",
        "id": "05Sinzcf6Gue"
      },
      "execution_count": null,
      "outputs": [
        {
          "output_type": "stream",
          "name": "stdout",
          "text": [
            "* * * * * * \n",
            " * * * * * \n",
            "  * * * * \n",
            "   * * * \n",
            "    * * \n",
            "     * \n"
          ]
        }
      ]
    },
    {
      "cell_type": "code",
      "source": [],
      "metadata": {
        "id": "zSG2dp1x6GHS"
      },
      "execution_count": null,
      "outputs": []
    },
    {
      "cell_type": "code",
      "source": [
        "# This is the example of Printing Triangle Pyramid \n",
        "#rows = int(input(\"Enter the number of rows:\")) \n",
        "rows = 10 \n",
        "k = 2 * rows - 2  # It is used for number of spaces  \n",
        "for i in range(0, rows):  \n",
        "    for j in range(0, k):  \n",
        "        print(end=\"*\")  \n",
        "    k = k - 2   # decrement k value after each iteration  if we fo -1 then it will convert to right angle triangel\n",
        "    for j in range(0, i + 1):  \n",
        "        print(\" \", end=\"\")  # printing star  \n",
        "    print(\"\")  "
      ],
      "metadata": {
        "colab": {
          "base_uri": "https://localhost:8080/"
        },
        "outputId": "f4a5c5a4-04fd-41a3-e095-38f33c41edb8",
        "id": "ZW5kykpvKR5T"
      },
      "execution_count": null,
      "outputs": [
        {
          "output_type": "stream",
          "name": "stdout",
          "text": [
            "****************** \n",
            "**************** \n",
            "************** \n",
            "************ \n",
            "********** \n",
            "******** \n",
            "****** \n",
            "**** \n",
            "** \n",
            " \n"
          ]
        }
      ]
    },
    {
      "cell_type": "code",
      "source": [
        "rows =  10\n",
        "for i in range(0,rows):\n",
        "  for j in range(0,i):\n",
        "    print(\"* \",end='')\n",
        "  print(\"9\")   "
      ],
      "metadata": {
        "colab": {
          "base_uri": "https://localhost:8080/"
        },
        "id": "EDOCKhELNauF",
        "outputId": "befdab0c-bfb6-4932-aea1-b1603029a082"
      },
      "execution_count": null,
      "outputs": [
        {
          "output_type": "stream",
          "name": "stdout",
          "text": [
            "9\n",
            "* 9\n",
            "* * 9\n",
            "* * * 9\n",
            "* * * * 9\n",
            "* * * * * 9\n",
            "* * * * * * 9\n",
            "* * * * * * * 9\n",
            "* * * * * * * * 9\n",
            "* * * * * * * * * 9\n"
          ]
        }
      ]
    },
    {
      "cell_type": "code",
      "source": [],
      "metadata": {
        "id": "0ZBdZHpW6BYL"
      },
      "execution_count": null,
      "outputs": []
    },
    {
      "cell_type": "code",
      "source": [
        "######## ########\n",
        "######## the difference between if and if else is 'if else loop wherever find true condition it will stop there where as l   \n",
        "marks = int(input('enter your marks '))  #### in if only it wil check every conditions\n",
        "if marks == 90:\n",
        "  print('FAJ')\n",
        "if marks >75:\n",
        "  print('pdaku')\n",
        "if marks >=50:\n",
        "  print('avg') \n",
        "#else :\n",
        " # print('pdai likhai karo ias wais bano ')     "
      ],
      "metadata": {
        "colab": {
          "base_uri": "https://localhost:8080/"
        },
        "id": "gILfpxnBvFCS",
        "outputId": "f9c17c64-7fbb-48bf-ffed-b23d57a320e9"
      },
      "execution_count": null,
      "outputs": [
        {
          "output_type": "stream",
          "name": "stdout",
          "text": [
            "enter your marks 90\n",
            "FAJ\n",
            "pdaku\n",
            "avg\n"
          ]
        }
      ]
    },
    {
      "cell_type": "code",
      "source": [],
      "metadata": {
        "id": "Jo2ggDuwRfOT"
      },
      "execution_count": null,
      "outputs": []
    },
    {
      "cell_type": "markdown",
      "source": [
        "# 12 september my experiments"
      ],
      "metadata": {
        "id": "6VGzCAS-Rf3j"
      }
    },
    {
      "cell_type": "code",
      "source": [],
      "metadata": {
        "id": "983cNZr4XJWJ"
      },
      "execution_count": null,
      "outputs": []
    },
    {
      "cell_type": "code",
      "source": [
        "### Below problems are taken from \"Conditional Statement and Loops Practice \" pre watch content"
      ],
      "metadata": {
        "id": "5sFv89TmVcfQ"
      },
      "execution_count": null,
      "outputs": []
    },
    {
      "cell_type": "markdown",
      "source": [
        "Write a program to print the following number pattern using a loop."
      ],
      "metadata": {
        "id": "vOlj67QPXKF6"
      }
    },
    {
      "cell_type": "code",
      "source": [
        "# practice question \n",
        "for i in range(1,6):\n",
        "  for k in range(1,i+1):\n",
        "    print(k,end =' ')\n",
        "  print()  "
      ],
      "metadata": {
        "colab": {
          "base_uri": "https://localhost:8080/"
        },
        "id": "zM8bEGgUTbfc",
        "outputId": "87cd1574-bfaf-4c08-8d7d-3f19e713bf4c"
      },
      "execution_count": null,
      "outputs": [
        {
          "output_type": "stream",
          "name": "stdout",
          "text": [
            "1 \n",
            "1 2 \n",
            "1 2 3 \n",
            "1 2 3 4 \n",
            "1 2 3 4 5 \n"
          ]
        }
      ]
    },
    {
      "cell_type": "code",
      "source": [
        "for i in range(1,6):\n",
        "  for k in range(1,i+1):\n",
        "    print(k,end =' ')\n",
        "  print(\"l\")  "
      ],
      "metadata": {
        "colab": {
          "base_uri": "https://localhost:8080/"
        },
        "outputId": "7952a7c3-95e3-4c7b-c57c-b5bdf7b208a1",
        "id": "oP_21zmpVdxp"
      },
      "execution_count": null,
      "outputs": [
        {
          "output_type": "stream",
          "name": "stdout",
          "text": [
            "1 l\n",
            "1 2 l\n",
            "1 2 3 l\n",
            "1 2 3 4 l\n",
            "1 2 3 4 5 l\n"
          ]
        }
      ]
    },
    {
      "cell_type": "code",
      "source": [
        "# through list\n",
        "x = [1]\n",
        "print(x)\n",
        "for i in range(2,6):\n",
        "  x.append(i)\n",
        "  print(x)\n",
        "  \n",
        "#print(x)"
      ],
      "metadata": {
        "colab": {
          "base_uri": "https://localhost:8080/"
        },
        "id": "p52h2d6-Ru7H",
        "outputId": "17f77274-b32e-42e5-d143-1f303dcc343a"
      },
      "execution_count": null,
      "outputs": [
        {
          "output_type": "stream",
          "name": "stdout",
          "text": [
            "[1]\n",
            "[1, 2]\n",
            "[1, 2, 3]\n",
            "[1, 2, 3, 4]\n",
            "[1, 2, 3, 4, 5]\n"
          ]
        }
      ]
    },
    {
      "cell_type": "markdown",
      "source": [
        "# Write a program to accept a number from a user and calculate the sum of all numbers from 1 to a given number\n",
        "\n",
        "# For example, if the user entered 10 the output should be 55 (1+2+3+4+5+6+7+8+9+10)"
      ],
      "metadata": {
        "id": "JgOlUMQOYPJR"
      }
    },
    {
      "cell_type": "code",
      "source": [
        "####### using for loop but without using list\n",
        "u = int(input())\n",
        "g = 0\n",
        "for i in range(u+1):\n",
        "  g += i\n",
        "print(g)"
      ],
      "metadata": {
        "colab": {
          "base_uri": "https://localhost:8080/"
        },
        "id": "SoOLKdfWXUqn",
        "outputId": "6a8b6c2a-cf6d-4a42-cd63-421156b3d702"
      },
      "execution_count": null,
      "outputs": [
        {
          "output_type": "stream",
          "name": "stdout",
          "text": [
            "10\n",
            "55\n"
          ]
        }
      ]
    },
    {
      "cell_type": "markdown",
      "source": [
        "# Write a program to display only those numbers from a list that satisfy the following conditions\n",
        "\n",
        "The number must be divisible by five\n",
        "If the number is greater than 150, then skip it and move to the next number\n",
        "If the number is greater than 500, then stop the loop\n",
        "Given:\n",
        "\n",
        "numbers = [12, 75, 150, 180, 145, 525, 50]\n",
        "Expected output:\n",
        "\n",
        "75\n",
        "150\n",
        "145"
      ],
      "metadata": {
        "id": "f1nnCRtobIk9"
      }
    },
    {
      "cell_type": "code",
      "source": [
        "####### my try without countinue , break and pass\n",
        "numbers = [12, 75, 150, 180, 145, 525, 50]\n",
        "for i in numbers:\n",
        "  if i%5==0 and i < 500 and i < 150:\n",
        "    print(i,end=' ')\n",
        " # print()\n",
        "\n",
        "\n",
        "\n"
      ],
      "metadata": {
        "colab": {
          "base_uri": "https://localhost:8080/"
        },
        "id": "ylaLk7CXZkVM",
        "outputId": "854bc86a-287e-4306-8cbe-d44b2f048eed"
      },
      "execution_count": null,
      "outputs": [
        {
          "output_type": "stream",
          "name": "stdout",
          "text": [
            "75 145 50 "
          ]
        }
      ]
    },
    {
      "cell_type": "code",
      "source": [
        "######## ########\n",
        "######## given solution\n",
        "numbers = [12, 75, 150, 180, 145, 525, 50]\n",
        "# iterate each item of a list\n",
        "for item in numbers:\n",
        "    if item > 500:\n",
        "        break\n",
        "    elif item > 150:\n",
        "        continue\n",
        "    # check if number is divisible by 5\n",
        "    elif item % 5 == 0:\n",
        "        print(item)"
      ],
      "metadata": {
        "colab": {
          "base_uri": "https://localhost:8080/"
        },
        "id": "oYYin1EdbGf5",
        "outputId": "8a193802-0239-4251-8bdc-e048c8d3fd93"
      },
      "execution_count": null,
      "outputs": [
        {
          "output_type": "stream",
          "name": "stdout",
          "text": [
            "75\n",
            "150\n",
            "145\n"
          ]
        }
      ]
    },
    {
      "cell_type": "markdown",
      "source": [
        "# Exercise 6: Count the total number of digits in a number\n",
        "Write a program to count the total number of digits in a number using While loop \n",
        "\n",
        "For example, the number is 75869, so the output should be 5."
      ],
      "metadata": {
        "id": "xRB2p8lXd6d6"
      }
    },
    {
      "cell_type": "code",
      "source": [
        "###### without len() function\n",
        "n = input('enter the number   ')\n",
        "count = 0\n",
        "for i in n:\n",
        "  count += 1\n",
        "print(f'count is {count}')  "
      ],
      "metadata": {
        "colab": {
          "base_uri": "https://localhost:8080/"
        },
        "id": "_rxpmUE6eYxs",
        "outputId": "db4f85d8-869c-492a-ab09-37848aa6d78f"
      },
      "execution_count": null,
      "outputs": [
        {
          "output_type": "stream",
          "name": "stdout",
          "text": [
            "enter the number   75869\n",
            "count is 5\n"
          ]
        }
      ]
    },
    {
      "cell_type": "code",
      "source": [
        "#Check if \"free\" is present in the following text:\n",
        "\n",
        "txt = \"The best things in life are free!\"\n",
        "print(\"free\" in txt)"
      ],
      "metadata": {
        "colab": {
          "base_uri": "https://localhost:8080/"
        },
        "id": "t0QV8Gr_KOpA",
        "outputId": "4d945cd2-9ef8-47fe-ee12-350ed89e889d"
      },
      "execution_count": null,
      "outputs": [
        {
          "output_type": "stream",
          "name": "stdout",
          "text": [
            "True\n"
          ]
        }
      ]
    },
    {
      "cell_type": "code",
      "source": [
        "txt = \"The best things in life are free!\"\n",
        "if \"free\" in txt:\n",
        "  print(\"Yes, 'free' is present.\")"
      ],
      "metadata": {
        "colab": {
          "base_uri": "https://localhost:8080/"
        },
        "id": "Rt9zXYO5KZrK",
        "outputId": "ebab455f-6f9f-45d4-daea-04880a28d956"
      },
      "execution_count": null,
      "outputs": [
        {
          "output_type": "stream",
          "name": "stdout",
          "text": [
            "Yes, 'free' is present.\n"
          ]
        }
      ]
    },
    {
      "cell_type": "code",
      "source": [
        "#Check if \"expensive\" is NOT present in the following text:\n",
        "\n",
        "txt = \"The best things in life are free!\"\n",
        "print(\"expensive\" not in txt)"
      ],
      "metadata": {
        "colab": {
          "base_uri": "https://localhost:8080/"
        },
        "id": "c2HH2aE2Km2S",
        "outputId": "49b46a99-bf22-4c82-c6e7-901a69c336d5"
      },
      "execution_count": null,
      "outputs": [
        {
          "output_type": "stream",
          "name": "stdout",
          "text": [
            "True\n"
          ]
        }
      ]
    },
    {
      "cell_type": "code",
      "source": [
        "# The strip() method removes any whitespace from the beginning or the end:\n",
        "\n",
        "a = \" Hello, World! \"\n",
        "print(a.strip()) # returns \"Hello, World!\""
      ],
      "metadata": {
        "colab": {
          "base_uri": "https://localhost:8080/"
        },
        "id": "8I5V5vPLLAr8",
        "outputId": "389e2186-26d6-4f4f-d4b0-b5f660c02337"
      },
      "execution_count": null,
      "outputs": [
        {
          "output_type": "stream",
          "name": "stdout",
          "text": [
            "Hello, World!\n"
          ]
        }
      ]
    },
    {
      "cell_type": "code",
      "source": [
        "###### ####### ####### Very very important question try to understand each and every line\n",
        "# Python program to display all the prime numbers within an interval\n",
        "\n",
        "lower = 0\n",
        "upper = 50\n",
        "\n",
        "print(\"Prime numbers between\", lower, \"and\", upper, \"are:\")\n",
        "\n",
        "for num in range(lower, upper + 1):\n",
        "   # all prime numbers are greater than 1\n",
        "   if num > 1:\n",
        "       for i in range(2, num):\n",
        "           if (num % i) == 0:\n",
        "               break\n",
        "       else:\n",
        "           print(num)\n",
        "# Python allows the else keyword to be used with the for and while loops too.           \n",
        "# Is 1 composite number or prime?\n",
        "#The number one is neither a prime nor a composite           "
      ],
      "metadata": {
        "colab": {
          "base_uri": "https://localhost:8080/"
        },
        "id": "6Ah15RMTYXy-",
        "outputId": "364b09b1-c80a-4289-800c-141527a4dfca"
      },
      "execution_count": null,
      "outputs": [
        {
          "output_type": "stream",
          "name": "stdout",
          "text": [
            "Prime numbers between 0 and 50 are:\n",
            "2\n",
            "3\n",
            "5\n",
            "7\n",
            "11\n",
            "13\n",
            "17\n",
            "19\n",
            "23\n",
            "29\n",
            "31\n",
            "37\n",
            "41\n",
            "43\n",
            "47\n"
          ]
        }
      ]
    },
    {
      "cell_type": "markdown",
      "source": [
        "# Using else conditional statement with for loop in python"
      ],
      "metadata": {
        "id": "JexyfSRkgxb5"
      }
    },
    {
      "cell_type": "code",
      "source": [
        "for i in range(1, 4):\n",
        " print(i)\n",
        "else: # Executed because no break in for\n",
        " print(\"No Break\")\n",
        "\n",
        "''' output will be \n",
        "1\n",
        "2\n",
        "3\n",
        "No Break    '''"
      ],
      "metadata": {
        "colab": {
          "base_uri": "https://localhost:8080/"
        },
        "id": "K_ZnkapAgzWx",
        "outputId": "7ecbca70-bad3-49ab-b111-0c19e3e8af1c"
      },
      "execution_count": null,
      "outputs": [
        {
          "output_type": "stream",
          "name": "stdout",
          "text": [
            "1\n",
            "2\n",
            "3\n",
            "No Break\n"
          ]
        }
      ]
    },
    {
      "cell_type": "code",
      "source": [
        "for i in range(1, 4):\n",
        " print(i)\n",
        " break\n",
        "else: # Not executed as there is a break\n",
        " print(\"No Break\")\n",
        "# outout will be 1 "
      ],
      "metadata": {
        "colab": {
          "base_uri": "https://localhost:8080/"
        },
        "id": "PmMFwlZag767",
        "outputId": "bb2006b5-d6a8-4e2d-e542-e9adc97ca2fd"
      },
      "execution_count": null,
      "outputs": [
        {
          "output_type": "stream",
          "name": "stdout",
          "text": [
            "1\n"
          ]
        }
      ]
    },
    {
      "cell_type": "code",
      "metadata": {
        "id": "ZN-GxWfKHnng"
      },
      "source": [
        "# Consider a list of strings \n",
        "\n",
        "got_houses = ['Stark', 'Arryn', 'Baratheon', 'Tully', 'Greyjoy', 'Lannister', 'Tyrell', 'Martell', 'Targaryen']"
      ],
      "execution_count": null,
      "outputs": []
    },
    {
      "cell_type": "code",
      "source": [
        "# Using enumerate function to loop through the elements of a list\n",
        "for house_no,house in enumerate(got_houses):\n",
        "  print(f\"The house no { house_no} of house {house} is \")"
      ],
      "metadata": {
        "colab": {
          "base_uri": "https://localhost:8080/"
        },
        "id": "rAKXmB8Pl6jz",
        "outputId": "ca69a4ad-24ff-466c-9029-7d3fe095ab4c"
      },
      "execution_count": null,
      "outputs": [
        {
          "output_type": "stream",
          "name": "stdout",
          "text": [
            "The house no 0 of house Stark is \n",
            "The house no 1 of house Arryn is \n",
            "The house no 2 of house Baratheon is \n",
            "The house no 3 of house Tully is \n",
            "The house no 4 of house Greyjoy is \n",
            "The house no 5 of house Lannister is \n",
            "The house no 6 of house Tyrell is \n",
            "The house no 7 of house Martell is \n",
            "The house no 8 of house Targaryen is \n"
          ]
        }
      ]
    },
    {
      "cell_type": "code",
      "source": [],
      "metadata": {
        "id": "1k06Ibhfyzhz"
      },
      "execution_count": null,
      "outputs": []
    },
    {
      "cell_type": "code",
      "source": [
        "####### amulya logic \"middle triangle pyramid\" with odd no of * rows\n",
        "n = int(input('enter the no. of rows'))\n",
        "for i in range(0,n):\n",
        "  for j in range(0,n-i-1):\n",
        "    print(\" \",end = \"\")\n",
        "  for k in range(0,i+1): #just ,multiplying by 2 in in range upper limit \n",
        "    print(\"* \",end = \"\")   #removing the space in end \n",
        "  print()    "
      ],
      "metadata": {
        "colab": {
          "base_uri": "https://localhost:8080/"
        },
        "outputId": "c8667db7-448f-4190-f0ee-59d7e60e8e2a",
        "id": "dEw8GM_kzGNN"
      },
      "execution_count": null,
      "outputs": [
        {
          "output_type": "stream",
          "name": "stdout",
          "text": [
            "enter the no. of rows6\n",
            "     * \n",
            "    * * \n",
            "   * * * \n",
            "  * * * * \n",
            " * * * * * \n",
            "* * * * * * \n"
          ]
        }
      ]
    },
    {
      "cell_type": "code",
      "source": [
        "####### amulya logic \"middle triangle pyramid\" with odd no of * rows\n",
        "n = 6\n",
        "for i in range(0,n):\n",
        "  for j in range(0,i):\n",
        "    print(\" \",end = \"\")\n",
        "  for k in range(0,n-i):\n",
        "      print(\"* \",end = \"\")   #removing the space in end \n",
        "  print() \n",
        "     "
      ],
      "metadata": {
        "colab": {
          "base_uri": "https://localhost:8080/"
        },
        "id": "C6W_CTMCz_cA",
        "outputId": "0d4c79d1-be61-42c2-fa19-9d1e3b1d61fe"
      },
      "execution_count": null,
      "outputs": [
        {
          "output_type": "stream",
          "name": "stdout",
          "text": [
            "* * * * * * \n",
            " * * * * * \n",
            "  * * * * \n",
            "   * * * \n",
            "    * * \n",
            "     * \n"
          ]
        }
      ]
    },
    {
      "cell_type": "markdown",
      "source": [
        "# 13 Sept "
      ],
      "metadata": {
        "id": "yDknkvt46OiM"
      }
    },
    {
      "cell_type": "code",
      "source": [
        "# print list in reverse order using for loop \n",
        "list1 = [1,2,3,4,'my_code']\n",
        "for i in range(1,len(list1)):\n",
        "  print(list1[-i])"
      ],
      "metadata": {
        "colab": {
          "base_uri": "https://localhost:8080/"
        },
        "id": "VUtRd-0tNVO_",
        "outputId": "99631103-255a-4e2d-c018-f5c65d4e8773"
      },
      "execution_count": null,
      "outputs": [
        {
          "output_type": "stream",
          "name": "stdout",
          "text": [
            "my_code\n",
            "4\n",
            "3\n",
            "2\n"
          ]
        }
      ]
    },
    {
      "cell_type": "code",
      "source": [
        "# For loop -10 to 1 code \n",
        "for num in range(-10, -0):\n",
        "    print(num)"
      ],
      "metadata": {
        "id": "idwRikmD0LCq",
        "colab": {
          "base_uri": "https://localhost:8080/"
        },
        "outputId": "cd5700e0-c86e-4e23-ddbe-a7d6dc2a1e60"
      },
      "execution_count": null,
      "outputs": [
        {
          "output_type": "stream",
          "name": "stdout",
          "text": [
            "-10\n",
            "-9\n",
            "-8\n",
            "-7\n",
            "-6\n",
            "-5\n",
            "-4\n",
            "-3\n",
            "-2\n",
            "-1\n"
          ]
        }
      ]
    },
    {
      "cell_type": "code",
      "source": [
        "# Python program to display all the prime numbers within an interval\n",
        "\n",
        "lower = 0\n",
        "upper = 50\n",
        "\n",
        "print(\"Prime numbers between\", lower, \"and\", upper, \"are:\")\n",
        "\n",
        "for num in range(lower, upper + 1):\n",
        "   # all prime numbers are greater than 1\n",
        "   if num > 1:\n",
        "       for i in range(2, num):\n",
        "           if (num % i) == 0:\n",
        "               break\n",
        "       else:\n",
        "           print(num)"
      ],
      "metadata": {
        "id": "ciFeShVvOYem"
      },
      "execution_count": null,
      "outputs": []
    },
    {
      "cell_type": "code",
      "source": [
        "# Find the factorial \n"
      ],
      "metadata": {
        "id": "901TPb1EK6t4"
      },
      "execution_count": null,
      "outputs": []
    },
    {
      "cell_type": "markdown",
      "source": [
        "# 14 Sept"
      ],
      "metadata": {
        "id": "s9B3K5ubefW6"
      }
    },
    {
      "cell_type": "markdown",
      "source": [
        "# While loop "
      ],
      "metadata": {
        "id": "tGt4sqYgmrqU"
      }
    },
    {
      "cell_type": "code",
      "source": [
        "# Print 1st 10 integers and their squares \n",
        "x = 0\n",
        "while x<=10:\n",
        "  print(f'the square of {x} is {x**2}')\n",
        "  i = i+1"
      ],
      "metadata": {
        "id": "EVRbVxWjeT09"
      },
      "execution_count": null,
      "outputs": []
    },
    {
      "cell_type": "code",
      "source": [
        "# Python program to Count Alphabets Digits and Special Characters in a String\n",
        " \n",
        "strr = \"P@#yn26at^&i5ve\"\n",
        "alpha = digits = special = 0\n",
        "\n",
        "for i in range(len(strr)):\n",
        "    if(strr[i].isalpha()):\n",
        "        alpha = alpha + 1\n",
        "    elif(strr[i].isdigit()):\n",
        "        digits = digits + 1\n",
        "    else:\n",
        "        special = special + 1\n",
        "        \n",
        "print(\"Alphabets:  \", alpha)\n",
        "print(\"Digits:  \", digits)\n",
        "print(\"special Characters:  \", special)"
      ],
      "metadata": {
        "id": "aUJ3jamopzgO"
      },
      "execution_count": null,
      "outputs": []
    },
    {
      "cell_type": "code",
      "source": [
        "string = \"p@#yn26at^&i5ve\"\n",
        "count_letter = 0\n",
        "count_digits = 0\n",
        "count_special_character = 0\n",
        "for i in string:\n",
        "    if i.isalpha():\n",
        "        count_letter += 1\n",
        "    if i.isdigit():\n",
        "        count_digits += 1\n",
        "    else:\n",
        "        count_special_character += 1\n",
        "print('number of letters - ', count_letter)\n",
        "print('number of digits - ', count_digits)\n",
        "print('number of special characters - ', count_special_character)"
      ],
      "metadata": {
        "id": "VTxzN2v4tHYi"
      },
      "execution_count": null,
      "outputs": []
    },
    {
      "cell_type": "code",
      "source": [],
      "metadata": {
        "id": "hJ-Xg_MCmOBG"
      },
      "execution_count": null,
      "outputs": []
    },
    {
      "cell_type": "code",
      "source": [
        "# while loop\n",
        "for i in range(1,6):\n",
        "  print(i)"
      ],
      "metadata": {
        "id": "3-arHhcAKe2d",
        "colab": {
          "base_uri": "https://localhost:8080/"
        },
        "outputId": "4ac1e55e-5c14-4b0e-a68d-68128467f1f9"
      },
      "execution_count": null,
      "outputs": [
        {
          "output_type": "stream",
          "name": "stdout",
          "text": [
            "1\n",
            "2\n",
            "3\n",
            "4\n",
            "5\n"
          ]
        }
      ]
    },
    {
      "cell_type": "code",
      "source": [
        "i = 0\n",
        "while i< 5:\n",
        "  print(i)\n",
        "  i = i + 1"
      ],
      "metadata": {
        "id": "ouXiSQrDKe6Q",
        "colab": {
          "base_uri": "https://localhost:8080/"
        },
        "outputId": "cb61757f-bb30-4f81-d0a0-94b43a6ad662"
      },
      "execution_count": null,
      "outputs": [
        {
          "output_type": "stream",
          "name": "stdout",
          "text": [
            "0\n",
            "1\n",
            "2\n",
            "3\n",
            "4\n"
          ]
        }
      ]
    },
    {
      "cell_type": "code",
      "source": [
        "i = 1\n",
        "while i < 6:\n",
        "  print(i)\n",
        "  if i == 3:\n",
        "    break\n",
        "  i = i + 1"
      ],
      "metadata": {
        "id": "-_I0deyTKe-B",
        "colab": {
          "base_uri": "https://localhost:8080/"
        },
        "outputId": "c9dd6427-fc90-4bfe-f1ad-292c6bb0625b"
      },
      "execution_count": null,
      "outputs": [
        {
          "output_type": "stream",
          "name": "stdout",
          "text": [
            "1\n",
            "2\n",
            "3\n"
          ]
        }
      ]
    },
    {
      "cell_type": "code",
      "source": [
        "a = 'AkshadaPreeti'\n",
        "i = 0\n",
        "while i < len(a):\n",
        "  i = i + 1\n",
        "  \n",
        "print('total values is ', i)"
      ],
      "metadata": {
        "id": "aN-kgRf-KfEK",
        "colab": {
          "base_uri": "https://localhost:8080/"
        },
        "outputId": "82183a53-d1f2-4421-fc33-93796343cca5"
      },
      "execution_count": null,
      "outputs": [
        {
          "output_type": "stream",
          "name": "stdout",
          "text": [
            "total values is  13\n"
          ]
        }
      ]
    },
    {
      "cell_type": "code",
      "source": [
        "len(a)"
      ],
      "metadata": {
        "id": "mQKhjVWJKfG2",
        "colab": {
          "base_uri": "https://localhost:8080/"
        },
        "outputId": "171678e4-5676-4ad1-bcc9-37c7680378e4"
      },
      "execution_count": null,
      "outputs": [
        {
          "output_type": "execute_result",
          "data": {
            "text/plain": [
              "7"
            ]
          },
          "metadata": {},
          "execution_count": 13
        }
      ]
    },
    {
      "cell_type": "code",
      "source": [
        "n = int(input('Enter the Number: '))\n",
        "i = 1\n",
        "sum = 0\n",
        "while i <= n:\n",
        "  sum = sum + i \n",
        "  i = i + 1\n",
        "print(sum)"
      ],
      "metadata": {
        "id": "nqgLHOujKfJa",
        "colab": {
          "base_uri": "https://localhost:8080/"
        },
        "outputId": "dd16a384-7c76-4e7b-eba7-4ebb17f24a9a"
      },
      "execution_count": null,
      "outputs": [
        {
          "output_type": "stream",
          "name": "stdout",
          "text": [
            "Enter the Number: 10\n",
            "55\n"
          ]
        }
      ]
    },
    {
      "cell_type": "code",
      "source": [
        "20 -- >  1+2+3+4  + 10 = 55"
      ],
      "metadata": {
        "id": "cjMvhL2RKfLd"
      },
      "execution_count": null,
      "outputs": []
    },
    {
      "cell_type": "code",
      "source": [
        "# Print first 10 integers and their squares using while Loop."
      ],
      "metadata": {
        "id": "M8mHzHTfKfNy"
      },
      "execution_count": null,
      "outputs": []
    },
    {
      "cell_type": "code",
      "source": [
        "for i in range(1, 11):\n",
        "  print(i**2)"
      ],
      "metadata": {
        "id": "K3MsEp8uKfP-",
        "colab": {
          "base_uri": "https://localhost:8080/"
        },
        "outputId": "0eed53c2-ec0b-4bcc-f9ec-4396eedecc71"
      },
      "execution_count": null,
      "outputs": [
        {
          "output_type": "stream",
          "name": "stdout",
          "text": [
            "1\n",
            "4\n",
            "9\n",
            "16\n",
            "25\n",
            "36\n",
            "49\n",
            "64\n",
            "81\n",
            "100\n"
          ]
        }
      ]
    },
    {
      "cell_type": "code",
      "source": [
        "i = 1\n",
        "while i <= 10:\n",
        "  print(i**2)\n",
        "  i = i + 1"
      ],
      "metadata": {
        "id": "sNAY55VYKfSl",
        "colab": {
          "base_uri": "https://localhost:8080/"
        },
        "outputId": "a2a05643-5924-49ea-8b3c-fba31657df1c"
      },
      "execution_count": null,
      "outputs": [
        {
          "output_type": "stream",
          "name": "stdout",
          "text": [
            "1\n",
            "4\n",
            "9\n",
            "16\n",
            "25\n",
            "36\n",
            "49\n",
            "64\n",
            "81\n",
            "100\n"
          ]
        }
      ]
    },
    {
      "cell_type": "code",
      "source": [
        "n=1\n",
        "while n<=10:\n",
        "  print(\"the number is\",n)\n",
        "  sq= n**2\n",
        "  n=n+1\n",
        "  print(\"sq is\", sq)\n"
      ],
      "metadata": {
        "id": "Gur1R3bMKfVL",
        "colab": {
          "base_uri": "https://localhost:8080/"
        },
        "outputId": "43bdd25b-8858-4a61-bb3e-6a7d51e3b025"
      },
      "execution_count": null,
      "outputs": [
        {
          "output_type": "stream",
          "name": "stdout",
          "text": [
            "the number is 1\n",
            "sq is 1\n",
            "the number is 2\n",
            "sq is 4\n",
            "the number is 3\n",
            "sq is 9\n",
            "the number is 4\n",
            "sq is 16\n",
            "the number is 5\n",
            "sq is 25\n",
            "the number is 6\n",
            "sq is 36\n",
            "the number is 7\n",
            "sq is 49\n",
            "the number is 8\n",
            "sq is 64\n",
            "the number is 9\n",
            "sq is 81\n",
            "the number is 10\n",
            "sq is 100\n"
          ]
        }
      ]
    },
    {
      "cell_type": "code",
      "source": [
        "# String \n",
        "\"Uttam\", 'madhuri'"
      ],
      "metadata": {
        "id": "7mfNmZfZKfYL"
      },
      "execution_count": null,
      "outputs": []
    },
    {
      "cell_type": "code",
      "source": [
        "a = int(input('Enter'))\n",
        "type(a)"
      ],
      "metadata": {
        "id": "8BMc-TjYKfam",
        "colab": {
          "base_uri": "https://localhost:8080/"
        },
        "outputId": "5a4dd3ec-2c23-41c5-c8dd-8288bb90ed2d"
      },
      "execution_count": null,
      "outputs": [
        {
          "name": "stdout",
          "output_type": "stream",
          "text": [
            "Enteruttam\n"
          ]
        },
        {
          "output_type": "execute_result",
          "data": {
            "text/plain": [
              "str"
            ]
          },
          "metadata": {},
          "execution_count": 33
        }
      ]
    },
    {
      "cell_type": "code",
      "source": [
        "sentence = 'My Name is Uttam and$WOrking as As AS Data$Scientist!'\n",
        "type(sentence)"
      ],
      "metadata": {
        "id": "Ix3IZetzKfdc",
        "colab": {
          "base_uri": "https://localhost:8080/"
        },
        "outputId": "8c70f418-c473-4770-81c0-a42e90180ab6"
      },
      "execution_count": null,
      "outputs": [
        {
          "output_type": "execute_result",
          "data": {
            "text/plain": [
              "str"
            ]
          },
          "metadata": {},
          "execution_count": 1
        }
      ]
    },
    {
      "cell_type": "code",
      "source": [
        "sentence.split('D')"
      ],
      "metadata": {
        "id": "bPCZTh08Kfgt",
        "colab": {
          "base_uri": "https://localhost:8080/"
        },
        "outputId": "2d950363-04d9-4ceb-e59a-669ab55baaec"
      },
      "execution_count": null,
      "outputs": [
        {
          "output_type": "execute_result",
          "data": {
            "text/plain": [
              "['My Name is Uttam and$WOrking as As AS ', 'ata$Scientist!']"
            ]
          },
          "metadata": {},
          "execution_count": 2
        }
      ]
    },
    {
      "cell_type": "code",
      "source": [
        "# join\n",
        "b = ['Madhuri', 'Archana', 'Preeti']\n",
        "c = ('Madhuri', 'Archana', 'Preeti', 'Akshada')\n",
        "d = {'Madhuri', 'Archana', 'Preeti', 'Akshada'}\n",
        "','.join(d)"
      ],
      "metadata": {
        "id": "5X85D4ITKfjm",
        "colab": {
          "base_uri": "https://localhost:8080/",
          "height": 36
        },
        "outputId": "53b0f274-50e3-4519-c34a-b37a9e8a541d"
      },
      "execution_count": null,
      "outputs": [
        {
          "output_type": "execute_result",
          "data": {
            "text/plain": [
              "'Preeti,Akshada,Archana,Madhuri'"
            ],
            "application/vnd.google.colaboratory.intrinsic+json": {
              "type": "string"
            }
          },
          "metadata": {},
          "execution_count": 3
        }
      ]
    },
    {
      "cell_type": "code",
      "source": [
        "mystring = {'thor', 'loki', 'steve', 'tony', 'stark'}\n",
        "'$'.join(mystring)"
      ],
      "metadata": {
        "colab": {
          "base_uri": "https://localhost:8080/",
          "height": 36
        },
        "id": "SnpYF168nX4Z",
        "outputId": "91f694ab-410d-4105-802d-ccdfb43e6665"
      },
      "execution_count": null,
      "outputs": [
        {
          "output_type": "execute_result",
          "data": {
            "text/plain": [
              "'steve$stark$tony$thor$loki'"
            ],
            "application/vnd.google.colaboratory.intrinsic+json": {
              "type": "string"
            }
          },
          "metadata": {},
          "execution_count": 13
        }
      ]
    },
    {
      "cell_type": "code",
      "source": [
        "sentence"
      ],
      "metadata": {
        "colab": {
          "base_uri": "https://localhost:8080/",
          "height": 36
        },
        "id": "5zH8muxDldnQ",
        "outputId": "8448a4f6-4c67-48c0-b7eb-79f37a8cea20"
      },
      "execution_count": null,
      "outputs": [
        {
          "output_type": "execute_result",
          "data": {
            "text/plain": [
              "'My Name is Uttam and$WOrking as as Data$Scientist!'"
            ],
            "application/vnd.google.colaboratory.intrinsic+json": {
              "type": "string"
            }
          },
          "metadata": {},
          "execution_count": 52
        }
      ]
    },
    {
      "cell_type": "code",
      "source": [
        "sentence.find('Prajwal')"
      ],
      "metadata": {
        "id": "2d4QrutoKfmd",
        "colab": {
          "base_uri": "https://localhost:8080/"
        },
        "outputId": "cdef7095-01c6-4cc7-e417-0a459b2b5de9"
      },
      "execution_count": null,
      "outputs": [
        {
          "output_type": "execute_result",
          "data": {
            "text/plain": [
              "-1"
            ]
          },
          "metadata": {},
          "execution_count": 53
        }
      ]
    },
    {
      "cell_type": "code",
      "source": [
        "sentence.replace('Uttam', 'Radha')"
      ],
      "metadata": {
        "id": "Gu0jgeARKfpV",
        "colab": {
          "base_uri": "https://localhost:8080/",
          "height": 36
        },
        "outputId": "2691fcdb-eb61-4d89-84c1-72d1bba5e80f"
      },
      "execution_count": null,
      "outputs": [
        {
          "output_type": "execute_result",
          "data": {
            "text/plain": [
              "'My Name is Radha and$WOrking as As AS Data$Scientist!'"
            ],
            "application/vnd.google.colaboratory.intrinsic+json": {
              "type": "string"
            }
          },
          "metadata": {},
          "execution_count": 14
        }
      ]
    },
    {
      "cell_type": "code",
      "source": [
        "sentence.replace('$', ' ').replace('Uttam', 'Radha')"
      ],
      "metadata": {
        "id": "8uTEupm0KfsI",
        "colab": {
          "base_uri": "https://localhost:8080/",
          "height": 36
        },
        "outputId": "7b177602-132e-4142-a754-f999bf6294c2"
      },
      "execution_count": null,
      "outputs": [
        {
          "output_type": "execute_result",
          "data": {
            "text/plain": [
              "'My Name is Radha and WOrking as As AS Data Scientist!'"
            ],
            "application/vnd.google.colaboratory.intrinsic+json": {
              "type": "string"
            }
          },
          "metadata": {},
          "execution_count": 15
        }
      ]
    },
    {
      "cell_type": "code",
      "source": [
        "sentence = sentence.lower()\n",
        "sentence"
      ],
      "metadata": {
        "id": "iD_wf6uuKfu3",
        "colab": {
          "base_uri": "https://localhost:8080/",
          "height": 36
        },
        "outputId": "772f3728-7c71-4fd0-f4df-f23db11de1ba"
      },
      "execution_count": null,
      "outputs": [
        {
          "output_type": "execute_result",
          "data": {
            "text/plain": [
              "'my name is uttam and$working as as as data$scientist!'"
            ],
            "application/vnd.google.colaboratory.intrinsic+json": {
              "type": "string"
            }
          },
          "metadata": {},
          "execution_count": 16
        }
      ]
    },
    {
      "cell_type": "code",
      "source": [
        "sentence.upper()"
      ],
      "metadata": {
        "id": "a2P07fYdKfxT",
        "colab": {
          "base_uri": "https://localhost:8080/",
          "height": 36
        },
        "outputId": "29f51383-7b3a-4702-df9f-9454f45fe2e4"
      },
      "execution_count": null,
      "outputs": [
        {
          "output_type": "execute_result",
          "data": {
            "text/plain": [
              "'MY NAME IS UTTAM AND$WORKING AS AS AS DATA$SCIENTIST!'"
            ],
            "application/vnd.google.colaboratory.intrinsic+json": {
              "type": "string"
            }
          },
          "metadata": {},
          "execution_count": 19
        }
      ]
    },
    {
      "cell_type": "code",
      "source": [
        "sentence"
      ],
      "metadata": {
        "colab": {
          "base_uri": "https://localhost:8080/",
          "height": 36
        },
        "id": "B28-68HtpbhW",
        "outputId": "98eaf49a-07e0-4dd9-83e7-2c9803ee97fb"
      },
      "execution_count": null,
      "outputs": [
        {
          "output_type": "execute_result",
          "data": {
            "text/plain": [
              "'my name is uttam and$working as as as data$scientist!'"
            ],
            "application/vnd.google.colaboratory.intrinsic+json": {
              "type": "string"
            }
          },
          "metadata": {},
          "execution_count": 22
        }
      ]
    },
    {
      "cell_type": "code",
      "source": [
        "sentence.isupper()"
      ],
      "metadata": {
        "id": "owfWOl_ZKf1D",
        "colab": {
          "base_uri": "https://localhost:8080/"
        },
        "outputId": "76206e88-15f6-48ce-bbb8-b76becba0d11"
      },
      "execution_count": null,
      "outputs": [
        {
          "output_type": "execute_result",
          "data": {
            "text/plain": [
              "False"
            ]
          },
          "metadata": {},
          "execution_count": 20
        }
      ]
    },
    {
      "cell_type": "code",
      "source": [
        "sentence.islower()"
      ],
      "metadata": {
        "id": "aSOavgb3EnLg",
        "colab": {
          "base_uri": "https://localhost:8080/"
        },
        "outputId": "f76658fd-a330-46a2-ab22-34bdfc58c3ac"
      },
      "execution_count": null,
      "outputs": [
        {
          "output_type": "execute_result",
          "data": {
            "text/plain": [
              "True"
            ]
          },
          "metadata": {},
          "execution_count": 21
        }
      ]
    },
    {
      "cell_type": "code",
      "source": [
        "sentence.capitalize() # it is doing first letter capital rest of string smallletters"
      ],
      "metadata": {
        "colab": {
          "base_uri": "https://localhost:8080/",
          "height": 36
        },
        "outputId": "ed151cd7-cdbb-4779-ab0d-1c7f684cb40d",
        "id": "ZBIXlD6zp8_B"
      },
      "execution_count": null,
      "outputs": [
        {
          "output_type": "execute_result",
          "data": {
            "text/plain": [
              "'My name is uttam and$working as as as data$scientist!'"
            ],
            "application/vnd.google.colaboratory.intrinsic+json": {
              "type": "string"
            }
          },
          "metadata": {},
          "execution_count": 26
        }
      ]
    },
    {
      "cell_type": "code",
      "source": [
        "sentence.upper().capitalize() # it is doing first letter capital rest of string smallletters whether it is full string is in capital "
      ],
      "metadata": {
        "id": "IL7bzWPAEnN6",
        "colab": {
          "base_uri": "https://localhost:8080/",
          "height": 36
        },
        "outputId": "ed151cd7-cdbb-4779-ab0d-1c7f684cb40d"
      },
      "execution_count": null,
      "outputs": [
        {
          "output_type": "execute_result",
          "data": {
            "text/plain": [
              "'My name is uttam and$working as as as data$scientist!'"
            ],
            "application/vnd.google.colaboratory.intrinsic+json": {
              "type": "string"
            }
          },
          "metadata": {},
          "execution_count": 26
        }
      ]
    },
    {
      "cell_type": "code",
      "source": [
        "sentence.count('as')# isnum()"
      ],
      "metadata": {
        "id": "nfp-D_J9EnQx",
        "colab": {
          "base_uri": "https://localhost:8080/"
        },
        "outputId": "c26b2fc1-4b16-4b55-b6e7-5f0988a034a7"
      },
      "execution_count": null,
      "outputs": [
        {
          "output_type": "execute_result",
          "data": {
            "text/plain": [
              "3"
            ]
          },
          "metadata": {},
          "execution_count": 27
        }
      ]
    },
    {
      "cell_type": "code",
      "source": [
        "sentence.isalpha()"
      ],
      "metadata": {
        "colab": {
          "base_uri": "https://localhost:8080/"
        },
        "id": "WRHo_uqbqKa7",
        "outputId": "1e56d24d-f1f3-43c2-c30e-b73c1ba4805f"
      },
      "execution_count": null,
      "outputs": [
        {
          "output_type": "execute_result",
          "data": {
            "text/plain": [
              "False"
            ]
          },
          "metadata": {},
          "execution_count": 29
        }
      ]
    },
    {
      "cell_type": "markdown",
      "source": [
        "The isalpha() function checks whether a character is an alphabet or not. In C programming, isalpha() function checks whether a character is an alphabet (a to z and A-Z) or not. If a character passed to isalpha() is an alphabet, it returns a non-zero integer, if not it returns 0.\n",
        "\n",
        "likewise .isdigit() check the value is digit or not"
      ],
      "metadata": {
        "id": "pvaWe4BFsOLp"
      }
    },
    {
      "cell_type": "code",
      "source": [
        "string = \"p@#yn26at^&i5ve\"\n",
        "string.isalpha()"
      ],
      "metadata": {
        "colab": {
          "base_uri": "https://localhost:8080/"
        },
        "id": "TFIf3u1-rMYO",
        "outputId": "f72b2a68-a382-4eb1-db85-7e9f806ddfe7"
      },
      "execution_count": null,
      "outputs": [
        {
          "output_type": "execute_result",
          "data": {
            "text/plain": [
              "False"
            ]
          },
          "metadata": {},
          "execution_count": 32
        }
      ]
    },
    {
      "cell_type": "code",
      "source": [
        "# Count all letters, digits, and special symbols from a given string\n",
        "string_ = \"P@#yn26at^&i5ve\"\n",
        "countl = 0\n",
        "countn = 0\n",
        "counto = 0\n",
        "for i in string_:\n",
        "    if i.isalpha():\n",
        "      countl += 1\n",
        "    elif i.isdigit():\n",
        "      countn += 1\n",
        "    else:\n",
        "      counto += 1\n",
        "print(\"The number of letters are --\", countl)\n",
        "print(\"The number of numbers are --\", countn)\n",
        "print(\"The number of characters are --\", counto)"
      ],
      "metadata": {
        "id": "vb7SYAzrEnTC"
      },
      "execution_count": null,
      "outputs": []
    },
    {
      "cell_type": "code",
      "source": [
        "# Find all occurrences of a substring in a given string by ignoring the case (# As, AS, as)\n",
        "# Calculate the sum and average of the digits present in a string (str1 = \"PYnative29@#8496\")\n",
        "# Write a program to count occurrences of all characters within a string ( Madhuri chawale )\n",
        "# Reverse a given string ( can be anything )"
      ],
      "metadata": {
        "id": "F0VUsaM0niOe"
      },
      "execution_count": null,
      "outputs": []
    },
    {
      "cell_type": "code",
      "source": [
        "sentence"
      ],
      "metadata": {
        "colab": {
          "base_uri": "https://localhost:8080/",
          "height": 36
        },
        "id": "82Z2EO_CniR_",
        "outputId": "a922a233-7459-43f2-8e0c-c6ac11090235"
      },
      "execution_count": null,
      "outputs": [
        {
          "output_type": "execute_result",
          "data": {
            "text/plain": [
              "'my name is uttam and$working as as as data$scientist!'"
            ],
            "application/vnd.google.colaboratory.intrinsic+json": {
              "type": "string"
            }
          },
          "metadata": {},
          "execution_count": 31
        }
      ]
    },
    {
      "cell_type": "code",
      "source": [
        "string = \"p@#yn26at^&i5ve\"\n",
        "count_letter = 0\n",
        "count_digits = 0\n",
        "count_special_character = 0\n",
        "for i in string:\n",
        "    if i.isalpha():\n",
        "        count_letter += 1\n",
        "    if i.isdigit():\n",
        "        count_digits += 1\n",
        "    else:\n",
        "        count_special_character += 1\n",
        "print('number of letters - ', count_letter)\n",
        "print('number of digits - ', count_digits)\n",
        "print('number of special characters - ', count_special_character)\n"
      ],
      "metadata": {
        "colab": {
          "base_uri": "https://localhost:8080/"
        },
        "id": "O6ujsPKGniXq",
        "outputId": "9352264c-f97d-476a-dec2-fd31d02583c7"
      },
      "execution_count": null,
      "outputs": [
        {
          "output_type": "stream",
          "name": "stdout",
          "text": [
            "number of letters -  8\n",
            "number of digits -  3\n",
            "number of special characters -  12\n"
          ]
        }
      ]
    },
    {
      "cell_type": "code",
      "source": [],
      "metadata": {
        "id": "KMT6POoNyT1e"
      },
      "execution_count": null,
      "outputs": []
    },
    {
      "cell_type": "markdown",
      "source": [
        "# 14 sept Assignments"
      ],
      "metadata": {
        "id": "701RjCknx6KV"
      }
    },
    {
      "cell_type": "code",
      "source": [
        "# Print 1st 10 integers and their squares \n",
        "x = 0\n",
        "while x<=10:\n",
        "  print(f'the square of {x} is {x**2}')\n",
        "  x = x+1"
      ],
      "metadata": {
        "colab": {
          "base_uri": "https://localhost:8080/"
        },
        "outputId": "d582c34d-fe93-4a6d-f79a-64c4de4df5fd",
        "id": "73AkL3V9yV2u"
      },
      "execution_count": null,
      "outputs": [
        {
          "output_type": "stream",
          "name": "stdout",
          "text": [
            "the square of 0 is 0\n",
            "the square of 1 is 1\n",
            "the square of 2 is 4\n",
            "the square of 3 is 9\n",
            "the square of 4 is 16\n",
            "the square of 5 is 25\n",
            "the square of 6 is 36\n",
            "the square of 7 is 49\n",
            "the square of 8 is 64\n",
            "the square of 9 is 81\n",
            "the square of 10 is 100\n"
          ]
        }
      ]
    },
    {
      "cell_type": "code",
      "source": [
        "string_1 = \"P@#yn26at^&i5ve\"\n",
        "for i in string_1:\n",
        "  \n",
        "    print(i)"
      ],
      "metadata": {
        "id": "2b_DBFCMn-Kp"
      },
      "execution_count": null,
      "outputs": []
    },
    {
      "cell_type": "code",
      "source": [
        "########  Count all letters, digits, and special symbols from a given string\n",
        "nstr = \"P@#yn26at^&i5ve\"\n",
        "x = 0\n",
        "y = 0\n",
        "z = 0\n",
        "for i in nstr:\n",
        "    if i.isalpha():\n",
        "      x += 1\n",
        "    elif i.isdigit():\n",
        "      y += 1\n",
        "    else:\n",
        "      z += 1\n",
        "print(f'the total count of no.of letters is {x}')\n",
        "print(f'the total count of no.of digits is {y}')\n",
        "print(f'the total count of no.of special characters is {z}')"
      ],
      "metadata": {
        "colab": {
          "base_uri": "https://localhost:8080/"
        },
        "id": "RbWGsFdrsq-F",
        "outputId": "2d13b52c-88a5-43ab-a39b-dedc9814a854"
      },
      "execution_count": null,
      "outputs": [
        {
          "output_type": "stream",
          "name": "stdout",
          "text": [
            "the total count of no.of letters is 8\n",
            "the total count of no.of digits is 3\n",
            "the total count of no.of special characters is 4\n"
          ]
        }
      ]
    },
    {
      "cell_type": "code",
      "source": [],
      "metadata": {
        "id": "yUfd21kQynwK"
      },
      "execution_count": null,
      "outputs": []
    },
    {
      "cell_type": "code",
      "source": [
        "# Find all occurrences of a substring in a given string by ignoring the case (# As, AS, as)\n",
        "# Calculate the sum and average of the digits present in a string (str1 = \"PYnative29@#8496\")\n",
        "# Write a program to count occurrences of all characters within a string ( Madhuri chawale )\n",
        "# Reverse a given string ( can be anything )"
      ],
      "metadata": {
        "id": "oP0Onz73yV2w"
      },
      "execution_count": null,
      "outputs": []
    },
    {
      "cell_type": "code",
      "source": [
        "#1 Find all occurrences of a substring in a given string by ignoring the case (# As, AS, as)\n",
        "dstring = \"my name is jovani georgio but everbody calls me georgio\"\n",
        "dstring.split(' ')"
      ],
      "metadata": {
        "colab": {
          "base_uri": "https://localhost:8080/"
        },
        "id": "RoZ5Yqv-uRsw",
        "outputId": "10a0156b-e544-42a9-84bb-c66792d7ccf4"
      },
      "execution_count": null,
      "outputs": [
        {
          "output_type": "execute_result",
          "data": {
            "text/plain": [
              "['my',\n",
              " 'name',\n",
              " 'is',\n",
              " 'jovani',\n",
              " 'georgio',\n",
              " 'but',\n",
              " 'everbody',\n",
              " 'calls',\n",
              " 'me',\n",
              " 'georgio']"
            ]
          },
          "metadata": {},
          "execution_count": 5
        }
      ]
    },
    {
      "cell_type": "code",
      "source": [
        "#2 Calculate the sum and average of the digits present in a string (str1 = \"PYnative29@#8496\")\n",
        "str1 = \"PYnative29@#8496\"\n",
        "sum = 0\n",
        "count = 0\n",
        "for i in str1:\n",
        "  if i.isdigit() == True:\n",
        "    sum = sum+int(i)\n",
        "    count += 1 \n",
        "print(f'sum of digits is {sum} and average is {sum/count}')    "
      ],
      "metadata": {
        "colab": {
          "base_uri": "https://localhost:8080/"
        },
        "id": "TRYQMB85utHm",
        "outputId": "04b3132a-7398-410c-80f7-63044df60ff4"
      },
      "execution_count": null,
      "outputs": [
        {
          "output_type": "stream",
          "name": "stdout",
          "text": [
            "sum of digits is 38 and average is 6.333333333333333\n"
          ]
        }
      ]
    },
    {
      "cell_type": "code",
      "source": [
        "#3 Write a program to count occurrences of all characters within a string ( Madhuri chawale )\n",
        "strr = 'durgesh rathod'\n",
        "len(strr.split( ))\n"
      ],
      "metadata": {
        "colab": {
          "base_uri": "https://localhost:8080/"
        },
        "id": "2zGoC76XwY8F",
        "outputId": "bd5e3210-b32d-4bec-ea0e-03362b0d90ec"
      },
      "execution_count": null,
      "outputs": [
        {
          "output_type": "execute_result",
          "data": {
            "text/plain": [
              "2"
            ]
          },
          "metadata": {},
          "execution_count": 15
        }
      ]
    },
    {
      "cell_type": "code",
      "source": [
        "#4 Reverse a given string ( can be anything )\n",
        "dstring = 'my name is jovani georgio but everbody calls me georgio'\n",
        "dstring.split()[::-1]"
      ],
      "metadata": {
        "colab": {
          "base_uri": "https://localhost:8080/"
        },
        "id": "1xbGlCeJxGR4",
        "outputId": "06aa4ade-1178-4d43-cbfc-7b55e5218b78"
      },
      "execution_count": null,
      "outputs": [
        {
          "output_type": "execute_result",
          "data": {
            "text/plain": [
              "['georgio',\n",
              " 'me',\n",
              " 'calls',\n",
              " 'everbody',\n",
              " 'but',\n",
              " 'georgio',\n",
              " 'jovani',\n",
              " 'is',\n",
              " 'name',\n",
              " 'my']"
            ]
          },
          "metadata": {},
          "execution_count": 19
        }
      ]
    },
    {
      "cell_type": "code",
      "source": [
        "#check code \n",
        "l2 = input('enter the string')\n",
        "upper_char = 0\n",
        "lower_char = 0\n",
        "for i in l2:\n",
        "  if i.islower():\n",
        "    lower_char += 1\n",
        "  elif i.isupper():\n",
        "      upper_char +=1\n",
        "  else:\n",
        "        pass\n",
        "print('number of upper are:',upper_char)\n",
        "print('number of upper are:',lower_char) "
      ],
      "metadata": {
        "id": "xOlxCRsu5r4-"
      },
      "execution_count": null,
      "outputs": []
    },
    {
      "cell_type": "code",
      "source": [],
      "metadata": {
        "id": "oxA5cw3T58oZ"
      },
      "execution_count": null,
      "outputs": []
    },
    {
      "cell_type": "code",
      "source": [
        "# Write a Python function to check whether a number falls in a given range.\n",
        "# Write a Python function that accepts a string and calculate the number of upper case letters and lower case letters.\n",
        "# Write a Python function that takes a list and returns a new list with unique elements of the first list.( 2 ways )\n",
        "# Write a Python function that checks whether a passed string is palindrome or not.\n",
        "# Note: A palindrome is a word, phrase, or sequence that reads the same backward as forward, e.g., madam or nurses run."
      ],
      "metadata": {
        "id": "Z0jZ2UqztlKG"
      },
      "execution_count": null,
      "outputs": []
    },
    {
      "cell_type": "code",
      "source": [
        "Small=int(input(\"Enter the Small number :\"))\n",
        "big=int(input(\"Enter The Big Number :\"))\n",
        "print(\"All prime numbers between\",Small ,\"To\",big,\"Are :\")\n",
        "N=0\n",
        "for N in range(Small,big+1):\n",
        "    if N>1:\n",
        "        for i in range(2,N):\n",
        "             if (N%i)==0:\n",
        "                 break\n",
        "        else:\n",
        "            print(N)"
      ],
      "metadata": {
        "id": "pcHEY5uw9NSQ"
      },
      "execution_count": null,
      "outputs": []
    },
    {
      "cell_type": "code",
      "source": [
        "# Write a Python function that takes a list and returns a new list with unique elements of the first list.( 2 ways )\n",
        "def ulist (nlist):\n",
        "  x = []\n",
        "  for a in nlist:\n",
        "    if a not in x:\n",
        "      x.append(a)\n",
        "  return x"
      ],
      "metadata": {
        "id": "9voPYeegYzfB"
      },
      "execution_count": null,
      "outputs": []
    },
    {
      "cell_type": "code",
      "source": [
        "ulist([1,1,2,2,2,3,3,4,4,4,4,4,4,5,5,5,6,6,7,7,8,8,9,9])"
      ],
      "metadata": {
        "colab": {
          "base_uri": "https://localhost:8080/"
        },
        "id": "h3pjS6n5ZZLC",
        "outputId": "44a28055-e7dd-440b-af6a-642ee7ed1b92"
      },
      "execution_count": null,
      "outputs": [
        {
          "output_type": "execute_result",
          "data": {
            "text/plain": [
              "[1, 2, 3, 4, 5, 6, 7, 8, 9]"
            ]
          },
          "metadata": {},
          "execution_count": 29
        }
      ]
    },
    {
      "cell_type": "code",
      "source": [
        "# Write a Python function that checks whether a passed string is palindrome or not.\n",
        "def pallendrome (strr):\n",
        "  if strr == strr[::-1]:\n",
        "    return 'yes it is pallendrome'\n",
        "  else:\n",
        "    return 'no it is not pallendrome' "
      ],
      "metadata": {
        "id": "qeqBydY_d_md"
      },
      "execution_count": null,
      "outputs": []
    },
    {
      "cell_type": "code",
      "source": [
        "pallendrome('lmlll')"
      ],
      "metadata": {
        "colab": {
          "base_uri": "https://localhost:8080/",
          "height": 35
        },
        "id": "aylOjDyjmtBC",
        "outputId": "d64a2ef3-38b5-428c-9809-7fe203935500"
      },
      "execution_count": null,
      "outputs": [
        {
          "output_type": "execute_result",
          "data": {
            "text/plain": [
              "'no it is not pallendrome'"
            ],
            "application/vnd.google.colaboratory.intrinsic+json": {
              "type": "string"
            }
          },
          "metadata": {},
          "execution_count": 35
        }
      ]
    },
    {
      "cell_type": "code",
      "source": [
        "d = {'Rohan': [1,2,3],\n",
        "     'Parshuram': [10,20,30]}"
      ],
      "metadata": {
        "id": "97wOA5ycp5MH"
      },
      "execution_count": null,
      "outputs": []
    },
    {
      "cell_type": "code",
      "source": [
        "d.keys()"
      ],
      "metadata": {
        "colab": {
          "base_uri": "https://localhost:8080/"
        },
        "id": "Gs4Wshd3t-bT",
        "outputId": "e04b979b-e066-4d02-d324-17906aa37008"
      },
      "execution_count": null,
      "outputs": [
        {
          "output_type": "execute_result",
          "data": {
            "text/plain": [
              "dict_keys(['Rohan', 'Parshuram'])"
            ]
          },
          "metadata": {},
          "execution_count": 8
        }
      ]
    },
    {
      "cell_type": "code",
      "source": [
        "n_tuple = (1,2,3,4,5)\n",
        "del n_tuple[0]"
      ],
      "metadata": {
        "colab": {
          "base_uri": "https://localhost:8080/",
          "height": 183
        },
        "id": "ed51aaOTuHyt",
        "outputId": "9ee51344-dc68-43da-ca03-e68a5662633b"
      },
      "execution_count": null,
      "outputs": [
        {
          "output_type": "error",
          "ename": "TypeError",
          "evalue": "ignored",
          "traceback": [
            "\u001b[0;31m---------------------------------------------------------------------------\u001b[0m",
            "\u001b[0;31mTypeError\u001b[0m                                 Traceback (most recent call last)",
            "\u001b[0;32m<ipython-input-10-2b4179b53df5>\u001b[0m in \u001b[0;36m<module>\u001b[0;34m\u001b[0m\n\u001b[1;32m      1\u001b[0m \u001b[0mn_tuple\u001b[0m \u001b[0;34m=\u001b[0m \u001b[0;34m(\u001b[0m\u001b[0;36m1\u001b[0m\u001b[0;34m,\u001b[0m\u001b[0;36m2\u001b[0m\u001b[0;34m,\u001b[0m\u001b[0;36m3\u001b[0m\u001b[0;34m,\u001b[0m\u001b[0;36m4\u001b[0m\u001b[0;34m,\u001b[0m\u001b[0;36m5\u001b[0m\u001b[0;34m)\u001b[0m\u001b[0;34m\u001b[0m\u001b[0;34m\u001b[0m\u001b[0m\n\u001b[0;32m----> 2\u001b[0;31m \u001b[0;32mdel\u001b[0m \u001b[0mn_tuple\u001b[0m\u001b[0;34m[\u001b[0m\u001b[0;36m0\u001b[0m\u001b[0;34m]\u001b[0m\u001b[0;34m\u001b[0m\u001b[0;34m\u001b[0m\u001b[0m\n\u001b[0m",
            "\u001b[0;31mTypeError\u001b[0m: 'tuple' object doesn't support item deletion"
          ]
        }
      ]
    },
    {
      "cell_type": "code",
      "source": [],
      "metadata": {
        "id": "WzXHp1AnLdjZ"
      },
      "execution_count": null,
      "outputs": []
    },
    {
      "cell_type": "markdown",
      "source": [
        "16-September-2020"
      ],
      "metadata": {
        "id": "nGF72J5Kp68f"
      }
    },
    {
      "cell_type": "code",
      "source": [
        "# max(), mean()\n",
        "import numpy as np\n",
        "a = [1,2,3,4,5,6,7,8]\n",
        "np.mean(a)"
      ],
      "metadata": {
        "id": "1RA65i8G55kE",
        "colab": {
          "base_uri": "https://localhost:8080/"
        },
        "outputId": "e1d58cfa-f84a-44f6-d89f-0d545963f683"
      },
      "execution_count": null,
      "outputs": [
        {
          "output_type": "execute_result",
          "data": {
            "text/plain": [
              "4.5"
            ]
          },
          "metadata": {},
          "execution_count": 3
        }
      ]
    },
    {
      "cell_type": "code",
      "source": [
        "min(a)"
      ],
      "metadata": {
        "colab": {
          "base_uri": "https://localhost:8080/"
        },
        "id": "zsQ9DAQsp46C",
        "outputId": "1fc49bbc-f85f-41ea-9022-bcba9327f1a9"
      },
      "execution_count": null,
      "outputs": [
        {
          "output_type": "execute_result",
          "data": {
            "text/plain": [
              "1"
            ]
          },
          "metadata": {},
          "execution_count": 5
        }
      ]
    },
    {
      "cell_type": "code",
      "source": [
        "\n",
        "l1 = [1,2,3,4]\n",
        "l2 = l1.append([22,4, 0.6])\n",
        "#l2 = l1.extend([22,4])\n"
      ],
      "metadata": {
        "id": "8bweFdt0p49K"
      },
      "execution_count": null,
      "outputs": []
    },
    {
      "cell_type": "code",
      "source": [
        "l2 = l1"
      ],
      "metadata": {
        "id": "fUmyg7Sbp5CH"
      },
      "execution_count": null,
      "outputs": []
    },
    {
      "cell_type": "code",
      "source": [
        "l2"
      ],
      "metadata": {
        "colab": {
          "base_uri": "https://localhost:8080/"
        },
        "id": "3_es6Yyop5Fx",
        "outputId": "84eb2d0f-304f-4bdd-82b8-1d31e265b097"
      },
      "execution_count": null,
      "outputs": [
        {
          "output_type": "execute_result",
          "data": {
            "text/plain": [
              "[1, 2, 3, 4, [22, 4, 0.6]]"
            ]
          },
          "metadata": {},
          "execution_count": 32
        }
      ]
    },
    {
      "cell_type": "code",
      "source": [
        "# immutable ( cannot be change )"
      ],
      "metadata": {
        "id": "Zij37bxTp5I4"
      },
      "execution_count": null,
      "outputs": []
    },
    {
      "cell_type": "code",
      "source": [
        "d = {'Rohan': [1,2,3],\n",
        "     'Parshuram': [10,20,30], \n",
        "     'Samitha': ['a','b']}"
      ],
      "metadata": {
        "id": "XGLykJcoLeP1"
      },
      "execution_count": null,
      "outputs": []
    },
    {
      "cell_type": "code",
      "source": [
        "d['Rohan'] = [300,400]"
      ],
      "metadata": {
        "id": "iA6Job74p5PO"
      },
      "execution_count": null,
      "outputs": []
    },
    {
      "cell_type": "code",
      "source": [
        "d.keys()"
      ],
      "metadata": {
        "colab": {
          "base_uri": "https://localhost:8080/"
        },
        "id": "-Sps-zMfp5TE",
        "outputId": "7bcb8730-4a78-4bea-ad13-ba4123205f5f"
      },
      "execution_count": null,
      "outputs": [
        {
          "output_type": "execute_result",
          "data": {
            "text/plain": [
              "dict_keys(['Parshuram', 'Samitha'])"
            ]
          },
          "metadata": {},
          "execution_count": 49
        }
      ]
    },
    {
      "cell_type": "code",
      "source": [
        "del d['Rohan']"
      ],
      "metadata": {
        "id": "CCjWekZ_p5WD"
      },
      "execution_count": null,
      "outputs": []
    },
    {
      "cell_type": "code",
      "source": [
        "d.pop('Rohan')"
      ],
      "metadata": {
        "colab": {
          "base_uri": "https://localhost:8080/"
        },
        "id": "t9LDMrFQp5Y8",
        "outputId": "0c630e42-fc70-4638-c352-b1fde253a8bd"
      },
      "execution_count": null,
      "outputs": [
        {
          "output_type": "execute_result",
          "data": {
            "text/plain": [
              "[1, 2, 3]"
            ]
          },
          "metadata": {},
          "execution_count": 47
        }
      ]
    },
    {
      "cell_type": "code",
      "source": [
        "d"
      ],
      "metadata": {
        "colab": {
          "base_uri": "https://localhost:8080/"
        },
        "id": "-AChGmwrp5cc",
        "outputId": "3f59438e-7a2f-4f62-a428-62910f06241e"
      },
      "execution_count": null,
      "outputs": [
        {
          "output_type": "execute_result",
          "data": {
            "text/plain": [
              "{'Parshuram': [10, 20, 30], 'Samitha': ['a', 'b']}"
            ]
          },
          "metadata": {},
          "execution_count": 48
        }
      ]
    },
    {
      "cell_type": "code",
      "source": [
        "a = '     Akshda   '"
      ],
      "metadata": {
        "id": "xwD_NfAjp5gH"
      },
      "execution_count": null,
      "outputs": []
    },
    {
      "cell_type": "code",
      "source": [
        "a.rstrip()"
      ],
      "metadata": {
        "colab": {
          "base_uri": "https://localhost:8080/",
          "height": 36
        },
        "id": "tfpcd_ZDwhZa",
        "outputId": "5373fcb3-e23f-4b07-9e71-44ac3d427d00"
      },
      "execution_count": null,
      "outputs": [
        {
          "output_type": "execute_result",
          "data": {
            "text/plain": [
              "'     Akshda'"
            ],
            "application/vnd.google.colaboratory.intrinsic+json": {
              "type": "string"
            }
          },
          "metadata": {},
          "execution_count": 54
        }
      ]
    },
    {
      "cell_type": "code",
      "source": [
        "a.lstrip()"
      ],
      "metadata": {
        "colab": {
          "base_uri": "https://localhost:8080/",
          "height": 36
        },
        "id": "5fOCPP-2whfi",
        "outputId": "bf9450a2-257f-4d99-97a4-c5000356802b"
      },
      "execution_count": null,
      "outputs": [
        {
          "output_type": "execute_result",
          "data": {
            "text/plain": [
              "'Akshda   '"
            ],
            "application/vnd.google.colaboratory.intrinsic+json": {
              "type": "string"
            }
          },
          "metadata": {},
          "execution_count": 55
        }
      ]
    },
    {
      "cell_type": "code",
      "source": [
        "a.strip()"
      ],
      "metadata": {
        "colab": {
          "base_uri": "https://localhost:8080/",
          "height": 36
        },
        "id": "Zx4J9Tl4whk5",
        "outputId": "50247d2d-628b-494f-a7f9-1c23b67c4644"
      },
      "execution_count": null,
      "outputs": [
        {
          "output_type": "execute_result",
          "data": {
            "text/plain": [
              "'Akshda'"
            ],
            "application/vnd.google.colaboratory.intrinsic+json": {
              "type": "string"
            }
          },
          "metadata": {},
          "execution_count": 58
        }
      ]
    },
    {
      "cell_type": "code",
      "source": [
        "a = ' sammi '\n",
        "a = a.strip()\n",
        "a\n",
        "\n"
      ],
      "metadata": {
        "colab": {
          "base_uri": "https://localhost:8080/",
          "height": 36
        },
        "id": "5b00pzwNwhue",
        "outputId": "ed4e4270-44e1-445e-c681-4d56ec62b0af"
      },
      "execution_count": null,
      "outputs": [
        {
          "output_type": "execute_result",
          "data": {
            "text/plain": [
              "'sammi'"
            ],
            "application/vnd.google.colaboratory.intrinsic+json": {
              "type": "string"
            }
          },
          "metadata": {},
          "execution_count": 60
        }
      ]
    },
    {
      "cell_type": "code",
      "source": [
        "a=int(input(\"Enter the Smallest element :\"))\n",
        "for i in range(1,a):     \n",
        "  i=i*i*i\n",
        "  print(i)\n"
      ],
      "metadata": {
        "colab": {
          "base_uri": "https://localhost:8080/"
        },
        "id": "X7t_ULxzwhzZ",
        "outputId": "72ec2249-299e-4c57-bd6d-707e2d63bc1b"
      },
      "execution_count": null,
      "outputs": [
        {
          "output_type": "stream",
          "name": "stdout",
          "text": [
            "Enter the Smallest element :5\n",
            "1\n",
            "8\n",
            "27\n",
            "64\n"
          ]
        }
      ]
    },
    {
      "cell_type": "code",
      "source": [
        "l = ['Akshada', 'Black', 'Aman', 'Durgesh','Chintu','Zebra','Uttam','Hareshyadav', 'kia', 'zid' ]"
      ],
      "metadata": {
        "id": "5YtjhORDp5jx"
      },
      "execution_count": null,
      "outputs": []
    },
    {
      "cell_type": "code",
      "source": [
        "l.sort(reverse = True)"
      ],
      "metadata": {
        "id": "sBl66Q4H1U6h"
      },
      "execution_count": null,
      "outputs": []
    },
    {
      "cell_type": "code",
      "source": [
        "l"
      ],
      "metadata": {
        "colab": {
          "base_uri": "https://localhost:8080/"
        },
        "id": "omxg082g1U-m",
        "outputId": "d18d71dc-1c65-4327-bab8-d367a70dc85f"
      },
      "execution_count": null,
      "outputs": [
        {
          "output_type": "execute_result",
          "data": {
            "text/plain": [
              "['Zebra',\n",
              " 'Uttam',\n",
              " 'Hareshyadav',\n",
              " 'Durgesh',\n",
              " 'Chintu',\n",
              " 'Black',\n",
              " 'Aman',\n",
              " 'Akshada']"
            ]
          },
          "metadata": {},
          "execution_count": 125
        }
      ]
    },
    {
      "cell_type": "code",
      "source": [
        "l"
      ],
      "metadata": {
        "colab": {
          "base_uri": "https://localhost:8080/"
        },
        "id": "OD6HnPba1VEo",
        "outputId": "dce65777-257c-4a52-a7d2-063b2086432e"
      },
      "execution_count": null,
      "outputs": [
        {
          "output_type": "execute_result",
          "data": {
            "text/plain": [
              "['Akshada', 'Black', 'Aman', 'Durgesh', '14', '15', 'Chintu', 'Zebra', 'Uttam']"
            ]
          },
          "metadata": {},
          "execution_count": 103
        }
      ]
    },
    {
      "cell_type": "code",
      "source": [
        "def function(x):\n",
        "  return len(x)\n",
        "l = ['Akshada', 'Black', 'Aman', 'Durgesh','Chintu','Zebra','Uttam','Hareshyadav','Mad', 'kia','zid' ]"
      ],
      "metadata": {
        "id": "NyFKa2TW1VI_"
      },
      "execution_count": null,
      "outputs": []
    },
    {
      "cell_type": "code",
      "source": [
        "l.sort()"
      ],
      "metadata": {
        "id": "DL_mqcs-1VOb"
      },
      "execution_count": null,
      "outputs": []
    },
    {
      "cell_type": "code",
      "source": [
        "l"
      ],
      "metadata": {
        "colab": {
          "base_uri": "https://localhost:8080/"
        },
        "id": "Ib8E4aKB1VUA",
        "outputId": "5dfe9aa0-1117-4ce9-8037-c1d08cc70fd1"
      },
      "execution_count": null,
      "outputs": [
        {
          "output_type": "execute_result",
          "data": {
            "text/plain": [
              "['Akshada',\n",
              " 'Aman',\n",
              " 'Black',\n",
              " 'Chintu',\n",
              " 'Durgesh',\n",
              " 'Hareshyadav',\n",
              " 'Mad',\n",
              " 'Uttam',\n",
              " 'Zebra',\n",
              " 'kia',\n",
              " 'zid']"
            ]
          },
          "metadata": {},
          "execution_count": 148
        }
      ]
    },
    {
      "cell_type": "code",
      "source": [
        "dic = [{'car': 'Kia', 'year': 2012},\n",
        "      {'car': 'Maruti', 'year': 2005},\n",
        "      {'car': 'marcedes', 'year': 2015},\n",
        "      {'car': 'Audi', 'year': 2020},\n",
        "      {'car': 'BMW', 'year': 2001}]"
      ],
      "metadata": {
        "id": "2Qo6irkd1VZN"
      },
      "execution_count": null,
      "outputs": []
    },
    {
      "cell_type": "code",
      "source": [
        "def mycar(x):\n",
        "  return x['year']"
      ],
      "metadata": {
        "id": "5IOLuJdg1Vdg"
      },
      "execution_count": null,
      "outputs": []
    },
    {
      "cell_type": "code",
      "source": [
        "dic.sort(key = mycar)"
      ],
      "metadata": {
        "id": "WWIVCFYx1Vic"
      },
      "execution_count": null,
      "outputs": []
    },
    {
      "cell_type": "code",
      "source": [
        "dic"
      ],
      "metadata": {
        "colab": {
          "base_uri": "https://localhost:8080/"
        },
        "id": "CyqCJxMU1Vmj",
        "outputId": "3014a8fb-7f58-4673-e66c-9074fd86c112"
      },
      "execution_count": null,
      "outputs": [
        {
          "output_type": "execute_result",
          "data": {
            "text/plain": [
              "[{'car': 'Audi', 'year': 2020},\n",
              " {'car': 'BMW', 'year': 2001},\n",
              " {'car': 'Kia', 'year': 2012},\n",
              " {'car': 'Maruti', 'year': 2005},\n",
              " {'car': 'marcedes', 'year': 2015}]"
            ]
          },
          "metadata": {},
          "execution_count": 174
        }
      ]
    },
    {
      "cell_type": "code",
      "source": [
        "d = ['urvish','roy','kite','ball']\n",
        "d.sort()\n",
        "\n",
        "def function(x):\n",
        "  return len(x)\n",
        "d.sort(key = function) \n"
      ],
      "metadata": {
        "id": "3qm86DDqp5m0"
      },
      "execution_count": null,
      "outputs": []
    },
    {
      "cell_type": "code",
      "source": [
        "def mycar(x):\n",
        "  return x['car']\n",
        "  return x['year']\n",
        " \n"
      ],
      "metadata": {
        "id": "Tq4Z9uc1p5p_"
      },
      "execution_count": null,
      "outputs": []
    },
    {
      "cell_type": "code",
      "source": [
        "numbers = [10,20,30,\"python \",' java' ]"
      ],
      "metadata": {
        "id": "9gcuidlrEJQJ"
      },
      "execution_count": null,
      "outputs": []
    },
    {
      "cell_type": "code",
      "source": [],
      "metadata": {
        "colab": {
          "base_uri": "https://localhost:8080/"
        },
        "id": "UP35MQXZJYJb",
        "outputId": "c8960ddf-32b6-4f90-a285-5daadfdd22ac"
      },
      "execution_count": null,
      "outputs": [
        {
          "output_type": "execute_result",
          "data": {
            "text/plain": [
              "True"
            ]
          },
          "metadata": {},
          "execution_count": 22
        }
      ]
    },
    {
      "cell_type": "code",
      "source": [
        "strr = ''\n",
        "for i in 'Uttam':\n",
        "  strr = i + strr\n",
        "print(strr)"
      ],
      "metadata": {
        "colab": {
          "base_uri": "https://localhost:8080/"
        },
        "id": "eQTzTM9zwelu",
        "outputId": "1b836c29-0352-411c-b882-0d6fb7bb7a1a"
      },
      "execution_count": null,
      "outputs": [
        {
          "output_type": "stream",
          "name": "stdout",
          "text": [
            "mattU\n"
          ]
        }
      ]
    },
    {
      "cell_type": "code",
      "source": [
        "strr = ''\n",
        "for i in 'Uttam':\n",
        "  strr = strr + i\n",
        "print(strr)"
      ],
      "metadata": {
        "colab": {
          "base_uri": "https://localhost:8080/"
        },
        "id": "ee6fnYen3y4P",
        "outputId": "3e2aff35-2da9-493c-fcfe-02396e7cd70a"
      },
      "execution_count": null,
      "outputs": [
        {
          "output_type": "stream",
          "name": "stdout",
          "text": [
            "Uttam\n"
          ]
        }
      ]
    },
    {
      "cell_type": "code",
      "source": [
        "####### ###### set is not allowed list inside \n",
        "s={1,2,3,'uttam',[10,20,30]}\n",
        "s"
      ],
      "metadata": {
        "id": "mLO5Bitx67My"
      },
      "execution_count": null,
      "outputs": []
    },
    {
      "cell_type": "code",
      "source": [
        "####### ###### now it will allow bcoz it is converted into the string \n",
        "s={1,2,3,'uttam','[10,20,30]'}\n",
        "s"
      ],
      "metadata": {
        "colab": {
          "base_uri": "https://localhost:8080/"
        },
        "id": "bBpI6oHP8_xF",
        "outputId": "3712be64-60d7-4eb2-d497-a595bb1c5d77"
      },
      "execution_count": null,
      "outputs": [
        {
          "output_type": "execute_result",
          "data": {
            "text/plain": [
              "{1, 2, 3, '[10,20,30]', 'uttam'}"
            ]
          },
          "metadata": {},
          "execution_count": 7
        }
      ]
    },
    {
      "cell_type": "code",
      "source": [
        "#https://pynative.com/python-exercises-with-solutions/"
      ],
      "metadata": {
        "id": "hEKSc4cBJAiA"
      },
      "execution_count": null,
      "outputs": []
    },
    {
      "cell_type": "code",
      "source": [
        "#https://colab.research.google.com/drive/1X9tLD1mXF0mFdVPBwTYGGPihRtx4tGXV?usp=sharing#scrollTo=eQTzTM9zwelu"
      ],
      "metadata": {
        "id": "D6L9nCbmMhkQ"
      },
      "execution_count": null,
      "outputs": []
    },
    {
      "cell_type": "code",
      "source": [],
      "metadata": {
        "id": "dsplPJ0gMmZ1"
      },
      "execution_count": null,
      "outputs": []
    },
    {
      "cell_type": "markdown",
      "source": [
        "# 17 september"
      ],
      "metadata": {
        "id": "HHoSiNe1dUqJ"
      }
    },
    {
      "cell_type": "code",
      "source": [],
      "metadata": {
        "id": "qcLnrSRPdZ9L"
      },
      "execution_count": null,
      "outputs": []
    },
    {
      "cell_type": "markdown",
      "source": [
        "17-September-2022"
      ],
      "metadata": {
        "id": "MXASBDnMwozB"
      }
    },
    {
      "cell_type": "code",
      "source": [
        "for i in 'string':\n",
        "  if i == 'n':\n",
        "    break\n",
        "  print(i)\n",
        "print('The END')"
      ],
      "metadata": {
        "colab": {
          "base_uri": "https://localhost:8080/"
        },
        "id": "pAmH_sPPweaF",
        "outputId": "b6ab2c34-f15d-491a-830a-adb719f937a8"
      },
      "execution_count": null,
      "outputs": [
        {
          "output_type": "stream",
          "name": "stdout",
          "text": [
            "s\n",
            "t\n",
            "r\n",
            "i\n",
            "The END\n"
          ]
        }
      ]
    },
    {
      "cell_type": "code",
      "source": [
        "# How many Object will be formed in the memory after running this line of Python?\n"
      ],
      "metadata": {
        "id": "wuG9JeFExT0U"
      },
      "execution_count": null,
      "outputs": []
    },
    {
      "cell_type": "code",
      "source": [
        "x = [(1,2,3),{1,1,1,2},\"This Question is Easy Please don't skip it\",3.14]\n",
        "id(x)"
      ],
      "metadata": {
        "colab": {
          "base_uri": "https://localhost:8080/"
        },
        "id": "mEUm0_jtwec6",
        "outputId": "88962245-b93c-4b97-e985-5e264714efb1"
      },
      "execution_count": null,
      "outputs": [
        {
          "output_type": "execute_result",
          "data": {
            "text/plain": [
              "140470012972560"
            ]
          },
          "metadata": {},
          "execution_count": 3
        }
      ]
    },
    {
      "cell_type": "code",
      "source": [
        "y = 12\n",
        "id(y)"
      ],
      "metadata": {
        "colab": {
          "base_uri": "https://localhost:8080/"
        },
        "id": "79-lSCz-wegF",
        "outputId": "7b322458-df7a-4cb2-b43e-fc6ebe86febd"
      },
      "execution_count": null,
      "outputs": [
        {
          "output_type": "execute_result",
          "data": {
            "text/plain": [
              "11122944"
            ]
          },
          "metadata": {},
          "execution_count": 5
        }
      ]
    },
    {
      "cell_type": "code",
      "source": [
        "a = input(\"enter a string\")\n",
        "b = \" \"\n",
        "c = len(a)\n",
        "\n",
        "for i in range(1,2):\n",
        "  b = a[::-1]\n",
        "    \n",
        "if b==a :\n",
        "  print(\"palindrome\",a)  \n",
        "else :\n",
        "  print(\"not palindrome\") \n"
      ],
      "metadata": {
        "colab": {
          "base_uri": "https://localhost:8080/"
        },
        "id": "HOumZVHsweiw",
        "outputId": "2f529479-e943-4653-f0af-97bb0862dac5"
      },
      "execution_count": null,
      "outputs": [
        {
          "output_type": "stream",
          "name": "stdout",
          "text": [
            "enter a stringmadam\n",
            "palindrome madam\n"
          ]
        }
      ]
    },
    {
      "cell_type": "code",
      "source": [
        "def rev(x):\n",
        "  strr = ''\n",
        "  for i in x:\n",
        "    strr = i + strr\n",
        "\n",
        "  if strr == x:\n",
        "    return 'Palindrome'\n",
        "  else:\n",
        "    return 'Not Palindrome'\n",
        "  "
      ],
      "metadata": {
        "id": "Sl5CHKXFdagf"
      },
      "execution_count": null,
      "outputs": []
    },
    {
      "cell_type": "code",
      "source": [
        "rev('naman')"
      ],
      "metadata": {
        "colab": {
          "base_uri": "https://localhost:8080/",
          "height": 36
        },
        "id": "1jcWSuVtweov",
        "outputId": "5690c94c-ed7f-4d53-e66b-cb6002fd33e4"
      },
      "execution_count": null,
      "outputs": [
        {
          "output_type": "execute_result",
          "data": {
            "text/plain": [
              "'Palindrome'"
            ],
            "application/vnd.google.colaboratory.intrinsic+json": {
              "type": "string"
            }
          },
          "metadata": {},
          "execution_count": 30
        }
      ]
    },
    {
      "cell_type": "code",
      "source": [
        "# Set\n",
        "my_set = {1,2,3,3, 'uttam', 'Uttam'}\n",
        "my_set"
      ],
      "metadata": {
        "colab": {
          "base_uri": "https://localhost:8080/"
        },
        "id": "mYKKTOWFwesQ",
        "outputId": "143e13ef-a59f-48aa-b716-ea2cabc26445"
      },
      "execution_count": null,
      "outputs": [
        {
          "output_type": "execute_result",
          "data": {
            "text/plain": [
              "{1, 2, 3, 'Uttam', 'uttam'}"
            ]
          },
          "metadata": {},
          "execution_count": 48
        }
      ]
    },
    {
      "cell_type": "code",
      "source": [
        "a = set('abcc')\n",
        "l = ['uttam', 'parshuram']\n",
        "a.update(l)"
      ],
      "metadata": {
        "id": "VLeJYeDJwevK"
      },
      "execution_count": null,
      "outputs": []
    },
    {
      "cell_type": "code",
      "source": [
        "a.add(5)"
      ],
      "metadata": {
        "id": "vZ7K-vYiwezF"
      },
      "execution_count": null,
      "outputs": []
    },
    {
      "cell_type": "code",
      "source": [
        "a"
      ],
      "metadata": {
        "colab": {
          "base_uri": "https://localhost:8080/"
        },
        "id": "mU0M3J_Vwe1j",
        "outputId": "70f8be3b-6f77-46c4-d9a9-7b3e03a7c758"
      },
      "execution_count": null,
      "outputs": [
        {
          "output_type": "execute_result",
          "data": {
            "text/plain": [
              "{5, 'a', 'b', 'c', 'parshuram', 'uttam'}"
            ]
          },
          "metadata": {},
          "execution_count": 74
        }
      ]
    },
    {
      "cell_type": "code",
      "source": [
        "a.update([2,3,4])"
      ],
      "metadata": {
        "id": "HvY3oswhwe4t"
      },
      "execution_count": null,
      "outputs": []
    },
    {
      "cell_type": "code",
      "source": [
        "a.update([6,7], {10,20,30})"
      ],
      "metadata": {
        "id": "SDlTpxDgwe7p"
      },
      "execution_count": null,
      "outputs": []
    },
    {
      "cell_type": "code",
      "source": [
        "a.discard(10)"
      ],
      "metadata": {
        "id": "7IhwJ8Mmwe-g"
      },
      "execution_count": null,
      "outputs": []
    },
    {
      "cell_type": "code",
      "source": [
        "a.remove(30)"
      ],
      "metadata": {
        "id": "mpZyGEbtwfB5"
      },
      "execution_count": null,
      "outputs": []
    },
    {
      "cell_type": "code",
      "source": [
        "a.discard(100)"
      ],
      "metadata": {
        "id": "-8aoBsDjwfGt"
      },
      "execution_count": null,
      "outputs": []
    },
    {
      "cell_type": "code",
      "source": [
        "a"
      ],
      "metadata": {
        "colab": {
          "base_uri": "https://localhost:8080/"
        },
        "id": "Q1qUoUgQwfJd",
        "outputId": "d0b9476d-7048-4406-dddb-4646ca163526"
      },
      "execution_count": null,
      "outputs": [
        {
          "output_type": "execute_result",
          "data": {
            "text/plain": [
              "{2, 20, 3, 4, 5, 6, 7, 'a', 'b', 'c', 'parshuram', 'uttam'}"
            ]
          },
          "metadata": {},
          "execution_count": 84
        }
      ]
    },
    {
      "cell_type": "code",
      "source": [
        "a.remove(100)"
      ],
      "metadata": {
        "colab": {
          "base_uri": "https://localhost:8080/",
          "height": 171
        },
        "id": "luYHsIQ3wfMf",
        "outputId": "960a7a46-baa8-4061-9ce9-068851ebd6cf"
      },
      "execution_count": null,
      "outputs": [
        {
          "output_type": "error",
          "ename": "KeyError",
          "evalue": "ignored",
          "traceback": [
            "\u001b[0;31m---------------------------------------------------------------------------\u001b[0m",
            "\u001b[0;31mKeyError\u001b[0m                                  Traceback (most recent call last)",
            "\u001b[0;32m<ipython-input-85-5fad16023209>\u001b[0m in \u001b[0;36m<module>\u001b[0;34m\u001b[0m\n\u001b[0;32m----> 1\u001b[0;31m \u001b[0ma\u001b[0m\u001b[0;34m.\u001b[0m\u001b[0mremove\u001b[0m\u001b[0;34m(\u001b[0m\u001b[0;36m100\u001b[0m\u001b[0;34m)\u001b[0m\u001b[0;34m\u001b[0m\u001b[0;34m\u001b[0m\u001b[0m\n\u001b[0m",
            "\u001b[0;31mKeyError\u001b[0m: 100"
          ]
        }
      ]
    },
    {
      "cell_type": "code",
      "source": [
        "s = set('HelloWorld')\n",
        "s"
      ],
      "metadata": {
        "colab": {
          "base_uri": "https://localhost:8080/"
        },
        "id": "o5nGOHYCwfPu",
        "outputId": "059ea0a3-378b-4ed6-d246-c45238ef73d9"
      },
      "execution_count": null,
      "outputs": [
        {
          "output_type": "execute_result",
          "data": {
            "text/plain": [
              "{'H', 'W', 'd', 'e', 'l', 'o', 'r'}"
            ]
          },
          "metadata": {},
          "execution_count": 86
        }
      ]
    },
    {
      "cell_type": "code",
      "source": [
        "s.pop()"
      ],
      "metadata": {
        "colab": {
          "base_uri": "https://localhost:8080/",
          "height": 36
        },
        "id": "o9zClK4pwfTk",
        "outputId": "19b5895c-483d-4921-ca8c-ec815260e1bf"
      },
      "execution_count": null,
      "outputs": [
        {
          "output_type": "execute_result",
          "data": {
            "text/plain": [
              "'e'"
            ],
            "application/vnd.google.colaboratory.intrinsic+json": {
              "type": "string"
            }
          },
          "metadata": {},
          "execution_count": 87
        }
      ]
    },
    {
      "cell_type": "code",
      "source": [
        "s.pop()"
      ],
      "metadata": {
        "colab": {
          "base_uri": "https://localhost:8080/",
          "height": 36
        },
        "id": "nPtMnkSIwfgq",
        "outputId": "f8984597-4afe-41ec-ce19-4c6e413250ba"
      },
      "execution_count": null,
      "outputs": [
        {
          "output_type": "execute_result",
          "data": {
            "text/plain": [
              "'r'"
            ],
            "application/vnd.google.colaboratory.intrinsic+json": {
              "type": "string"
            }
          },
          "metadata": {},
          "execution_count": 91
        }
      ]
    },
    {
      "cell_type": "code",
      "source": [
        "s.clear()"
      ],
      "metadata": {
        "id": "ABPVs9O8wfj7"
      },
      "execution_count": null,
      "outputs": []
    },
    {
      "cell_type": "code",
      "source": [
        "s"
      ],
      "metadata": {
        "colab": {
          "base_uri": "https://localhost:8080/"
        },
        "id": "6iqrMXGOwfm0",
        "outputId": "5de3ccac-8da5-4e52-bc5e-cace2c67bbed"
      },
      "execution_count": null,
      "outputs": [
        {
          "output_type": "execute_result",
          "data": {
            "text/plain": [
              "set()"
            ]
          },
          "metadata": {},
          "execution_count": 93
        }
      ]
    },
    {
      "cell_type": "code",
      "source": [
        "A = {1,2,3,4,5}\n",
        "B = {4,5,6,7,8}\n",
        "A|B"
      ],
      "metadata": {
        "colab": {
          "base_uri": "https://localhost:8080/"
        },
        "id": "WCp9ZHcYwfqB",
        "outputId": "592f39d6-7fa8-4265-9d66-5953ac83aa1e"
      },
      "execution_count": null,
      "outputs": [
        {
          "output_type": "execute_result",
          "data": {
            "text/plain": [
              "{1, 2, 3, 4, 5, 6, 7, 8}"
            ]
          },
          "metadata": {},
          "execution_count": 94
        }
      ]
    },
    {
      "cell_type": "code",
      "source": [
        "A.union(B)"
      ],
      "metadata": {
        "colab": {
          "base_uri": "https://localhost:8080/"
        },
        "id": "PRVjdFYkwftD",
        "outputId": "fb1beb71-ce77-494d-c4b3-13ac5fc7676c"
      },
      "execution_count": null,
      "outputs": [
        {
          "output_type": "execute_result",
          "data": {
            "text/plain": [
              "{1, 2, 3, 4, 5, 6, 7, 8}"
            ]
          },
          "metadata": {},
          "execution_count": 95
        }
      ]
    },
    {
      "cell_type": "code",
      "source": [
        "B.union(A)"
      ],
      "metadata": {
        "id": "0sESs1tEp5s8",
        "colab": {
          "base_uri": "https://localhost:8080/"
        },
        "outputId": "330a8f1a-a327-4e0a-88d5-018461164cb4"
      },
      "execution_count": null,
      "outputs": [
        {
          "output_type": "execute_result",
          "data": {
            "text/plain": [
              "{1, 2, 3, 4, 5, 6, 7, 8}"
            ]
          },
          "metadata": {},
          "execution_count": 96
        }
      ]
    },
    {
      "cell_type": "code",
      "source": [
        "A & B"
      ],
      "metadata": {
        "colab": {
          "base_uri": "https://localhost:8080/"
        },
        "id": "BbznT1-6EsrX",
        "outputId": "9e09c5dd-bfda-4d04-b957-3d7045e33f4c"
      },
      "execution_count": null,
      "outputs": [
        {
          "output_type": "execute_result",
          "data": {
            "text/plain": [
              "{4, 5}"
            ]
          },
          "metadata": {},
          "execution_count": 97
        }
      ]
    },
    {
      "cell_type": "code",
      "source": [
        "A.intersection(B)"
      ],
      "metadata": {
        "colab": {
          "base_uri": "https://localhost:8080/"
        },
        "id": "WdJL-Nm2Esw0",
        "outputId": "6ff6cefb-e379-42b3-8663-6d9cb0acf494"
      },
      "execution_count": null,
      "outputs": [
        {
          "output_type": "execute_result",
          "data": {
            "text/plain": [
              "{4, 5}"
            ]
          },
          "metadata": {},
          "execution_count": 98
        }
      ]
    },
    {
      "cell_type": "code",
      "source": [
        "A\n"
      ],
      "metadata": {
        "colab": {
          "base_uri": "https://localhost:8080/"
        },
        "id": "jUD7Jf-zF-vD",
        "outputId": "89f860b7-a082-42e8-a970-525815ded4c2"
      },
      "execution_count": null,
      "outputs": [
        {
          "output_type": "execute_result",
          "data": {
            "text/plain": [
              "{1, 2, 3, 4, 5}"
            ]
          },
          "metadata": {},
          "execution_count": 104
        }
      ]
    },
    {
      "cell_type": "code",
      "source": [
        "B"
      ],
      "metadata": {
        "colab": {
          "base_uri": "https://localhost:8080/"
        },
        "id": "sgXcM5SvF_aH",
        "outputId": "ab4b3685-2a05-4f39-a4fb-b73af4fbdbbf"
      },
      "execution_count": null,
      "outputs": [
        {
          "output_type": "execute_result",
          "data": {
            "text/plain": [
              "{4, 5, 6, 7, 8}"
            ]
          },
          "metadata": {},
          "execution_count": 105
        }
      ]
    },
    {
      "cell_type": "code",
      "source": [
        "A.difference(B)"
      ],
      "metadata": {
        "colab": {
          "base_uri": "https://localhost:8080/"
        },
        "id": "v1e4Y8EjEs21",
        "outputId": "1c5f160c-4b79-4f5f-8872-5e9c55550512"
      },
      "execution_count": null,
      "outputs": [
        {
          "output_type": "execute_result",
          "data": {
            "text/plain": [
              "{1, 2, 3}"
            ]
          },
          "metadata": {},
          "execution_count": 99
        }
      ]
    },
    {
      "cell_type": "code",
      "source": [
        "A - B"
      ],
      "metadata": {
        "colab": {
          "base_uri": "https://localhost:8080/"
        },
        "id": "3t6adGpEGLzL",
        "outputId": "37e9ca78-491b-44b4-8188-fe282e7e9c02"
      },
      "execution_count": null,
      "outputs": [
        {
          "output_type": "execute_result",
          "data": {
            "text/plain": [
              "{1, 2, 3}"
            ]
          },
          "metadata": {},
          "execution_count": 106
        }
      ]
    },
    {
      "cell_type": "code",
      "source": [
        "B.difference(A)"
      ],
      "metadata": {
        "colab": {
          "base_uri": "https://localhost:8080/"
        },
        "id": "Wlp2D8x5Es8U",
        "outputId": "7bfa8c7d-77bb-4bd8-ce74-15fca7ea784b"
      },
      "execution_count": null,
      "outputs": [
        {
          "output_type": "execute_result",
          "data": {
            "text/plain": [
              "{6, 7, 8}"
            ]
          },
          "metadata": {},
          "execution_count": 100
        }
      ]
    },
    {
      "cell_type": "code",
      "source": [
        "C = A.copy()"
      ],
      "metadata": {
        "id": "XtcfU6hUEtCE"
      },
      "execution_count": null,
      "outputs": []
    },
    {
      "cell_type": "code",
      "source": [
        "C"
      ],
      "metadata": {
        "colab": {
          "base_uri": "https://localhost:8080/"
        },
        "id": "rcsVxGNiEtHy",
        "outputId": "400eb298-4d39-414d-e251-79c252ce9b8a"
      },
      "execution_count": null,
      "outputs": [
        {
          "output_type": "execute_result",
          "data": {
            "text/plain": [
              "{1, 2, 3, 4, 5}"
            ]
          },
          "metadata": {},
          "execution_count": 103
        }
      ]
    },
    {
      "cell_type": "code",
      "source": [
        "# Dictionary \n",
        "d = {'Name': 'Uttam', 'Age': 38}\n",
        "d['Name']"
      ],
      "metadata": {
        "colab": {
          "base_uri": "https://localhost:8080/",
          "height": 36
        },
        "id": "gw1-fTiBEtMt",
        "outputId": "a4c2ffad-61a5-47c2-c723-8e7964308342"
      },
      "execution_count": null,
      "outputs": [
        {
          "output_type": "execute_result",
          "data": {
            "text/plain": [
              "'Uttam'"
            ],
            "application/vnd.google.colaboratory.intrinsic+json": {
              "type": "string"
            }
          },
          "metadata": {},
          "execution_count": 108
        }
      ]
    },
    {
      "cell_type": "code",
      "source": [
        "d.get('Name')"
      ],
      "metadata": {
        "colab": {
          "base_uri": "https://localhost:8080/",
          "height": 36
        },
        "id": "boa5euGqEtQZ",
        "outputId": "94962894-7864-491a-981d-e729702ddeb3"
      },
      "execution_count": null,
      "outputs": [
        {
          "output_type": "execute_result",
          "data": {
            "text/plain": [
              "'Uttam'"
            ],
            "application/vnd.google.colaboratory.intrinsic+json": {
              "type": "string"
            }
          },
          "metadata": {},
          "execution_count": 109
        }
      ]
    },
    {
      "cell_type": "code",
      "source": [
        "d['Name'] = 'Akshada'"
      ],
      "metadata": {
        "id": "ETjcODkxEtUQ"
      },
      "execution_count": null,
      "outputs": []
    },
    {
      "cell_type": "code",
      "source": [
        "d1 = {1:1,\n",
        "      2:4,\n",
        "      3:90,\n",
        "      4:16,\n",
        "      5:25}"
      ],
      "metadata": {
        "id": "7qTqjWx9EtXe"
      },
      "execution_count": null,
      "outputs": []
    },
    {
      "cell_type": "code",
      "source": [
        "d1.pop(6)"
      ],
      "metadata": {
        "colab": {
          "base_uri": "https://localhost:8080/",
          "height": 171
        },
        "id": "4GNy1EPAEtaT",
        "outputId": "875d6a96-53cd-4837-c49a-98b4ede0c11c"
      },
      "execution_count": null,
      "outputs": [
        {
          "output_type": "error",
          "ename": "KeyError",
          "evalue": "ignored",
          "traceback": [
            "\u001b[0;31m---------------------------------------------------------------------------\u001b[0m",
            "\u001b[0;31mKeyError\u001b[0m                                  Traceback (most recent call last)",
            "\u001b[0;32m<ipython-input-127-0f678b395fa4>\u001b[0m in \u001b[0;36m<module>\u001b[0;34m\u001b[0m\n\u001b[0;32m----> 1\u001b[0;31m \u001b[0md1\u001b[0m\u001b[0;34m.\u001b[0m\u001b[0mpop\u001b[0m\u001b[0;34m(\u001b[0m\u001b[0;36m6\u001b[0m\u001b[0;34m)\u001b[0m\u001b[0;34m\u001b[0m\u001b[0;34m\u001b[0m\u001b[0m\n\u001b[0m",
            "\u001b[0;31mKeyError\u001b[0m: 6"
          ]
        }
      ]
    },
    {
      "cell_type": "code",
      "source": [
        "d1.popitem()"
      ],
      "metadata": {
        "id": "ViGthk8655qH",
        "colab": {
          "base_uri": "https://localhost:8080/"
        },
        "outputId": "92c3b082-9040-4611-9088-2bdb10bb5fb0"
      },
      "execution_count": null,
      "outputs": [
        {
          "output_type": "execute_result",
          "data": {
            "text/plain": [
              "(5, 25)"
            ]
          },
          "metadata": {},
          "execution_count": 126
        }
      ]
    },
    {
      "cell_type": "code",
      "source": [
        "d1.clear()"
      ],
      "metadata": {
        "id": "6itXBqIHkdcU"
      },
      "execution_count": null,
      "outputs": []
    },
    {
      "cell_type": "code",
      "source": [
        "d1"
      ],
      "metadata": {
        "colab": {
          "base_uri": "https://localhost:8080/"
        },
        "id": "CcOsZNLVH-T5",
        "outputId": "bb5bc165-2a9f-4dca-a2c0-f3e82ee65595"
      },
      "execution_count": null,
      "outputs": [
        {
          "output_type": "execute_result",
          "data": {
            "text/plain": [
              "{}"
            ]
          },
          "metadata": {},
          "execution_count": 130
        }
      ]
    },
    {
      "cell_type": "code",
      "source": [],
      "metadata": {
        "id": "CsFMvwRjduWR"
      },
      "execution_count": null,
      "outputs": []
    },
    {
      "cell_type": "markdown",
      "source": [
        "Write a Python program to get a list, sorted in increasing order by the last element in each tuple from a given list of non-empty tuples\n",
        "\n",
        "\n",
        "\n",
        "Sample List : [(2, 5), (1, 2), (4, 4), (2, 3), (2, 1)]\n",
        "\n",
        "Expected Result : [(2, 1), (1, 2), (2, 3), (4, 4), (2, 5)]"
      ],
      "metadata": {
        "id": "_W0SrtUOdw48"
      }
    },
    {
      "cell_type": "code",
      "source": [
        "def last(n): return n[-1]\n",
        "\n",
        "def sort_list_last(tuples):\n",
        "  return sorted(tuples, key=last)\n",
        "\n",
        "print(sort_list_last([(2, 5), (1, 2), (4, 4), (2, 3), (2, 1)]))\n"
      ],
      "metadata": {
        "colab": {
          "base_uri": "https://localhost:8080/"
        },
        "id": "I-8JO-YvdePg",
        "outputId": "26995a66-361d-4fb0-ac32-cbe95c70b5bb"
      },
      "execution_count": 1,
      "outputs": [
        {
          "output_type": "stream",
          "name": "stdout",
          "text": [
            "[(2, 1), (1, 2), (2, 3), (4, 4), (2, 5)]\n"
          ]
        }
      ]
    },
    {
      "cell_type": "code",
      "source": [],
      "metadata": {
        "id": "9Bt2My5-eo1G"
      },
      "execution_count": 21,
      "outputs": []
    },
    {
      "cell_type": "markdown",
      "source": [
        "Write a Python program to print a dictionary whose keys should be the alphabet from a-z and the value should be corresponding ASCII values\n",
        "\n",
        "\n",
        "\n",
        "Sample Output : {'a': 97, 'b': 98, 'c': 99, 'd': 100, 'e': 101, 'f': 102, 'g': 103, 'h': 104, 'i': 105, 'j': 106, 'k': 107, 'l': 108, 'm': 109, 'n': 110, 'o': 111, 'p': 112, 'q': 113, 'r': 114, 's': 115, 't': 116, 'u': 117, 'v': 118, 'w': 119, 'x': 120, 'y': 121, 'z': 122}"
      ],
      "metadata": {
        "id": "chiJM18Hem7h"
      }
    },
    {
      "cell_type": "code",
      "source": [
        "###### ######\n",
        "list_of_alpha = list(map(chr, range(97, 123)))"
      ],
      "metadata": {
        "id": "ag1Q2PZblw-p"
      },
      "execution_count": null,
      "outputs": []
    },
    {
      "cell_type": "code",
      "source": [
        "list_of_alpha = [chr(i) for i in range(ord('a'),ord('z')+1)]\n",
        "list_of_alpha"
      ],
      "metadata": {
        "id": "GmiFwVvYm1P0"
      },
      "execution_count": null,
      "outputs": []
    }
  ]
}