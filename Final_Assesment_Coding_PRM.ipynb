{
  "nbformat": 4,
  "nbformat_minor": 0,
  "metadata": {
    "colab": {
      "provenance": [],
      "authorship_tag": "ABX9TyNmv9gbCGo/UOGFtiUc8iyO",
      "include_colab_link": true
    },
    "kernelspec": {
      "name": "python3",
      "display_name": "Python 3"
    },
    "language_info": {
      "name": "python"
    }
  },
  "cells": [
    {
      "cell_type": "markdown",
      "metadata": {
        "id": "view-in-github",
        "colab_type": "text"
      },
      "source": [
        "<a href=\"https://colab.research.google.com/github/durgesh2010/Python-practice/blob/main/Final_Assesment_Coding_PRM.ipynb\" target=\"_parent\"><img src=\"https://colab.research.google.com/assets/colab-badge.svg\" alt=\"Open In Colab\"/></a>"
      ]
    },
    {
      "cell_type": "code",
      "execution_count": null,
      "metadata": {
        "id": "Kiq1e-LgvdBC"
      },
      "outputs": [],
      "source": []
    },
    {
      "cell_type": "markdown",
      "source": [
        "# Q1. You will be given a list. You have to print a list whose 1st element should be largest and 2nd should be the smallest then the 3rd should be 2nd largest and 4th should be 2nd smallest and so on."
      ],
      "metadata": {
        "id": "lIcuSIr6d75k"
      }
    },
    {
      "cell_type": "markdown",
      "source": [
        "Input Format:\n",
        "\n",
        "The first line will have space-separated elements of the list.\n",
        "\n",
        "Output Format:\n",
        "\n",
        "Print the required list.\n",
        "\n",
        "Sample Input 0:\n",
        "\n",
        "1 2 3 4 5 6\n",
        "\n",
        "Sample Output 0:\n",
        "\n",
        "6 1 5 2 4 3"
      ],
      "metadata": {
        "id": "_BQzz40RqBO0"
      }
    },
    {
      "cell_type": "code",
      "source": [
        "# Python prog to illustrate the following in a list\n",
        "def find_len(list1):\n",
        "  flist = [] \n",
        "  list1 = list1.strip()\n",
        "  # print(list1)  \n",
        "  list1 = list1.split(' ')\n",
        "  for i in list1:\n",
        "    flist.append(int(i))\n",
        "  list1 = flist\n",
        "  flist = []  \n",
        "  length = len(list1)\n",
        "  list1.sort()\n",
        "  # print(list1)\n",
        "  k = 0\n",
        "  while length > 0:\n",
        "      \n",
        "    flist.append(list1[length-1])\n",
        "    flist.append(list1[k])\n",
        "    length = length-1\n",
        "    k=k+1\n",
        "    if list1[length-1] == list1[k] or len(flist) == len(list1):\n",
        "      if len(list1)%2!=0:\n",
        "        flist.append(list1[k])\n",
        "      else:\n",
        "\n",
        "        break\n",
        "      break\n",
        "\n",
        "  print(f'output is {flist}')  \n",
        "\n",
        "# Driver Code\n",
        "\n",
        "list1 = input('Enter the elemnts with single space like 1 2 3 4 5 6, given input is :')\n",
        "Largest = find_len(list1)"
      ],
      "metadata": {
        "colab": {
          "base_uri": "https://localhost:8080/"
        },
        "outputId": "66188f47-9659-40c0-bf07-2ac639a07e72",
        "id": "shHsa3B_yE9m"
      },
      "execution_count": 8,
      "outputs": [
        {
          "output_type": "stream",
          "name": "stdout",
          "text": [
            "Enter the elemnts with single space like 1 2 3 4 5 6, given input is :1 2 3 4 5 6\n",
            "output is [6, 1, 5, 2, 4, 3]\n"
          ]
        }
      ]
    },
    {
      "cell_type": "code",
      "source": [],
      "metadata": {
        "id": "MEz7-L1bwA5P"
      },
      "execution_count": null,
      "outputs": []
    },
    {
      "cell_type": "code",
      "source": [
        "# Q.2\n"
      ],
      "metadata": {
        "id": "x16T3yNOyhTe"
      },
      "execution_count": null,
      "outputs": []
    },
    {
      "cell_type": "markdown",
      "source": [
        "Python - 2\n",
        "\n",
        "Find nth fibonacci number. If it starts with 0,1,1,2.....\n",
        "\n",
        "Also, Print Incorrect Input if n is less than or equal to 0.\n",
        "\n",
        "Input Format:\n",
        "\n",
        "Call the function with n\n",
        "\n",
        "Output Format:\n",
        "\n",
        "Print the nth fibonacci number\n",
        "\n",
        "Sample Input 0:\n",
        "\n",
        "4\n",
        "\n",
        "Sample Output 0:\n",
        "\n",
        "2\n",
        "\n",
        "Sample Input 1:\n",
        "\n",
        " 0\n",
        "\n",
        "Sample Output 1:\n",
        "\n",
        "Incorrect input"
      ],
      "metadata": {
        "id": "dBJREwBWVNJ3"
      }
    },
    {
      "cell_type": "code",
      "source": [
        "def fibonacci(n):\n",
        "    if n <= 0:\n",
        "      print('incorrect input')\n",
        "    else :\n",
        "\n",
        "      fibArray = [0, 1]\n",
        "      \n",
        "      for i in range(1, n+1):\n",
        "          fibArray.append(fibArray[i-1] + fibArray[i-2])\n",
        "      return fibArray[n]\n",
        "\n",
        "# Calling function \n",
        "n = int(input('Enter the n Value :'))\n",
        "print(fibonacci(n))"
      ],
      "metadata": {
        "colab": {
          "base_uri": "https://localhost:8080/"
        },
        "id": "cVeoVnlgT-XD",
        "outputId": "a1a9d898-2404-4772-860d-2faa56da35ec"
      },
      "execution_count": 11,
      "outputs": [
        {
          "output_type": "stream",
          "name": "stdout",
          "text": [
            "Enter the n Value :4\n",
            "2\n"
          ]
        }
      ]
    },
    {
      "cell_type": "code",
      "source": [
        "https://github.com/durgesh2010/Assignments-/blob/main/Final_Assesment_Coding_PRM.ipynb"
      ],
      "metadata": {
        "id": "YJHZl-sQyVQ1"
      },
      "execution_count": null,
      "outputs": []
    },
    {
      "cell_type": "markdown",
      "source": [
        "https://github.com/durgesh2010/Assignments-/blob/main/Final_Assesment_Coding_PRM.ipynb"
      ],
      "metadata": {
        "id": "_eLq_yuPyXSs"
      }
    },
    {
      "cell_type": "code",
      "source": [],
      "metadata": {
        "id": "rP45exJI109Y"
      },
      "execution_count": null,
      "outputs": []
    },
    {
      "cell_type": "code",
      "source": [],
      "metadata": {
        "id": "kr2RAqiT11KF"
      },
      "execution_count": null,
      "outputs": []
    },
    {
      "cell_type": "code",
      "source": [],
      "metadata": {
        "id": "PWcCUIFt11Nm"
      },
      "execution_count": null,
      "outputs": []
    },
    {
      "cell_type": "code",
      "source": [],
      "metadata": {
        "id": "rTuBeLW711Qy"
      },
      "execution_count": null,
      "outputs": []
    },
    {
      "cell_type": "code",
      "source": [
        "for i in input2:\n",
        "  if(i==1)\n",
        "  \n",
        "  else:\n"
      ],
      "metadata": {
        "id": "0lMIeBjjthzP"
      },
      "execution_count": null,
      "outputs": []
    },
    {
      "cell_type": "code",
      "source": [
        "n,1011,0111,1111\n",
        "for i in input2:\n",
        "  if "
      ],
      "metadata": {
        "id": "1igybZpOuxin"
      },
      "execution_count": null,
      "outputs": []
    },
    {
      "cell_type": "code",
      "source": [
        "string1 = '0111'\n",
        "for i in string1:\n",
        "  new = i\n",
        "  \n",
        "\n",
        "if str[0] == str[1]:\n",
        "  pass:\n",
        "else:\n",
        "  count+=1\n"
      ],
      "metadata": {
        "id": "Ks5W7dJjuxlu"
      },
      "execution_count": null,
      "outputs": []
    },
    {
      "cell_type": "code",
      "source": [
        "string1 = '0111'\n",
        "x = string1.split(' ')\n",
        "for i in x:\n",
        "  "
      ],
      "metadata": {
        "id": "JpR7zwpex35l"
      },
      "execution_count": null,
      "outputs": []
    },
    {
      "cell_type": "code",
      "source": [
        "a = 15\n",
        "b = 32\n",
        "\n",
        "# Finding XOR of a and b using ^ operator\n",
        "c = a ^ b\n",
        "\n",
        "# Printing the XOR value\n",
        "print(a, \"XOR\", b, \"=\", c)"
      ],
      "metadata": {
        "colab": {
          "base_uri": "https://localhost:8080/"
        },
        "id": "4YH33gFPuxn-",
        "outputId": "8afd8617-e728-42e3-9868-0ade9f802a85"
      },
      "execution_count": null,
      "outputs": [
        {
          "output_type": "stream",
          "name": "stdout",
          "text": [
            "15 XOR 32 = 47\n"
          ]
        }
      ]
    },
    {
      "cell_type": "code",
      "source": [
        "def largest (input2):\n",
        "  one = 0\n",
        "  zero = 0\n",
        "  ans = 0\n",
        "  for i in input2:\n",
        "    if(i=='1'):\n",
        "      one+=1\n",
        "\n",
        "    else:\n",
        "      zero = zero + 1\n",
        "    if zero != one and one !=0 and zero !=0:\n",
        "        \n",
        "      ans = min(one,zero)*2\n",
        "    elif one == 0 or zero == 0:\n",
        "\n",
        "      ans = min(one,zero)\n",
        "    elif zero == one:\n",
        "      ans = one*2\n",
        "\n",
        "    else :\n",
        "      ans = min(one,zero)-1  \n",
        "  return ans  \n"
      ],
      "metadata": {
        "id": "wh5hPmzYuxrY"
      },
      "execution_count": null,
      "outputs": []
    },
    {
      "cell_type": "code",
      "source": [
        "largest('1001111101')"
      ],
      "metadata": {
        "colab": {
          "base_uri": "https://localhost:8080/"
        },
        "id": "DZEunCB_0uhd",
        "outputId": "84e89c97-9ecb-4815-ebe9-ff7b41cf87fe"
      },
      "execution_count": null,
      "outputs": [
        {
          "output_type": "execute_result",
          "data": {
            "text/plain": [
              "6"
            ]
          },
          "metadata": {},
          "execution_count": 82
        }
      ]
    },
    {
      "cell_type": "code",
      "source": [
        "1101"
      ],
      "metadata": {
        "id": "xSwefna11VfC"
      },
      "execution_count": null,
      "outputs": []
    },
    {
      "cell_type": "code",
      "source": [
        "def largest (list1):\n",
        "\n",
        "  count0=0\n",
        "  count1=0\n",
        "  for elem in list1:\n",
        "    if elem==0:\n",
        "      count0=count0+1\n",
        "    elif elem==1:\n",
        "      count1=count1+1\n",
        "\n",
        "  a=min([count0,count1])\n",
        "  b=2*a\n",
        "  return b\n"
      ],
      "metadata": {
        "id": "xTlqUEI_CI6j"
      },
      "execution_count": null,
      "outputs": []
    },
    {
      "cell_type": "code",
      "source": [],
      "metadata": {
        "id": "hiUxpIifd67t"
      },
      "execution_count": null,
      "outputs": []
    },
    {
      "cell_type": "code",
      "source": [],
      "metadata": {
        "id": "O6o71Al9d7Cb"
      },
      "execution_count": null,
      "outputs": []
    },
    {
      "cell_type": "code",
      "source": [],
      "metadata": {
        "id": "KfWJpijxd7H4"
      },
      "execution_count": null,
      "outputs": []
    },
    {
      "cell_type": "code",
      "source": [],
      "metadata": {
        "id": "eNoItcZjd7Ls"
      },
      "execution_count": null,
      "outputs": []
    },
    {
      "cell_type": "markdown",
      "source": [
        "Q2. You will be given a list. You have to print a list whose 1st element should be largest and 2nd should be the smallest then the 3rd should be 2nd largest and 4th should be 2nd smallest and so on."
      ],
      "metadata": {
        "id": "foirk9Gm12BA"
      }
    },
    {
      "cell_type": "markdown",
      "source": [
        "Input Format:\n",
        "\n",
        "The first line will have space-separated elements of the list.\n",
        "\n",
        "Output Format:\n",
        "\n",
        "Print the required list.\n",
        "\n",
        "Sample Input 0:\n",
        "\n",
        "1 2 3 4 5 6\n",
        "\n",
        "Sample Output 0:\n",
        "\n",
        "6 1 5 2 4 3"
      ],
      "metadata": {
        "id": "RmIA6aYi12BA"
      }
    },
    {
      "cell_type": "code",
      "source": [
        "# Python prog to illustrate the following in a list\n",
        "def find_len(list1):\n",
        "  flist = [] \n",
        "  list1 = list1.strip()\n",
        "  # print(list1)  \n",
        "  list1 = list1.split(' ')\n",
        "  for i in list1:\n",
        "    flist.append(int(i))\n",
        "  list1 = flist\n",
        "  flist = []  \n",
        "  length = len(list1)\n",
        "  list1.sort()\n",
        "  # print(list1)\n",
        "  k = 0\n",
        "  while length > 0:\n",
        "      \n",
        "    flist.append(list1[length-1])\n",
        "    flist.append(list1[k])\n",
        "    length = length-1\n",
        "    k=k+1\n",
        "    if list1[length-1] == list1[k] or len(flist) == len(list1):\n",
        "      if len(list1)%2!=0:\n",
        "        flist.append(list1[k])\n",
        "      else:\n",
        "\n",
        "        break\n",
        "      break\n",
        "\n",
        "  print(f'output is {flist}')  \n",
        "\n",
        "# Driver Code\n",
        "\n",
        "list1 = input('enter the elemnts with space :')\n",
        "Largest = find_len(list1)"
      ],
      "metadata": {
        "colab": {
          "base_uri": "https://localhost:8080/"
        },
        "outputId": "b6aebc94-9b00-4c3c-c5d5-c25440d9d066",
        "id": "7Xb0pKCX12BB"
      },
      "execution_count": null,
      "outputs": [
        {
          "output_type": "stream",
          "name": "stdout",
          "text": [
            "enter the elemnts with space : 1 2 3 4 5 6\n",
            "output is [6, 1, 5, 2, 4, 3]\n"
          ]
        }
      ]
    },
    {
      "cell_type": "code",
      "source": [],
      "metadata": {
        "id": "eGWrzpwQyENv"
      },
      "execution_count": null,
      "outputs": []
    },
    {
      "cell_type": "code",
      "source": [],
      "metadata": {
        "id": "fGy1nZflyETG"
      },
      "execution_count": null,
      "outputs": []
    },
    {
      "cell_type": "code",
      "source": [
        "# Python prog to illustrate the following in a list\n",
        "def find_len(list1):\n",
        "\n",
        "  flist = []\n",
        "  length = len(list1)\n",
        "  list1.sort()\n",
        "  k = 0\n",
        "  while length > 0:\n",
        "      \n",
        "    flist.append(int(list1[length-1]))\n",
        "    flist.append(int(list1[k]))\n",
        "    length = length-1\n",
        "    k=k+1\n",
        "    if len(flist) == len(list1):\n",
        "      break\n",
        "\n",
        "  print(f'output is {flist}')  \n",
        "\n",
        "# Driver Code\n",
        "\n",
        "list1 = '1 2 3 4 5 6 10 9 11 12 13 7 8'#input('enter the elemnts with space :')\n",
        "list1 = list1.split(' ')\n",
        "\n",
        "Largest = find_len(list1)"
      ],
      "metadata": {
        "colab": {
          "base_uri": "https://localhost:8080/"
        },
        "outputId": "e145238b-2e9d-4d95-a6b6-57686bcd6d43",
        "id": "h8Tk2ymiiFSW"
      },
      "execution_count": null,
      "outputs": [
        {
          "output_type": "stream",
          "name": "stdout",
          "text": [
            "output is [9, 1, 8, 10, 7, 11, 6, 12, 5, 13, 4, 2, 3, 3, 2, 4, 13, 5, 12, 6, 11, 7, 10, 8, 1, 9]\n"
          ]
        }
      ]
    },
    {
      "cell_type": "code",
      "source": [],
      "metadata": {
        "id": "Coc2NUUSWcHN"
      },
      "execution_count": null,
      "outputs": []
    },
    {
      "cell_type": "code",
      "source": [],
      "metadata": {
        "id": "dEC7Q4zHX8_7"
      },
      "execution_count": null,
      "outputs": []
    },
    {
      "cell_type": "code",
      "source": [
        "list1 = '1 2 3 4 5 6 10 9 11 12 13 7 8'#input('enter the elemnts with space :')\n",
        "list1 = list1.split(' ')\n",
        "for i in list1:\n",
        "  flist.append(int(i))\n",
        "list1 = flist\n",
        "flist = []  \n",
        "length = len(list1)\n",
        "list1.sort()\n",
        "print(list1)\n",
        "# for i in list1:\n",
        "#   flist.append(int(i))\n",
        "# print(list1)"
      ],
      "metadata": {
        "colab": {
          "base_uri": "https://localhost:8080/"
        },
        "id": "JxJZfaL8X9DM",
        "outputId": "2ef6d23c-26c7-4719-ee58-731888805962"
      },
      "execution_count": null,
      "outputs": [
        {
          "output_type": "stream",
          "name": "stdout",
          "text": [
            "[1, 2, 3, 4, 5, 6, 7, 8, 9, 10, 11, 12, 13]\n"
          ]
        }
      ]
    },
    {
      "cell_type": "code",
      "source": [],
      "metadata": {
        "id": "7Ew9F-WRX9Gh"
      },
      "execution_count": null,
      "outputs": []
    },
    {
      "cell_type": "code",
      "source": [],
      "metadata": {
        "id": "OEjqgzlrX9MQ"
      },
      "execution_count": null,
      "outputs": []
    },
    {
      "cell_type": "code",
      "source": [],
      "metadata": {
        "id": "Zrb4AzclX_Q3"
      },
      "execution_count": null,
      "outputs": []
    },
    {
      "cell_type": "code",
      "source": [
        "# Python prog to illustrate the following in a list\n",
        "def find_len(list1):\n",
        "  flist = [] \n",
        "  list1 = list1.strip()\n",
        "  # print(list1)  \n",
        "  list1 = list1.split(' ')\n",
        "  for i in list1:\n",
        "    flist.append(int(i))\n",
        "  list1 = flist\n",
        "  flist = []  \n",
        "  length = len(list1)\n",
        "  list1.sort()\n",
        "  # print(list1)\n",
        "  k = 0\n",
        "  while length > 0:\n",
        "      \n",
        "    flist.append(list1[length-1])\n",
        "    flist.append(list1[k])\n",
        "    length = length-1\n",
        "    k=k+1\n",
        "    if list1[length-1] == list1[k] or len(flist) == len(list1):\n",
        "      if len(list1)%2!=0:\n",
        "        flist.append(list1[k])\n",
        "      else:\n",
        "\n",
        "        break\n",
        "      break\n",
        "\n",
        "  print(f'output is {flist}')  \n",
        "\n",
        "# Driver Code\n",
        "\n",
        "list1 = input('enter the elemnts with space :')\n",
        "Largest = find_len(list1)"
      ],
      "metadata": {
        "colab": {
          "base_uri": "https://localhost:8080/"
        },
        "outputId": "2b47e404-6992-4162-9f1f-a2ae128c2102",
        "id": "3I0ItD3IYASZ"
      },
      "execution_count": null,
      "outputs": [
        {
          "output_type": "stream",
          "name": "stdout",
          "text": [
            "enter the elemnts with space :1 2 3 4 5 6 7 8\n",
            "output is [8, 1, 7, 2, 6, 3, 5, 4]\n"
          ]
        }
      ]
    },
    {
      "cell_type": "code",
      "source": [],
      "metadata": {
        "id": "4sFy5rBvX_aP"
      },
      "execution_count": null,
      "outputs": []
    },
    {
      "cell_type": "code",
      "source": [],
      "metadata": {
        "id": "H42pi--wWcNh"
      },
      "execution_count": null,
      "outputs": []
    },
    {
      "cell_type": "code",
      "source": [
        "# Python prog to illustrate the following in a list\n",
        "def find_len(list1):\n",
        "    length = len(list1)\n",
        "    list1.sort()\n",
        "    print(\"Largest element is:\", list1[length-1])\n",
        "    print(\"Smallest element is:\", list1[0])\n",
        "    print(\"Second Largest element is:\", list1[length-2])\n",
        "    print(\"Second Smallest element is:\", list1[1])\n",
        " \n",
        "# Driver Code\n",
        "list1=[12, 45, 2, 41, 31, 10, 8, 6, 4]\n",
        "Largest = find_len(list1)"
      ],
      "metadata": {
        "id": "t35yxm7EC9Ns",
        "colab": {
          "base_uri": "https://localhost:8080/"
        },
        "outputId": "951b8e61-71fd-4114-e3b5-2947ba4c6b58"
      },
      "execution_count": null,
      "outputs": [
        {
          "output_type": "stream",
          "name": "stdout",
          "text": [
            "Largest element is: 45\n",
            "Smallest element is: 2\n",
            "Second Largest element is: 41\n",
            "Second Smallest element is: 4\n"
          ]
        }
      ]
    },
    {
      "cell_type": "code",
      "source": [
        "# Q.2\n"
      ],
      "metadata": {
        "id": "73YUcAT612BG"
      },
      "execution_count": null,
      "outputs": []
    },
    {
      "cell_type": "markdown",
      "source": [
        "Python - 2\n",
        "\n",
        "Find nth fibonacci number. If it starts with 0,1,1,2.....\n",
        "\n",
        "Also, Print Incorrect Input if n is less than or equal to 0.\n",
        "\n",
        "Input Format:\n",
        "\n",
        "Call the function with n\n",
        "\n",
        "Output Format:\n",
        "\n",
        "Print the nth fibonacci number\n",
        "\n",
        "Sample Input 0:\n",
        "\n",
        "4\n",
        "\n",
        "Sample Output 0:\n",
        "\n",
        "2\n",
        "\n",
        "Sample Input 1:\n",
        "\n",
        " 0\n",
        "\n",
        "Sample Output 1:\n",
        "\n",
        "Incorrect input"
      ],
      "metadata": {
        "id": "UehFYS_m12BG"
      }
    },
    {
      "cell_type": "code",
      "source": [
        "def fibonacci(n):\n",
        "    if n <= 0:\n",
        "      print('incorrect input')\n",
        "    else :\n",
        "\n",
        "      fibArray = [0, 1]\n",
        "      \n",
        "      for i in range(1, n+1):\n",
        "          fibArray.append(fibArray[i-1] + fibArray[i-2])\n",
        "      return fibArray[n]\n",
        "\n",
        "# Calling function \n",
        "print(fibonacci(4))"
      ],
      "metadata": {
        "colab": {
          "base_uri": "https://localhost:8080/"
        },
        "outputId": "a5301640-4059-4c4a-cff9-e9916943f3e9",
        "id": "1Jh_Lcc912BH"
      },
      "execution_count": null,
      "outputs": [
        {
          "output_type": "stream",
          "name": "stdout",
          "text": [
            "2\n"
          ]
        }
      ]
    },
    {
      "cell_type": "code",
      "source": [],
      "metadata": {
        "id": "s65djvhyZb34"
      },
      "execution_count": null,
      "outputs": []
    },
    {
      "cell_type": "code",
      "source": [],
      "metadata": {
        "id": "ZykCPHasZupp"
      },
      "execution_count": null,
      "outputs": []
    },
    {
      "cell_type": "code",
      "source": [],
      "metadata": {
        "id": "HNmNdQeGZuuG"
      },
      "execution_count": null,
      "outputs": []
    },
    {
      "cell_type": "code",
      "source": [],
      "metadata": {
        "id": "irZDY4seZcLR"
      },
      "execution_count": null,
      "outputs": []
    },
    {
      "cell_type": "code",
      "source": [
        "# Function for nth Fibonacci number\n",
        "\n",
        "def Fibonacci(n):\n",
        "\tnlist = []\n",
        "\tif n<= 0:\n",
        "\t\tprint(\"Incorrect input\")\n",
        "\t# First Fibonacci number is 0\n",
        "\telif n == 1:\n",
        "\t\treturn 0\n",
        "\t# Second Fibonacci number is 1\n",
        "\telif n == 2:\n",
        "\t\treturn 1\n",
        "\telse:\n",
        "\t\treturn Fibonacci(n-1)+Fibonacci(n-2)\n",
        "\n",
        "# Driver Program\n",
        "\n",
        "print(Fibonacci(10))\n",
        "\n",
        "# This code is contributed by Saket Modi\n"
      ],
      "metadata": {
        "colab": {
          "base_uri": "https://localhost:8080/"
        },
        "id": "3691xyROOPx7",
        "outputId": "1d04449e-e2f4-434a-93c9-6a1fff05716f"
      },
      "execution_count": null,
      "outputs": [
        {
          "output_type": "stream",
          "name": "stdout",
          "text": [
            "34\n"
          ]
        }
      ]
    },
    {
      "cell_type": "code",
      "source": [],
      "metadata": {
        "id": "B-aYqqf6T-N5"
      },
      "execution_count": null,
      "outputs": []
    },
    {
      "cell_type": "code",
      "source": [],
      "metadata": {
        "id": "cA_YLgVMT-RD"
      },
      "execution_count": null,
      "outputs": []
    },
    {
      "cell_type": "code",
      "source": [
        "# Function for nth Fibonacci number\n",
        "\n",
        "def Fibonacci(n):\n",
        "\tnlist = []\n",
        "\tif n<= 0:\n",
        "\t\tprint(\"Incorrect input\")\n",
        "\t# First Fibonacci number is 0\n",
        "\telif n == 1:\n",
        "\t\treturn 0\n",
        "\t# Second Fibonacci number is 1\n",
        "\telif n == 2:\n",
        "\t\treturn 1\n",
        "\telse:\n",
        "\t\treturn Fibonacci(n-1)+Fibonacci(n-2)\n",
        "\n",
        "# Driver Program\n",
        "\n",
        "print(Fibonacci(10))\n",
        "\n",
        "# This code is contributed by Saket Modi\n"
      ],
      "metadata": {
        "colab": {
          "base_uri": "https://localhost:8080/"
        },
        "outputId": "1d04449e-e2f4-434a-93c9-6a1fff05716f",
        "id": "8JyX9G4BUhqa"
      },
      "execution_count": null,
      "outputs": [
        {
          "output_type": "stream",
          "name": "stdout",
          "text": [
            "34\n"
          ]
        }
      ]
    },
    {
      "cell_type": "code",
      "source": [],
      "metadata": {
        "id": "_pEKm_2fT-Uu"
      },
      "execution_count": null,
      "outputs": []
    },
    {
      "cell_type": "code",
      "source": [],
      "metadata": {
        "id": "PEvxCUYwXbp1"
      },
      "execution_count": null,
      "outputs": []
    },
    {
      "cell_type": "code",
      "source": [
        "fibonacci(10)"
      ],
      "metadata": {
        "colab": {
          "base_uri": "https://localhost:8080/"
        },
        "id": "pbXOnSmeT-Ze",
        "outputId": "cfeb52ee-9cd3-4526-a3df-7f77ff338d6d"
      },
      "execution_count": null,
      "outputs": [
        {
          "output_type": "execute_result",
          "data": {
            "text/plain": [
              "9"
            ]
          },
          "metadata": {},
          "execution_count": 19
        }
      ]
    },
    {
      "cell_type": "code",
      "source": [],
      "metadata": {
        "id": "iI5oQDKPT-cm"
      },
      "execution_count": null,
      "outputs": []
    },
    {
      "cell_type": "code",
      "source": [],
      "metadata": {
        "id": "S1Hdle0iT-iR"
      },
      "execution_count": null,
      "outputs": []
    },
    {
      "cell_type": "code",
      "source": [],
      "metadata": {
        "id": "PDy7XKAPT-lR"
      },
      "execution_count": null,
      "outputs": []
    },
    {
      "cell_type": "code",
      "source": [],
      "metadata": {
        "id": "JCl8WFJC11T2"
      },
      "execution_count": null,
      "outputs": []
    }
  ]
}