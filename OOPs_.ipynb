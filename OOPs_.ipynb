{
  "nbformat": 4,
  "nbformat_minor": 0,
  "metadata": {
    "colab": {
      "provenance": [],
      "authorship_tag": "ABX9TyNiRhwGg6OEx06wTE0+9ApY",
      "include_colab_link": true
    },
    "kernelspec": {
      "name": "python3",
      "display_name": "Python 3"
    },
    "language_info": {
      "name": "python"
    }
  },
  "cells": [
    {
      "cell_type": "markdown",
      "metadata": {
        "id": "view-in-github",
        "colab_type": "text"
      },
      "source": [
        "<a href=\"https://colab.research.google.com/github/durgesh2010/Python-practice/blob/main/OOPs_.ipynb\" target=\"_parent\"><img src=\"https://colab.research.google.com/assets/colab-badge.svg\" alt=\"Open In Colab\"/></a>"
      ]
    },
    {
      "cell_type": "code",
      "source": [],
      "metadata": {
        "id": "RGBpUaVWsJC_"
      },
      "execution_count": null,
      "outputs": []
    },
    {
      "cell_type": "code",
      "source": [
        "# 1.class \n",
        "# 2.objects\n",
        "# 3.encapsulations\n",
        "# 4.inheritance\n",
        "# 5.Polymorphism\n",
        "# 6.abstraction\n"
      ],
      "metadata": {
        "id": "mRVLvvjYxV56"
      },
      "execution_count": 3,
      "outputs": []
    },
    {
      "cell_type": "code",
      "source": [
        "# class is a blueprint for creating an object"
      ],
      "metadata": {
        "id": "DrAls-nLxV9C"
      },
      "execution_count": null,
      "outputs": []
    },
    {
      "cell_type": "code",
      "source": [
        "# objects is the instance of the class"
      ],
      "metadata": {
        "id": "TznGdJb3_h7o"
      },
      "execution_count": null,
      "outputs": []
    },
    {
      "cell_type": "code",
      "source": [
        "# methods are also functions but they are define inside class"
      ],
      "metadata": {
        "id": "kJZwDHY5xWAL"
      },
      "execution_count": null,
      "outputs": []
    },
    {
      "cell_type": "code",
      "source": [
        "class building:          # class\n",
        "  def doors(self):        # method\n",
        "    print('20 Doors')\n",
        "\n",
        "  def windows(self):\n",
        "    print('40 windows')"
      ],
      "metadata": {
        "id": "yRaWPqWzsJGL"
      },
      "execution_count": 1,
      "outputs": []
    },
    {
      "cell_type": "code",
      "source": [
        "building_obj = building()  # object/instance\n",
        "building_obj.doors()\n",
        "building_obj.windows()"
      ],
      "metadata": {
        "colab": {
          "base_uri": "https://localhost:8080/"
        },
        "id": "Bcmqx-gXsJLo",
        "outputId": "ed6a8352-17ff-4241-ff23-94714c658e54"
      },
      "execution_count": 2,
      "outputs": [
        {
          "output_type": "stream",
          "name": "stdout",
          "text": [
            "20 Doors\n",
            "40 windows\n"
          ]
        }
      ]
    },
    {
      "cell_type": "code",
      "source": [
        "# you have to call methods via object we can not call method directly"
      ],
      "metadata": {
        "id": "ISR8YSakDu68"
      },
      "execution_count": null,
      "outputs": []
    },
    {
      "cell_type": "code",
      "source": [
        "class shape:\n",
        "  def triangle(self):\n",
        "    base = int(input(\"enter the base value : \"))\n",
        "    height = int(input('enter the height value  :'))\n",
        "    area = base * height/2\n",
        "    print('Area of triangle :',area)\n",
        "\n",
        "  def square(self):\n",
        "   length = int(input('enter the length value : '))\n",
        "   width = int(input('enter the width value : '))\n",
        "   area = length * width \n",
        "\n",
        "  def circle(self):\n",
        "   radius = int(input('enter the radius : '))\n",
        "   area = 3.1415 * radius**2\n",
        "   print('area of circle : ', area )"
      ],
      "metadata": {
        "id": "RoMyBX5oFSbD"
      },
      "execution_count": 6,
      "outputs": []
    },
    {
      "cell_type": "code",
      "source": [
        "triangle_obj = triangle(self) #it is showing error because we are direcly calling to method\n",
        "triangle_obj.area()"
      ],
      "metadata": {
        "id": "pO9071BfFSeR"
      },
      "execution_count": null,
      "outputs": []
    },
    {
      "cell_type": "code",
      "source": [
        "shape_obj = shape()\n",
        "shape_obj.triangle()\n",
        " "
      ],
      "metadata": {
        "colab": {
          "base_uri": "https://localhost:8080/"
        },
        "id": "ysBQXcr6JtaR",
        "outputId": "0abd1427-e49e-4ae4-f451-e7a2ccdbc2bd"
      },
      "execution_count": 9,
      "outputs": [
        {
          "output_type": "stream",
          "name": "stdout",
          "text": [
            "enter the base value : 4\n",
            "enter the height value  :5\n",
            "Area of triangle : 10.0\n"
          ]
        }
      ]
    },
    {
      "cell_type": "code",
      "source": [
        "shape_obj.square()"
      ],
      "metadata": {
        "id": "l4_jpJqIFSmN"
      },
      "execution_count": null,
      "outputs": []
    },
    {
      "cell_type": "code",
      "source": [
        "shape_obj.triangle()"
      ],
      "metadata": {
        "id": "ogvZnBovFSo_"
      },
      "execution_count": null,
      "outputs": []
    },
    {
      "cell_type": "code",
      "source": [],
      "metadata": {
        "id": "-jn1cFeZFSrv"
      },
      "execution_count": null,
      "outputs": []
    },
    {
      "cell_type": "code",
      "source": [],
      "metadata": {
        "id": "rkSXhjHYFStY"
      },
      "execution_count": null,
      "outputs": []
    },
    {
      "cell_type": "code",
      "source": [
        "lst = list()"
      ],
      "metadata": {
        "id": "TVjINCD6sJO2"
      },
      "execution_count": null,
      "outputs": []
    },
    {
      "cell_type": "markdown",
      "source": [
        "# Constructor\n",
        " * it is a special kind of method \n",
        " * it has same name as class name\n",
        " * it is use to create object of class\n",
        " * it is use to initialize instance variable"
      ],
      "metadata": {
        "id": "-5lDTOtcDc1W"
      }
    },
    {
      "cell_type": "code",
      "source": [
        "# it gets call when object is created we don't have to call explicitely "
      ],
      "metadata": {
        "id": "JgbXgIk9sJRp"
      },
      "execution_count": null,
      "outputs": []
    },
    {
      "cell_type": "code",
      "source": [
        "class constructor:\n",
        "  def __init__(self):\n",
        "    print('it is a constructor')\n",
        "\n",
        "constructor_obj = constructor()   "
      ],
      "metadata": {
        "colab": {
          "base_uri": "https://localhost:8080/"
        },
        "id": "XKAP742QsJUz",
        "outputId": "0c933365-a867-437f-9fa4-67298d838d80"
      },
      "execution_count": 12,
      "outputs": [
        {
          "output_type": "stream",
          "name": "stdout",
          "text": [
            "it is a constructor\n"
          ]
        }
      ]
    },
    {
      "cell_type": "code",
      "source": [
        "# Self is a keyword"
      ],
      "metadata": {
        "id": "CeHb3pbmSnuC"
      },
      "execution_count": null,
      "outputs": []
    },
    {
      "cell_type": "code",
      "source": [
        "# types of constructor \n",
        "# Default constructor - if you don't create a constructor in your class,\n",
        "                        # then compiler provides you a default constructor\n",
        "\n",
        "# zero constructor - constructor without any parameter except 'self'\n",
        "# parameterized  constructor - constructor with parameters                        "
      ],
      "metadata": {
        "id": "GYIba4FgsJX6"
      },
      "execution_count": null,
      "outputs": []
    },
    {
      "cell_type": "code",
      "source": [],
      "metadata": {
        "id": "mv_m1RvDsJaO"
      },
      "execution_count": null,
      "outputs": []
    },
    {
      "cell_type": "code",
      "source": [
        "class vehical:\n",
        "  def __init__(self,max_speed,milege):\n",
        "    self.max_speed = max_speed\n",
        "    self.milege = milege"
      ],
      "metadata": {
        "id": "jylGONFks8Ry"
      },
      "execution_count": 1,
      "outputs": []
    },
    {
      "cell_type": "code",
      "source": [
        "a = vehical(100,80)\n",
        "a.milege"
      ],
      "metadata": {
        "colab": {
          "base_uri": "https://localhost:8080/"
        },
        "id": "hwmi2G7YzEcw",
        "outputId": "42b512bd-365f-4574-ae51-35351638fb24"
      },
      "execution_count": 3,
      "outputs": [
        {
          "output_type": "execute_result",
          "data": {
            "text/plain": [
              "80"
            ]
          },
          "metadata": {},
          "execution_count": 3
        }
      ]
    },
    {
      "cell_type": "code",
      "source": [
        "class khaliclass:\n",
        "  pass\n"
      ],
      "metadata": {
        "id": "hTTREwMzs8Mn"
      },
      "execution_count": 6,
      "outputs": []
    },
    {
      "cell_type": "code",
      "source": [
        "class vehical:\n",
        "  def __init__(self,max_speed,milege):\n",
        "    self.max_speed = max_speed\n",
        "    self.milege = milege\n",
        "\n",
        "a = vehical(100,80)\n",
        "a.milege\n",
        "\n",
        "\n",
        "\n",
        "\n",
        "\n",
        "\n",
        "class new_class(vehicle):\n",
        "  def __init__(cls,owner):\n",
        "    cls.milege = milege\n",
        "    cls.max_speed = max_speed\n",
        "    owner = owner"
      ],
      "metadata": {
        "id": "b4CXJdNR1l1D"
      },
      "execution_count": 8,
      "outputs": []
    },
    {
      "cell_type": "code",
      "source": [
        "n = new_class(80,90,'suresh')\n",
        "n.owner"
      ],
      "metadata": {
        "colab": {
          "base_uri": "https://localhost:8080/",
          "height": 189
        },
        "id": "3Po6Mb_n1l80",
        "outputId": "7967b97c-2fab-400f-c0b1-6ca0f3a321b3"
      },
      "execution_count": 9,
      "outputs": [
        {
          "output_type": "error",
          "ename": "TypeError",
          "evalue": "ignored",
          "traceback": [
            "\u001b[0;31m---------------------------------------------------------------------------\u001b[0m",
            "\u001b[0;31mTypeError\u001b[0m                                 Traceback (most recent call last)",
            "\u001b[0;32m<ipython-input-9-2e9a6da4d42b>\u001b[0m in \u001b[0;36m<module>\u001b[0;34m\u001b[0m\n\u001b[0;32m----> 1\u001b[0;31m \u001b[0mn\u001b[0m \u001b[0;34m=\u001b[0m \u001b[0mnew_class\u001b[0m\u001b[0;34m(\u001b[0m\u001b[0;36m80\u001b[0m\u001b[0;34m,\u001b[0m\u001b[0;36m90\u001b[0m\u001b[0;34m,\u001b[0m\u001b[0;34m'suresh'\u001b[0m\u001b[0;34m)\u001b[0m\u001b[0;34m\u001b[0m\u001b[0;34m\u001b[0m\u001b[0m\n\u001b[0m\u001b[1;32m      2\u001b[0m \u001b[0mn\u001b[0m\u001b[0;34m.\u001b[0m\u001b[0mowner\u001b[0m\u001b[0;34m\u001b[0m\u001b[0;34m\u001b[0m\u001b[0m\n",
            "\u001b[0;31mTypeError\u001b[0m: __init__() takes 2 positional arguments but 4 were given"
          ]
        }
      ]
    },
    {
      "cell_type": "code",
      "source": [],
      "metadata": {
        "id": "i2V1zVim1l_8"
      },
      "execution_count": null,
      "outputs": []
    },
    {
      "cell_type": "code",
      "source": [],
      "metadata": {
        "id": "-C_FMmYu1mDH"
      },
      "execution_count": null,
      "outputs": []
    },
    {
      "cell_type": "code",
      "source": [],
      "metadata": {
        "id": "iKgWqhZ3zEgQ"
      },
      "execution_count": null,
      "outputs": []
    },
    {
      "cell_type": "code",
      "source": [],
      "metadata": {
        "id": "47uq7DLj1m9F"
      },
      "execution_count": null,
      "outputs": []
    },
    {
      "cell_type": "code",
      "source": [],
      "metadata": {
        "id": "I4f6cDk41m_8"
      },
      "execution_count": null,
      "outputs": []
    },
    {
      "cell_type": "code",
      "source": [],
      "metadata": {
        "id": "N-9COuwG1nCo"
      },
      "execution_count": null,
      "outputs": []
    },
    {
      "cell_type": "code",
      "source": [],
      "metadata": {
        "id": "CreZpqaY1nJF"
      },
      "execution_count": null,
      "outputs": []
    },
    {
      "cell_type": "code",
      "source": [
        "# In\n",
        "class vehical:\n",
        "  def info(self, max_speed, milage):\n",
        "    self.max_speed=max_speed\n",
        "    self.milage=milage"
      ],
      "metadata": {
        "id": "BAyKVocfyiXM"
      },
      "execution_count": null,
      "outputs": []
    },
    {
      "cell_type": "code",
      "source": [
        "#in\n",
        "class vehical:\n",
        "  def __init__(self, max_speed, milage):\n",
        "    self.max_speed=max_speed\n",
        "    self.milage=milage\n",
        "  def display(self):\n",
        "    print(\"Speed : \",self.max_speed)\n",
        "    print(\"Milage : \",self.milage)\n",
        "p=vehical(80,55)\n",
        "p.display()"
      ],
      "metadata": {
        "colab": {
          "base_uri": "https://localhost:8080/"
        },
        "id": "zcJ9gQtoyiai",
        "outputId": "8c507e10-2ced-4f4b-f7ef-67ada77f4595"
      },
      "execution_count": 4,
      "outputs": [
        {
          "output_type": "stream",
          "name": "stdout",
          "text": [
            "Speed :  80\n",
            "Milage :  55\n"
          ]
        }
      ]
    },
    {
      "cell_type": "code",
      "source": [
        "#ra\n",
        "class vehical:\n",
        "  def __init__(self,max_speed,mileage):\n",
        "    self.max_speed = max_speed\n",
        "    self.mileage = mileage\n",
        "  def func(self):\n",
        "    print('my bike speed is ',self.max_speed,'and mileage is ',self.mileage)\n",
        "\n",
        "u = vehical(180,23.5)\n",
        "u.func()"
      ],
      "metadata": {
        "id": "IrPqrthm0jJ8"
      },
      "execution_count": null,
      "outputs": []
    },
    {
      "cell_type": "code",
      "source": [
        "#sun el\n",
        "class vehical:\n",
        "  def __init__(self,max_speed,mileage):\n",
        "    self.max_speed = max_speed\n",
        "    self.mileage = mileage\n",
        "  def func(self):\n",
        "    print('my bike speed is ',+self.max_speed,'and mileage is ',+self.mileage)\n",
        "u = vehical(180, 23.5)\n",
        "u.func()"
      ],
      "metadata": {
        "id": "wdkshcYmyidB"
      },
      "execution_count": null,
      "outputs": []
    },
    {
      "cell_type": "code",
      "source": [],
      "metadata": {
        "id": "EYt1e87l10Lt"
      },
      "execution_count": null,
      "outputs": []
    },
    {
      "cell_type": "code",
      "source": [
        "# in \n",
        "class vehical:\n",
        "  def __init__(self):\n",
        "    self.name='indresh'\n",
        "    self.cls='DS'\n",
        "  def disp(self):\n",
        "    print(\"My name is : \",self.name)\n",
        "    print(\"My Class is : \", self.cls)\n",
        "  \n",
        "p=vehical()\n",
        "p.disp()"
      ],
      "metadata": {
        "colab": {
          "base_uri": "https://localhost:8080/"
        },
        "id": "EiI7y6ax10U7",
        "outputId": "337e5e49-de6d-4a77-c391-3012f58ca04c"
      },
      "execution_count": 5,
      "outputs": [
        {
          "output_type": "stream",
          "name": "stdout",
          "text": [
            "My name is :  indresh\n",
            "My Class is :  DS\n"
          ]
        }
      ]
    },
    {
      "cell_type": "code",
      "source": [
        "#R 3rd question\n",
        "class Vehicle:\n",
        "  def __init__(self, name, max_speed, mileage):\n",
        "        self.name = name\n",
        "        self.max_speed = max_speed\n",
        "        self.mileage = mileage\n",
        "\n",
        "class Bus(Vehicle):\n",
        "  print(\"Welcome to school!!\")\n",
        "\n",
        "bus_var = Bus(\"School Bus\", 170, 15)\n",
        "\n",
        "print(\"Vehicle name: \",bus_var.name)\n",
        "print(\"Speed: \",bus_var.max_speed)\n",
        "print(\"Mileage: \",bus_var.mileage)"
      ],
      "metadata": {
        "colab": {
          "base_uri": "https://localhost:8080/"
        },
        "id": "BJ5c3qhd5BQF",
        "outputId": "cd940e52-09b4-4ddb-df58-79988995e068"
      },
      "execution_count": 10,
      "outputs": [
        {
          "output_type": "stream",
          "name": "stdout",
          "text": [
            "Welcome to school!!\n",
            "Vehicle name:  School Bus\n",
            "Speed:  170\n",
            "Mileage:  15\n"
          ]
        }
      ]
    },
    {
      "cell_type": "code",
      "source": [
        "#pr\n",
        "class Vehicle:\n",
        "  def __init__(self, speed, mileage):\n",
        "    self.speed = speed\n",
        "    self.mileage = mileage\n",
        "\n",
        "  def praj(self):\n",
        "    print(self.speed, self.mileage)\n",
        "\n",
        "class bus(Vehicle):\n",
        "  print(\"SUZUKI\")\n",
        "\n",
        "y = bus(100,50)\n",
        "y.praj()"
      ],
      "metadata": {
        "colab": {
          "base_uri": "https://localhost:8080/"
        },
        "id": "xRQhiwhC5BmQ",
        "outputId": "a05459b0-7206-4f43-eee4-b99e632dcc4d"
      },
      "execution_count": 11,
      "outputs": [
        {
          "output_type": "stream",
          "name": "stdout",
          "text": [
            "SUZUKI\n",
            "100 50\n"
          ]
        }
      ]
    },
    {
      "cell_type": "code",
      "source": [
        "# sun el\n",
        "class vehical:\n",
        "  def __init__(self,max_speed,mileage):\n",
        "    self.max_speed = max_speed\n",
        "    self.mileage = mileage\n",
        "  def func(self):\n",
        "    print('my bike speed is ',+self.max_speed,'and mileage is ',+self.mileage)\n",
        "u = vehical(180, 23.5)\n",
        "u.func()\n",
        "class bus(vehical):\n",
        "  def feat(vehical, max_speed, mileage):\n",
        "    vehical.max_speed = max_speed\n",
        "    vehical.mileage = mileage\n",
        "\n",
        "b = bus(123,50)\n",
        "b.max_speed"
      ],
      "metadata": {
        "colab": {
          "base_uri": "https://localhost:8080/"
        },
        "id": "2-qsN1WX5iIR",
        "outputId": "4b57b793-434e-43c2-f123-e087d41fab5f"
      },
      "execution_count": 12,
      "outputs": [
        {
          "output_type": "stream",
          "name": "stdout",
          "text": [
            "my bike speed is  180 and mileage is  23.5\n"
          ]
        },
        {
          "output_type": "execute_result",
          "data": {
            "text/plain": [
              "123"
            ]
          },
          "metadata": {},
          "execution_count": 12
        }
      ]
    },
    {
      "cell_type": "code",
      "source": [
        "# ak mukh way \n",
        "class vehicle:\n",
        "  motor_board = 'ACC Company'\n",
        "  def _init_(self, max_speed, mileage):\n",
        "    self.max_speed = max_speed\n",
        "    self.mileage = mileage\n",
        "\n",
        "    def _init_(self,max_speed):\n",
        "      motor_board = 'BCC Company'\n",
        "      print('ACC Company ,max_speed is 170 and mileage 120')"
      ],
      "metadata": {
        "id": "yCY5Q93e5sGh"
      },
      "execution_count": 13,
      "outputs": []
    },
    {
      "cell_type": "code",
      "source": [
        "# in\n",
        "class vehical:\n",
        "  def __init__(self, max_speed, milage):\n",
        "    self.max_speed=max_speed\n",
        "    self.milage=milage\n",
        "\n",
        "\n",
        "class bus(vehical):\n",
        "    name='Ashoka'\n",
        "    model=2022\n",
        "    def display(self):\n",
        "      print(\"Speed : \",self.max_speed)\n",
        "      print(\"Milage : \",self.milage)\n",
        "\n",
        "\n",
        "p=bus(45,66)\n",
        "p.display()"
      ],
      "metadata": {
        "colab": {
          "base_uri": "https://localhost:8080/"
        },
        "id": "ZSwhVlt55-Mo",
        "outputId": "233a3167-b12e-4e67-a047-a4470fd8e93e"
      },
      "execution_count": 14,
      "outputs": [
        {
          "output_type": "stream",
          "name": "stdout",
          "text": [
            "Speed :  45\n",
            "Milage :  66\n"
          ]
        }
      ]
    },
    {
      "cell_type": "code",
      "source": [
        "# ns\n",
        "class vehicle:\n",
        "  def __init__(self,max_speed,mileage):\n",
        "    self.max_speed = max_speed\n",
        "    self.mileage = mileage\n",
        "\n",
        "class bus(vehicle):\n",
        "  print('Drive Safely')\n",
        "\n",
        "v = bus(150 , 45)\n",
        "\n",
        "print('max speed of my bike is: ', v.max_speed,'and mileage is ', v.mileage)"
      ],
      "metadata": {
        "colab": {
          "base_uri": "https://localhost:8080/"
        },
        "id": "4zckPM8d6sd2",
        "outputId": "f0c0c809-48bf-4114-df84-71634d9fceb0"
      },
      "execution_count": 15,
      "outputs": [
        {
          "output_type": "stream",
          "name": "stdout",
          "text": [
            "Drive Safely\n",
            "max speed of my bike is:  150 and mileage is  45\n"
          ]
        }
      ]
    },
    {
      "cell_type": "code",
      "source": [
        "# sun el\n",
        "\n",
        "class vehical:\n",
        "  def __init__(self,max_speed,mileage):\n",
        "    self.max_speed = max_speed\n",
        "    self.mileage = mileage\n",
        "  def func(self):\n",
        "    print('my vehical speed is ',+self.max_speed,'and mileage is ',+self.mileage)\n",
        "u = vehical(180, 23.5)\n",
        "u.func()\n",
        "\n",
        "class bus(vehical):\n",
        "  def feat(vehical, max_speed, mileage):\n",
        "    vehical.max_speed = max_speed\n",
        "    vehical.mileage = mileage\n",
        "\n",
        "b = bus(123,50)\n",
        "b.func()\n",
        "type(b)"
      ],
      "metadata": {
        "colab": {
          "base_uri": "https://localhost:8080/"
        },
        "id": "MwWP_RzA7UWh",
        "outputId": "aa6ba1c0-2b98-485d-937d-eddd93062723"
      },
      "execution_count": 17,
      "outputs": [
        {
          "output_type": "stream",
          "name": "stdout",
          "text": [
            "my vehical speed is  180 and mileage is  23.5\n",
            "my vehical speed is  123 and mileage is  50\n"
          ]
        },
        {
          "output_type": "execute_result",
          "data": {
            "text/plain": [
              "__main__.bus"
            ]
          },
          "metadata": {},
          "execution_count": 17
        }
      ]
    },
    {
      "cell_type": "code",
      "source": [
        "#rht\n",
        "class vehicle:\n",
        "  def __init__(self, name, mileage, capacity):\n",
        "    self.name = name\n",
        "    self.mileage = mileage\n",
        "    self.capacity = capacity\n",
        "class Bus(vehicle):\n",
        "  pass\n",
        "School_bus = Bus('sillver',45,52)"
      ],
      "metadata": {
        "id": "FdRgmA0M7vpJ"
      },
      "execution_count": 18,
      "outputs": []
    },
    {
      "cell_type": "code",
      "source": [
        "#sun el\n",
        "# determine if school_bus is also an instance of vehicle class\n",
        "class vehical:\n",
        "  def __init__(self,max_speed,mileage):\n",
        "    self.max_speed = max_speed\n",
        "    self.mileage = mileage\n",
        "  def func(self):\n",
        "    print('my vehical speed is ',+self.max_speed,'and mileage is ',+self.mileage)\n",
        "u = vehical(180, 23.5)\n",
        "u.func()\n",
        "\n",
        "class bus(vehical):\n",
        "  def feat(vehical, max_speed, mileage):\n",
        "    vehical.max_speed = max_speed\n",
        "    vehical.mileage = mileage\n",
        "\n",
        "b = bus(123,50)\n",
        "b.func()\n",
        "type(b)\n",
        "\n",
        "class school_bus(bus):\n",
        "  pass\n",
        "sb= school_bus(134,34)\n",
        "sb.func()"
      ],
      "metadata": {
        "colab": {
          "base_uri": "https://localhost:8080/"
        },
        "id": "nYDLzVfj9ZZU",
        "outputId": "56bd4dff-918e-4343-de45-c9f7348ba08b"
      },
      "execution_count": 19,
      "outputs": [
        {
          "output_type": "stream",
          "name": "stdout",
          "text": [
            "my vehical speed is  180 and mileage is  23.5\n",
            "my vehical speed is  123 and mileage is  50\n",
            "my vehical speed is  134 and mileage is  34\n"
          ]
        }
      ]
    },
    {
      "cell_type": "code",
      "source": [
        "#  self.id is instance variable and id is local variable"
      ],
      "metadata": {
        "id": "HVWm7zBq_7vE"
      },
      "execution_count": null,
      "outputs": []
    },
    {
      "cell_type": "code",
      "source": [
        "# https://pynative.com/python-object-oriented-programming-oop-exercise/\n",
        "\n",
        "# https://pynative.com/python-polymorphism"
      ],
      "metadata": {
        "id": "qQzCbm9lAW_e"
      },
      "execution_count": null,
      "outputs": []
    },
    {
      "cell_type": "code",
      "source": [
        "# https://colab.research.google.com/drive/1NT7sJdDkZmi4Rku5I2U7RlodDKq844gS?usp=sharing"
      ],
      "metadata": {
        "id": "foR1BOvEAfky"
      },
      "execution_count": null,
      "outputs": []
    },
    {
      "cell_type": "code",
      "source": [
        "# https://www.w3resource.com/python-exercises/class-exercises/"
      ],
      "metadata": {
        "id": "kPK_C8SVAfoq"
      },
      "execution_count": null,
      "outputs": []
    },
    {
      "cell_type": "code",
      "source": [],
      "metadata": {
        "id": "dTFxIC3RAfrq"
      },
      "execution_count": null,
      "outputs": []
    },
    {
      "cell_type": "code",
      "source": [],
      "metadata": {
        "id": "KHFZFGslAfuk"
      },
      "execution_count": null,
      "outputs": []
    }
  ]
}