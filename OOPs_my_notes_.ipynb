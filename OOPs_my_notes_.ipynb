{
  "nbformat": 4,
  "nbformat_minor": 0,
  "metadata": {
    "colab": {
      "provenance": [],
      "authorship_tag": "ABX9TyPjQVDkXHpsMsxz3r/f1SEe",
      "include_colab_link": true
    },
    "kernelspec": {
      "name": "python3",
      "display_name": "Python 3"
    },
    "language_info": {
      "name": "python"
    }
  },
  "cells": [
    {
      "cell_type": "markdown",
      "metadata": {
        "id": "view-in-github",
        "colab_type": "text"
      },
      "source": [
        "<a href=\"https://colab.research.google.com/github/durgesh2010/Python-practice/blob/main/OOPs_my_notes_.ipynb\" target=\"_parent\"><img src=\"https://colab.research.google.com/assets/colab-badge.svg\" alt=\"Open In Colab\"/></a>"
      ]
    },
    {
      "cell_type": "code",
      "source": [],
      "metadata": {
        "id": "RGBpUaVWsJC_"
      },
      "execution_count": null,
      "outputs": []
    },
    {
      "cell_type": "code",
      "source": [
        "# 1.class \n",
        "# 2.objects\n",
        "# 3.encapsulations\n",
        "# 4.inheritance\n",
        "# 5.Polymorphism\n",
        "# 6.abstraction\n"
      ],
      "metadata": {
        "id": "mRVLvvjYxV56"
      },
      "execution_count": null,
      "outputs": []
    },
    {
      "cell_type": "code",
      "source": [
        "# class is a blueprint for creating an object"
      ],
      "metadata": {
        "id": "DrAls-nLxV9C"
      },
      "execution_count": null,
      "outputs": []
    },
    {
      "cell_type": "code",
      "source": [
        "# objects is the instance of the class"
      ],
      "metadata": {
        "id": "TznGdJb3_h7o"
      },
      "execution_count": null,
      "outputs": []
    },
    {
      "cell_type": "code",
      "source": [
        "# methods are also functions but they are define inside class"
      ],
      "metadata": {
        "id": "kJZwDHY5xWAL"
      },
      "execution_count": null,
      "outputs": []
    },
    {
      "cell_type": "code",
      "source": [
        "class building:          # class\n",
        "  def doors(self):        # method\n",
        "    print('20 Doors')\n",
        "\n",
        "  def windows(self):\n",
        "    print('40 windows')"
      ],
      "metadata": {
        "id": "yRaWPqWzsJGL"
      },
      "execution_count": null,
      "outputs": []
    },
    {
      "cell_type": "code",
      "source": [
        "building_obj = building()  # object/instance\n",
        "building_obj.doors()\n",
        "building_obj.windows()"
      ],
      "metadata": {
        "colab": {
          "base_uri": "https://localhost:8080/"
        },
        "id": "Bcmqx-gXsJLo",
        "outputId": "ed6a8352-17ff-4241-ff23-94714c658e54"
      },
      "execution_count": null,
      "outputs": [
        {
          "output_type": "stream",
          "name": "stdout",
          "text": [
            "20 Doors\n",
            "40 windows\n"
          ]
        }
      ]
    },
    {
      "cell_type": "code",
      "source": [
        "# you have to call methods via object we can not call method directly"
      ],
      "metadata": {
        "id": "ISR8YSakDu68"
      },
      "execution_count": null,
      "outputs": []
    },
    {
      "cell_type": "code",
      "source": [
        "class shape:\n",
        "  def triangle(self):\n",
        "    base = int(input(\"enter the base value : \"))\n",
        "    height = int(input('enter the height value  :'))\n",
        "    area = base * height/2\n",
        "    print('Area of triangle :',area)\n",
        "\n",
        "  def square(self):\n",
        "   length = int(input('enter the length value : '))\n",
        "   width = int(input('enter the width value : '))\n",
        "   area = length * width \n",
        "\n",
        "  def circle(self):\n",
        "   radius = int(input('enter the radius : '))\n",
        "   area = 3.1415 * radius**2\n",
        "   print('area of circle : ', area )"
      ],
      "metadata": {
        "id": "RoMyBX5oFSbD"
      },
      "execution_count": null,
      "outputs": []
    },
    {
      "cell_type": "code",
      "source": [
        "triangle_obj = triangle(self) #it is showing error because we are direcly calling to method\n",
        "triangle_obj.area()"
      ],
      "metadata": {
        "id": "pO9071BfFSeR"
      },
      "execution_count": null,
      "outputs": []
    },
    {
      "cell_type": "code",
      "source": [
        "shape_obj = shape()\n",
        "shape_obj.triangle()\n",
        " "
      ],
      "metadata": {
        "colab": {
          "base_uri": "https://localhost:8080/"
        },
        "id": "ysBQXcr6JtaR",
        "outputId": "0abd1427-e49e-4ae4-f451-e7a2ccdbc2bd"
      },
      "execution_count": null,
      "outputs": [
        {
          "output_type": "stream",
          "name": "stdout",
          "text": [
            "enter the base value : 4\n",
            "enter the height value  :5\n",
            "Area of triangle : 10.0\n"
          ]
        }
      ]
    },
    {
      "cell_type": "code",
      "source": [
        "shape_obj.square()"
      ],
      "metadata": {
        "id": "l4_jpJqIFSmN"
      },
      "execution_count": null,
      "outputs": []
    },
    {
      "cell_type": "code",
      "source": [
        "shape_obj.triangle()"
      ],
      "metadata": {
        "id": "ogvZnBovFSo_"
      },
      "execution_count": null,
      "outputs": []
    },
    {
      "cell_type": "code",
      "source": [],
      "metadata": {
        "id": "-jn1cFeZFSrv"
      },
      "execution_count": null,
      "outputs": []
    },
    {
      "cell_type": "code",
      "source": [],
      "metadata": {
        "id": "rkSXhjHYFStY"
      },
      "execution_count": null,
      "outputs": []
    },
    {
      "cell_type": "code",
      "source": [
        "lst = list()"
      ],
      "metadata": {
        "id": "TVjINCD6sJO2"
      },
      "execution_count": null,
      "outputs": []
    },
    {
      "cell_type": "markdown",
      "source": [
        "# Constructor\n",
        " * it is a special kind of method \n",
        " * it has same name as class name\n",
        " * it is use to create object of class\n",
        " * it is use to initialize instance variable"
      ],
      "metadata": {
        "id": "-5lDTOtcDc1W"
      }
    },
    {
      "cell_type": "code",
      "source": [
        "# it gets call when object is created we don't have to call explicitely "
      ],
      "metadata": {
        "id": "JgbXgIk9sJRp"
      },
      "execution_count": null,
      "outputs": []
    },
    {
      "cell_type": "code",
      "source": [
        "class constructor:\n",
        "  def __init__(self):\n",
        "    print('it is a constructor')\n",
        "\n",
        "constructor_obj = constructor()   "
      ],
      "metadata": {
        "colab": {
          "base_uri": "https://localhost:8080/"
        },
        "id": "XKAP742QsJUz",
        "outputId": "0c933365-a867-437f-9fa4-67298d838d80"
      },
      "execution_count": null,
      "outputs": [
        {
          "output_type": "stream",
          "name": "stdout",
          "text": [
            "it is a constructor\n"
          ]
        }
      ]
    },
    {
      "cell_type": "code",
      "source": [
        "# Self is a keyword"
      ],
      "metadata": {
        "id": "CeHb3pbmSnuC"
      },
      "execution_count": null,
      "outputs": []
    },
    {
      "cell_type": "code",
      "source": [
        "# types of constructor \n",
        "# Default constructor - if you don't create a constructor in your class,\n",
        "                        # then compiler provides you a default constructor\n",
        "\n",
        "# zero constructor - constructor without any parameter except 'self'\n",
        "# parameterized  constructor - constructor with parameters                        "
      ],
      "metadata": {
        "id": "GYIba4FgsJX6"
      },
      "execution_count": null,
      "outputs": []
    },
    {
      "cell_type": "code",
      "source": [
        "####### instance variable \n",
        "\n",
        "# define inside the  method or constructor with 'self.' as prefix\n",
        "# scope - throughout the class\n",
        "# instance variable ki pehchan hi self se hai\n",
        "\n",
        "# outside the class call krna ho to we need object \n",
        "# inside the class krenge to self"
      ],
      "metadata": {
        "id": "mv_m1RvDsJaO"
      },
      "execution_count": null,
      "outputs": []
    },
    {
      "cell_type": "code",
      "source": [
        "class student():\n",
        "  def info(self):\n",
        "    name = 'durgesh'\n",
        "    rno = '23'\n",
        "\n",
        "  def display(self):\n",
        "    print('name',name)  \n",
        "    print('rno',rno)\n",
        "\n",
        "# here we will get error because of local variable w/o self we can not call outside method even     "
      ],
      "metadata": {
        "id": "MyfGa5s6bEDD"
      },
      "execution_count": null,
      "outputs": []
    },
    {
      "cell_type": "code",
      "source": [
        "# in this example it'll become instance variable because we use self.\n",
        "class student():\n",
        "  def info(self):\n",
        "    self.name = 'durgesh'\n",
        "    self.rno = 23\n",
        "\n",
        "  def display(self):\n",
        "    print('name :',self.name)  \n",
        "    print('rno :',self.rno)"
      ],
      "metadata": {
        "id": "YphMlWnRbEGC"
      },
      "execution_count": null,
      "outputs": []
    },
    {
      "cell_type": "code",
      "source": [
        "student_obj = student()\n",
        "student_obj.info()\n",
        "student_obj.display()"
      ],
      "metadata": {
        "colab": {
          "base_uri": "https://localhost:8080/"
        },
        "id": "7TFUrJ0RbEJG",
        "outputId": "cea2ab4e-d8e8-4dd8-dc3d-2df286b3eb11"
      },
      "execution_count": null,
      "outputs": [
        {
          "output_type": "stream",
          "name": "stdout",
          "text": [
            "name : durgesh\n",
            "rno : 23\n"
          ]
        }
      ]
    },
    {
      "cell_type": "code",
      "source": [
        "# here we have to call info first it defines name and rno \n",
        "# but if we use __init__() constructor will call automatically when we create object\n",
        "# and in constructor we should not write logic because we wanted to call it or not it will be called\n",
        "# init is a special type of method, it is a constructor\n",
        "# init is used to initialize instance variables also used to create object"
      ],
      "metadata": {
        "id": "yP0utBIlxeSz"
      },
      "execution_count": null,
      "outputs": []
    },
    {
      "cell_type": "code",
      "source": [
        "class student():\n",
        "  def __init__(self,name,rno):\n",
        "    self.name = 'durgesh'\n",
        "    self.rno = 23\n",
        "\n",
        "  def display(self):\n",
        "    print('name :',self.name)  \n",
        "    print('rno :',self.rno)\n",
        "\n",
        "\n",
        "student_obj = student()\n",
        "# student_obj.info() now we dont need to call this co it is already defined in constructor\n",
        "student_obj.display()"
      ],
      "metadata": {
        "id": "M2_pkFxZbEL_"
      },
      "execution_count": null,
      "outputs": []
    },
    {
      "cell_type": "code",
      "source": [
        "# types of variables \n",
        "# 1. local \n",
        "# 2. global\n",
        "# 3. instance\n",
        "# 4. static or class variable"
      ],
      "metadata": {
        "id": "GsLGeOjgbEOp"
      },
      "execution_count": null,
      "outputs": []
    },
    {
      "cell_type": "code",
      "source": [
        "# static/class variable \n",
        "# it is inside the class and outside the method/constructor\n",
        "# scope is throught the class\n",
        "# it is used for memory managment\n",
        "# to call static variable, you need to call it using class name\n",
        "# whenever there is a common value for all the objects, that is the time we use static object\n",
        "# instance variable is different for every object but static is common for every object"
      ],
      "metadata": {
        "id": "h2L1G1FCbERe"
      },
      "execution_count": null,
      "outputs": []
    },
    {
      "cell_type": "code",
      "source": [
        "class institute():\n",
        "\n",
        "  institute_name = 'edyoda'\n",
        "\n",
        "  def __init__(self,name,rno):\n",
        "    self.name = 'durgesh'\n",
        "    self.rno = 23\n",
        "\n",
        "  def display(self):\n",
        "    print('institute_name :',institute.institute_name)\n",
        "    print('name :',self.name)  \n",
        "    print('rno :',self.rno)\n",
        "\n",
        "\n",
        "institute_obj = institute('durgesh', 84)\n",
        "institute_obj.display()\n",
        "\n",
        "institute_obj = institute('Rathod', 74)\n",
        "institute_obj.display()\n",
        "\n",
        "institute.institute_name = 'coder'\n",
        "\n",
        "# institute name will be changed\n",
        "\n",
        "institute_obj = institute('Rathod', 74)\n",
        "institute_obj.display()"
      ],
      "metadata": {
        "colab": {
          "base_uri": "https://localhost:8080/"
        },
        "id": "jHBMSI5qbEUU",
        "outputId": "c2dc6f57-1ba8-4f2a-d1d1-e30a65647e58"
      },
      "execution_count": null,
      "outputs": [
        {
          "output_type": "stream",
          "name": "stdout",
          "text": [
            "institute_name : edyoda\n",
            "name : durgesh\n",
            "rno : 23\n",
            "institute_name : edyoda\n",
            "name : durgesh\n",
            "rno : 23\n",
            "institute_name : coder\n",
            "name : durgesh\n",
            "rno : 23\n"
          ]
        }
      ]
    },
    {
      "cell_type": "code",
      "source": [],
      "metadata": {
        "id": "V7C9uqT9bEWn"
      },
      "execution_count": null,
      "outputs": []
    },
    {
      "cell_type": "code",
      "source": [],
      "metadata": {
        "id": "EwThVfFz4afE"
      },
      "execution_count": null,
      "outputs": []
    },
    {
      "cell_type": "code",
      "source": [],
      "metadata": {
        "id": "Gq7Ttw3R4aiM"
      },
      "execution_count": null,
      "outputs": []
    },
    {
      "cell_type": "code",
      "source": [],
      "metadata": {
        "id": "_H4VcUsqbEZl"
      },
      "execution_count": null,
      "outputs": []
    },
    {
      "cell_type": "code",
      "source": [
        "class vehical:\n",
        "  def __init__(self,max_speed,milege):\n",
        "    self.max_speed = max_speed\n",
        "    self.milege = milege"
      ],
      "metadata": {
        "id": "jylGONFks8Ry"
      },
      "execution_count": null,
      "outputs": []
    },
    {
      "cell_type": "code",
      "source": [
        "a = vehical(100,80)\n",
        "a.milege"
      ],
      "metadata": {
        "colab": {
          "base_uri": "https://localhost:8080/"
        },
        "id": "hwmi2G7YzEcw",
        "outputId": "42b512bd-365f-4574-ae51-35351638fb24"
      },
      "execution_count": null,
      "outputs": [
        {
          "output_type": "execute_result",
          "data": {
            "text/plain": [
              "80"
            ]
          },
          "metadata": {},
          "execution_count": 3
        }
      ]
    },
    {
      "cell_type": "code",
      "source": [
        "class khaliclass:\n",
        "  pass\n"
      ],
      "metadata": {
        "id": "hTTREwMzs8Mn"
      },
      "execution_count": null,
      "outputs": []
    },
    {
      "cell_type": "code",
      "source": [
        "class vehical:\n",
        "  def __init__(self,max_speed,milege):\n",
        "    self.max_speed = max_speed\n",
        "    self.milege = milege\n",
        "\n",
        "a = vehical(100,80)\n",
        "a.milege\n",
        "\n",
        "\n",
        "\n",
        "\n",
        "\n",
        "\n",
        "class new_class(vehicle):\n",
        "  def __init__(cls,owner):\n",
        "    cls.milege = milege\n",
        "    cls.max_speed = max_speed\n",
        "    owner = owner"
      ],
      "metadata": {
        "id": "b4CXJdNR1l1D"
      },
      "execution_count": null,
      "outputs": []
    },
    {
      "cell_type": "code",
      "source": [
        "n = new_class(80,90,'suresh')\n",
        "n.owner"
      ],
      "metadata": {
        "id": "3Po6Mb_n1l80"
      },
      "execution_count": null,
      "outputs": []
    },
    {
      "cell_type": "code",
      "source": [],
      "metadata": {
        "id": "6n6LmrIabEXc"
      },
      "execution_count": null,
      "outputs": []
    },
    {
      "cell_type": "code",
      "source": [
        "class Vehicle:\n",
        "\n",
        "    def __init__(self, name, max_speed, mileage):\n",
        "        self.name = name\n",
        "        self.max_speed = max_speed\n",
        "        self.mileage = mileage\n",
        "\n",
        "class Bus(Vehicle):\n",
        "    pass\n",
        "\n",
        "School_bus = Bus(\"School Volvo\", 180, 12)\n",
        "print(\"Vehicle Name:\", School_bus.name, \"Speed:\", School_bus.max_speed, \"Mileage:\", School_bus.mileage)"
      ],
      "metadata": {
        "id": "JPPm_3LzbEdv"
      },
      "execution_count": null,
      "outputs": []
    },
    {
      "cell_type": "code",
      "source": [
        "class Vehicale:\n",
        "\n",
        "  def __init__(self, name,max_speed,milege):\n",
        "    self.name = name \n",
        "    self.max_speed  = max_speed\n",
        "    self.speed = milege\n",
        "\n",
        "class Bus(vehicale):\n",
        "  pass\n",
        "\n",
        "school = bus(self,name,max_speed,milege)"
      ],
      "metadata": {
        "id": "i2V1zVim1l_8",
        "colab": {
          "base_uri": "https://localhost:8080/",
          "height": 134
        },
        "outputId": "40344886-756f-4bf7-be87-c1eaabe6a672"
      },
      "execution_count": null,
      "outputs": [
        {
          "output_type": "error",
          "ename": "SyntaxError",
          "evalue": "ignored",
          "traceback": [
            "\u001b[0;36m  File \u001b[0;32m\"<ipython-input-1-8192ae95d466>\"\u001b[0;36m, line \u001b[0;32m3\u001b[0m\n\u001b[0;31m    def __init__(self, name,max_speed,milege)\u001b[0m\n\u001b[0m                                             ^\u001b[0m\n\u001b[0;31mSyntaxError\u001b[0m\u001b[0;31m:\u001b[0m invalid syntax\n"
          ]
        }
      ]
    },
    {
      "cell_type": "code",
      "source": [],
      "metadata": {
        "id": "-C_FMmYu1mDH"
      },
      "execution_count": null,
      "outputs": []
    },
    {
      "cell_type": "code",
      "source": [],
      "metadata": {
        "id": "iKgWqhZ3zEgQ"
      },
      "execution_count": null,
      "outputs": []
    },
    {
      "cell_type": "code",
      "source": [],
      "metadata": {
        "id": "47uq7DLj1m9F"
      },
      "execution_count": null,
      "outputs": []
    },
    {
      "cell_type": "code",
      "source": [],
      "metadata": {
        "id": "I4f6cDk41m_8"
      },
      "execution_count": null,
      "outputs": []
    },
    {
      "cell_type": "code",
      "source": [],
      "metadata": {
        "id": "N-9COuwG1nCo"
      },
      "execution_count": null,
      "outputs": []
    },
    {
      "cell_type": "code",
      "source": [],
      "metadata": {
        "id": "CreZpqaY1nJF"
      },
      "execution_count": null,
      "outputs": []
    },
    {
      "cell_type": "code",
      "source": [
        "# In\n",
        "class vehical:\n",
        "  def info(self, max_speed, milage):\n",
        "    self.max_speed=max_speed\n",
        "    self.milage=milage"
      ],
      "metadata": {
        "id": "BAyKVocfyiXM"
      },
      "execution_count": null,
      "outputs": []
    },
    {
      "cell_type": "code",
      "source": [
        "#in\n",
        "class vehical:\n",
        "  def __init__(self, max_speed, milage):\n",
        "    self.max_speed=max_speed\n",
        "    self.milage=milage\n",
        "  def display(self):\n",
        "    print(\"Speed : \",self.max_speed)\n",
        "    print(\"Milage : \",self.milage)\n",
        "p=vehical(80,55)\n",
        "p.display()"
      ],
      "metadata": {
        "colab": {
          "base_uri": "https://localhost:8080/"
        },
        "id": "zcJ9gQtoyiai",
        "outputId": "8c507e10-2ced-4f4b-f7ef-67ada77f4595"
      },
      "execution_count": null,
      "outputs": [
        {
          "output_type": "stream",
          "name": "stdout",
          "text": [
            "Speed :  80\n",
            "Milage :  55\n"
          ]
        }
      ]
    },
    {
      "cell_type": "code",
      "source": [
        "#ra\n",
        "class vehical:\n",
        "  def __init__(self,max_speed,mileage):\n",
        "    self.max_speed = max_speed\n",
        "    self.mileage = mileage\n",
        "  def func(self):\n",
        "    print('my bike speed is ',self.max_speed,'and mileage is ',self.mileage)\n",
        "\n",
        "u = vehical(180,23.5)\n",
        "u.func()"
      ],
      "metadata": {
        "id": "IrPqrthm0jJ8",
        "colab": {
          "base_uri": "https://localhost:8080/"
        },
        "outputId": "b1a79b03-8519-43b3-e7a5-a36fedb47956"
      },
      "execution_count": null,
      "outputs": [
        {
          "output_type": "stream",
          "name": "stdout",
          "text": [
            "my bike speed is  180 and mileage is  23.5\n"
          ]
        }
      ]
    },
    {
      "cell_type": "code",
      "source": [
        "#sun el\n",
        "class vehical:\n",
        "  def __init__(self,max_speed,mileage):\n",
        "    self.max_speed = max_speed\n",
        "    self.mileage = mileage\n",
        "  def func(self):\n",
        "    print('my bike speed is ',+self.max_speed,'and mileage is ',+self.mileage)\n",
        "u = vehical(180, 23.5)\n",
        "u.func()"
      ],
      "metadata": {
        "id": "wdkshcYmyidB",
        "colab": {
          "base_uri": "https://localhost:8080/"
        },
        "outputId": "978b6319-94ac-419c-906f-03d5d40730b4"
      },
      "execution_count": null,
      "outputs": [
        {
          "output_type": "stream",
          "name": "stdout",
          "text": [
            "my bike speed is  180 and mileage is  23.5\n"
          ]
        }
      ]
    },
    {
      "cell_type": "code",
      "source": [],
      "metadata": {
        "id": "EYt1e87l10Lt"
      },
      "execution_count": null,
      "outputs": []
    },
    {
      "cell_type": "code",
      "source": [
        "# in \n",
        "class vehical:\n",
        "  def __init__(self):\n",
        "    self.name='indresh'\n",
        "    self.cls='DS'\n",
        "  def disp(self):\n",
        "    print(\"My name is : \",self.name)\n",
        "    print(\"My Class is : \", self.cls)\n",
        "  \n",
        "p=vehical()\n",
        "p.disp()"
      ],
      "metadata": {
        "colab": {
          "base_uri": "https://localhost:8080/"
        },
        "id": "EiI7y6ax10U7",
        "outputId": "edb7f970-9a7c-4d8a-b310-c3a46081fb16"
      },
      "execution_count": null,
      "outputs": [
        {
          "output_type": "stream",
          "name": "stdout",
          "text": [
            "My name is :  indresh\n",
            "My Class is :  DS\n"
          ]
        }
      ]
    },
    {
      "cell_type": "code",
      "source": [
        "#R 3rd question\n",
        "class Vehicle:\n",
        "  def __init__(self, name, max_speed, mileage):\n",
        "        self.name = name\n",
        "        self.max_speed = max_speed\n",
        "        self.mileage = mileage\n",
        "\n",
        "class Bus(Vehicle):\n",
        "  print(\"Welcome to school!!\")\n",
        "\n",
        "bus_var = Bus(\"School Bus\", 170, 15)\n",
        "\n",
        "print(\"Vehicle name: \",bus_var.name)\n",
        "print(\"Speed: \",bus_var.max_speed)\n",
        "print(\"Mileage: \",bus_var.mileage)"
      ],
      "metadata": {
        "colab": {
          "base_uri": "https://localhost:8080/"
        },
        "id": "BJ5c3qhd5BQF",
        "outputId": "de010d8d-7fb9-4f9f-9bbd-1b936b45e098"
      },
      "execution_count": null,
      "outputs": [
        {
          "output_type": "stream",
          "name": "stdout",
          "text": [
            "Welcome to school!!\n",
            "Vehicle name:  School Bus\n",
            "Speed:  170\n",
            "Mileage:  15\n"
          ]
        }
      ]
    },
    {
      "cell_type": "code",
      "source": [
        "#pr\n",
        "class Vehicle:\n",
        "  def __init__(self, speed, mileage):\n",
        "    self.speed = speed\n",
        "    self.mileage = mileage\n",
        "\n",
        "  def praj(self):\n",
        "    print(self.speed, self.mileage)\n",
        "\n",
        "class bus(Vehicle):\n",
        "  print(\"SUZUKI\")\n",
        "\n",
        "y = bus(100,50)\n",
        "y.praj()"
      ],
      "metadata": {
        "colab": {
          "base_uri": "https://localhost:8080/"
        },
        "id": "xRQhiwhC5BmQ",
        "outputId": "300cf6e6-3ec9-43ad-e63e-ce7294bbed09"
      },
      "execution_count": null,
      "outputs": [
        {
          "output_type": "stream",
          "name": "stdout",
          "text": [
            "SUZUKI\n",
            "100 50\n"
          ]
        }
      ]
    },
    {
      "cell_type": "code",
      "source": [
        "# sun el\n",
        "class vehical:\n",
        "  def __init__(self,max_speed,mileage):\n",
        "    self.max_speed = max_speed\n",
        "    self.mileage = mileage\n",
        "  def func(self):\n",
        "    print('my bike speed is ',+self.max_speed,'and mileage is ',+self.mileage)\n",
        "u = vehical(180, 23.5)\n",
        "u.func()\n",
        "class bus(vehical):\n",
        "  def feat(vehical, max_speed, mileage):\n",
        "    vehical.max_speed = max_speed\n",
        "    vehical.mileage = mileage\n",
        "\n",
        "b = bus(123,50)\n",
        "b.max_speed"
      ],
      "metadata": {
        "colab": {
          "base_uri": "https://localhost:8080/"
        },
        "id": "2-qsN1WX5iIR",
        "outputId": "4b57b793-434e-43c2-f123-e087d41fab5f"
      },
      "execution_count": null,
      "outputs": [
        {
          "output_type": "stream",
          "name": "stdout",
          "text": [
            "my bike speed is  180 and mileage is  23.5\n"
          ]
        },
        {
          "output_type": "execute_result",
          "data": {
            "text/plain": [
              "123"
            ]
          },
          "metadata": {},
          "execution_count": 12
        }
      ]
    },
    {
      "cell_type": "code",
      "source": [
        "# ak mukh way \n",
        "class vehicle:\n",
        "  motor_board = 'ACC Company'\n",
        "  def _init_(self, max_speed, mileage):\n",
        "    self.max_speed = max_speed\n",
        "    self.mileage = mileage\n",
        "\n",
        "    def _init_(self,max_speed):\n",
        "      motor_board = 'BCC Company'\n",
        "      print('ACC Company ,max_speed is 170 and mileage 120')"
      ],
      "metadata": {
        "id": "yCY5Q93e5sGh"
      },
      "execution_count": null,
      "outputs": []
    },
    {
      "cell_type": "code",
      "source": [
        "# in\n",
        "class vehical:\n",
        "  def __init__(self, max_speed, milage):\n",
        "    self.max_speed=max_speed\n",
        "    self.milage=milage\n",
        "\n",
        "\n",
        "class bus(vehical):\n",
        "    name='Ashoka'\n",
        "    model=2022\n",
        "    def display(self):\n",
        "      print(\"Speed : \",self.max_speed)\n",
        "      print(\"Milage : \",self.milage)\n",
        "\n",
        "\n",
        "p=bus(45,66)\n",
        "p.display()"
      ],
      "metadata": {
        "colab": {
          "base_uri": "https://localhost:8080/"
        },
        "id": "ZSwhVlt55-Mo",
        "outputId": "233a3167-b12e-4e67-a047-a4470fd8e93e"
      },
      "execution_count": null,
      "outputs": [
        {
          "output_type": "stream",
          "name": "stdout",
          "text": [
            "Speed :  45\n",
            "Milage :  66\n"
          ]
        }
      ]
    },
    {
      "cell_type": "code",
      "source": [
        "# ns\n",
        "class vehicle:\n",
        "  def __init__(self,max_speed,mileage):\n",
        "    self.max_speed = max_speed\n",
        "    self.mileage = mileage\n",
        "\n",
        "class bus(vehicle):\n",
        "  print('Drive Safely')\n",
        "\n",
        "v = bus(150 , 45)\n",
        "\n",
        "print('max speed of my bike is: ', v.max_speed,'and mileage is ', v.mileage)"
      ],
      "metadata": {
        "colab": {
          "base_uri": "https://localhost:8080/"
        },
        "id": "4zckPM8d6sd2",
        "outputId": "f0c0c809-48bf-4114-df84-71634d9fceb0"
      },
      "execution_count": null,
      "outputs": [
        {
          "output_type": "stream",
          "name": "stdout",
          "text": [
            "Drive Safely\n",
            "max speed of my bike is:  150 and mileage is  45\n"
          ]
        }
      ]
    },
    {
      "cell_type": "code",
      "source": [
        "# sun el\n",
        "\n",
        "class vehical:\n",
        "  def __init__(self,max_speed,mileage):\n",
        "    self.max_speed = max_speed\n",
        "    self.mileage = mileage\n",
        "  def func(self):\n",
        "    print('my vehical speed is ',+self.max_speed,'and mileage is ',+self.mileage)\n",
        "u = vehical(180, 23.5)\n",
        "u.func()\n",
        "\n",
        "class bus(vehical):\n",
        "  def feat(vehical, max_speed, mileage):\n",
        "    vehical.max_speed = max_speed\n",
        "    vehical.mileage = mileage\n",
        "\n",
        "b = bus(123,50)\n",
        "b.func()\n",
        "type(b)"
      ],
      "metadata": {
        "colab": {
          "base_uri": "https://localhost:8080/"
        },
        "id": "MwWP_RzA7UWh",
        "outputId": "aa6ba1c0-2b98-485d-937d-eddd93062723"
      },
      "execution_count": null,
      "outputs": [
        {
          "output_type": "stream",
          "name": "stdout",
          "text": [
            "my vehical speed is  180 and mileage is  23.5\n",
            "my vehical speed is  123 and mileage is  50\n"
          ]
        },
        {
          "output_type": "execute_result",
          "data": {
            "text/plain": [
              "__main__.bus"
            ]
          },
          "metadata": {},
          "execution_count": 17
        }
      ]
    },
    {
      "cell_type": "code",
      "source": [
        "#rht\n",
        "class vehicle:\n",
        "  def __init__(self, name, mileage, capacity):\n",
        "    self.name = name\n",
        "    self.mileage = mileage\n",
        "    self.capacity = capacity\n",
        "class Bus(vehicle):\n",
        "  pass\n",
        "School_bus = Bus('sillver',45,52)"
      ],
      "metadata": {
        "id": "FdRgmA0M7vpJ"
      },
      "execution_count": null,
      "outputs": []
    },
    {
      "cell_type": "code",
      "source": [
        "#sun el\n",
        "# determine if school_bus is also an instance of vehicle class\n",
        "class vehical:\n",
        "  def __init__(self,max_speed,mileage):\n",
        "    self.max_speed = max_speed\n",
        "    self.mileage = mileage\n",
        "  def func(self):\n",
        "    print('my vehical speed is ',+self.max_speed,'and mileage is ',+self.mileage)\n",
        "u = vehical(180, 23.5)\n",
        "u.func()\n",
        "\n",
        "class bus(vehical):\n",
        "  def feat(vehical, max_speed, mileage):\n",
        "    vehical.max_speed = max_speed\n",
        "    vehical.mileage = mileage\n",
        "\n",
        "b = bus(123,50)\n",
        "b.func()\n",
        "type(b)\n",
        "\n",
        "class school_bus(bus):\n",
        "  pass\n",
        "sb= school_bus(134,34)\n",
        "sb.func()"
      ],
      "metadata": {
        "colab": {
          "base_uri": "https://localhost:8080/"
        },
        "id": "nYDLzVfj9ZZU",
        "outputId": "56bd4dff-918e-4343-de45-c9f7348ba08b"
      },
      "execution_count": null,
      "outputs": [
        {
          "output_type": "stream",
          "name": "stdout",
          "text": [
            "my vehical speed is  180 and mileage is  23.5\n",
            "my vehical speed is  123 and mileage is  50\n",
            "my vehical speed is  134 and mileage is  34\n"
          ]
        }
      ]
    },
    {
      "cell_type": "code",
      "source": [
        "#  self.id is instance variable and id is local variable"
      ],
      "metadata": {
        "id": "HVWm7zBq_7vE"
      },
      "execution_count": null,
      "outputs": []
    },
    {
      "cell_type": "code",
      "source": [
        "# https://pynative.com/python-object-oriented-programming-oop-exercise/      ###### must do this exercise \n",
        "\n",
        "# https://pynative.com/python-polymorphism"
      ],
      "metadata": {
        "id": "qQzCbm9lAW_e"
      },
      "execution_count": null,
      "outputs": []
    },
    {
      "cell_type": "code",
      "source": [
        "# https://colab.research.google.com/drive/1NT7sJdDkZmi4Rku5I2U7RlodDKq844gS?usp=sharing"
      ],
      "metadata": {
        "id": "foR1BOvEAfky"
      },
      "execution_count": null,
      "outputs": []
    },
    {
      "cell_type": "code",
      "source": [
        "# https://www.w3resource.com/python-exercises/class-exercises/"
      ],
      "metadata": {
        "id": "kPK_C8SVAfoq"
      },
      "execution_count": null,
      "outputs": []
    },
    {
      "cell_type": "code",
      "source": [
        "\n",
        "# https://docs.python.org/3/library/functions.html#staticmethod"
      ],
      "metadata": {
        "id": "dTFxIC3RAfrq"
      },
      "execution_count": null,
      "outputs": []
    },
    {
      "cell_type": "code",
      "source": [
        "# https://www.programiz.com/python-programming/operator-overloading\n",
        "# https://www.programiz.com/python-programming/class\n",
        "# https://www.programiz.com/python-programming/object-oriented-programming"
      ],
      "metadata": {
        "id": "KHFZFGslAfuk"
      },
      "execution_count": null,
      "outputs": []
    },
    {
      "cell_type": "markdown",
      "source": [
        "![image.png](data:image/png;base64,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)"
      ],
      "metadata": {
        "id": "3CWyNpK3lAo5"
      }
    },
    {
      "cell_type": "code",
      "source": [
        "\n",
        "a = 5\n",
        "id(a)"
      ],
      "metadata": {
        "colab": {
          "base_uri": "https://localhost:8080/"
        },
        "id": "6njsjDY8Ig5R",
        "outputId": "f9febf9e-90ca-41e6-bd65-4d742bd68350"
      },
      "execution_count": 3,
      "outputs": [
        {
          "output_type": "execute_result",
          "data": {
            "text/plain": [
              "11122720"
            ]
          },
          "metadata": {},
          "execution_count": 3
        }
      ]
    },
    {
      "cell_type": "code",
      "source": [
        "# memory locn changes\n",
        "a = 9\n",
        "id(a)"
      ],
      "metadata": {
        "colab": {
          "base_uri": "https://localhost:8080/"
        },
        "id": "9ayIPK8NIhez",
        "outputId": "b68ffb38-ef26-4307-ef82-73736d3c0323"
      },
      "execution_count": 4,
      "outputs": [
        {
          "output_type": "execute_result",
          "data": {
            "text/plain": [
              "11122848"
            ]
          },
          "metadata": {},
          "execution_count": 4
        }
      ]
    },
    {
      "cell_type": "code",
      "source": [
        "odd "
      ],
      "metadata": {
        "id": "fbCJtoVnpt-6"
      },
      "execution_count": null,
      "outputs": []
    },
    {
      "cell_type": "markdown",
      "source": [
        "# Test lambda | map"
      ],
      "metadata": {
        "id": "jZOMiGyxyHgT"
      }
    },
    {
      "cell_type": "markdown",
      "source": [
        "![image.png](data:image/png;base64,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)"
      ],
      "metadata": {
        "id": "URAmDZskpw-G"
      }
    },
    {
      "cell_type": "code",
      "source": [
        "odd = lambda x: bool(x%2)\n",
        "\n",
        "numbers = [n for n in range(10)]\n",
        "print(numbers)\n",
        "n = list()\n",
        "for i in numbers:\n",
        "  if odd(i):\n",
        "    continue\n",
        "  else :\n",
        "    break  "
      ],
      "metadata": {
        "colab": {
          "base_uri": "https://localhost:8080/"
        },
        "id": "YP4rR8mVp0Kq",
        "outputId": "7fdede31-1db9-4f14-83bc-ffb4e4098fd3"
      },
      "execution_count": 21,
      "outputs": [
        {
          "output_type": "stream",
          "name": "stdout",
          "text": [
            "[0, 1, 2, 3, 4, 5, 6, 7, 8, 9]\n"
          ]
        }
      ]
    },
    {
      "cell_type": "markdown",
      "source": [
        "![image.png](data:image/png;base64,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)"
      ],
      "metadata": {
        "id": "Iq6lUYa-q-u5"
      }
    },
    {
      "cell_type": "code",
      "source": [
        "fun = lambda y: bool(y%2)\n",
        "\n",
        "print(fun(25),fun(31))"
      ],
      "metadata": {
        "colab": {
          "base_uri": "https://localhost:8080/"
        },
        "id": "3YjsClC9rBP5",
        "outputId": "9a58e1cd-4166-4fa6-c7ec-1b3bf340cf31"
      },
      "execution_count": 4,
      "outputs": [
        {
          "output_type": "stream",
          "name": "stdout",
          "text": [
            "True True\n"
          ]
        }
      ]
    },
    {
      "cell_type": "markdown",
      "source": [
        "![image.png](data:image/png;base64,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)"
      ],
      "metadata": {
        "id": "Ueh050XGrVW0"
      }
    },
    {
      "cell_type": "code",
      "source": [
        "import functools \n",
        "l = [1,2,4,5]\n",
        "print(functools.reduce(lambda x,y:x*y,l))"
      ],
      "metadata": {
        "colab": {
          "base_uri": "https://localhost:8080/"
        },
        "id": "BzAw-25BraAA",
        "outputId": "7060f6c3-0d5d-4108-b0fc-eec7d8de0408"
      },
      "execution_count": 5,
      "outputs": [
        {
          "output_type": "stream",
          "name": "stdout",
          "text": [
            "40\n"
          ]
        }
      ]
    },
    {
      "cell_type": "markdown",
      "source": [
        "![image.png](data:image/png;base64,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)"
      ],
      "metadata": {
        "id": "Z8NpZRvlr8rp"
      }
    },
    {
      "cell_type": "code",
      "source": [
        "l = [1,-2,-7,4,10]\n",
        "def f1(x):\n",
        "  return x < 2\n",
        "m1 = filter(f1,l)\n",
        "print(list(m1))  "
      ],
      "metadata": {
        "colab": {
          "base_uri": "https://localhost:8080/"
        },
        "id": "wtuTy4WXr_ZI",
        "outputId": "17c15e6e-1dd8-464b-a861-b8a9c525e2b3"
      },
      "execution_count": 6,
      "outputs": [
        {
          "output_type": "stream",
          "name": "stdout",
          "text": [
            "[1, -2, -7]\n"
          ]
        }
      ]
    },
    {
      "cell_type": "markdown",
      "source": [
        "![image.png](data:image/png;base64,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)"
      ],
      "metadata": {
        "id": "Qcvd9ieSshW3"
      }
    },
    {
      "cell_type": "code",
      "source": [
        "l = [-2,4]\n",
        "# m = list(map(lambda x:x*2,l))\n",
        "m = map(lambda x:x*2,l)\n",
        "print(m)"
      ],
      "metadata": {
        "colab": {
          "base_uri": "https://localhost:8080/"
        },
        "id": "r0aeeOgfsfok",
        "outputId": "c70ca25a-9217-4201-ec4a-78a1dcca9ea5"
      },
      "execution_count": 10,
      "outputs": [
        {
          "output_type": "stream",
          "name": "stdout",
          "text": [
            "<map object at 0x7fafae172990>\n"
          ]
        }
      ]
    },
    {
      "cell_type": "markdown",
      "source": [
        "![image.png](data:image/png;base64,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)"
      ],
      "metadata": {
        "id": "wdu0DjiQtRXZ"
      }
    },
    {
      "cell_type": "code",
      "source": [
        "l = [1,-2,-4,4,6]\n",
        "def f1(x):\n",
        "  return x<-1\n",
        "m1 = map(f1,l)\n",
        "print(list(m1))  "
      ],
      "metadata": {
        "colab": {
          "base_uri": "https://localhost:8080/"
        },
        "id": "5PhmUL8ltYwx",
        "outputId": "51b907e1-be1f-438c-fa0f-33de688ddcb0"
      },
      "execution_count": 11,
      "outputs": [
        {
          "output_type": "stream",
          "name": "stdout",
          "text": [
            "[False, True, True, False, False]\n"
          ]
        }
      ]
    },
    {
      "cell_type": "markdown",
      "source": [
        "![image.png](data:image/png;base64,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)"
      ],
      "metadata": {
        "id": "blTxj7Mnt4Xn"
      }
    },
    {
      "cell_type": "code",
      "source": [
        "list(map((lambda x:x^3),range(5)))"
      ],
      "metadata": {
        "colab": {
          "base_uri": "https://localhost:8080/"
        },
        "id": "Vzltdq-Mt_nj",
        "outputId": "16cfa13f-1ac9-4f4e-fbf7-c21cc62596e0"
      },
      "execution_count": 12,
      "outputs": [
        {
          "output_type": "execute_result",
          "data": {
            "text/plain": [
              "[3, 2, 1, 0, 7]"
            ]
          },
          "metadata": {},
          "execution_count": 12
        }
      ]
    },
    {
      "cell_type": "markdown",
      "source": [
        "![image.png](data:image/png;base64,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)"
      ],
      "metadata": {
        "id": "YrDJJ7jiumv4"
      }
    },
    {
      "cell_type": "code",
      "source": [
        "words = [\"bay\",\"cat\",\"boy\",\"fan\"]\n",
        "b_words = list(filter(lambda word: word.startswith(\"b\"), words))\n",
        "print(b_words)"
      ],
      "metadata": {
        "colab": {
          "base_uri": "https://localhost:8080/"
        },
        "id": "dAWVZU_vuXXC",
        "outputId": "0fad5864-cc43-450f-fe9f-23fb98ef7317"
      },
      "execution_count": 15,
      "outputs": [
        {
          "output_type": "stream",
          "name": "stdout",
          "text": [
            "['bay', 'boy']\n"
          ]
        }
      ]
    },
    {
      "cell_type": "markdown",
      "source": [
        "![image.png](data:image/png;base64,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)"
      ],
      "metadata": {
        "id": "SwDl5kxivfZH"
      }
    },
    {
      "cell_type": "code",
      "source": [
        "[x**2 for x in range(10)]\n",
        "list(map((lambda x:x**2), range(10)))"
      ],
      "metadata": {
        "colab": {
          "base_uri": "https://localhost:8080/"
        },
        "id": "-FyTkeyCvhyg",
        "outputId": "a62cd5e9-5fbe-416f-c972-941a1bf4fefb"
      },
      "execution_count": 18,
      "outputs": [
        {
          "output_type": "execute_result",
          "data": {
            "text/plain": [
              "[0, 1, 4, 9, 16, 25, 36, 49, 64, 81]"
            ]
          },
          "metadata": {},
          "execution_count": 18
        }
      ]
    },
    {
      "cell_type": "markdown",
      "source": [
        "![image.png](data:image/png;base64,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)"
      ],
      "metadata": {
        "id": "eQlKcnv4wNpJ"
      }
    },
    {
      "cell_type": "code",
      "source": [
        "l = [3,2,5,4,5]\n",
        "m = map(lambda x:x**3,l)\n",
        "print(list(m))"
      ],
      "metadata": {
        "colab": {
          "base_uri": "https://localhost:8080/"
        },
        "id": "Wej6csd-wQTQ",
        "outputId": "ffdf228a-33dc-469a-8ec7-40f55aab6059"
      },
      "execution_count": 19,
      "outputs": [
        {
          "output_type": "stream",
          "name": "stdout",
          "text": [
            "[27, 8, 125, 64, 125]\n"
          ]
        }
      ]
    },
    {
      "cell_type": "code",
      "source": [],
      "metadata": {
        "id": "AI0ZGkJMe3ID"
      },
      "execution_count": null,
      "outputs": []
    },
    {
      "cell_type": "code",
      "source": [
        "# write a python program to check values from 0 to 100 are divisible by 3 or not and check\n",
        "# each and every error conditions frmo user point of view."
      ],
      "metadata": {
        "id": "yV9_Vrz4fgDW"
      },
      "execution_count": null,
      "outputs": []
    },
    {
      "cell_type": "code",
      "source": [
        "try:\n",
        "  \n",
        "  lists = list(range(0,100))\n",
        "  for i in lists:\n",
        "  \n",
        "    if i%3 == 0:\n",
        "      print('sb changa si')\n",
        "  except :\n",
        "    print('enter the right value')\n",
        "      "
      ],
      "metadata": {
        "colab": {
          "base_uri": "https://localhost:8080/",
          "height": 134
        },
        "id": "Q9RBt1FXe3O0",
        "outputId": "957d9774-1d6b-4e97-ebff-c7903a806953"
      },
      "execution_count": 12,
      "outputs": [
        {
          "output_type": "error",
          "ename": "SyntaxError",
          "evalue": "ignored",
          "traceback": [
            "\u001b[0;36m  File \u001b[0;32m\"<ipython-input-12-9e8a8dbda020>\"\u001b[0;36m, line \u001b[0;32m8\u001b[0m\n\u001b[0;31m    except :\u001b[0m\n\u001b[0m         ^\u001b[0m\n\u001b[0;31mSyntaxError\u001b[0m\u001b[0;31m:\u001b[0m invalid syntax\n"
          ]
        }
      ]
    },
    {
      "cell_type": "code",
      "source": [
        "def check(num):\n",
        "    \n",
        "  try:\n",
        "    for i in range(num):\n",
        "      if i%3==0 and i>0:\n",
        "        print(f'{i} divisible')\n",
        "  except TypeError:\n",
        "    print(\"please Check type of value\")\n",
        "  except :\n",
        "    print(\"enter the value \")\n",
        "\n",
        "  num = input()\n",
        "  check(num)"
      ],
      "metadata": {
        "id": "8QSh226xe3TG"
      },
      "execution_count": 27,
      "outputs": []
    },
    {
      "cell_type": "code",
      "source": [
        "num = int(input())\n",
        "check(num)"
      ],
      "metadata": {
        "colab": {
          "base_uri": "https://localhost:8080/",
          "height": 341
        },
        "id": "d01pXs8QibMk",
        "outputId": "79023805-e4a2-43a2-e538-a178377bb5ff"
      },
      "execution_count": 30,
      "outputs": [
        {
          "output_type": "error",
          "ename": "KeyboardInterrupt",
          "evalue": "ignored",
          "traceback": [
            "\u001b[0;31m---------------------------------------------------------------------------\u001b[0m",
            "\u001b[0;31mKeyboardInterrupt\u001b[0m                         Traceback (most recent call last)",
            "\u001b[0;32m<ipython-input-30-3bd64440fa92>\u001b[0m in \u001b[0;36m<module>\u001b[0;34m\u001b[0m\n\u001b[1;32m      1\u001b[0m \u001b[0mnum\u001b[0m \u001b[0;34m=\u001b[0m \u001b[0mint\u001b[0m\u001b[0;34m(\u001b[0m\u001b[0minput\u001b[0m\u001b[0;34m(\u001b[0m\u001b[0;34m)\u001b[0m\u001b[0;34m)\u001b[0m\u001b[0;34m\u001b[0m\u001b[0;34m\u001b[0m\u001b[0m\n\u001b[0;32m----> 2\u001b[0;31m \u001b[0mcheck\u001b[0m\u001b[0;34m(\u001b[0m\u001b[0mnum\u001b[0m\u001b[0;34m)\u001b[0m\u001b[0;34m\u001b[0m\u001b[0;34m\u001b[0m\u001b[0m\n\u001b[0m",
            "\u001b[0;32m<ipython-input-27-ec614617457c>\u001b[0m in \u001b[0;36mcheck\u001b[0;34m(num)\u001b[0m\n\u001b[1;32m     10\u001b[0m     \u001b[0mprint\u001b[0m\u001b[0;34m(\u001b[0m\u001b[0;34m\"enter the value \"\u001b[0m\u001b[0;34m)\u001b[0m\u001b[0;34m\u001b[0m\u001b[0;34m\u001b[0m\u001b[0m\n\u001b[1;32m     11\u001b[0m \u001b[0;34m\u001b[0m\u001b[0m\n\u001b[0;32m---> 12\u001b[0;31m   \u001b[0mnum\u001b[0m \u001b[0;34m=\u001b[0m \u001b[0minput\u001b[0m\u001b[0;34m(\u001b[0m\u001b[0;34m)\u001b[0m\u001b[0;34m\u001b[0m\u001b[0;34m\u001b[0m\u001b[0m\n\u001b[0m\u001b[1;32m     13\u001b[0m   \u001b[0mcheck\u001b[0m\u001b[0;34m(\u001b[0m\u001b[0mnum\u001b[0m\u001b[0;34m)\u001b[0m\u001b[0;34m\u001b[0m\u001b[0;34m\u001b[0m\u001b[0m\n",
            "\u001b[0;32m/usr/local/lib/python3.7/dist-packages/ipykernel/kernelbase.py\u001b[0m in \u001b[0;36mraw_input\u001b[0;34m(self, prompt)\u001b[0m\n\u001b[1;32m    861\u001b[0m             \u001b[0mself\u001b[0m\u001b[0;34m.\u001b[0m\u001b[0m_parent_ident\u001b[0m\u001b[0;34m,\u001b[0m\u001b[0;34m\u001b[0m\u001b[0;34m\u001b[0m\u001b[0m\n\u001b[1;32m    862\u001b[0m             \u001b[0mself\u001b[0m\u001b[0;34m.\u001b[0m\u001b[0m_parent_header\u001b[0m\u001b[0;34m,\u001b[0m\u001b[0;34m\u001b[0m\u001b[0;34m\u001b[0m\u001b[0m\n\u001b[0;32m--> 863\u001b[0;31m             \u001b[0mpassword\u001b[0m\u001b[0;34m=\u001b[0m\u001b[0;32mFalse\u001b[0m\u001b[0;34m,\u001b[0m\u001b[0;34m\u001b[0m\u001b[0;34m\u001b[0m\u001b[0m\n\u001b[0m\u001b[1;32m    864\u001b[0m         )\n\u001b[1;32m    865\u001b[0m \u001b[0;34m\u001b[0m\u001b[0m\n",
            "\u001b[0;32m/usr/local/lib/python3.7/dist-packages/ipykernel/kernelbase.py\u001b[0m in \u001b[0;36m_input_request\u001b[0;34m(self, prompt, ident, parent, password)\u001b[0m\n\u001b[1;32m    902\u001b[0m             \u001b[0;32mexcept\u001b[0m \u001b[0mKeyboardInterrupt\u001b[0m\u001b[0;34m:\u001b[0m\u001b[0;34m\u001b[0m\u001b[0;34m\u001b[0m\u001b[0m\n\u001b[1;32m    903\u001b[0m                 \u001b[0;31m# re-raise KeyboardInterrupt, to truncate traceback\u001b[0m\u001b[0;34m\u001b[0m\u001b[0;34m\u001b[0m\u001b[0;34m\u001b[0m\u001b[0m\n\u001b[0;32m--> 904\u001b[0;31m                 \u001b[0;32mraise\u001b[0m \u001b[0mKeyboardInterrupt\u001b[0m\u001b[0;34m(\u001b[0m\u001b[0;34m\"Interrupted by user\"\u001b[0m\u001b[0;34m)\u001b[0m \u001b[0;32mfrom\u001b[0m \u001b[0;32mNone\u001b[0m\u001b[0;34m\u001b[0m\u001b[0;34m\u001b[0m\u001b[0m\n\u001b[0m\u001b[1;32m    905\u001b[0m             \u001b[0;32mexcept\u001b[0m \u001b[0mException\u001b[0m \u001b[0;32mas\u001b[0m \u001b[0me\u001b[0m\u001b[0;34m:\u001b[0m\u001b[0;34m\u001b[0m\u001b[0;34m\u001b[0m\u001b[0m\n\u001b[1;32m    906\u001b[0m                 \u001b[0mself\u001b[0m\u001b[0;34m.\u001b[0m\u001b[0mlog\u001b[0m\u001b[0;34m.\u001b[0m\u001b[0mwarning\u001b[0m\u001b[0;34m(\u001b[0m\u001b[0;34m\"Invalid Message:\"\u001b[0m\u001b[0;34m,\u001b[0m \u001b[0mexc_info\u001b[0m\u001b[0;34m=\u001b[0m\u001b[0;32mTrue\u001b[0m\u001b[0;34m)\u001b[0m\u001b[0;34m\u001b[0m\u001b[0;34m\u001b[0m\u001b[0m\n",
            "\u001b[0;31mKeyboardInterrupt\u001b[0m: Interrupted by user"
          ]
        }
      ]
    },
    {
      "cell_type": "code",
      "source": [],
      "metadata": {
        "id": "TFhaAPzFibPo"
      },
      "execution_count": null,
      "outputs": []
    },
    {
      "cell_type": "code",
      "source": [],
      "metadata": {
        "id": "yPGGDwKjibVT"
      },
      "execution_count": null,
      "outputs": []
    },
    {
      "cell_type": "code",
      "source": [
        "## in\n",
        "try:\n",
        "  for i in range(100):\n",
        "    if i%3==0:\n",
        "      print(i)\n",
        "except ZeroDivisionError:\n",
        "  print(\"cant divide by zero\")\n",
        "except TypeError:\n",
        "  print(\"please Check type of value\")\n",
        "else:\n",
        "  print(\"Error\")"
      ],
      "metadata": {
        "id": "NzhXuJWnibsC"
      },
      "execution_count": null,
      "outputs": []
    },
    {
      "cell_type": "code",
      "source": [],
      "metadata": {
        "id": "0VSWqvwejGg-"
      },
      "execution_count": null,
      "outputs": []
    }
  ]
}