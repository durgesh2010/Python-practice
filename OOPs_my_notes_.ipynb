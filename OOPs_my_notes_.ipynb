{
  "nbformat": 4,
  "nbformat_minor": 0,
  "metadata": {
    "colab": {
      "provenance": [],
      "authorship_tag": "ABX9TyN8m7HzmJCjw+65Gti5DIit",
      "include_colab_link": true
    },
    "kernelspec": {
      "name": "python3",
      "display_name": "Python 3"
    },
    "language_info": {
      "name": "python"
    }
  },
  "cells": [
    {
      "cell_type": "markdown",
      "metadata": {
        "id": "view-in-github",
        "colab_type": "text"
      },
      "source": [
        "<a href=\"https://colab.research.google.com/github/durgesh2010/Python-practice/blob/main/OOPs_my_notes_.ipynb\" target=\"_parent\"><img src=\"https://colab.research.google.com/assets/colab-badge.svg\" alt=\"Open In Colab\"/></a>"
      ]
    },
    {
      "cell_type": "code",
      "source": [],
      "metadata": {
        "id": "RGBpUaVWsJC_"
      },
      "execution_count": null,
      "outputs": []
    },
    {
      "cell_type": "code",
      "source": [
        "# 1.class \n",
        "# 2.objects\n",
        "# 3.encapsulations\n",
        "# 4.inheritance\n",
        "# 5.Polymorphism\n",
        "# 6.abstraction\n"
      ],
      "metadata": {
        "id": "mRVLvvjYxV56"
      },
      "execution_count": null,
      "outputs": []
    },
    {
      "cell_type": "code",
      "source": [
        "# class is a blueprint for creating an object"
      ],
      "metadata": {
        "id": "DrAls-nLxV9C"
      },
      "execution_count": null,
      "outputs": []
    },
    {
      "cell_type": "code",
      "source": [
        "# objects is the instance of the class"
      ],
      "metadata": {
        "id": "TznGdJb3_h7o"
      },
      "execution_count": null,
      "outputs": []
    },
    {
      "cell_type": "code",
      "source": [
        "# methods are also functions but they are define inside class"
      ],
      "metadata": {
        "id": "kJZwDHY5xWAL"
      },
      "execution_count": null,
      "outputs": []
    },
    {
      "cell_type": "code",
      "source": [
        "class building:          # class\n",
        "  def doors(self):        # method\n",
        "    print('20 Doors')\n",
        "\n",
        "  def windows(self):\n",
        "    print('40 windows')"
      ],
      "metadata": {
        "id": "yRaWPqWzsJGL"
      },
      "execution_count": null,
      "outputs": []
    },
    {
      "cell_type": "code",
      "source": [
        "building_obj = building()  # object/instance\n",
        "building_obj.doors()\n",
        "building_obj.windows()"
      ],
      "metadata": {
        "colab": {
          "base_uri": "https://localhost:8080/"
        },
        "id": "Bcmqx-gXsJLo",
        "outputId": "ed6a8352-17ff-4241-ff23-94714c658e54"
      },
      "execution_count": null,
      "outputs": [
        {
          "output_type": "stream",
          "name": "stdout",
          "text": [
            "20 Doors\n",
            "40 windows\n"
          ]
        }
      ]
    },
    {
      "cell_type": "code",
      "source": [
        "# you have to call methods via object we can not call method directly"
      ],
      "metadata": {
        "id": "ISR8YSakDu68"
      },
      "execution_count": null,
      "outputs": []
    },
    {
      "cell_type": "code",
      "source": [
        "class shape:\n",
        "  def triangle(self):\n",
        "    base = int(input(\"enter the base value : \"))\n",
        "    height = int(input('enter the height value  :'))\n",
        "    area = base * height/2\n",
        "    print('Area of triangle :',area)\n",
        "\n",
        "  def square(self):\n",
        "   length = int(input('enter the length value : '))\n",
        "   width = int(input('enter the width value : '))\n",
        "   area = length * width \n",
        "\n",
        "  def circle(self):\n",
        "   radius = int(input('enter the radius : '))\n",
        "   area = 3.1415 * radius**2\n",
        "   print('area of circle : ', area )"
      ],
      "metadata": {
        "id": "RoMyBX5oFSbD"
      },
      "execution_count": null,
      "outputs": []
    },
    {
      "cell_type": "code",
      "source": [
        "triangle_obj = triangle(self) #it is showing error because we are direcly calling to method\n",
        "triangle_obj.area()"
      ],
      "metadata": {
        "id": "pO9071BfFSeR"
      },
      "execution_count": null,
      "outputs": []
    },
    {
      "cell_type": "code",
      "source": [
        "shape_obj = shape()\n",
        "shape_obj.triangle()\n",
        " "
      ],
      "metadata": {
        "colab": {
          "base_uri": "https://localhost:8080/"
        },
        "id": "ysBQXcr6JtaR",
        "outputId": "0abd1427-e49e-4ae4-f451-e7a2ccdbc2bd"
      },
      "execution_count": null,
      "outputs": [
        {
          "output_type": "stream",
          "name": "stdout",
          "text": [
            "enter the base value : 4\n",
            "enter the height value  :5\n",
            "Area of triangle : 10.0\n"
          ]
        }
      ]
    },
    {
      "cell_type": "code",
      "source": [
        "shape_obj.square()"
      ],
      "metadata": {
        "id": "l4_jpJqIFSmN"
      },
      "execution_count": null,
      "outputs": []
    },
    {
      "cell_type": "code",
      "source": [
        "shape_obj.triangle()"
      ],
      "metadata": {
        "id": "ogvZnBovFSo_"
      },
      "execution_count": null,
      "outputs": []
    },
    {
      "cell_type": "code",
      "source": [],
      "metadata": {
        "id": "-jn1cFeZFSrv"
      },
      "execution_count": null,
      "outputs": []
    },
    {
      "cell_type": "code",
      "source": [],
      "metadata": {
        "id": "rkSXhjHYFStY"
      },
      "execution_count": null,
      "outputs": []
    },
    {
      "cell_type": "code",
      "source": [
        "lst = list()"
      ],
      "metadata": {
        "id": "TVjINCD6sJO2"
      },
      "execution_count": null,
      "outputs": []
    },
    {
      "cell_type": "markdown",
      "source": [
        "# Constructor\n",
        " * it is a special kind of method \n",
        " * it has same name as class name\n",
        " * it is use to create object of class\n",
        " * it is use to initialize instance variable"
      ],
      "metadata": {
        "id": "-5lDTOtcDc1W"
      }
    },
    {
      "cell_type": "code",
      "source": [
        "# it gets call when object is created we don't have to call explicitely "
      ],
      "metadata": {
        "id": "JgbXgIk9sJRp"
      },
      "execution_count": null,
      "outputs": []
    },
    {
      "cell_type": "code",
      "source": [
        "class constructor:\n",
        "  def __init__(self):\n",
        "    print('it is a constructor')\n",
        "\n",
        "constructor_obj = constructor()   "
      ],
      "metadata": {
        "colab": {
          "base_uri": "https://localhost:8080/"
        },
        "id": "XKAP742QsJUz",
        "outputId": "0c933365-a867-437f-9fa4-67298d838d80"
      },
      "execution_count": null,
      "outputs": [
        {
          "output_type": "stream",
          "name": "stdout",
          "text": [
            "it is a constructor\n"
          ]
        }
      ]
    },
    {
      "cell_type": "code",
      "source": [
        "# Self is a keyword"
      ],
      "metadata": {
        "id": "CeHb3pbmSnuC"
      },
      "execution_count": null,
      "outputs": []
    },
    {
      "cell_type": "code",
      "source": [
        "# types of constructor \n",
        "# Default constructor - if you don't create a constructor in your class,\n",
        "                        # then compiler provides you a default constructor\n",
        "\n",
        "# zero constructor - constructor without any parameter except 'self'\n",
        "# parameterized  constructor - constructor with parameters                        "
      ],
      "metadata": {
        "id": "GYIba4FgsJX6"
      },
      "execution_count": null,
      "outputs": []
    },
    {
      "cell_type": "code",
      "source": [
        "####### instance variable \n",
        "\n",
        "# define inside the  method or constructor with 'self.' as prefix\n",
        "# scope - throughout the class\n",
        "# instance variable ki pehchan hi self se hai\n",
        "\n",
        "# outside the class call krna ho to we need object \n",
        "# inside the class krenge to self"
      ],
      "metadata": {
        "id": "mv_m1RvDsJaO"
      },
      "execution_count": null,
      "outputs": []
    },
    {
      "cell_type": "code",
      "source": [
        "class student():\n",
        "  def info(self):\n",
        "    name = 'durgesh'\n",
        "    rno = '23'\n",
        "\n",
        "  def display(self):\n",
        "    print('name',name)  \n",
        "    print('rno',rno)\n",
        "\n",
        "# here we will get error because of local variable w/o self we can not call outside method even     "
      ],
      "metadata": {
        "id": "MyfGa5s6bEDD"
      },
      "execution_count": 1,
      "outputs": []
    },
    {
      "cell_type": "code",
      "source": [
        "# in this example it'll become instance variable because we use self.\n",
        "class student():\n",
        "  def info(self):\n",
        "    self.name = 'durgesh'\n",
        "    self.rno = 23\n",
        "\n",
        "  def display(self):\n",
        "    print('name :',self.name)  \n",
        "    print('rno :',self.rno)"
      ],
      "metadata": {
        "id": "YphMlWnRbEGC"
      },
      "execution_count": 4,
      "outputs": []
    },
    {
      "cell_type": "code",
      "source": [
        "student_obj = student()\n",
        "student_obj.info()\n",
        "student_obj.display()"
      ],
      "metadata": {
        "colab": {
          "base_uri": "https://localhost:8080/"
        },
        "id": "7TFUrJ0RbEJG",
        "outputId": "cea2ab4e-d8e8-4dd8-dc3d-2df286b3eb11"
      },
      "execution_count": 5,
      "outputs": [
        {
          "output_type": "stream",
          "name": "stdout",
          "text": [
            "name : durgesh\n",
            "rno : 23\n"
          ]
        }
      ]
    },
    {
      "cell_type": "code",
      "source": [
        "# here we have to call info first it defines name and rno \n",
        "# but if we use __init__() constructor will call automatically when we create object\n",
        "# and in constructor we should not write logic because we wanted to call it or not it will be called\n",
        "# init is a special type of method, it is a constructor\n",
        "# init is used to initialize instance variables also used to create object"
      ],
      "metadata": {
        "id": "yP0utBIlxeSz"
      },
      "execution_count": null,
      "outputs": []
    },
    {
      "cell_type": "code",
      "source": [
        "class student():\n",
        "  def __init__(self,name,rno):\n",
        "    self.name = 'durgesh'\n",
        "    self.rno = 23\n",
        "\n",
        "  def display(self):\n",
        "    print('name :',self.name)  \n",
        "    print('rno :',self.rno)\n",
        "\n",
        "\n",
        "student_obj = student()\n",
        "# student_obj.info() now we dont need to call this co it is already defined in constructor\n",
        "student_obj.display()"
      ],
      "metadata": {
        "id": "M2_pkFxZbEL_"
      },
      "execution_count": 1,
      "outputs": []
    },
    {
      "cell_type": "code",
      "source": [
        "# types of variables \n",
        "# 1. local \n",
        "# 2. global\n",
        "# 3. instance\n",
        "# 4. static or class variable"
      ],
      "metadata": {
        "id": "GsLGeOjgbEOp"
      },
      "execution_count": null,
      "outputs": []
    },
    {
      "cell_type": "code",
      "source": [
        "# static/class variable \n",
        "# it is inside the class and outside the method/constructor\n",
        "# scope is throught the class\n",
        "# it is used for memory managment\n",
        "# to call static variable, you need to call it using class name\n",
        "# whenever there is a common value for all the objects, that is the time we use static object\n",
        "# instance variable is different for every object but static is common for every object"
      ],
      "metadata": {
        "id": "h2L1G1FCbERe"
      },
      "execution_count": null,
      "outputs": []
    },
    {
      "cell_type": "code",
      "source": [
        "class institute():\n",
        "\n",
        "  institute_name = 'edyoda'\n",
        "\n",
        "  def __init__(self,name,rno):\n",
        "    self.name = 'durgesh'\n",
        "    self.rno = 23\n",
        "\n",
        "  def display(self):\n",
        "    print('institute_name :',institute.institute_name)\n",
        "    print('name :',self.name)  \n",
        "    print('rno :',self.rno)\n",
        "\n",
        "\n",
        "institute_obj = institute('durgesh', 84)\n",
        "institute_obj.display()\n",
        "\n",
        "institute_obj = institute('Rathod', 74)\n",
        "institute_obj.display()\n",
        "\n",
        "institute.institute_name = 'coder'\n",
        "\n",
        "# institute name will be changed\n",
        "\n",
        "institute_obj = institute('Rathod', 74)\n",
        "institute_obj.display()"
      ],
      "metadata": {
        "colab": {
          "base_uri": "https://localhost:8080/"
        },
        "id": "jHBMSI5qbEUU",
        "outputId": "c2dc6f57-1ba8-4f2a-d1d1-e30a65647e58"
      },
      "execution_count": 16,
      "outputs": [
        {
          "output_type": "stream",
          "name": "stdout",
          "text": [
            "institute_name : edyoda\n",
            "name : durgesh\n",
            "rno : 23\n",
            "institute_name : edyoda\n",
            "name : durgesh\n",
            "rno : 23\n",
            "institute_name : coder\n",
            "name : durgesh\n",
            "rno : 23\n"
          ]
        }
      ]
    },
    {
      "cell_type": "code",
      "source": [],
      "metadata": {
        "id": "V7C9uqT9bEWn"
      },
      "execution_count": null,
      "outputs": []
    },
    {
      "cell_type": "code",
      "source": [],
      "metadata": {
        "id": "EwThVfFz4afE"
      },
      "execution_count": null,
      "outputs": []
    },
    {
      "cell_type": "code",
      "source": [],
      "metadata": {
        "id": "Gq7Ttw3R4aiM"
      },
      "execution_count": null,
      "outputs": []
    },
    {
      "cell_type": "code",
      "source": [],
      "metadata": {
        "id": "_H4VcUsqbEZl"
      },
      "execution_count": null,
      "outputs": []
    },
    {
      "cell_type": "code",
      "source": [
        "class vehical:\n",
        "  def __init__(self,max_speed,milege):\n",
        "    self.max_speed = max_speed\n",
        "    self.milege = milege"
      ],
      "metadata": {
        "id": "jylGONFks8Ry"
      },
      "execution_count": null,
      "outputs": []
    },
    {
      "cell_type": "code",
      "source": [
        "a = vehical(100,80)\n",
        "a.milege"
      ],
      "metadata": {
        "colab": {
          "base_uri": "https://localhost:8080/"
        },
        "id": "hwmi2G7YzEcw",
        "outputId": "42b512bd-365f-4574-ae51-35351638fb24"
      },
      "execution_count": null,
      "outputs": [
        {
          "output_type": "execute_result",
          "data": {
            "text/plain": [
              "80"
            ]
          },
          "metadata": {},
          "execution_count": 3
        }
      ]
    },
    {
      "cell_type": "code",
      "source": [
        "class khaliclass:\n",
        "  pass\n"
      ],
      "metadata": {
        "id": "hTTREwMzs8Mn"
      },
      "execution_count": null,
      "outputs": []
    },
    {
      "cell_type": "code",
      "source": [
        "class vehical:\n",
        "  def __init__(self,max_speed,milege):\n",
        "    self.max_speed = max_speed\n",
        "    self.milege = milege\n",
        "\n",
        "a = vehical(100,80)\n",
        "a.milege\n",
        "\n",
        "\n",
        "\n",
        "\n",
        "\n",
        "\n",
        "class new_class(vehicle):\n",
        "  def __init__(cls,owner):\n",
        "    cls.milege = milege\n",
        "    cls.max_speed = max_speed\n",
        "    owner = owner"
      ],
      "metadata": {
        "id": "b4CXJdNR1l1D"
      },
      "execution_count": null,
      "outputs": []
    },
    {
      "cell_type": "code",
      "source": [
        "n = new_class(80,90,'suresh')\n",
        "n.owner"
      ],
      "metadata": {
        "id": "3Po6Mb_n1l80"
      },
      "execution_count": null,
      "outputs": []
    },
    {
      "cell_type": "code",
      "source": [],
      "metadata": {
        "id": "6n6LmrIabEXc"
      },
      "execution_count": null,
      "outputs": []
    },
    {
      "cell_type": "code",
      "source": [],
      "metadata": {
        "id": "JPPm_3LzbEdv"
      },
      "execution_count": null,
      "outputs": []
    },
    {
      "cell_type": "code",
      "source": [],
      "metadata": {
        "id": "i2V1zVim1l_8"
      },
      "execution_count": null,
      "outputs": []
    },
    {
      "cell_type": "code",
      "source": [],
      "metadata": {
        "id": "-C_FMmYu1mDH"
      },
      "execution_count": null,
      "outputs": []
    },
    {
      "cell_type": "code",
      "source": [],
      "metadata": {
        "id": "iKgWqhZ3zEgQ"
      },
      "execution_count": null,
      "outputs": []
    },
    {
      "cell_type": "code",
      "source": [],
      "metadata": {
        "id": "47uq7DLj1m9F"
      },
      "execution_count": null,
      "outputs": []
    },
    {
      "cell_type": "code",
      "source": [],
      "metadata": {
        "id": "I4f6cDk41m_8"
      },
      "execution_count": null,
      "outputs": []
    },
    {
      "cell_type": "code",
      "source": [],
      "metadata": {
        "id": "N-9COuwG1nCo"
      },
      "execution_count": null,
      "outputs": []
    },
    {
      "cell_type": "code",
      "source": [],
      "metadata": {
        "id": "CreZpqaY1nJF"
      },
      "execution_count": null,
      "outputs": []
    },
    {
      "cell_type": "code",
      "source": [
        "# In\n",
        "class vehical:\n",
        "  def info(self, max_speed, milage):\n",
        "    self.max_speed=max_speed\n",
        "    self.milage=milage"
      ],
      "metadata": {
        "id": "BAyKVocfyiXM"
      },
      "execution_count": null,
      "outputs": []
    },
    {
      "cell_type": "code",
      "source": [
        "#in\n",
        "class vehical:\n",
        "  def __init__(self, max_speed, milage):\n",
        "    self.max_speed=max_speed\n",
        "    self.milage=milage\n",
        "  def display(self):\n",
        "    print(\"Speed : \",self.max_speed)\n",
        "    print(\"Milage : \",self.milage)\n",
        "p=vehical(80,55)\n",
        "p.display()"
      ],
      "metadata": {
        "colab": {
          "base_uri": "https://localhost:8080/"
        },
        "id": "zcJ9gQtoyiai",
        "outputId": "8c507e10-2ced-4f4b-f7ef-67ada77f4595"
      },
      "execution_count": null,
      "outputs": [
        {
          "output_type": "stream",
          "name": "stdout",
          "text": [
            "Speed :  80\n",
            "Milage :  55\n"
          ]
        }
      ]
    },
    {
      "cell_type": "code",
      "source": [
        "#ra\n",
        "class vehical:\n",
        "  def __init__(self,max_speed,mileage):\n",
        "    self.max_speed = max_speed\n",
        "    self.mileage = mileage\n",
        "  def func(self):\n",
        "    print('my bike speed is ',self.max_speed,'and mileage is ',self.mileage)\n",
        "\n",
        "u = vehical(180,23.5)\n",
        "u.func()"
      ],
      "metadata": {
        "id": "IrPqrthm0jJ8",
        "colab": {
          "base_uri": "https://localhost:8080/"
        },
        "outputId": "b1a79b03-8519-43b3-e7a5-a36fedb47956"
      },
      "execution_count": 1,
      "outputs": [
        {
          "output_type": "stream",
          "name": "stdout",
          "text": [
            "my bike speed is  180 and mileage is  23.5\n"
          ]
        }
      ]
    },
    {
      "cell_type": "code",
      "source": [
        "#sun el\n",
        "class vehical:\n",
        "  def __init__(self,max_speed,mileage):\n",
        "    self.max_speed = max_speed\n",
        "    self.mileage = mileage\n",
        "  def func(self):\n",
        "    print('my bike speed is ',+self.max_speed,'and mileage is ',+self.mileage)\n",
        "u = vehical(180, 23.5)\n",
        "u.func()"
      ],
      "metadata": {
        "id": "wdkshcYmyidB",
        "colab": {
          "base_uri": "https://localhost:8080/"
        },
        "outputId": "978b6319-94ac-419c-906f-03d5d40730b4"
      },
      "execution_count": 4,
      "outputs": [
        {
          "output_type": "stream",
          "name": "stdout",
          "text": [
            "my bike speed is  180 and mileage is  23.5\n"
          ]
        }
      ]
    },
    {
      "cell_type": "code",
      "source": [],
      "metadata": {
        "id": "EYt1e87l10Lt"
      },
      "execution_count": null,
      "outputs": []
    },
    {
      "cell_type": "code",
      "source": [
        "# in \n",
        "class vehical:\n",
        "  def __init__(self):\n",
        "    self.name='indresh'\n",
        "    self.cls='DS'\n",
        "  def disp(self):\n",
        "    print(\"My name is : \",self.name)\n",
        "    print(\"My Class is : \", self.cls)\n",
        "  \n",
        "p=vehical()\n",
        "p.disp()"
      ],
      "metadata": {
        "colab": {
          "base_uri": "https://localhost:8080/"
        },
        "id": "EiI7y6ax10U7",
        "outputId": "edb7f970-9a7c-4d8a-b310-c3a46081fb16"
      },
      "execution_count": 5,
      "outputs": [
        {
          "output_type": "stream",
          "name": "stdout",
          "text": [
            "My name is :  indresh\n",
            "My Class is :  DS\n"
          ]
        }
      ]
    },
    {
      "cell_type": "code",
      "source": [
        "#R 3rd question\n",
        "class Vehicle:\n",
        "  def __init__(self, name, max_speed, mileage):\n",
        "        self.name = name\n",
        "        self.max_speed = max_speed\n",
        "        self.mileage = mileage\n",
        "\n",
        "class Bus(Vehicle):\n",
        "  print(\"Welcome to school!!\")\n",
        "\n",
        "bus_var = Bus(\"School Bus\", 170, 15)\n",
        "\n",
        "print(\"Vehicle name: \",bus_var.name)\n",
        "print(\"Speed: \",bus_var.max_speed)\n",
        "print(\"Mileage: \",bus_var.mileage)"
      ],
      "metadata": {
        "colab": {
          "base_uri": "https://localhost:8080/"
        },
        "id": "BJ5c3qhd5BQF",
        "outputId": "de010d8d-7fb9-4f9f-9bbd-1b936b45e098"
      },
      "execution_count": 6,
      "outputs": [
        {
          "output_type": "stream",
          "name": "stdout",
          "text": [
            "Welcome to school!!\n",
            "Vehicle name:  School Bus\n",
            "Speed:  170\n",
            "Mileage:  15\n"
          ]
        }
      ]
    },
    {
      "cell_type": "code",
      "source": [
        "#pr\n",
        "class Vehicle:\n",
        "  def __init__(self, speed, mileage):\n",
        "    self.speed = speed\n",
        "    self.mileage = mileage\n",
        "\n",
        "  def praj(self):\n",
        "    print(self.speed, self.mileage)\n",
        "\n",
        "class bus(Vehicle):\n",
        "  print(\"SUZUKI\")\n",
        "\n",
        "y = bus(100,50)\n",
        "y.praj()"
      ],
      "metadata": {
        "colab": {
          "base_uri": "https://localhost:8080/"
        },
        "id": "xRQhiwhC5BmQ",
        "outputId": "300cf6e6-3ec9-43ad-e63e-ce7294bbed09"
      },
      "execution_count": 7,
      "outputs": [
        {
          "output_type": "stream",
          "name": "stdout",
          "text": [
            "SUZUKI\n",
            "100 50\n"
          ]
        }
      ]
    },
    {
      "cell_type": "code",
      "source": [
        "# sun el\n",
        "class vehical:\n",
        "  def __init__(self,max_speed,mileage):\n",
        "    self.max_speed = max_speed\n",
        "    self.mileage = mileage\n",
        "  def func(self):\n",
        "    print('my bike speed is ',+self.max_speed,'and mileage is ',+self.mileage)\n",
        "u = vehical(180, 23.5)\n",
        "u.func()\n",
        "class bus(vehical):\n",
        "  def feat(vehical, max_speed, mileage):\n",
        "    vehical.max_speed = max_speed\n",
        "    vehical.mileage = mileage\n",
        "\n",
        "b = bus(123,50)\n",
        "b.max_speed"
      ],
      "metadata": {
        "colab": {
          "base_uri": "https://localhost:8080/"
        },
        "id": "2-qsN1WX5iIR",
        "outputId": "4b57b793-434e-43c2-f123-e087d41fab5f"
      },
      "execution_count": null,
      "outputs": [
        {
          "output_type": "stream",
          "name": "stdout",
          "text": [
            "my bike speed is  180 and mileage is  23.5\n"
          ]
        },
        {
          "output_type": "execute_result",
          "data": {
            "text/plain": [
              "123"
            ]
          },
          "metadata": {},
          "execution_count": 12
        }
      ]
    },
    {
      "cell_type": "code",
      "source": [
        "# ak mukh way \n",
        "class vehicle:\n",
        "  motor_board = 'ACC Company'\n",
        "  def _init_(self, max_speed, mileage):\n",
        "    self.max_speed = max_speed\n",
        "    self.mileage = mileage\n",
        "\n",
        "    def _init_(self,max_speed):\n",
        "      motor_board = 'BCC Company'\n",
        "      print('ACC Company ,max_speed is 170 and mileage 120')"
      ],
      "metadata": {
        "id": "yCY5Q93e5sGh"
      },
      "execution_count": null,
      "outputs": []
    },
    {
      "cell_type": "code",
      "source": [
        "# in\n",
        "class vehical:\n",
        "  def __init__(self, max_speed, milage):\n",
        "    self.max_speed=max_speed\n",
        "    self.milage=milage\n",
        "\n",
        "\n",
        "class bus(vehical):\n",
        "    name='Ashoka'\n",
        "    model=2022\n",
        "    def display(self):\n",
        "      print(\"Speed : \",self.max_speed)\n",
        "      print(\"Milage : \",self.milage)\n",
        "\n",
        "\n",
        "p=bus(45,66)\n",
        "p.display()"
      ],
      "metadata": {
        "colab": {
          "base_uri": "https://localhost:8080/"
        },
        "id": "ZSwhVlt55-Mo",
        "outputId": "233a3167-b12e-4e67-a047-a4470fd8e93e"
      },
      "execution_count": null,
      "outputs": [
        {
          "output_type": "stream",
          "name": "stdout",
          "text": [
            "Speed :  45\n",
            "Milage :  66\n"
          ]
        }
      ]
    },
    {
      "cell_type": "code",
      "source": [
        "# ns\n",
        "class vehicle:\n",
        "  def __init__(self,max_speed,mileage):\n",
        "    self.max_speed = max_speed\n",
        "    self.mileage = mileage\n",
        "\n",
        "class bus(vehicle):\n",
        "  print('Drive Safely')\n",
        "\n",
        "v = bus(150 , 45)\n",
        "\n",
        "print('max speed of my bike is: ', v.max_speed,'and mileage is ', v.mileage)"
      ],
      "metadata": {
        "colab": {
          "base_uri": "https://localhost:8080/"
        },
        "id": "4zckPM8d6sd2",
        "outputId": "f0c0c809-48bf-4114-df84-71634d9fceb0"
      },
      "execution_count": null,
      "outputs": [
        {
          "output_type": "stream",
          "name": "stdout",
          "text": [
            "Drive Safely\n",
            "max speed of my bike is:  150 and mileage is  45\n"
          ]
        }
      ]
    },
    {
      "cell_type": "code",
      "source": [
        "# sun el\n",
        "\n",
        "class vehical:\n",
        "  def __init__(self,max_speed,mileage):\n",
        "    self.max_speed = max_speed\n",
        "    self.mileage = mileage\n",
        "  def func(self):\n",
        "    print('my vehical speed is ',+self.max_speed,'and mileage is ',+self.mileage)\n",
        "u = vehical(180, 23.5)\n",
        "u.func()\n",
        "\n",
        "class bus(vehical):\n",
        "  def feat(vehical, max_speed, mileage):\n",
        "    vehical.max_speed = max_speed\n",
        "    vehical.mileage = mileage\n",
        "\n",
        "b = bus(123,50)\n",
        "b.func()\n",
        "type(b)"
      ],
      "metadata": {
        "colab": {
          "base_uri": "https://localhost:8080/"
        },
        "id": "MwWP_RzA7UWh",
        "outputId": "aa6ba1c0-2b98-485d-937d-eddd93062723"
      },
      "execution_count": null,
      "outputs": [
        {
          "output_type": "stream",
          "name": "stdout",
          "text": [
            "my vehical speed is  180 and mileage is  23.5\n",
            "my vehical speed is  123 and mileage is  50\n"
          ]
        },
        {
          "output_type": "execute_result",
          "data": {
            "text/plain": [
              "__main__.bus"
            ]
          },
          "metadata": {},
          "execution_count": 17
        }
      ]
    },
    {
      "cell_type": "code",
      "source": [
        "#rht\n",
        "class vehicle:\n",
        "  def __init__(self, name, mileage, capacity):\n",
        "    self.name = name\n",
        "    self.mileage = mileage\n",
        "    self.capacity = capacity\n",
        "class Bus(vehicle):\n",
        "  pass\n",
        "School_bus = Bus('sillver',45,52)"
      ],
      "metadata": {
        "id": "FdRgmA0M7vpJ"
      },
      "execution_count": null,
      "outputs": []
    },
    {
      "cell_type": "code",
      "source": [
        "#sun el\n",
        "# determine if school_bus is also an instance of vehicle class\n",
        "class vehical:\n",
        "  def __init__(self,max_speed,mileage):\n",
        "    self.max_speed = max_speed\n",
        "    self.mileage = mileage\n",
        "  def func(self):\n",
        "    print('my vehical speed is ',+self.max_speed,'and mileage is ',+self.mileage)\n",
        "u = vehical(180, 23.5)\n",
        "u.func()\n",
        "\n",
        "class bus(vehical):\n",
        "  def feat(vehical, max_speed, mileage):\n",
        "    vehical.max_speed = max_speed\n",
        "    vehical.mileage = mileage\n",
        "\n",
        "b = bus(123,50)\n",
        "b.func()\n",
        "type(b)\n",
        "\n",
        "class school_bus(bus):\n",
        "  pass\n",
        "sb= school_bus(134,34)\n",
        "sb.func()"
      ],
      "metadata": {
        "colab": {
          "base_uri": "https://localhost:8080/"
        },
        "id": "nYDLzVfj9ZZU",
        "outputId": "56bd4dff-918e-4343-de45-c9f7348ba08b"
      },
      "execution_count": null,
      "outputs": [
        {
          "output_type": "stream",
          "name": "stdout",
          "text": [
            "my vehical speed is  180 and mileage is  23.5\n",
            "my vehical speed is  123 and mileage is  50\n",
            "my vehical speed is  134 and mileage is  34\n"
          ]
        }
      ]
    },
    {
      "cell_type": "code",
      "source": [
        "#  self.id is instance variable and id is local variable"
      ],
      "metadata": {
        "id": "HVWm7zBq_7vE"
      },
      "execution_count": null,
      "outputs": []
    },
    {
      "cell_type": "code",
      "source": [
        "# https://pynative.com/python-object-oriented-programming-oop-exercise/\n",
        "\n",
        "# https://pynative.com/python-polymorphism"
      ],
      "metadata": {
        "id": "qQzCbm9lAW_e"
      },
      "execution_count": null,
      "outputs": []
    },
    {
      "cell_type": "code",
      "source": [
        "# https://colab.research.google.com/drive/1NT7sJdDkZmi4Rku5I2U7RlodDKq844gS?usp=sharing"
      ],
      "metadata": {
        "id": "foR1BOvEAfky"
      },
      "execution_count": null,
      "outputs": []
    },
    {
      "cell_type": "code",
      "source": [
        "# https://www.w3resource.com/python-exercises/class-exercises/"
      ],
      "metadata": {
        "id": "kPK_C8SVAfoq"
      },
      "execution_count": null,
      "outputs": []
    },
    {
      "cell_type": "code",
      "source": [
        "\n",
        "# https://docs.python.org/3/library/functions.html#staticmethod"
      ],
      "metadata": {
        "id": "dTFxIC3RAfrq"
      },
      "execution_count": null,
      "outputs": []
    },
    {
      "cell_type": "code",
      "source": [
        "# https://www.programiz.com/python-programming/operator-overloading\n",
        "# https://www.programiz.com/python-programming/class\n",
        "# https://www.programiz.com/python-programming/object-oriented-programming"
      ],
      "metadata": {
        "id": "KHFZFGslAfuk"
      },
      "execution_count": null,
      "outputs": []
    }
  ]
}