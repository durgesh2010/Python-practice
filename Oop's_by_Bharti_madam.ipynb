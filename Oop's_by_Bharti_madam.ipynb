{
  "nbformat": 4,
  "nbformat_minor": 0,
  "metadata": {
    "colab": {
      "provenance": [],
      "authorship_tag": "ABX9TyPu3C69RJYVH5dxU9IEgV0h",
      "include_colab_link": true
    },
    "kernelspec": {
      "name": "python3",
      "display_name": "Python 3"
    },
    "language_info": {
      "name": "python"
    }
  },
  "cells": [
    {
      "cell_type": "markdown",
      "metadata": {
        "id": "view-in-github",
        "colab_type": "text"
      },
      "source": [
        "<a href=\"https://colab.research.google.com/github/durgesh2010/Python-practice/blob/main/Oop's_by_Bharti_madam.ipynb\" target=\"_parent\"><img src=\"https://colab.research.google.com/assets/colab-badge.svg\" alt=\"Open In Colab\"/></a>"
      ]
    },
    {
      "cell_type": "markdown",
      "source": [
        "# Classes And Objects"
      ],
      "metadata": {
        "id": "rvjhv9WrOoAH"
      }
    },
    {
      "cell_type": "code",
      "execution_count": null,
      "metadata": {
        "id": "RLi62FWE6kIR",
        "colab": {
          "base_uri": "https://localhost:8080/"
        },
        "outputId": "d4671ebb-5e4c-482c-b8ae-3f2c4c0dcd0c"
      },
      "outputs": [
        {
          "output_type": "stream",
          "name": "stdout",
          "text": [
            "20 Doors!\n",
            "40 Windows!\n"
          ]
        }
      ],
      "source": [
        "# class <class_name>\n",
        "# class - blueprint for creating an object\n",
        "\n",
        "class building:                    # class\n",
        "    def doors(self):               # method\n",
        "        print(\"20 Doors!\")\n",
        "\n",
        "    def windows(self):\n",
        "        print(\"40 Windows!\")    \n",
        "\n",
        "building_obj = building()          # object/instance\n",
        "\n",
        "building_obj.doors()\n",
        "building_obj.windows()"
      ]
    },
    {
      "cell_type": "code",
      "source": [
        "class shape:\n",
        "    def triangle(self):\n",
        "        base = int(input(\"Enter base value :\"))\n",
        "        height = int(input(\"Enter height value :\"))\n",
        "        area = height * base / 2\n",
        "        print(\"Area of triangle :\", area)\n",
        "\n",
        "    def square(self):\n",
        "        side = int(input(\"Enter length of side :\"))\n",
        "        area = side ** 2\n",
        "        print(\"Area of square :\", area)\n",
        "\n",
        "    def circle(self):\n",
        "        radius = int(input(\"Enter length of radius :\"))\n",
        "        area = 3.14159 * radius ** 2\n",
        "        print(\"Area of circle :\", area)\n",
        "\n",
        "shape_obj = shape()   # default constructor\n",
        "\n",
        "shape_obj.triangle()\n",
        "shape_obj.square()\n",
        "shape_obj.circle()\n",
        "\n",
        "# self - is a keyword\n",
        "# it represents the object of current class"
      ],
      "metadata": {
        "id": "8nrUBnr56shv"
      },
      "execution_count": null,
      "outputs": []
    },
    {
      "cell_type": "code",
      "source": [
        "# Constructor\n",
        "# is a special kind of method\n",
        "# it has same name as class name\n",
        "# it is use to create object of class\n",
        "# it is use to initialize instance variable - hold\n",
        "# it is represented by __init__()\n",
        "# it gets called when an object is created\n",
        "\n",
        "class constructor: \n",
        "    def __init__(self,no1,no2):                    # Zero Constructor\n",
        "        print(\"It's a constructor\")\n",
        "\n",
        "constructor_obj = constructor(4,5)\n",
        "\n",
        "# Types of Constructor\n",
        "# 1. Default Constructor - if you don't create a constructor in your class, \n",
        "#                          then compiler provides you a default constructor constructor\n",
        "# 2. Zero Constructor    - constructor without any paramter except \"self\"\n",
        "# 3. Parameterized Constructor - constructor with parameters"
      ],
      "metadata": {
        "id": "dl3XOwzZNiDy"
      },
      "execution_count": null,
      "outputs": []
    },
    {
      "cell_type": "code",
      "source": [
        "# instance variable \n",
        "# - define inside the method/constructor with \"self.\" as prefix\n",
        "# - scope - throughout the class\n",
        "\n",
        "class student:\n",
        "    def info(self):\n",
        "        self.name = \"Bharati\"\n",
        "        self.rno = 20\n",
        "        \n",
        "    def display(self):\n",
        "        print(\"Name : \",self.name)\n",
        "        print(\"Rno : \",self.rno)\n",
        "\n",
        "student_obj = student()\n",
        "student_obj.info()\n",
        "student_obj.display()"
      ],
      "metadata": {
        "id": "mSABZyxKNiKv"
      },
      "execution_count": null,
      "outputs": []
    },
    {
      "cell_type": "code",
      "source": [
        "# it is use to initialize instance variable - hold\n",
        "\n",
        "class student:\n",
        "    def __init__(self,name,rno):\n",
        "        self.name = name\n",
        "        self.rno = rno\n",
        "        \n",
        "    def display(self):\n",
        "        print(\"Name : \",self.name)\n",
        "        print(\"Rno : \",self.rno)\n",
        "\n",
        "student_obj = student(\"Bharati\",20)\n",
        "student_obj.display()\n",
        "\n",
        "student_obj1 = student(\"Vishal\",30)\n",
        "student_obj1.display()"
      ],
      "metadata": {
        "id": "hl9qMLhRNyKp"
      },
      "execution_count": null,
      "outputs": []
    },
    {
      "cell_type": "code",
      "source": [
        "# static/class variable\n",
        "# it is defined inside the class but outside the method/constructor\n",
        "# scope - throughout the class\n",
        "# it is used for memory management\n",
        "# to call static variable , you need to call it using class name\n",
        "# whenever there is a common value for all the objects, that is the time when we use static variable\n",
        "\n",
        "\n",
        "class institute:\n",
        "\n",
        "    ins_name = \"Edyoda\"\n",
        "\n",
        "    def __init__(self,name,rno):\n",
        "        self.name = name\n",
        "        self.rno = rno\n",
        "\n",
        "    def display(self):\n",
        "        print(\"Institute : \",institute.ins_name)\n",
        "        print(\"Name : \",self.name)\n",
        "        print(\"Rno : \",self.rno)\n",
        "        \n",
        "\n",
        "institute_obj = institute(\"Raj\",89)\n",
        "institute_obj.display()\n",
        "\n",
        "institute.ins_name = \"Coder\"\n",
        "\n",
        "institute_obj1 = institute(\"Prerna\",80)\n",
        "institute_obj1.display()\n",
        "\n",
        "institute.ins_name = \"Sanket\"\n",
        "\n",
        "institute_obj2 = institute(\"Aaditya\",81)\n",
        "institute_obj2.display()"
      ],
      "metadata": {
        "id": "aVASWTZPNyOC"
      },
      "execution_count": null,
      "outputs": []
    },
    {
      "cell_type": "code",
      "source": [
        "class student:\n",
        "\n",
        "    clg_name = \"Gyan Ganga College of Excellence\"\n",
        "\n",
        "    def info(self):\n",
        "        self.name = input(\"Enter your name :\")\n",
        "        self.rno = input(\"Enter your Roll no. :\")\n",
        "\n",
        "    def marks(self):\n",
        "        self.maths = int(input(\"Marks in Maths :\"))\n",
        "        self.science = int(input(\"Marks in Science :\"))\n",
        "        self.english = int(input(\"Marks in English :\"))\n",
        "        self.total = self.maths + self.science + self.english\n",
        "        return self.total\n",
        "      \n",
        "    def percent(self,total):\n",
        "        self.percentage = total / 300 * 100\n",
        "        return self.percentage\n",
        "\n",
        "    def grading(self,percentage):\n",
        "        self.grade = \"\"\n",
        "        if percentage >= 90:\n",
        "            self.grade = \"A\"\n",
        "        elif percentage < 90 and percentage >= 75:\n",
        "            self.grade = \"B\"\n",
        "        elif percentage < 75 and percentage >= 60:\n",
        "            self.grade = \"C\"\n",
        "        else:\n",
        "            self.grade = \"D\"\n",
        "        return self.grade\n",
        "\n",
        "    def __init__(self):\n",
        "        self.name = \"\"\n",
        "        self.rno = \"\"\n",
        "        self.grade = \"\"\n",
        "        self.maths = \"\"\n",
        "        self.science = \"\"\n",
        "        self.english = \"\"\n",
        "        self.percentage = \"\"\n",
        "        \n",
        "    def set_name(self):\n",
        "        self.name = input(\"Enter your name :\")\n",
        "\n",
        "    def get_name(self):\n",
        "        return self.name\n",
        "\n",
        "    def set_rno(self):\n",
        "        self.name = input(\"Enter your Roll no. :\")\n",
        "\n",
        "    def get_rno(self):\n",
        "        return self.rno\n",
        "\n",
        "    def set_maths(self):\n",
        "        self.maths = input(\"Marks in Maths :\")\n",
        "\n",
        "    def get_maths(self):\n",
        "        return self.maths\n",
        "\n",
        "    def set_science(self):\n",
        "        self.science = input(\"Marks in Science :\")\n",
        "\n",
        "    def get_science(self):\n",
        "        return self.science\n",
        "\n",
        "    def set_english(self):\n",
        "        self.english = input(\"Marks in English :\")\n",
        "\n",
        "    def get_english(self):\n",
        "        return self.english\n",
        "\n",
        "    def __str__(self):\n",
        "        return f\"\\n \\n \\n Name of College : {student.clg_name} \\n Name of Student : {self.name} \\n Roll no. : {self.rno} \\n Marks in Maths : {self.maths} \\n Marks in Science : {self.science} \\n Marks in English : {self.english} \\n Total Marks : {self.total}/300 \\n Percentage : {percentage}% \\n Grade : {self.grade}\"\n",
        "\n",
        "student_obj = student()\n",
        "student_obj.info()\n",
        "total = student_obj.marks()\n",
        "percentage = student_obj.percent(total)\n",
        "grade = student_obj.grading(percentage)\n",
        "print(\"Grade : \",grade)\n",
        "\n",
        "\n",
        "\n",
        "\n",
        "print(student_obj)"
      ],
      "metadata": {
        "id": "02rqF6t8NyRj"
      },
      "execution_count": null,
      "outputs": []
    },
    {
      "cell_type": "code",
      "source": [
        "# static and class variable are same thing\n",
        "# but static method and class method are different\n",
        "\n",
        "# cls - class\n",
        "\n",
        "class college:\n",
        "\n",
        "    college_name = \"Edyoda\"                                # class / static variable\n",
        "\n",
        "    def __init__(self,name,rno):                           # constructor\n",
        "        self.name = name\n",
        "        self.rno = rno\n",
        "\n",
        "    def __str__(self):                                     # instance method / overridden method\n",
        "        return f\"Name : {self.name} | Roll No. : {self.rno}\"\n",
        "\n",
        "    @classmethod\n",
        "    def get_college_name(cls):\n",
        "        return cls.college_name\n",
        "\n",
        "    @classmethod\n",
        "    def set_college_name(cls,college_name):\n",
        "        cls.college_name = college_name\n",
        "\n",
        "college_obj = college(\"Bharati\",67)\n",
        "print(college_obj)\n",
        "\n",
        "data = college.get_college_name()\n",
        "print(data)\n",
        "\n",
        "college.set_college_name(\"Coder\")\n",
        "    \n",
        "data = college.get_college_name()\n",
        "print(data)"
      ],
      "metadata": {
        "id": "Lz3TBt7HNyUV"
      },
      "execution_count": null,
      "outputs": []
    },
    {
      "cell_type": "code",
      "source": [
        "class college:\n",
        "\n",
        "    college_name = \"Edyoda\"                                # class / static variable\n",
        "\n",
        "    def __init__(self,name,rno):                           # constructor\n",
        "        self.name = name\n",
        "        self.rno = rno\n",
        "\n",
        "    def __str__(self):                                     # instance method / overridden method\n",
        "        return f\"Name : {self.name} | Roll No. : {self.rno}\"\n",
        "\n",
        "    @staticmethod\n",
        "    def general():\n",
        "        no = 10\n",
        "        return f\"I am static method! {no}\"\n",
        "\n",
        "college_obj = college(\"Bharati\",78)\n",
        "print(college_obj.general())"
      ],
      "metadata": {
        "id": "ly4YJ97ZNyXO"
      },
      "execution_count": null,
      "outputs": []
    },
    {
      "cell_type": "code",
      "source": [],
      "metadata": {
        "id": "-BpIKaEENyaX"
      },
      "execution_count": null,
      "outputs": []
    },
    {
      "cell_type": "markdown",
      "source": [
        "# 2. Encapsulation"
      ],
      "metadata": {
        "id": "wZAmFO5-O0gg"
      }
    },
    {
      "cell_type": "code",
      "source": [
        "# Encapsulation\n",
        "# binding attributes(variable) and behaviour(method) together into single unit\n",
        "# accessing private member through public environment\n",
        "\n",
        "# private member - cannot be accessed outside the class\n",
        "class laptop:\n",
        "\n",
        "    def __init__(self,ram,processor,brand):\n",
        "        self.ram = ram \n",
        "        self.processor = processor\n",
        "        self.brand = brand\n",
        "\n",
        "    # setter and getter - you can specifically modify each variable\n",
        "    def set_ram(self,ram):\n",
        "        self.ram = ram\n",
        "\n",
        "    def get_ram(self):\n",
        "        return self.ram\n",
        "\n",
        "    def set_processor(self,processor):\n",
        "        self.processor = processor\n",
        "\n",
        "    def get_processor(self):\n",
        "        return self.processor\n",
        "\n",
        "    def set_brand(self,brand):\n",
        "        self.brand = brand\n",
        "\n",
        "    def get_brand(self):\n",
        "        return self.brand\n",
        "\n",
        "    def __str__(self):\n",
        "        return f\"Ram : {self.ram} \\nProcessor : {self.processor} \\nBrand : {self.brand}\"\n",
        "\n",
        "laptop_obj = laptop(\"4\",\"i3\",\"HP\")\n",
        "print(laptop_obj)\n",
        "\n",
        "# laptop_obj.set_ram(\"8\")\n",
        "# print(laptop_obj.get_ram())\n",
        "\n",
        "# laptop_obj.set_brand(\"Lenovo\")\n",
        "\n",
        "# print(laptop_obj.display())"
      ],
      "metadata": {
        "id": "f0dvmsnXNydQ"
      },
      "execution_count": null,
      "outputs": []
    },
    {
      "cell_type": "code",
      "source": [
        "# Private class\n",
        "\n",
        "class private:\n",
        "\n",
        "    def __init__(self):\n",
        "        self.__name = \"Bharati\"\n",
        "\n",
        "    def set_name(self,name):\n",
        "        self.__name = name\n",
        "\n",
        "    def get_name(self):\n",
        "        return self.__name\n",
        "\n",
        "obj = private()\n",
        "obj.set_name(\"Aaditya\")\n",
        "print(obj.get_name())"
      ],
      "metadata": {
        "id": "5uG-uu98NiQ0"
      },
      "execution_count": null,
      "outputs": []
    },
    {
      "cell_type": "code",
      "source": [
        "# str method\n",
        "class test(object):\n",
        "    def __str__(self):\n",
        "        return \"Hello Bharati\"\n",
        "     \n",
        "obj = test()\n",
        "print(obj)"
      ],
      "metadata": {
        "id": "FG3ydeZOOzC2"
      },
      "execution_count": null,
      "outputs": []
    },
    {
      "cell_type": "code",
      "source": [],
      "metadata": {
        "id": "oruErsstOzFj"
      },
      "execution_count": null,
      "outputs": []
    },
    {
      "cell_type": "code",
      "source": [],
      "metadata": {
        "id": "X4xiv0BTOzIa"
      },
      "execution_count": null,
      "outputs": []
    },
    {
      "cell_type": "code",
      "source": [],
      "metadata": {
        "id": "efC-euEFOzLJ"
      },
      "execution_count": null,
      "outputs": []
    },
    {
      "cell_type": "code",
      "source": [],
      "metadata": {
        "id": "gj4s4G40OzN_"
      },
      "execution_count": null,
      "outputs": []
    },
    {
      "cell_type": "markdown",
      "source": [
        "# Inheritance"
      ],
      "metadata": {
        "id": "9EHOlfAYebJx"
      }
    },
    {
      "cell_type": "code",
      "source": [
        "####### 1\n",
        "# Inheritance\n",
        "# accessing one class from another class\n",
        "# reuse the code\n",
        "# saving our time and efforts\n",
        "# it follows Is-A Relationship\n",
        "\n",
        "# Types of inheritance \n",
        "# 1. Single Inheritance\n",
        "# 2. Multilevel Inheritance\n",
        "# 3. Multiple Inheritance\n",
        "# 4. Hierarchical Inheritance\n",
        "# 5. Hybrid Inheritance\n",
        "\n",
        "# Single Inheritance \n",
        "# single parent class and single child class\n",
        "\n",
        "# parent class\n",
        "class father:\n",
        "    def flat(self):\n",
        "        print(\"Flat\")\n",
        "\n",
        "    def car(self):\n",
        "        print(\"Car\")\n",
        "\n",
        "# child class\n",
        "class son(father):\n",
        "    def bike(self):\n",
        "        print(\"Bike\")\n",
        "\n",
        "    def mobile(self):\n",
        "        print(\"Mobile\")\n",
        "\n",
        "son_obj = son()\n",
        "son_obj.bike()\n",
        "son_obj.mobile()\n",
        "son_obj.flat()\n",
        "son_obj.car()\n",
        "\n",
        "\n",
        "\n",
        "# class -  student\n",
        "# constructor\n",
        "\n",
        "# info()\n",
        "# name,rno - take input\n",
        "\n",
        "# marks()\n",
        "# maths,science,eng - take input\n",
        "\n",
        "# percentage()\n",
        "# calculate percentage\n",
        "\n",
        "# grade()\n",
        "# calculate grade\n",
        "\n",
        "# __str__()\n",
        "# college name\n",
        "# name\n",
        "# rno\n",
        "# sci marks\n",
        "# maths marks\n",
        "# eng marks\n",
        "# total marks / out marks\n",
        "# percentage\n",
        "# grade "
      ],
      "metadata": {
        "id": "5p4X_h5c6skl",
        "colab": {
          "base_uri": "https://localhost:8080/"
        },
        "outputId": "bd7397e1-19c5-4626-e1be-b4e0a89fa305"
      },
      "execution_count": null,
      "outputs": [
        {
          "output_type": "stream",
          "name": "stdout",
          "text": [
            "Bike\n",
            "Mobile\n",
            "Flat\n",
            "Car\n"
          ]
        }
      ]
    },
    {
      "cell_type": "code",
      "source": [
        "####### 2\n",
        "class grandpa():\n",
        "    def field(self):\n",
        "        print(\"Field\")\n",
        "\n",
        "# parent class\n",
        "class father(grandpa):\n",
        "    def flat(self):\n",
        "        print(\"Flat\")\n",
        "\n",
        "    def car(self):\n",
        "        print(\"Car\")\n",
        "\n",
        "# child class\n",
        "class son(father):\n",
        "    def bike(self):\n",
        "        print(\"Bike\")\n",
        "\n",
        "    def mobile(self):\n",
        "        print(\"Mobile\")\n",
        "\n",
        "son_obj = son()\n",
        "son_obj.bike()\n",
        "son_obj.mobile()\n",
        "son_obj.flat()\n",
        "son_obj.car()\n",
        "son_obj.field()\n"
      ],
      "metadata": {
        "id": "cTfJotRhGevl"
      },
      "execution_count": null,
      "outputs": []
    },
    {
      "cell_type": "code",
      "source": [
        "####### 3\n",
        "# Heirarchical Inheritance\n",
        "# single parent class and multiple child classes\n",
        "\n",
        "class country:\n",
        "    def region(self):\n",
        "        print(\"Country is a region!\")\n",
        "\n",
        "class india(country):\n",
        "    def language(self):\n",
        "        print(\"Hindi\")\n",
        "\n",
        "    def game(self):\n",
        "        print(\"Hockey\")\n",
        "\n",
        "class usa(country):\n",
        "    def language(self):\n",
        "        print(\"English\")\n",
        "\n",
        "    def game(self):\n",
        "        print(\"Baseball\")\n",
        "\n",
        "\n",
        "india_obj = india()\n",
        "india_obj.language()\n",
        "india_obj.game()\n",
        "india_obj.region()\n",
        "\n",
        "usa_obj = usa()\n",
        "usa_obj.language()\n",
        "usa_obj.game()\n",
        "usa_obj.region()"
      ],
      "metadata": {
        "colab": {
          "base_uri": "https://localhost:8080/"
        },
        "id": "2AEVFe3vGe44",
        "outputId": "dd23b1de-100f-4ce2-d6f7-3c22e3754f64"
      },
      "execution_count": null,
      "outputs": [
        {
          "output_type": "stream",
          "name": "stdout",
          "text": [
            "Hindi\n",
            "Hockey\n",
            "Country is a region!\n",
            "English\n",
            "Baseball\n",
            "Country is a region!\n"
          ]
        }
      ]
    },
    {
      "cell_type": "code",
      "source": [
        "####### 4\n",
        "# Multiple Inheritance\n",
        "# multiple parent classes and single child class\n",
        "\n",
        "class c:\n",
        "    def procedure_feature(self):\n",
        "        print(\"C is procedural language\")\n",
        "\n",
        "    def language(self):\n",
        "        print(\"C is a programming language\")\n",
        "\n",
        "class cpp:\n",
        "    def oops_feature(self):\n",
        "        print(\"Cpp is object oriented programming language\")\n",
        "\n",
        "    def language(self):\n",
        "        print(\"Cpp is a programming language\")\n",
        "\n",
        "class python(cpp,c):\n",
        "    def both_feature(self):\n",
        "        print(\"Procedural + OOPs Feature\")\n",
        "\n",
        "    def language(self):\n",
        "        print(\"Python is a programming language\")\n",
        "\n",
        "python_obj = python()\n",
        "python_obj.procedure_feature()\n",
        "python_obj.oops_feature()\n",
        "python_obj.both_feature()\n",
        "python_obj.language()\n",
        "\n",
        "print(python.mro()) # Method Resolution Order\n",
        "print(python.__mro__)"
      ],
      "metadata": {
        "colab": {
          "base_uri": "https://localhost:8080/"
        },
        "id": "lDDMGv5PGe-t",
        "outputId": "5b20ba89-2e64-42b6-f150-c56dcc68127b"
      },
      "execution_count": null,
      "outputs": [
        {
          "output_type": "stream",
          "name": "stdout",
          "text": [
            "C is procedural language\n",
            "Cpp is object oriented programming language\n",
            "Procedural + OOPs Feature\n",
            "Python is a programming language\n",
            "[<class '__main__.python'>, <class '__main__.cpp'>, <class '__main__.c'>, <class 'object'>]\n",
            "(<class '__main__.python'>, <class '__main__.cpp'>, <class '__main__.c'>, <class 'object'>)\n"
          ]
        }
      ]
    },
    {
      "cell_type": "code",
      "source": [],
      "metadata": {
        "id": "tmucF9NxdND8"
      },
      "execution_count": null,
      "outputs": []
    },
    {
      "cell_type": "code",
      "source": [
        "####### 5 hybrid inheritance\n",
        "class a:\n",
        "    def apple(self):\n",
        "        print(\"apple\")\n",
        "class b(a):\n",
        "    def ball(self):\n",
        "        print(\"ball\")\n",
        "class c(a):\n",
        "    def cat(self):\n",
        "        print(\"cat\")\n",
        "class d(b):\n",
        "    def dog(self):\n",
        "        print(\"dog\")\n",
        "class e(c):\n",
        "    def elephant(self):\n",
        "        print(\"elephant\")\n",
        "class f(c):\n",
        "    def frog(self):\n",
        "        print(\"frog\")\n",
        "class g(e,f):\n",
        "    def grape(self):\n",
        "        print(\"grape\")\n",
        "\n",
        "g_obj=g()\n",
        "g_obj.apple()\n",
        "g_obj.cat()\n",
        "g_obj.elephant()\n",
        "g_obj.frog()\n",
        "g_obj.grape()\n",
        "\n",
        "d_obj=d()\n",
        "d_obj.ball()\n",
        "d_obj.dog()"
      ],
      "metadata": {
        "colab": {
          "base_uri": "https://localhost:8080/"
        },
        "id": "hzjA8gpbGfJb",
        "outputId": "2c4b1a1f-b624-4c53-b4fc-c6397e6e3981"
      },
      "execution_count": null,
      "outputs": [
        {
          "output_type": "stream",
          "name": "stdout",
          "text": [
            "apple\n",
            "cat\n",
            "elephant\n",
            "frog\n",
            "grape\n",
            "ball\n",
            "dog\n"
          ]
        }
      ]
    },
    {
      "cell_type": "code",
      "source": [
        "####### 6\n",
        "# Multiple Inheritance\n",
        "# multiple parent classes and single child class\n",
        "\n",
        "class c:\n",
        "    def procedure_feature(self):\n",
        "        print(\"C is procedural language\")\n",
        "\n",
        "    def language(self):\n",
        "        print(\"C is a programming language\")\n",
        "\n",
        "class cpp:\n",
        "    def oops_feature(self):\n",
        "        print(\"Cpp is object oriented programming language\")\n",
        "\n",
        "    def language(self):\n",
        "        print(\"Cpp is a programming language\")\n",
        "\n",
        "class python(cpp,c):\n",
        "    def both_feature(self):\n",
        "        print(\"Procedural + OOPs Feature\")\n",
        "\n",
        "    def language(self):\n",
        "        print(\"Python is a programming language\")\n",
        "\n",
        "python_obj = python()\n",
        "python_obj.procedure_feature()\n",
        "python_obj.oops_feature()\n",
        "python_obj.both_feature()\n",
        "python_obj.language()"
      ],
      "metadata": {
        "colab": {
          "base_uri": "https://localhost:8080/"
        },
        "id": "Hwq1S_XqeJhp",
        "outputId": "da446bd6-e1ce-4865-a5da-2e32cf9ca87c"
      },
      "execution_count": null,
      "outputs": [
        {
          "output_type": "stream",
          "name": "stdout",
          "text": [
            "C is procedural language\n",
            "Cpp is object oriented programming language\n",
            "Procedural + OOPs Feature\n",
            "Python is a programming language\n"
          ]
        }
      ]
    },
    {
      "cell_type": "code",
      "source": [
        "####### 7\n",
        "class mother:\n",
        "    def car(self):\n",
        "        print(\"Audi\")\n",
        "\n",
        "class father:\n",
        "    def flat(self):\n",
        "        print(\"Flat\")\n",
        "\n",
        "    def car(self):\n",
        "        print(\"Maruti\")\n",
        "\n",
        "class son(father,mother):\n",
        "    def car(self):\n",
        "        # super().car()\n",
        "        mother.car(self)\n",
        "        father.car(self)\n",
        "        print(\"BMW\")\n",
        "\n",
        "    def mobile(self):\n",
        "        print(\"Mobile\")\n",
        "\n",
        "# super - represents immediate parent class object\n",
        "\n",
        "son_obj = son()\n",
        "son_obj.mobile()\n",
        "son_obj.flat()\n",
        "son_obj.car()"
      ],
      "metadata": {
        "colab": {
          "base_uri": "https://localhost:8080/"
        },
        "id": "vIewU8UFcYbC",
        "outputId": "c4638a83-8454-433c-91fe-91c880725895"
      },
      "execution_count": null,
      "outputs": [
        {
          "output_type": "stream",
          "name": "stdout",
          "text": [
            "Mobile\n",
            "Flat\n",
            "Audi\n",
            "Maruti\n",
            "BMW\n"
          ]
        }
      ]
    },
    {
      "cell_type": "code",
      "source": [
        "# How the program pointer moves\n",
        "class father:\n",
        "    def __init__(self):\n",
        "        print(\"Parent Class Constructor\")\n",
        "\n",
        "class son(father):\n",
        "    def __init__(self):\n",
        "        super().__init__()\n",
        "        print(\"Child Class Constructor\")\n",
        "    \n",
        "son_obj = son()\n"
      ],
      "metadata": {
        "colab": {
          "base_uri": "https://localhost:8080/"
        },
        "id": "5hEtvhMa5N2B",
        "outputId": "ce9ac578-89e6-4a0c-ce0e-6f0e4f63454d"
      },
      "execution_count": null,
      "outputs": [
        {
          "output_type": "stream",
          "name": "stdout",
          "text": [
            "Parent Class Constructor\n",
            "Child Class Constructor\n"
          ]
        }
      ]
    },
    {
      "cell_type": "code",
      "source": [
        "####### 8 ###### ###### ######\n",
        "# class father:\n",
        "#     def __init__(self):\n",
        "#         print(\"Parent Class Constructor\")\n",
        "\n",
        "# class son(father):\n",
        "#     def __init__(self):\n",
        "#         super().__init__()\n",
        "#         print(\"Child Class Constructor\")\n",
        "    \n",
        "# son_obj = son()\n",
        "\n",
        "class college:\n",
        "    def __init__(self,name,address):\n",
        "        self.name = name\n",
        "        self.address = address\n",
        "\n",
        "class student(college):\n",
        "    def __init__(self,student_name,rno,age,name,address):\n",
        "        super().__init__(name,address)\n",
        "        self.student_name = student_name\n",
        "        self.rno = rno \n",
        "        self.age = age \n",
        "\n",
        "    def __str__(self):\n",
        "        return f\"Student Name : {self.student_name} \\nRno : {self.rno} \\nAge : {self.age} \\nCollege Name : {self.name} \\nCollege Address : {self.address}\"\n",
        "\n",
        "student_name = input(\"Enter student name : \")\n",
        "student_rno = input(\"Enter student rno : \")\n",
        "student_age = input(\"Enter student  age : \")\n",
        "college_name = input(\"Enter college name : \")\n",
        "college_address = input(\"Enter college address : \")\n",
        "\n",
        "student_obj = student(student_name,student_rno,student_age,college_name,college_address)\n",
        "print(student_obj)\n"
      ],
      "metadata": {
        "id": "DsE19Jgbce0I"
      },
      "execution_count": null,
      "outputs": []
    },
    {
      "cell_type": "code",
      "source": [],
      "metadata": {
        "id": "C6ONx7-vYAbW"
      },
      "execution_count": null,
      "outputs": []
    },
    {
      "cell_type": "markdown",
      "source": [
        "practice for MCQs sanfoundry \n",
        "\n",
        "https://www.sanfoundry.com/python-questions-answers-dictionary-4/"
      ],
      "metadata": {
        "id": "RPR_y_20X2xa"
      }
    },
    {
      "cell_type": "code",
      "source": [],
      "metadata": {
        "id": "6qwoAHMpX_tJ"
      },
      "execution_count": null,
      "outputs": []
    },
    {
      "cell_type": "code",
      "source": [],
      "metadata": {
        "id": "W5fHbglRYCE-"
      },
      "execution_count": null,
      "outputs": []
    },
    {
      "cell_type": "code",
      "source": [],
      "metadata": {
        "id": "50_cApj5YCIA"
      },
      "execution_count": null,
      "outputs": []
    }
  ]
}