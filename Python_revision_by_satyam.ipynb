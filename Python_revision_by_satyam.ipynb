{
  "nbformat": 4,
  "nbformat_minor": 0,
  "metadata": {
    "colab": {
      "provenance": [],
      "include_colab_link": true
    },
    "kernelspec": {
      "name": "python3",
      "display_name": "Python 3"
    },
    "language_info": {
      "name": "python"
    }
  },
  "cells": [
    {
      "cell_type": "markdown",
      "metadata": {
        "id": "view-in-github",
        "colab_type": "text"
      },
      "source": [
        "<a href=\"https://colab.research.google.com/github/durgesh2010/Python-practice/blob/main/Python_revision_by_satyam.ipynb\" target=\"_parent\"><img src=\"https://colab.research.google.com/assets/colab-badge.svg\" alt=\"Open In Colab\"/></a>"
      ]
    },
    {
      "cell_type": "code",
      "execution_count": null,
      "metadata": {
        "colab": {
          "base_uri": "https://localhost:8080/"
        },
        "id": "ZX7tsjPbTlT6",
        "outputId": "bab36223-1b3d-4b88-a6ed-02bfaffacd9c"
      },
      "outputs": [
        {
          "output_type": "stream",
          "name": "stdout",
          "text": [
            "Python 3.8.15\n"
          ]
        }
      ],
      "source": [
        "!python --version"
      ]
    },
    {
      "cell_type": "code",
      "source": [
        "a = 5 # int\n",
        "b = 4.5 # float\n",
        "c = 6 + 4j # complex"
      ],
      "metadata": {
        "id": "oQym7YLBVf-L"
      },
      "execution_count": null,
      "outputs": []
    },
    {
      "cell_type": "code",
      "source": [
        "y = \"Abc\" # global variable"
      ],
      "metadata": {
        "id": "J80plwoiWANS"
      },
      "execution_count": null,
      "outputs": []
    },
    {
      "cell_type": "code",
      "source": [
        "def test_func():\n",
        "  y = \"def\" # local variable\n",
        "  print('y : ' , y)"
      ],
      "metadata": {
        "id": "y1YaQ2AoWCIK"
      },
      "execution_count": null,
      "outputs": []
    },
    {
      "cell_type": "code",
      "source": [
        "test_func()"
      ],
      "metadata": {
        "colab": {
          "base_uri": "https://localhost:8080/"
        },
        "id": "clIA8jjAWoSq",
        "outputId": "3dff708c-313a-4544-f295-efb80c6a2974"
      },
      "execution_count": null,
      "outputs": [
        {
          "output_type": "stream",
          "name": "stdout",
          "text": [
            "y :  def\n"
          ]
        }
      ]
    },
    {
      "cell_type": "code",
      "source": [
        "print('y : ' , y)"
      ],
      "metadata": {
        "colab": {
          "base_uri": "https://localhost:8080/"
        },
        "id": "Y4r7EnWXXfMB",
        "outputId": "a3a91127-089c-44fc-a721-4cc6790f71b6"
      },
      "execution_count": null,
      "outputs": [
        {
          "output_type": "stream",
          "name": "stdout",
          "text": [
            "y :  Abc\n"
          ]
        }
      ]
    },
    {
      "cell_type": "code",
      "source": [
        "# Print any random runmber between 1 and 9\n",
        "\n",
        "import random\n",
        "print(random.randrange(1,10))"
      ],
      "metadata": {
        "colab": {
          "base_uri": "https://localhost:8080/"
        },
        "id": "D9akqbDCXqId",
        "outputId": "c59d2705-38ae-45f6-e988-abdd9a15cf3d"
      },
      "execution_count": null,
      "outputs": [
        {
          "output_type": "stream",
          "name": "stdout",
          "text": [
            "6\n"
          ]
        }
      ]
    },
    {
      "cell_type": "code",
      "source": [
        "# Lambda function (anonymous)\n",
        "# can take any number of args , but only 1 expression\n",
        "\n",
        "# Input : int\n",
        "# fn : add 100 to it\n",
        "\n",
        "# lambda args : expression\n",
        "\n",
        "result = lambda a : a + 100\n",
        "\n",
        "print(result(45))\n"
      ],
      "metadata": {
        "colab": {
          "base_uri": "https://localhost:8080/"
        },
        "id": "DAvjGjaQYjkI",
        "outputId": "0833a410-9aba-4c54-a84a-72774fa37261"
      },
      "execution_count": null,
      "outputs": [
        {
          "output_type": "stream",
          "name": "stdout",
          "text": [
            "145\n"
          ]
        }
      ]
    },
    {
      "cell_type": "code",
      "source": [
        "# lambda with more than 1 args\n",
        "\n",
        "result = lambda a,b,c  : a + b + c\n",
        "\n",
        "print(result(12 , 43, 76 ))\n",
        "\n"
      ],
      "metadata": {
        "colab": {
          "base_uri": "https://localhost:8080/"
        },
        "id": "yPqtH10FZrd4",
        "outputId": "be7a3099-c1c7-44c2-ea33-c10e9349533d"
      },
      "execution_count": null,
      "outputs": [
        {
          "output_type": "stream",
          "name": "stdout",
          "text": [
            "131\n"
          ]
        }
      ]
    },
    {
      "cell_type": "code",
      "source": [
        "def func1(n):\n",
        "  return lambda a : a * n"
      ],
      "metadata": {
        "id": "yewEkyH0aCRy"
      },
      "execution_count": null,
      "outputs": []
    },
    {
      "cell_type": "code",
      "source": [
        "result = func1(2)\n",
        "result1 = func1(3)"
      ],
      "metadata": {
        "id": "chwassBEanMt"
      },
      "execution_count": null,
      "outputs": []
    },
    {
      "cell_type": "code",
      "source": [
        "result(8)"
      ],
      "metadata": {
        "colab": {
          "base_uri": "https://localhost:8080/"
        },
        "id": "oncTCs7-a0OH",
        "outputId": "b2ef33a3-08fa-4104-9259-7f3d70c5f3b4"
      },
      "execution_count": null,
      "outputs": [
        {
          "output_type": "execute_result",
          "data": {
            "text/plain": [
              "16"
            ]
          },
          "metadata": {},
          "execution_count": 17
        }
      ]
    },
    {
      "cell_type": "code",
      "source": [
        "result1(8)"
      ],
      "metadata": {
        "colab": {
          "base_uri": "https://localhost:8080/"
        },
        "id": "2hXPGTYza1oe",
        "outputId": "361d1c93-def5-4f60-ac28-b6d2082dc32e"
      },
      "execution_count": null,
      "outputs": [
        {
          "output_type": "execute_result",
          "data": {
            "text/plain": [
              "24"
            ]
          },
          "metadata": {},
          "execution_count": 20
        }
      ]
    },
    {
      "cell_type": "code",
      "source": [
        "# OOPS\n",
        "\n",
        "# Everything in python is object and it has properties and methods\n",
        "# class : object constructor / blueprint"
      ],
      "metadata": {
        "id": "m1y1EyW7bjuF"
      },
      "execution_count": null,
      "outputs": []
    },
    {
      "cell_type": "code",
      "source": [
        "class my_class: # object constructor\n",
        "  x = 5 # property of my_class\n",
        "  y = \"a\""
      ],
      "metadata": {
        "id": "TzyHTqIzcE94"
      },
      "execution_count": null,
      "outputs": []
    },
    {
      "cell_type": "code",
      "source": [
        "object_1 = my_class()\n",
        "print(object_1.x)\n",
        "print(object_1.y)"
      ],
      "metadata": {
        "colab": {
          "base_uri": "https://localhost:8080/"
        },
        "id": "x38EpDo_cbT6",
        "outputId": "d993becc-7e73-4391-eb30-facd2b7992e3"
      },
      "execution_count": null,
      "outputs": [
        {
          "output_type": "stream",
          "name": "stdout",
          "text": [
            "5\n",
            "a\n"
          ]
        }
      ]
    },
    {
      "cell_type": "code",
      "source": [
        "class Person:\n",
        "  def __init__(self , name , age ) : # this function is automatically executed\n",
        "    self.name = name\n",
        "    self.age = age\n",
        "\n",
        "  def print_name(self):\n",
        "    print('My name is : ' , self.name)\n",
        "\n",
        "\n",
        "# self is the current instance of the class"
      ],
      "metadata": {
        "id": "dkQrIgu8c1q1"
      },
      "execution_count": null,
      "outputs": []
    },
    {
      "cell_type": "code",
      "source": [
        "# p1 , p2 : objects\n",
        "p1 = Person(\"Aman\" , 25) # initialisation of 'Person' class\n",
        "p2 = Person(\"Ram\" , 16)"
      ],
      "metadata": {
        "id": "Lggvrt_KeEvd"
      },
      "execution_count": null,
      "outputs": []
    },
    {
      "cell_type": "code",
      "source": [
        "print(p1.name)\n",
        "print(p1.age)"
      ],
      "metadata": {
        "colab": {
          "base_uri": "https://localhost:8080/"
        },
        "id": "K-qIgAQueOSd",
        "outputId": "3e334239-a5f4-4c7b-cb55-5ade5320c067"
      },
      "execution_count": null,
      "outputs": [
        {
          "output_type": "stream",
          "name": "stdout",
          "text": [
            "Aman\n",
            "25\n"
          ]
        }
      ]
    },
    {
      "cell_type": "code",
      "source": [
        "print(p2.name)\n",
        "print(p2.age)"
      ],
      "metadata": {
        "colab": {
          "base_uri": "https://localhost:8080/"
        },
        "id": "X55jAhcXfJTa",
        "outputId": "74e2fd46-8edb-415c-9ce0-1d0fa29fd38f"
      },
      "execution_count": null,
      "outputs": [
        {
          "output_type": "stream",
          "name": "stdout",
          "text": [
            "Ram\n",
            "16\n"
          ]
        }
      ]
    },
    {
      "cell_type": "code",
      "source": [
        "p1.print_name()"
      ],
      "metadata": {
        "colab": {
          "base_uri": "https://localhost:8080/"
        },
        "id": "VKZ7f8X8fXfK",
        "outputId": "ff9c39a1-3a39-4b83-e7d4-d4f5028ad29d"
      },
      "execution_count": null,
      "outputs": [
        {
          "output_type": "stream",
          "name": "stdout",
          "text": [
            "My name is :  Aman\n"
          ]
        }
      ]
    },
    {
      "cell_type": "code",
      "source": [
        "p2.print_name()"
      ],
      "metadata": {
        "colab": {
          "base_uri": "https://localhost:8080/"
        },
        "id": "7KfPt_FDf9so",
        "outputId": "c3dcb7ed-d9b4-40e7-9106-d74db30018f4"
      },
      "execution_count": null,
      "outputs": [
        {
          "output_type": "stream",
          "name": "stdout",
          "text": [
            "My name is :  Ram\n"
          ]
        }
      ]
    },
    {
      "cell_type": "code",
      "source": [
        "class Person2:\n",
        "  pass"
      ],
      "metadata": {
        "id": "UXiqozCKgFQQ"
      },
      "execution_count": null,
      "outputs": []
    },
    {
      "cell_type": "code",
      "source": [
        "# Inheritance\n",
        "\n",
        "class Person:\n",
        "  def __init__(self , name , age ) : # this function is automatically executed\n",
        "    self.name = name\n",
        "    self.age = age\n",
        "\n",
        "  def print_name(self):\n",
        "    print('My name is : ' , self.name)"
      ],
      "metadata": {
        "id": "Q6Wp4GLRgXXO"
      },
      "execution_count": null,
      "outputs": []
    },
    {
      "cell_type": "code",
      "source": [
        "# inherit all the properties of 'Person' class\n",
        "\n",
        "class Student(Person):\n",
        "  def __init__(self , roll_number , id ) : # this function is automatically executed\n",
        "    self.roll_number = roll_number\n",
        "    self.id = id\n"
      ],
      "metadata": {
        "id": "B3c6NECBhD-v"
      },
      "execution_count": null,
      "outputs": []
    },
    {
      "cell_type": "code",
      "source": [
        "class Student(Person):\n",
        "  def __init__(self , name , age  , roll_number , id)  : \n",
        "    super().__init__( name , age)\n",
        "    self.roll_number = roll_number\n",
        "    self.id = id\n"
      ],
      "metadata": {
        "id": "8c9kjQSDjPik"
      },
      "execution_count": null,
      "outputs": []
    },
    {
      "cell_type": "code",
      "source": [
        "x = Student(\"John\" , 20 , 56 , 35)"
      ],
      "metadata": {
        "id": "WOWtujm6hXBb"
      },
      "execution_count": null,
      "outputs": []
    },
    {
      "cell_type": "code",
      "source": [
        "print(x.name)\n",
        "print(x.age)\n",
        "print(x.roll_number)\n",
        "print(x.id)\n",
        "x.print_name()"
      ],
      "metadata": {
        "colab": {
          "base_uri": "https://localhost:8080/"
        },
        "id": "lbbTYMG2hl3X",
        "outputId": "2663c702-7ca4-4108-8c7c-65a504e430b8"
      },
      "execution_count": null,
      "outputs": [
        {
          "output_type": "stream",
          "name": "stdout",
          "text": [
            "John\n",
            "20\n",
            "56\n",
            "35\n",
            "My name is :  John\n"
          ]
        }
      ]
    },
    {
      "cell_type": "code",
      "source": [
        "class Student(Person):\n",
        "  def __init__(self , name , age  , roll_number , id)  : \n",
        "    Person.__init__( name , age)\n",
        "    self.roll_number = roll_number\n",
        "    self.id = id"
      ],
      "metadata": {
        "id": "Pc4xc9Ckivhz"
      },
      "execution_count": null,
      "outputs": []
    },
    {
      "cell_type": "code",
      "source": [
        "tuple_1 = ('a' , 'b' , 'c' ,'d')\n",
        "string_1 = \"wxyz\""
      ],
      "metadata": {
        "id": "J7N2qGyZlKr8"
      },
      "execution_count": null,
      "outputs": []
    },
    {
      "cell_type": "code",
      "source": [
        "# it = iter(tuple_1)\n",
        "it = iter(string_1)"
      ],
      "metadata": {
        "id": "p_MIe6KKlSP-"
      },
      "execution_count": null,
      "outputs": []
    },
    {
      "cell_type": "code",
      "source": [
        "next(it)"
      ],
      "metadata": {
        "colab": {
          "base_uri": "https://localhost:8080/",
          "height": 35
        },
        "id": "YZANPfrOlYvY",
        "outputId": "5a86d29c-9736-4eb4-fd4a-21e278f1b337"
      },
      "execution_count": null,
      "outputs": [
        {
          "output_type": "execute_result",
          "data": {
            "text/plain": [
              "'w'"
            ],
            "application/vnd.google.colaboratory.intrinsic+json": {
              "type": "string"
            }
          },
          "metadata": {},
          "execution_count": 76
        }
      ]
    },
    {
      "cell_type": "code",
      "source": [
        "next(it)"
      ],
      "metadata": {
        "colab": {
          "base_uri": "https://localhost:8080/",
          "height": 35
        },
        "id": "OmLjrlAZleSH",
        "outputId": "6c4c59d1-e031-4ad8-9451-8514cf073106"
      },
      "execution_count": null,
      "outputs": [
        {
          "output_type": "execute_result",
          "data": {
            "text/plain": [
              "'x'"
            ],
            "application/vnd.google.colaboratory.intrinsic+json": {
              "type": "string"
            }
          },
          "metadata": {},
          "execution_count": 77
        }
      ]
    },
    {
      "cell_type": "code",
      "source": [
        "next(it)"
      ],
      "metadata": {
        "colab": {
          "base_uri": "https://localhost:8080/",
          "height": 35
        },
        "id": "AFlV2wBLlfsc",
        "outputId": "6b0b3e0e-7005-4cc5-eefd-d0fc261fd9e4"
      },
      "execution_count": null,
      "outputs": [
        {
          "output_type": "execute_result",
          "data": {
            "text/plain": [
              "'y'"
            ],
            "application/vnd.google.colaboratory.intrinsic+json": {
              "type": "string"
            }
          },
          "metadata": {},
          "execution_count": 78
        }
      ]
    },
    {
      "cell_type": "code",
      "source": [
        "next(it)"
      ],
      "metadata": {
        "colab": {
          "base_uri": "https://localhost:8080/",
          "height": 35
        },
        "id": "fF4KEzeClhBi",
        "outputId": "a3e2ac86-b7de-4420-cd56-1b82e571af8d"
      },
      "execution_count": null,
      "outputs": [
        {
          "output_type": "execute_result",
          "data": {
            "text/plain": [
              "'z'"
            ],
            "application/vnd.google.colaboratory.intrinsic+json": {
              "type": "string"
            }
          },
          "metadata": {},
          "execution_count": 79
        }
      ]
    },
    {
      "cell_type": "code",
      "source": [
        "next(it)"
      ],
      "metadata": {
        "colab": {
          "base_uri": "https://localhost:8080/",
          "height": 169
        },
        "id": "YAaZbENClhwV",
        "outputId": "6b3b03b6-b796-4633-bdec-6f6cb95c8ae4"
      },
      "execution_count": null,
      "outputs": [
        {
          "output_type": "error",
          "ename": "StopIteration",
          "evalue": "ignored",
          "traceback": [
            "\u001b[0;31m---------------------------------------------------------------------------\u001b[0m",
            "\u001b[0;31mStopIteration\u001b[0m                             Traceback (most recent call last)",
            "\u001b[0;32m<ipython-input-80-bc1ab118995a>\u001b[0m in \u001b[0;36m<module>\u001b[0;34m\u001b[0m\n\u001b[0;32m----> 1\u001b[0;31m \u001b[0mnext\u001b[0m\u001b[0;34m(\u001b[0m\u001b[0mit\u001b[0m\u001b[0;34m)\u001b[0m\u001b[0;34m\u001b[0m\u001b[0;34m\u001b[0m\u001b[0m\n\u001b[0m",
            "\u001b[0;31mStopIteration\u001b[0m: "
          ]
        }
      ]
    },
    {
      "cell_type": "code",
      "source": [
        "# Polymorphism\n",
        "\n",
        "# same function name , can be used in different forms"
      ],
      "metadata": {
        "id": "gWH59FPmlik6"
      },
      "execution_count": null,
      "outputs": []
    },
    {
      "cell_type": "code",
      "source": [
        "list_1 = [1,2,3,4,5]\n",
        "len(list_1) # method overloading"
      ],
      "metadata": {
        "colab": {
          "base_uri": "https://localhost:8080/"
        },
        "id": "aWfSsNaJmyMK",
        "outputId": "cc752b9d-b04f-4ef7-c759-78a603d1b482"
      },
      "execution_count": null,
      "outputs": [
        {
          "output_type": "execute_result",
          "data": {
            "text/plain": [
              "5"
            ]
          },
          "metadata": {},
          "execution_count": 82
        }
      ]
    },
    {
      "cell_type": "code",
      "source": [
        "string_1 = 'abcdef'\n",
        "len(string_1) # method overloading"
      ],
      "metadata": {
        "colab": {
          "base_uri": "https://localhost:8080/"
        },
        "id": "7haS6UO0nPap",
        "outputId": "9f440fc7-6b84-4554-a619-6d391d3b3d21"
      },
      "execution_count": null,
      "outputs": [
        {
          "output_type": "execute_result",
          "data": {
            "text/plain": [
              "6"
            ]
          },
          "metadata": {},
          "execution_count": 83
        }
      ]
    },
    {
      "cell_type": "code",
      "source": [
        "# user defined function\n",
        "# case of polymorphism\n",
        "\n",
        "def addition( x , y , z  = 1 ):\n",
        "  return x + y + z\n",
        "\n"
      ],
      "metadata": {
        "id": "NFBTsqgunWks"
      },
      "execution_count": null,
      "outputs": []
    },
    {
      "cell_type": "code",
      "source": [
        "addition(4,5)"
      ],
      "metadata": {
        "colab": {
          "base_uri": "https://localhost:8080/"
        },
        "id": "M7s5kBrbnvOy",
        "outputId": "8efa8e49-4b67-4302-8925-53f573134411"
      },
      "execution_count": null,
      "outputs": [
        {
          "output_type": "execute_result",
          "data": {
            "text/plain": [
              "10"
            ]
          },
          "metadata": {},
          "execution_count": 86
        }
      ]
    },
    {
      "cell_type": "code",
      "source": [
        "addition(4, 5 , 6)"
      ],
      "metadata": {
        "colab": {
          "base_uri": "https://localhost:8080/"
        },
        "id": "GFboLi9Pn8CH",
        "outputId": "b18c3189-8ad6-4e76-e736-594648ab3814"
      },
      "execution_count": null,
      "outputs": [
        {
          "output_type": "execute_result",
          "data": {
            "text/plain": [
              "15"
            ]
          },
          "metadata": {},
          "execution_count": 87
        }
      ]
    },
    {
      "cell_type": "code",
      "source": [
        "# Case of polymorphism\n",
        "\n",
        "class India():\n",
        "  def capital(self):\n",
        "    print(' New Delhi is the capital of India')\n",
        "\n",
        "class USA():\n",
        "  def capital(self):\n",
        "    print(' Washington DC is the capital of USA')"
      ],
      "metadata": {
        "id": "3bCtkiPhoED_"
      },
      "execution_count": null,
      "outputs": []
    },
    {
      "cell_type": "code",
      "source": [
        "object_india = India()\n",
        "object_usa = USA()"
      ],
      "metadata": {
        "id": "iM-27zFpop1O"
      },
      "execution_count": null,
      "outputs": []
    },
    {
      "cell_type": "code",
      "source": [
        "object_india.capital()"
      ],
      "metadata": {
        "colab": {
          "base_uri": "https://localhost:8080/"
        },
        "id": "2aD11KhuoxH3",
        "outputId": "cff50e1f-cfe9-48a0-d962-4fc69235e98d"
      },
      "execution_count": null,
      "outputs": [
        {
          "output_type": "stream",
          "name": "stdout",
          "text": [
            " New Delhi is the capital of India\n"
          ]
        }
      ]
    },
    {
      "cell_type": "code",
      "source": [
        "object_usa.capital()"
      ],
      "metadata": {
        "colab": {
          "base_uri": "https://localhost:8080/"
        },
        "id": "Ln1Ua98Roz2_",
        "outputId": "b941ce25-f023-432d-e963-395895720a64"
      },
      "execution_count": null,
      "outputs": [
        {
          "output_type": "stream",
          "name": "stdout",
          "text": [
            " Washington DC is the capital of USA\n"
          ]
        }
      ]
    },
    {
      "cell_type": "code",
      "source": [
        "import json"
      ],
      "metadata": {
        "id": "CDpflBOho6M3"
      },
      "execution_count": null,
      "outputs": []
    },
    {
      "cell_type": "code",
      "source": [
        "# json : text-format , storing and transporting of data"
      ],
      "metadata": {
        "id": "5dUgpUYeqglq"
      },
      "execution_count": null,
      "outputs": []
    },
    {
      "cell_type": "code",
      "source": [
        " person = '{\"name\" : \"John\"  , \"age\" : 30}' # JSON stirng"
      ],
      "metadata": {
        "id": "07xLv0pGq5mg"
      },
      "execution_count": null,
      "outputs": []
    },
    {
      "cell_type": "code",
      "source": [
        "#parse 'person' --> to extract name,age\n",
        "result = json.loads(person)"
      ],
      "metadata": {
        "id": "_y5uze1ArEf7"
      },
      "execution_count": null,
      "outputs": []
    },
    {
      "cell_type": "code",
      "source": [
        "result"
      ],
      "metadata": {
        "colab": {
          "base_uri": "https://localhost:8080/"
        },
        "id": "RyTZ3j-crKEi",
        "outputId": "6168ba5f-b6c4-4205-e185-ec3cf8ea4f12"
      },
      "execution_count": null,
      "outputs": [
        {
          "output_type": "execute_result",
          "data": {
            "text/plain": [
              "{'name': 'John', 'age': 30}"
            ]
          },
          "metadata": {},
          "execution_count": 101
        }
      ]
    },
    {
      "cell_type": "code",
      "source": [
        "result['age']"
      ],
      "metadata": {
        "colab": {
          "base_uri": "https://localhost:8080/"
        },
        "id": "Wy8tZL41ru6y",
        "outputId": "e7688b59-14ae-469d-c269-705f0bd0f2e9"
      },
      "execution_count": null,
      "outputs": [
        {
          "output_type": "execute_result",
          "data": {
            "text/plain": [
              "30"
            ]
          },
          "metadata": {},
          "execution_count": 102
        }
      ]
    },
    {
      "cell_type": "code",
      "source": [
        "result['name']"
      ],
      "metadata": {
        "colab": {
          "base_uri": "https://localhost:8080/",
          "height": 35
        },
        "id": "jttRnSMSr06F",
        "outputId": "890144a4-7730-4bc8-88a6-1ad0251409ab"
      },
      "execution_count": null,
      "outputs": [
        {
          "output_type": "execute_result",
          "data": {
            "text/plain": [
              "'John'"
            ],
            "application/vnd.google.colaboratory.intrinsic+json": {
              "type": "string"
            }
          },
          "metadata": {},
          "execution_count": 103
        }
      ]
    },
    {
      "cell_type": "code",
      "source": [
        "# person2\n",
        "\n",
        "person2 = {\n",
        "    \"name\" : \"Mike\" , \n",
        "    \"city\" : \"NY\"\n",
        "}"
      ],
      "metadata": {
        "id": "KA4eWB18r2mk"
      },
      "execution_count": null,
      "outputs": []
    },
    {
      "cell_type": "code",
      "source": [
        "result_json = json.dumps(person2 , indent = 4)"
      ],
      "metadata": {
        "id": "dXMKYKGlsJcT"
      },
      "execution_count": null,
      "outputs": []
    },
    {
      "cell_type": "code",
      "source": [
        "print(result_json) \n"
      ],
      "metadata": {
        "colab": {
          "base_uri": "https://localhost:8080/"
        },
        "id": "-1K5uXB6sTHE",
        "outputId": "2d9fcd2e-7895-4511-8fa3-99c3bdbfb41a"
      },
      "execution_count": null,
      "outputs": [
        {
          "output_type": "stream",
          "name": "stdout",
          "text": [
            "{\n",
            "    \"name\": \"Mike\",\n",
            "    \"city\": \"NY\"\n",
            "}\n"
          ]
        }
      ]
    },
    {
      "cell_type": "code",
      "source": [],
      "metadata": {
        "id": "UQFSgQPzsU1D"
      },
      "execution_count": null,
      "outputs": []
    }
  ]
}