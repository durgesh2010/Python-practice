{
  "nbformat": 4,
  "nbformat_minor": 0,
  "metadata": {
    "colab": {
      "provenance": [],
      "authorship_tag": "ABX9TyPxYbB0ge9l8QHkTuCPgYpC",
      "include_colab_link": true
    },
    "kernelspec": {
      "name": "python3",
      "display_name": "Python 3"
    },
    "language_info": {
      "name": "python"
    }
  },
  "cells": [
    {
      "cell_type": "markdown",
      "metadata": {
        "id": "view-in-github",
        "colab_type": "text"
      },
      "source": [
        "<a href=\"https://colab.research.google.com/github/durgesh2010/Python-practice/blob/main/movie_ticket_bookings.ipynb\" target=\"_parent\"><img src=\"https://colab.research.google.com/assets/colab-badge.svg\" alt=\"Open In Colab\"/></a>"
      ]
    },
    {
      "cell_type": "code",
      "source": [
        "classs movie ticket:\n",
        "  \n",
        "  def _init_(self,rows,columns):\n",
        "    self.rows = rows \n",
        "    self.columns = columns\n",
        "    self.users_details = {}"
      ],
      "metadata": {
        "id": "PFvrL-nYeFnd"
      },
      "execution_count": null,
      "outputs": []
    },
    {
      "cell_type": "code",
      "source": [
        "class movie_ticket:\n",
        "    def __init__(self,rows,columns):\n",
        "        self.rows = rows\n",
        "        self.columns = columns\n",
        "        self.user_details = {}\n",
        "\n",
        "    def show_seats(self):\n",
        "        for i in range(self.rows+1):\n",
        "            for j in range(self.columns+1):\n",
        "                if i == 0:\n",
        "                    if j == 0:\n",
        "                        print(\" \",end=' ')\n",
        "                    else:\n",
        "                        print(j,end=' ')\n",
        "                elif j == 0:\n",
        "                    print(i,end=' ')\n",
        "                else:\n",
        "                    print(\"S\",end=' ')\n",
        "            print()\n",
        "\n",
        "\n",
        "    def buy_ticket(self):\n",
        "        row1 = int(input(\"Enter the row for which you want to book the ticket : \"))\n",
        "        column1 = int(input(\"Enter the column for which you want to book the ticket : \"))\n",
        "        ticket_price = 10\n",
        "        option = int(input(f\"Your opt rows is {row1} and column is {column1},so the price for your seat is {ticket_price}.If you still wish to book the ticket please enter \\n1.Yes \\n.2.No \\n\"))\n",
        "        if option == 1:\n",
        "            name = input(\"Enter your name : \")\n",
        "            gender = input(\"Enter your gender : \")\n",
        "            age = int(input(\"Enter your age : \"))\n",
        "            mobile_no = int(input(\"Enter your mobile no: \"))\n",
        "            seat_no = str(row1)+str(column1)\n",
        "            self.user_details[seat_no] = [name,gender,age,mobile_no,seat_no]\n",
        "            print(\"Booked Successfully!\")\n",
        "            print(self.user_details)\n",
        "        else:\n",
        "            print(\"No Problem! Thank You for connecting with Book My Show!!!\")"
      ],
      "metadata": {
        "id": "PU5AUDtbeFyA"
      },
      "execution_count": null,
      "outputs": []
    },
    {
      "cell_type": "code",
      "source": [
        "# from ticketbooking import movie_ticket\n",
        "\n",
        "class Main:\n",
        "\n",
        "  def execute(self,choice):\n",
        "      if choice == 1:\n",
        "          print(\"*******Show the seats*******\")\n",
        "          movie_ticket_obj.show_seats()\n",
        "      if choice == 2:\n",
        "          print(\"*******Buy Ticket*******\")\n",
        "          movie_ticket_obj.buy_ticket()\n",
        "      if choice == 3:\n",
        "          pass\n",
        "      if choice == 4:\n",
        "          pass\n",
        "      if choice == 0:\n",
        "          pass\n",
        "\n",
        "# if __name__ == \"__main__\":\n",
        "\n",
        "\n",
        "\n",
        "rows = int(input(\"Enter the number for rows : \"))\n",
        "columns = int(input(\"Enter the number of seats in each rows : \"))\n",
        "\n",
        "movie_ticket_obj = movie_ticket(rows,columns)\n",
        "obj = Main()\n",
        "\n",
        "\n",
        "while True:\n",
        "    choice = int(input(\"Enter \\n1.Show the seats \\n2.Buy a ticket \\n3.Statistics \\n4.Show booked ticket's user info \\n0.Exit : \\n\"))\n",
        "    obj.execute(choice)"
      ],
      "metadata": {
        "id": "LMcFOQ9seFrC"
      },
      "execution_count": null,
      "outputs": []
    },
    {
      "cell_type": "code",
      "source": [],
      "metadata": {
        "id": "4k--tIVhz8Zo"
      },
      "execution_count": null,
      "outputs": []
    },
    {
      "cell_type": "code",
      "source": [],
      "metadata": {
        "id": "2eaLb6P3z8oG"
      },
      "execution_count": null,
      "outputs": []
    },
    {
      "cell_type": "code",
      "source": [
        "for i in range(7):\n",
        "  for j in range(8):\n",
        "    if i == 0:\n",
        "      print(j+1,end = \" \" )\n",
        "    else:\n",
        "      if j == 0:\n",
        "        print(i+1,end = \" \")\n",
        "      else:\n",
        "        print('$',end = ' ')\n",
        "  print()"
      ],
      "metadata": {
        "colab": {
          "base_uri": "https://localhost:8080/"
        },
        "id": "xBhaU1KDeXI6",
        "outputId": "abed63ff-680a-43da-cfeb-9abc02fb988c"
      },
      "execution_count": 1,
      "outputs": [
        {
          "output_type": "stream",
          "name": "stdout",
          "text": [
            "1 2 3 4 5 6 7 8 \n",
            "2 $ $ $ $ $ $ $ \n",
            "3 $ $ $ $ $ $ $ \n",
            "4 $ $ $ $ $ $ $ \n",
            "5 $ $ $ $ $ $ $ \n",
            "6 $ $ $ $ $ $ $ \n",
            "7 $ $ $ $ $ $ $ \n"
          ]
        }
      ]
    },
    {
      "cell_type": "code",
      "source": [
        "for i in range(7):\n",
        "  for j in range(8):\n",
        "    if i == 0:\n",
        "      print(j+1)"
      ],
      "metadata": {
        "colab": {
          "base_uri": "https://localhost:8080/"
        },
        "id": "cBc79MuQg7S7",
        "outputId": "41813d16-e08f-42cd-c412-beb8deb4ee73"
      },
      "execution_count": null,
      "outputs": [
        {
          "output_type": "stream",
          "name": "stdout",
          "text": [
            "1\n",
            "2\n",
            "3\n",
            "4\n",
            "5\n",
            "6\n",
            "7\n",
            "8\n"
          ]
        }
      ]
    },
    {
      "cell_type": "code",
      "source": [
        "for i in range(8):\n",
        "  for j in range(7):\n",
        "      if i == 0:\n",
        "          if j == 0:\n",
        "              print(\" \",end=' ')\n",
        "          else:\n",
        "              print(j,end=' ')\n",
        "      elif j == 0:\n",
        "          print(i,end=' ')\n",
        "      else:\n",
        "          print(\"S\",end=' ')\n",
        "  print()"
      ],
      "metadata": {
        "colab": {
          "base_uri": "https://localhost:8080/"
        },
        "id": "yXFkgWg4iDoq",
        "outputId": "396bb843-b0fb-4aae-b72e-b41b23d804eb"
      },
      "execution_count": null,
      "outputs": [
        {
          "output_type": "stream",
          "name": "stdout",
          "text": [
            "  1 2 3 4 5 6 \n",
            "1 S S S S S S \n",
            "2 S S S S S S \n",
            "3 S S S S S S \n",
            "4 S S S S S S \n",
            "5 S S S S S S \n",
            "6 S S S S S S \n",
            "7 S S S S S S \n"
          ]
        }
      ]
    },
    {
      "cell_type": "code",
      "source": [],
      "metadata": {
        "id": "dyb0Ff5XiDye"
      },
      "execution_count": null,
      "outputs": []
    },
    {
      "cell_type": "code",
      "source": [],
      "metadata": {
        "id": "3RnBG-yyeXMT"
      },
      "execution_count": null,
      "outputs": []
    },
    {
      "cell_type": "code",
      "source": [],
      "metadata": {
        "id": "M0TGaK_OeFu4"
      },
      "execution_count": null,
      "outputs": []
    },
    {
      "cell_type": "code",
      "source": [],
      "metadata": {
        "id": "fHryV8VleYb4"
      },
      "execution_count": null,
      "outputs": []
    },
    {
      "cell_type": "code",
      "source": [],
      "metadata": {
        "id": "89cURGFPF5H4"
      },
      "execution_count": null,
      "outputs": []
    },
    {
      "cell_type": "code",
      "source": [],
      "metadata": {
        "id": "GdgD8dX-vAKh"
      },
      "execution_count": null,
      "outputs": []
    },
    {
      "cell_type": "code",
      "source": [],
      "metadata": {
        "id": "2ksYzaHgF5LI"
      },
      "execution_count": null,
      "outputs": []
    },
    {
      "cell_type": "code",
      "source": [],
      "metadata": {
        "id": "Fq7Z2-ZEJuNF"
      },
      "execution_count": null,
      "outputs": []
    },
    {
      "cell_type": "markdown",
      "source": [
        "![image.png](data:image/png;base64,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)"
      ],
      "metadata": {
        "id": "bo4BC1dqJvLK"
      }
    },
    {
      "cell_type": "code",
      "source": [
        "class A:\n",
        "    def __init__(self,b):\n",
        "        self.b=b\n",
        "    def display(self):\n",
        "\n",
        "      print(self.b)\n",
        "\n",
        "\n",
        "obj=A(\"Hello\")\n",
        "# del obj\n",
        "obj.display()\n"
      ],
      "metadata": {
        "colab": {
          "base_uri": "https://localhost:8080/"
        },
        "id": "YfUNo18XeF1N",
        "outputId": "22b919f3-944c-4f80-af9a-53dcfb11f106"
      },
      "execution_count": null,
      "outputs": [
        {
          "output_type": "stream",
          "name": "stdout",
          "text": [
            "Hello\n"
          ]
        }
      ]
    },
    {
      "cell_type": "code",
      "source": [],
      "metadata": {
        "id": "U4BFxMB3eF3t"
      },
      "execution_count": null,
      "outputs": []
    },
    {
      "cell_type": "code",
      "source": [],
      "metadata": {
        "id": "qyREH1WT0rgg"
      },
      "execution_count": null,
      "outputs": []
    },
    {
      "cell_type": "code",
      "source": [],
      "metadata": {
        "id": "I7KTXJ1h0rkg"
      },
      "execution_count": null,
      "outputs": []
    },
    {
      "cell_type": "markdown",
      "source": [
        "![image.png](data:image/png;base64,iVBORw0KGgoAAAANSUhEUgAAAYoAAAEiCAIAAABoUwLEAAAgAElEQVR4nO3dfVAUZ5448G+DSIrktAzSirMnGsnIlpfpGRjuCNwxTUUQxstaGJOqda9EsuvwUvWLHOUvlwzs3mUPJnv5+WPRreJlyEaw9tzaqHhuNsMwmGPGO4y7jsxLftYaQl7ILaKNhMNLqKBC//7onpce5p0BWvh+yj+cfnn66WHmO8/z7af7ITK+uwMQQkh84pa7Aggh5B+GJ4SQSGF4QgiJFIYnhJBIYXhCCIkUhieEkEhheEIIiRSGJ4SQSGF4QgiJFIYnhJBIYXhCCIkUhieEkEhheEIIiRSGJ4SQSGF4QgiJFIYnhJBIYXhCS4go0PXaujSEYKFKZ+rV0QQRYB+0eq1Z9CMoG3LqisF87OoJc2Q7vviO6qDM9WJ8rFE9ZGVjXbmlRRD7fpVIbYR7H8w0vxXVuRDxh40JW90vbzz4ae2s+9WOVxN/8BwBd2f/9e8efspGXH5e02PP7fItM5aIAp2xSU06WzoEi+miLJIkm41QU1xnjrzaaAVb/PC0fUsiwOQtS0Q7rT/aI6dTJs9kO8/i59WFi03RRp8FyUmoeSMeoo6qAABAN7ymJhlDzWG9sPLmuj3ykS57VYm2oc9c17/guqKVY9HD0/otqQDj334eyT7Khu/SKXBTv9JiE8te/MG3F6Pe/ftxWwG+fD9gbPr0rZmfvhV16TBQ++1A9HuHotJp1SRjqNVa/FVeX9aSa6tWv6Yzmf1vgFalRc89PbE5BSau37keyT7btyTC+Nj5jtBbriY7vhMHwE5+ttz1iIqmvIQE57n6gB18fXmbA0h1uWYpa4VEbhFaT8qGnLriRO8lN7+c8vrBl7xpTc9wr9JbXtf7FCDJlAE4v4koonFyEmreiF/Hv2Ad/3j/4lUWIEC3aP7CQLvzaZ25D4ofbvxVIrURACCyFI8wZ/Rl10znGa8dcxJq3oj/766Z//jO2h88R8w/ekh82ojjkzziEl53Hvz03Tj32QmSX66MGIRaBc8l/uQ5f0cJUgJHpTtAAWPo1Ad5u9j2AUclReVqCP38zejG3mY1yRhqi7D3t5rEODxxOaMZ8zELlwgnNLJuTdLtIX41oZF1azZMGO37fzzFsqBsyKnTqN4EQYQi6MdTACZufR3psQ8m/KQs/t4HMz99iwUuoLyRuIELBOzsJzcStu6K+4u/gk+vurb36SsF2Z0X/5zRtQERf9iY8IP/OxduFpmd7dwz6z6K3022liX+4O7svxY//JRl85oee+6NNXeLHw6wLJ/wdqHeSKRchbpDGN8v80mce9uV8JM3WMc/zly8ysLBhJ+UJR7+k+vU3F1OLsEkqLZwld/ckzvKFz/8lGUhJ6HmjcSfbBaGyJ0SEhiDKcS1Ef0VZzUlyzsCep8fLKKgSEkCAKkspAkzps9Xj5h27l58h4tNnot0B3I2AExzeXGClnZoNkwY7Ud+zDemrl/6agIgZet6ggBCI7tgVV2wqrqPpyYDJBfLu6+puCVvN6wPedWZIPbtjYcbD9zfn0//z33HXdiq5E9w4N3Ze0Bsz/fskaeMB5j95Ndh7c7xtAvY2U9uAOyKy4vh5XCv5tiAdRYg/unvA3AZpT3f/nTPt//6AQvAOv6Rf/nTPTPhN68EzbFfz30JvqcWtR3/e81WmP3A3ZC8+uC9D1ifd4ZO2wxw+4vLocr6eJQBSE2j59W932RlAICx9mFsWlVi2XriOmX/ddJzkU6QFz9wKDUZJs/82N3RW//KP6Qmw4z50hTLAuidpXqAaAci/NWa7Rvhy/fnPEtY9u4dLoLMDbAs/P7h53fjKWrNDuLhpywLRPzTu+DeBw8HuMqE3B0AgP085BdsAe45FvN63N25//f7RSiWIP6CIuCG+y0CAPj0T3MA8U9//+HAGX6JVEIC3A5d2uWRMQBKIgXw7cGZ6/bI62JWa/SoiF14IjTJGQA3r456kjv0pmdS3FkkSaYMADYcvKY66N5nfKwx22c00/q8rEQYHxuIbCACPAXrANaVJf6kLMAGLHvx/VmqzNW/+37cVmAdl8PeHfkXt2EjwMaEn/QmLHdN0AoUu/CUtTUJYMadZgKArN1PJguzSN49uwCe2JwSTV78M7gH8N8+KWcfv577six+ez7AVchTxsONB57OUTi7Iz/mJu/C1jshRnIOjTJABVnvkp+WCsCMDoXeEq0OizawgKCllcWJADDuddkuecsTofaKMi/++7n/DplPYWc/uQHrqDU7chKyd8GXVq+uXDi7o/k8XeBgOTjzyG0AWd6RUKXtlJAAYyN+OvV0Y6/dZjM1FiygrujRE7sv5PVLX01A4jO71xMEELS043jquHPSqz01OugEkP35K6qgpUgfSxZGtDCxs//xAQu7EmpeDfY9GXh39t7GuL/Ih3V3Z//j1xHvvnr9/uHnd2Hdc2vmh6GBd2fvQfxzv1qzI0iECpTzFtLkygCcA/OHuwmu3OEfaBWJXeeONQ+1GZ+sK5Z3FwPAjPmYZWB3Tp1s2n07y9mXLfCO6uBxlden1Pe2laytSQCTg9EMyPz0rZmfXk6oecNrbM78MTi/f/j53UTqufh7H8z45KHD2j1qwvEEW/kkV2SDmwLyGU+wi88EhVt5wWgvz+AmweAslr34dzPwq8TnjPH82+Me93T1QXPxw32/SvyB0WtQgs+gMIv2nKOkWn1YU28OOPSJqMijABxX/GzA9pusjFpN4pW71YbI+O6O5a6Dx/qjPXIaVsLdv8iHSmdqLoHA4yo1nbZqijHUFONNLchNTNkW7kpfpHfAoEeCRXvOAaS6yfdpKhxNVzUFjOFnGJuQNxGFJ24Y1GRviEt76BGlL681MEBVGXWqec97qpKBow1vWEE+Fv+BKiFxd7oA+B0GJX4+N53MM/tB8cMBDLgAwPZri2vB+JrPYrooi2R6asp9b71ESFy5J4QQchNR5w4hhLxheEIIiRSGJ4SQSMUsPKWlpcWqKIQQghiGp5GRkVgVhRBCEMOBBWlpaas9QmWcbaAU/P+n3zv9u9ohHE+A0ALgwILYkGYPHHpq0xeOp9++yQJR+MLftiqSbKZ3X7qMEQqhaGHuKRaIV/Kf2nTvs6q3b3KP+u07/4f37oEiR7l7uWuG0CNspeSeiAJdr83eWQEqnclms9tsvo8H0nTZbYLps+nGXrutl7vBgm7stffqaH7fXp2K0HTa7DabPczJtXf+zTa48+mXlzxLNnxnHcC6zWopPgAEoWitrNYTVWlvzrLWZMoVCnmrM+ANqH6RJc3NknOZtQaGVGqN1dAmr+lhyJLykA9RA8hPVQDcGmf4l9LsgYan/2T67A4kfWdzlGeCEFoxrSee1xM5Oq44AKjcCKZ1ZAyd3H1fJHm7xXULWGoaDQSpe7DP4e9f16xv+JNmDxza/IfTv6u9DQCwJYVc+EkhtEqtrCt3zHVT9JOpMFaTGYAGmPe8a5bRJlzUhlGEOzYNsaw06ooghAAghuFp+WPTcktR/meRKza5lnl6fAihSK2s1tMiIUjd/Wf3+ltjj/ttWTx7++s7QCoUm73GOhGFz2zeBNN/CGN2N4SQf6u19cQ/XT+8tk2ozt3Ql3+499TzcNvgaTeR6h1JcO8zA47MRChqK+vKXRDemXKiQGdsUscwaX3n7//tszvrnvqnFzYRAABE4Qt/+fy66ff+zXop1J4IoYBWTeuJbS+rSTM1V9ptlQDAGGrlI4ftVTG77j90Le80DByiP+HvamFO1vefjFXhCK1OMbupZSXnnhBCy2GFjXtCCK0cqyb3hBB61GDrCSEkUth6QgiJFLaeEEIiha0nhJBIYesJISRS2HpCCInUqhk1PpvnmNvI3cEbbDNW3vcwjYTp99dc0hJeWxLpXfd3yV2vQpeDEFowfGJBeNjhsoRhAD7MxbJk4pUfvfTKNv/rcDIFtKqtmtZTmAh7YYJ9SY/Innz7N6678zLONlAKfroXhFY9zD0hhERqRbSe+MfF3aC4/lfQ5fRs4Ym5JAAAuNuy9kq7u+sk6LUJV4Vp4SUEknG2gdpiM//1R1v/89BTm7hlnkbWpp+/Sj8Pn1W9da3Pa3thK2zTz1+ln1/Hv7hjM//1+Tu+ddN02qopcLRmlumx7YZEYSW1np6YN+nTOong5fSWue+dmPucSrhIrf3wfdhYfZ/y7BI/QCVcpBIutkR1bHq2kEu9uwrZWH1/t46N4SxSmxT0J4c2/+H0u0/X/ybdxMA26j/5x0uFlHG2gX4ePquq/016/W/ST38GCvqTH2UI9yUq8iiACCePQGhRrYhxTyzjOTY/q0q6ewETd8/13yTS3ZJiGVPcNEBK0VwsKkCkl88lMXEfui/nta+9YYek7LmUWJTuwpysf+/vucdvXh6zAWzasCGcuhW+8LQCmJPuttWQ9Z9s07At9X8JNmPbBxwAAI4r+ljWGaEFWCGtp4/jpgEe3wkAc1uyAQA2VRAEzD2xBeAWjLs3s8d9uiiHf7hJDtPX4sa9Ft0bBSDntoQ1i2d4vhj7hefFzRfrf5MeVgadVO9IEu7L9o1/DUD+Tb6wbvrDCrlCgT07JB4rIvcEYIZpgKS0OYC5x0kYeR/Sch9COzxOwvS1mEXggGhIAkja+/B7fqdLWGbcfMXUJw3UctcEoQitlHFPcd8wcxslc1Axt9Eed2VkLm3v3A6IA4DpkTiARW4QmGEaAHxHcnKWvS0y+ad7oPgKByugR9CKyD0BQNzXtwAAduTC3StroD3uLsAmHSQBfPPxUhz9GybmmaYFyE9VeF4wn38F8zJN/mg6bXabLYJp3xFaZCsk98TleuRzu+RcPFpzxw4b984lAXxtXoJR14T9HAA59+z8Oc2XAmP4dBrWbVZLCQIA8guGi7wnoWFPXv7sDpCvvJpdGKwQvHKHxGeF5J7cF++YuFtmlgUYvgK75ILLdiFUPNhX7Xm1sfr+96oBAEaOrnWYWdbnXhb53PcccwBet+a1J1xsn81z8Mt5S3RrHtt3/ncnN7z0yqGXngcAYE7Wm7e/Sj/vXj90La/+y5+/Src2POXZ6Z73OCngrtxVUhReuUMigjO1IIREaqXknhBCK86KyT0hhFYabD0hhEQKW08IIZHC1hNCSKSw9YQQEilsPSGERGqFtJ6w7YbQyhOzYZkoNP7pncDEfVgYz0SwIz9/DGfeLDLzhTktDULihq2nRwFhL0y4SCVcPBo3vdxVQWjprJB77h6NzBfLaBMuape7Fgg9KrD1hBASqRVy5W55j17xYJ/jQaHPxAeChUR614N9Dtc/v89doWcLHZ5t5BE/BXg2z7N7RBOFarrstl6diuCe92S32ey2Lo376ESBrtdm79V56kNUdNls9s4KAACVzmTr1akKdL02u81maiwATZfdZuMKjKz+CM2DracYaI+7Cz6PoyPScwEAPudz2OxwWcJFKuEiFXfXbwkVD/admIP31/zWNYtM2on7uRVhR6iKB/scc9Cylp8nJtBRAiPVzYPV0CZXKOSZtQZGVm1sDDs+kurmJsn5zBoDQypfM1VBS2atgSHV5fjcKLRQ2HqKhTWfvO8z8cHDTXKYfn9NeDMvsPIDAPY41/U4ltGuGWFgY+7D8I4+m1cNYI9b2LR6jjb54XYAALbfZGWAzCrKD3tfpudUBwAAkORY62H+eVGpaTGcBgKtTth6igWfaakIUje3EWDcFN67S8+lkHD3ivdVirivbwHI58Ia80FDEvjsHrmFPIWOsfa5HknKjC7Fs5PRaoFX7mLDvOZz+/1dex/u0CYMc5NZ2eMcYT5HeOdcEkCS6/mcEds5lwSAAw7QCrRCZmpZ/md1stzjgzdVEJ9+PJtCwt1za8KdpuXjuGmYm47lpOcIrQiYe4qZdj5hlFI0l8TEfRJ+rDHDNISfaZrn4zjXHH8cvmu5aI7k4ox5aGlg7il24m5dA5DPPbsX7p5bMx56e7c1n7wPIJ/b7TM0IUzmNZ/bIWnvwx0A/H0z2XA3kltmgvLJlGu67FWyWJWNUHCYe4odltHG3d07txHgjm/TKfhELyyjTbhomi08IZhn2HNvHT1beGIuyb3CNR3xXb4/yA6XrXmi7+Eux4NdAGCP+21hHNX3MGYNKHPdnhaJrbp5UA0A4GzJrN1mbFLHqnSEAlshM7Usf+6Jg/fiIhQ7mHuKHT7pM3IqZk1ShFY1zD3FTMX9Z/fC9Ptrwh1PgBAKDp/3tGBEetf9XXIATzIIIRQLmHtCCIkUtp4QQiKFuSeEkEhh6wkhJFLYekIIiRS2nhBCIoVPLFgV8guGi1wTUcH0e6d/VzuEAyCQ6MVvTHkyJgVNTU3FpJxH8egil18wXAQn63/3g3+/cfLf725XPv38X27f/qdPTBPLXTGEgsNxT6uONHvg0FObvnA8/fZNbEAhUcN77mKBqOgSzFNis9tsXRrP01Hoxl6fyUs0na4JUYgCXa/N1FhAN/babdycKBVdNtfEJ0IV0U3iIjT0P7cWsjtCSwav3MUMqW6yV0FLZqZcoagxMFSVMfzJlEh1U7OkW17Tw5BZWmMltGbWGBhSfVizCLMJSP9sS8zLRGgx4POeYsjZknlYz7IAYDZdZ9QlyiIaLP3h7csYTukBGgFIcqytSM/SjQCweVs+gCXEnj5Pg/Jyg0oY9l1GvJL/1CYA2xDOWYBED6/cxY7jij7qy2HMddNlgHwAAGZ0KKJdzfF9VHx4mxKFL/ztK9sA7n2mv4xX7pDoYetJ9IRP2gRIO3Gf78kycR8Wxkfw2N58ulWRBMCcfOtaX0yriNCiwNaT6MUPuBtHFQ/2VcPI0bWCR0qF2bnjhz4xJ+v7Ty5qfRGKFWw9LQeiIi92s52E07mTZg8UkQDT7502/yJmB0ZokeGVu6VgNl1ngFQW0QAAREXXYOVSzsXEDXTCweLokYOtpyVh0Ra1SuxVTXY1AICjNbMmzdi8NLOd8JfqAJKeP/TS814rbKZ3X8IEORIzHDWOEBIpfGIBQkikMPeEEBIpbD0hhEQKW08IIZHC1hNCSKRi1npCCKHYwvCEEBIpDE8IIZHC8IQQEikMTwghkcLwhBASKQxPCCGRwvCEEBIpDE8IIZHC8IQQEikMTwghkcLwhBASKQxPCCGRwvCEEBIpDE8IIZHC8IQQEikMTwghkcLwhBASKQxPCCGRwvCEEBIpDE8IIZHC8IQQEikMTwghkcLwhBASKQxPCK18dGOvvbNCsIgo0PX26lTEMtUoLKsuPGk6bXabzfdPJW6aTpvd1qUhwvgkERVdNpvdZuvSiPpjt8TWH+1RXbCq3m5YH8576I/kTavqgvvfOxLvcpQNOResqgs9UmVUhb/4jp8yY4pu7G1Wk44resHS/EIlSaqbjWKOUKsuPAWj0plsNlNjwXLXA4mL5E1resb4WGO2pVRpKVVaSl8eZdmlODBBS99eUFQFAFDptGqSMdSW6YV1tmiLMtscQKq1jfSiRcYFWrPcFVhq+sMKfeitHllse5mifbkrITpTJ0osJ6LdmdAkZwDcvDBkDRCSrPVXS+ujLR3g7MuWs9HvHQJRoNOWkExPTb3Zz1q2vaw1115Vom3oM9f1L1olooetJ4SCytqaBDBze2i56xGVI4fVJDjO15kDNff0ZS0OINWHw0odLLlYt56IAp2xSU3yrxhDbREXlfnlzpbMw3r3OzV/IVHRNVhJuQpztGZ6WqQqnam5ZKw181SasZk/AGOoKdZawmtmB6rYvFWgbrKr3TVokx9uD10CgKbTVp3aU1PcV+TZRniyoXAJAtcrv/vSul5X4YKKCd40vnbhvzMLR9DSjuOpyfyrGfOxqyf432pXt0jt3fTwXRh4d1A25NQVT5/JHtlikNMpAADgW1pwkjet6RmuFzf1lte9ms7cccf1lvNbc+qKE+cfPaQX31EdlLleOIf3/9C707f+aI+cHhvef/px99lNGO1Hfjzl2mb90R7XSQVdBcXy7mK/RwlSAgAAUaB7QQZMz6mOYCehv+KspmR5R0Avvm5FTFtPREXXYJMaemoyM+UKhbymB9RNfBKa7TdZGQBZ3hGv7fMLlSQwhk7+e6jSmQYrKUebXKGQKxTyVidVNeiTCaKqBpuV17nyWxykurkz3KjP9mv3KLhaMUFXMYZavgIKhTAEBDg1N7KkebBJaa2VKxTyzDYHyKqN4fXqiQJdr61ZfbuFKzyz1sDIqgeFOUtm84HBJsl5/ugMVek5Otte5q6wQlFj8D2/xUVoZN3HU8Fo359tKVVaGo1AH1e9qeFWjg46AVKezFN5by/oKwXdnbPh4DX5M9e5DYZvpqTW/TL8LPLo60pLqdKyXz8ZaIsMjaou6ysur3TGmUgfl71IALgT3lZVXXEiQCJ93J0azzlK8/uefZnLRg3fDFS6LL37+JMfHePrkFws13m+AFMnSiylSsv+Y2MTvrsJVk243hxh2kvyplVOA58R239sDIrl3T7vjFRCAmPtC9h04nRccQBQuZpg2yyTWIYnumE/Bc6WYldL0qLVGRigcrkIYq7v9nkX6KIsEhirif+x0pSXkExPTbkrhnPNTmWh4BvO9NS4ytdfcfrGu0UT/NTcHK2ZfJOKbR9wAJASaTilHzmsJhlDjau5xPZri9scQKrLvT4xJDnmbksGOHp0Kh7sc/j71zdLht4ZYP0rpRvAOez+3bbW/9E8Dhk5/Pfk3OmxCUh8ZrcnuXsgZwPA5GBHWLtzvNoFo4NOAFnygYWft5tXc+zc1UmADZlHuJpc5SJCo3EGYMZ8zBUglBE0r7ybY6x+4ib4nlrUlA1/ngGTZ1w1Z81DbcYZn3cmPy0VYGwkZG2HRhmA1DQRJshjF56IgiIlCY4r3l0S88htTwThvrHuLxW/fTffByEq8ijfSD80ygCZVZTvOUjon4LFEPLUeM4Br1a0/rBCrigLp3OnyZUBc9102WsR914JPjGCws0jtwE2b/N6Z6LWnnCR8vevMD6MVhhBb3omBW5e9e7UTN0a80QQ1nzno3FIztqUxa+VZMpgwjhyLrzdAQBg5qNLU4v3R5+4fuf6YpUNMP7VgGUxyl2fl5UIzolzXouufzntjq2cnZKwfmHY/i/Gwv4pXVoxzD1JJSQAWWm3VQbaQn+q50BzCd/LzS9UkuA472or5aelApDeeR/e0nZV/At9atEjCralBlhFSqQAgX/7SMlOgEX58IdP+lgyQLJGdSFg12Dq5IVJWvNkngqsZq5nN2N2h5vQuyO/nticApCS3n0tfblrsqhiGJ6GRhmgxrxStvNd7rMyJepcDejb6aIskunRuVsEl0fGAECYbxaNME4tatxvl0+E4mIWMxrochGdthmAGf04BseveLCv2t9yJu7DMBpQQ99OAIwLU84+WP3ETc2GZ3avJyxTB3I2gHP4pCWC3ZE/X98eh4wxn2S8r49HGZAFXOsW6sO2jGLXueO+ZsETIlyCnMrVEBXlalLYUxsaZeZlmkQinFNbgPl92JBJTamE9O0PRmtBnTvW/M146HzK6KATkrM2Zamke2SCrlx4u6P55neB/bg8MhZWzlsqIQHGRpYhbRJKLFPj+lM9TKjLVeb6bgfI8hrSUsF5znuoGNuvPe8EsqT51PK18y/3WRn/Y0DCObWomeu7HeB1FZIo0BkrKZ/3xwvd2FtNBR3MsoRGzxtnQJbe8c/BRjafOz02kfJk3u7HksfHzguucoe1+6rFZ+6K0+aHoXOnxyZgw0FD0Dtpwst5H8mlAHxveRGHmI57smiLMvt0xqbmwRLPQq9rbQBc0reyWl0CjjbftLG+TN5R0TUoTPE4YtSlUulMzSWeTKErySUYWsX2a4trwdhUPThY7XP0cE4tamx7WeaQzue4ezxnzY1M8awFZ0tmcfgjqhaXtf7q/kvSjuNeY3PmjcFhzXc+Gk+lixMnjPbrke8eNUIj69ZscL/M4JNckQ1uCkwwqApkfCYozMoLR3t5BjcJB2dNnSixQ4/84DXVQW6Ba9wTax76kfLO0R553TWvxIBwUBjbrz3vVFeVlB+pMwcOPppcmc+FF/EgMr67Y7nrgGKJbuxtVsOSDstEosWNJYbAv6OaLnuVjBFpzhdvallxpBIS4PYXsUhLoUde8JwJUdFVJQOmRxcgjbDsMDw98ujGXs/jUzRd1ZTXQHyE9GU1BgaoSt9HcbhSnC0xSVAsjhXxxAJNl70qyAXUpb0BzYefG+IEFt6uNtftkXba7FX8S0E2bQVTNrhvlPNr8ky28+wqeB/CYK7bUwO9Wp+l+YVK73sVRAlzTwghkcLOHUJIpDA8IYRECsMTQkikMDwhhEQKwxNCSKQwPCGERArDE0JIpDA8IYRECsMTQkikMDwhhEQKwxNCSKQwPCGERArDE0JIpDA8IYRECsMTQkikMDwhhEQKwxNCSKQwPCGERArDE0JIpDA8IYRECsMTQkikMDwhhEQKwxNCSKQwPCGERArDE0JIpDA8ISGVzmTr0hBEZLv06uiIdkEoDIsTnghS92Cfw/NPvnSfXZXOZLPZbb06VVRHZOV9D/Y5HhTq2FX5ZVPpTM0lpOOKnmXD34kuyiLJkmZjI0YoFFtrYl8kQeruP7sX7rasvdLu/pRH8GlHy4Qo0GlLSKanplzvsya/YLiIdL2Yfu/072qHvOKXuW6PfKTLXlWibegz1/UvVXXRykdkfHdHjItk5X0P0yDuw8J4JsYlo8VEN/Y2q8FQU6y1CH5M8guGi+Bkff9JAIBNP3+Vfn7dvAgFAJpOWzXFzN8doagtQudu7nES4BaMx75ktHiIinI1CY7u+cHlcn86H5sA4M7f/9tndyDp+fydvgXoy9scQKrLNYtfV7RaLELnLih6tvDEXJLrlbADOJvnmEt6f80l09xu9zb2uN+WxYf3a6zpslfJXC+cLZmHI0qgwGyeY26j/4rx1Z5uWftJ2v1n9/LLRo6udZjDPISyIaeuePpMthN+qTrIVzFmi0EAABaRSURBVHLGfOzqCbN7E8mb1vQM9yvn8P4fjroKl7xpTU8x2o98mdat2cAtuqm3vC7oggl3n1eIsiGnrjiRXz4+1qgesgpqTjfsp4AxnPLt1s039D+3ADb5WcG2DzgqKSpXQ+j9vPPcX8fRJj/cHvIQCHFi13qazeMT4XMbAUA+9z13arxrlgDg8+Un5qZb1v6WSrhIrf3wfdhYfX+3MAmdtPfh907MjR9d+1sq4WILgHxud7hZan2ZXKGQKxQtjqjqHz9AJVzkDhrAxur7z2bHfUglXKTW3rBD2on7kfWLNxy8pjoIw/uzLaVKu3k8kT4ue5E/Ncmb1uTBbEup0lKqtOzXT4IsvfuXEu9Mc3KxvFsDZ7ItpUpLo3EmQ5NzlOZXEbT0bWt6hpMr2dJonAGACaPdHZtefEdVVwzmY1z5djOk1l1zH5ojlZDAXDddDn0W0j/bEmiV/ooTQJZ3xM8qTa4MAIDKjeyaIFrdYheeXF9vKu4uANjjfsu/TLjIN38ePr0Xpt9f42qVsIx27Q07JO196PMlv0El2LlWSXvcXYAkyVzM6rhAjDuhxg5fAQDYVBHRl80rZEwNXJ8BSNqi4taMvq50nnVfRtA7zzgBUh/PEuw9eSab3+b6pa8mIPGZ3eu5o2ftfjIZZsyn+WBkrf+vmwDJW57gdiNo6R4Z3NS7W2pTJ/9lbAI2ZHpFEaJgWyrA2EjoxiDxSv5TmwBsQx/7W/vxKAOQmkbPX6O/4gQAiPCaIFrllq5zVzG3EWDEFOd1FY8dvgK75PAETRDuL4Y97lPPPvEDVPySVTCk6WtxC0qozXx0acr95bTWXy2tD7p5ymPbAazul86Jc1EdNWv3k8kw2dvhWcKavxkHyMiREB2u/qNUQgKMhSqKKHzhb1/ZBnDvM/1lv1Hm8sgYACWRAsy7fqcvk4fuOCIksFThiSDTAq57fCeAOeDa1YHQyNx5pUhdv/TVRHEqfUhy0jLKsqBs+PMMgJtX+dCzfUsiQOLBa6qDC61jPt2qSAJgTr51rW+hZSEUhqUKTywzMn8hH7O+8dtRWEW4vPWE0X7kx1PubNFBWajd3KSPJQOALL37WjoAAMyYj1ncSffPb82AbNrdMfRvaJQBKugx+KFPzEnPVTw/G6WlAjCjQ2HXHKFglq5z93HcNMylFM2B2ZOuWScBYOJuhXv9a6XaviURYLL3x1PRvQ8Hcjb4uxjHu/7lNMCGzCNwNnDniu3/YozLW/u76AYgzR4oIgGm3ztt/kWwmuyUkACOEX9NYbxyhyK3dPfcmdd8boekvQ9z+XQyQeru75LD3XNrcIQUAHhy1euP9kTSdOKkPLY9wBpWP2IeB+8rff4MjTIAm7fl+1klzR449NSm+YPF59PkygCcAx2BVuGVOxSZJRz3xA6Xrb2nu/9s9f3vVfOLblAJw7G630XTaav29E9k1YOD1QDA9NQU14XTOqt4sK/a82qjq5KRDG6K2tmX7Vt65LRGdUEDAHBTb2ncmlNXHP7uw5nWdN/skmfQ09SJEstAQ07dcZVXgPIZdWWu73aoK9XlGq1F2LrhL9UBJD1/6KXnvVbYTO++JEiQExV5VMBrc/orzmpKhlfuUEQW4aYWtLTWH+2R0ymT3tklPtEuGNsZUqCbWsKEN7WgmMMHqjziCHrTMynzhh0MfTsRcUnm+m4HkOrmzmj6X5quagoYw88wNqEYwvD0iOMGMYEs+YDXwgOHUpO9xhaEW1R7WU0PA7LqSB+NotKZqmTgaCvCxxWgmFrqe+5QzI2+rvz6aI9cmHuaDDGSIACLtqgGTNrIdqKLsvw+hgWhBcLcE0JIpLBzhxASKQxPCCGRwvCEEBKpmIWntLTA9/yuNkSBrtfWpcHh0Y8AurHX1Fiw3LVA/sUsPI2M+LnndzUiCnTGJjXp/94OMdN02uw2m72zYrkrEgFNp80e5rRXREWXzWa3CX82iIIiJUmqmzBCiRO2nsJG0NK3raq3G9YH/TLQDa+pScZQE+GjhEVOpTPZbCvwO8z2a/coWhxAql+LcuYxtJhiNu4JW08AACqdVk0yhtpHcfC0/rBiJY9cYtvLFP4flqAvb8sbrFRrG02Xw7o9Ey0ZbD3Fkqa8hATnufrV/nC9RwzbXtbqBLKk3N9T0tEyWimtJ4KWdhxPHddbzm91T0nic1M++Exn4j3ZCff4N+8HwrkeXzl5Jntki0FOp7h2K5Z3u58lILznVqU7QAFj6PTfreNzUvwrxlDL3wLiylUJppaZv5Co6BqsdD+RwdGaWab3HNfUXDLWmnkqzdjMHyCSW3MDVWzeKlA32dXuGng9uSlICdytwqk9NcV9RZ5tIptHh27sbfZUwu++tK7XVbigYoI3ja+d33em44qjSkblakCPj6MSkZXVesrQqOqyvmrMtpQqLWec3lOh+E5nsl8/maHxJJLOvmw544TkYrmO/wGV6PjY5DzLTp0osZQqLfuPjU1w0xm4plQpfVlwU9tOCQmM1eSv6URUdA02qaGnJjNTrlDIa3pA3cQnodl+k5XxneAkv1BJekU6lc40WEk52ripaOStTqpq0CcTRFUNNiuvc+W3OCK5s5ft1+5RcLXynTdVuIox1PIVUCiEISDAqbmRJc2DTUprrVyhkGe2OcK/rY8o0PXamtW3W7jCM2sNjKx60CjIEzGbDww2Sc7zR2eoSs/R2fYyd4UVihpD4Hlh2fYBBz6OSnRW2JU7r4dGnrs66fWMNzhwKDV5fKzR1djhZkNJztrkng3l7MvDNwEyNLIXCXjxnfQMmDEfi+i2NTptM8DtL/zNxUQ37KfA2eJ+8pRFqzMw7i+Dub6b+2p4ti/K8o50mnLh3OL6shYHkMpCwTfc68lWQSZ0irngp+bmaM3km1RcICAl0nBKP3JYcJ2B7dcWz5vskyTH3G3JAEcPR5AH8qHlsrJaTxPX71z3v0aSKfNd+/mtGUh5Mk/lXjCqPTY2wc1GJ5h5KUxSCel/BVFQpCR9nsRmHrntiSA+P9389q4Je4mKPAoYa5931nZolAEyq8jru+SzwRIJeWo8wTAL/WGFXFEWTudOkyvznX2Pe69S07xCs6Bw88jt6KKMeeQ2ACmZN/sxWkYrJfcUHEE/nsLNZOn7CMoZ7xeseajN+GRdcSI4h7UxHLYklZAAZKXdVhloC/2pngPNJXlHQK/ne3aO8662Un5aKgDpnffhBe6qLJ3QpxY9bvY9v0iJNNjsPqRkJ4Al9jVCSyxm4SktLU28EYp/KJJX5tsvgpZWFidOjM8ky9I7/vnr4BvPE3i2k6FRBqixoLMAXO6zMiXqXA3o27nnk+jc4fHyyBgACPPNohHGqUWNm6DBJ0JxMSvwbDB02mYAZjTyyX+i3hEtnhWWewro69vjgkyTPxLd8dTk8bE29VVhmjxM/jo1AOA9D0rghAiXIKdyNURFuZoU9tSGRpl5mSaRCOfUFmB+H5afbj1wTzb82dj97BggdYiWy8rKPQU2dfLCJKSk1v1SEuCLtP5oT3oGzJj/ZcjKCtLkbqz5zkfjkFycdsBvAUGn8D4V+imU5vpuB8jyGtJSfUZOsf3a804gS5pPaQLtu+gu91kZINWH54ehcE4tar7PFyYKdMZKKvDIMrqxt5oCx/nIR1cGnccBLZfVkXsCAFbvLNVL3rS656oEAPfAJW42AZgw/vEkn7EY1eqTuzUbDl6Tgeexk1MnSuzg/VxK4bgni/aco6RafVhTb/b9lFu0RZl9OmNT82CJZ6HPLDJs+4CjslpdAo423931ZfKOiq5BYYonVnPGqXSm5hJPVt+V5BIMrWL7tcW1YGzi57/xPno4pxY1tr0sc0jnc9w9nrPmJoDxrAVnS2ZxNCHmSC4XnRZaYRRTMXtapqhzT0tGpTM1l4g1T7TaBZyKhhu9GauQimJnteSelohFe84BpLoJn6YiQoGyS5pTlRQwBh3GJtFZLbmnJaMvrzUwQFUZ8Q74ZUc39np+J/iprnxvOeLTVa04PZ8YrZrc05Lh0zSvLXc9AABA02WvCjIf+rLOmunnhjgBZsF9ZHPdHmmnzV7FvxRk0/g6FBQpScZQ67sciQPmnhBCIoW5J4SQSOFUCAghkcLwhBASKQxPCCGRwvCEEBIpDE8IIZHC8IQQEikMTwghkcLwhBASKQxPCCGRwvCEEBIpDE8IIZHC8IQQEikMTwghkcLwhBASKQxPCCGRwvCEEBIpDE8IIZHC8IQQEikMTwghkcLwhBASKQxPCCGRwvCEEBIpDE8IIZHC8IQQEqnVGp5UOpOtS0MQy10Pf4iKLluvTiXKuiEhurHX1FgQcLVKZ+rV0eL8mD0KxBeeCI3sglV1wSp7cdH+qCqdqbmEdFzRs+xiHSJqREXXYCXFXDddXu6aRIQo0PXa7DZbsO+q2HB1DjN8qHQmm83u87NBFBQpSVLdFOis6aIskixpNjZihIqO+MLTQigbci5Yc47SwbYhCnTaEpLpqSnXL1W1uOPS0retqrcb1gf9pGpOVVLgbCmuM4swdEZN02W32bo0K+4ryvZr9yhaHECqX/Pb2jXX7ZG3OoEs0TYE/UyiANYsdwXmYfXO0kUMHHTDa2qSMdSI8vuv6aqmwNF6WIzNuuDYfu0ehXa5a7GILNqiAOenL2/LG6xUaxtNl/19qPRlLbm2avVrOpNZa3nU/qzLbWW1nkIiKsrVJDi6xfhBIQp0L8iA6TnVsdw1QRFh28tanUCWlB/xv15f3uYAUl2uWdpqrQSxbD2tP9ojp8eG959+vON4ajIAAEwY7Ud+PMX9pBC0tON46rjeogVZt2YDzNtA2ZBTV5zIFzY+1qgesnoFEWVDTl3x9JnskS0GOZ0i2IYrOdm1JX1c5W5K39RbXve0xeiG/RQwhlPzWmfuup3f6q7DjPnY1RNm321cR/Feu/5oj5xOERyLP5fxsUb1nTx3hQGgWN5d7Pq/c3j/D0fdv7dHDqtJcLQGaNZxOSnXK0drZpmee1cLdMYmNelsyfRqc81fyKXb+NWMoabYE6A1XfaqzYaa4i/KB6v5AwhLCy5QxeatoqoG7VXuGtQW1fULaxt41VibvBw8RTE9NZF0funG3mZ36f5PTdNl4wsXHF3wpgXZHaDjiqNKRuVqQN/upwZs+4CjkqJyNYT+0WsXL6uYt55k6d3Hn/zomKVUadmvn0wulnf8syDbkqFRdWvgTLalVGlpNM4kF8t1rh8da/3VUqWlVGk3jwcqfcPBa/Jnrtv3Z1tKlcM3U1LrfikhCGDNQz9S8gUCzJiPWUqV/L/XBZFIKiEhSNY5Q6Oqy/qqMdtSqrSccSbSxz3peUIj6z6eCkbu0JZGI9DHVW/yv4dTJ0rs5nHI0PBpL4KWVvKxacjKTp0osZQqLfuPjU0ATLhKKFVaSl8e9fqw0mmbAZwDfptOKp1psJJytMkVCrlCIW91UlWDfDqW7TdZGQBZnvdPd36hkgTG0Ml/GTRd9uYSMNRyu9cYQN08KMwEkermwWpokysU8sxaAyOrDj+by7aXuWoVfJWjNZOvv0LhFYAqugab1NBTk5kpVyjkNT2gbrJ3VgjKoSrtg5XQym/AkCXNp8JriRAFul5bs/p2C1c4d2qDRmGeKEs7uH+0JpOrpyDPbdEWuSosVyhaHMHehAEHAJUb6Fqw/orT92+EwhD7zp2nWcHqnWeckJy1Kct7/fhYY7bzLAsAcP3SVxMAKVuDZ4sFvFpbo4NOAFnygbBrRhRsSwUYGwn8w+vVZDt3dRJgQyb/gVr/SukGcA67G3rW+j+axyEjR+Kq+dTJfxmbgET6H6RKYv0r/5CaDJNnhK2/UKQSEpjRIX+rNOXCXL6+rMUBpLKQiyDm+m7uq+Heni7KIoGxmszcWetekIGjzR0RzPU/MzCC7QEAHG3yw+0ArnhHZhXlh1/36NEN+wWXAixaHVc5wUeCMdS4GmWX+6wMQGpaWNHzyGE1yRhqXO0dtl9bPK+fRYLV3ZYUvrERGRplADZvC/SmfTzK1TrSYle5mIen8a8GLJ5Xn9+agZTHtnutn7h+57rr/1yr50f1U2G3eGc+uhT+xvNIJWTQ9d5180bQm55JgZtXvRs7U7fGBMGRNQ8d0U9CSmrdNTmdMmM+xofgMHGh0/+qijwKGGufd1QdGvWKID4/3URBkdIrv5ZfqCTBccWrFcn2fzHm+1Mv2GDJ8FUVjPAwj9z2bWh4N3jZfu0ehXyPNpzOnSZX5ttY5t4r7+gm3GBolAFSIo38VMwjtwFIyc4Aqy+PjEF0Ba9qS3HlLmmLCsAcejvxkj6WDJCsUV0I2qdg9c4zOaqDMpgw/vGkJdiWEclPSwUg1U12tc8Kxv0//ameA80leUdAr3fFo/OucLNTQgKQXnkfMZFKSACy0m6rjH3ZQSI+KZEG+0Ru3pYPELs/IIraIoen7VsSASZvieRPPTTKABV6Mz87fjsBMK73yWT5IjSygzKYGJ9JLpbrvgyxsQ+uReP363R5ZAwAvFO2frbpszIl6lwN6NvpoiyS6dG5c1gfjzIgG/POWIvI0CgD1JirXxlbft9SLmYF6EQDHy+dX0Q+JpZO2wzAjH4cYHV+WtDDIv8Wd2DB+i2pAM6Jc4t6kLD569SEt6P5m3HwzjT5QdDSDs0GcA4fUf/RO00eNkF/bf6a4AkRLmFE5WqIinI1KegJXh4Zg3mZJpGI+i8SHn9vqVRC+vaUPbjgFdXtBFIJCXA7YFzbKSEBxkYe6T7EMljM8PTiO3I6ZcZ8enTJLqZev/TVBCTShwLFkRD5y8BGzxtnQJbucxXSi0R3PDUZJs/8cJRlvdPkni1Y852PxiG5OC1ALj9g8oLt1553QqjLVeb6bgfI8hrSUsF5rt7ra8C2nzIwQFUu5+0mHVccANQLfq4G6k/1MBDJhcJImOu7HUCqmzvdWTmdsZLyeX+8aE41qUl/405CIiryqGBxTZMrC3hZFgUW885dSmrdNVeDenysMTv8q1f86CEXVznCwUHBseahI8eg43h697V0bolw3JO5vtuhrlSXa7SWCHsT1vqr+y9JO457jVryXEaUvGlNzwC4qefT4ax5qM34ZF1xap0BvEZvTZ0osUOP/OA11UFugfDUOjoNLzSpX2ikO+YN6tGXyTsqugaFORqHsE/Etg84KqvVJeBo8/mSmOv2yE06U7Mge8UE7y2GT9Nlr5K5X7kGNwmHVrHtZZnQNVjZPFjie3SLtiizT2dscq8CiHhkU0Bse1nmkM7YVD04WM0tcbTJ97jeNLbfZGXU6hLPoZmemsyojnsklwpyeSFU8EKBEBnf3RGrstYf7ZHT4DucUmToxt5mNQi+POKh6bJXyRwizROtdppOWzXlb1gmfxd3wJCq6bRVU4xIP3Litspuapnf4BeVjk4DA1SVEZ+mIjqBc+qaU5UUMAZdgGaXpquaAsbwM4xNUVh14QnY9rKaRcx3LIh73KA4o+cqo+n0PD6FbnhNTYLjvG8Moht7qylwtAZoGal0pirBmFgUEfE9sWAJWLRFNWAS5/31XJrGmAtiGHojzCvNs6wdFj83xAksvI+sL/+Zzjhob+ZeMYaaTN+TJQqKlCRjqA10IG6Qx1I/umcFiWXuCSGEYmj1de4QQo8IDE8IIZHC8IQQEikMTwghkcLwhBASKQxPCCGRwvCEEBIpDE8IIZHC8IQQEikMTwghkcLwhBASKQxPCCGR+v9dtAHw7eGdAwAAAABJRU5ErkJggg==)"
      ],
      "metadata": {
        "id": "kZH2NX1_0sw1"
      }
    },
    {
      "cell_type": "code",
      "source": [
        "def even_infinite():\n",
        "  num = 0\n",
        "  while True:\n",
        "\n",
        "    yield num\n",
        "    num+=2\n",
        "\n",
        "even_iter_obj = even_infinite()\n",
        "\n",
        "for i in range(2):\n",
        "  next(even_iter_obj)\n",
        "\n",
        "print(next(even_iter_obj))\n"
      ],
      "metadata": {
        "colab": {
          "base_uri": "https://localhost:8080/"
        },
        "id": "-U5aYfbM0uNm",
        "outputId": "ecf8446d-3c67-496b-c4b8-f72944d3837a"
      },
      "execution_count": null,
      "outputs": [
        {
          "output_type": "stream",
          "name": "stdout",
          "text": [
            "4\n"
          ]
        }
      ]
    },
    {
      "cell_type": "code",
      "source": [],
      "metadata": {
        "id": "TlJjwQF72Fnw"
      },
      "execution_count": null,
      "outputs": []
    },
    {
      "cell_type": "markdown",
      "source": [
        "![image.png](data:image/png;base64,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)"
      ],
      "metadata": {
        "id": "Y2y5dsFF2Gcd"
      }
    },
    {
      "cell_type": "code",
      "source": [
        "def even_infinite():\n",
        "  num = 0\n",
        "  while num<4:\n",
        "    yield num\n",
        "    num+=2\n",
        "\n",
        "even_iter_obj = even_infinite()\n",
        "\n",
        "for i in range(2):\n",
        "  next(even_iter_obj)\n",
        "\n",
        "print(next(even_iter_obj))\n",
        "\n",
        "\n"
      ],
      "metadata": {
        "colab": {
          "base_uri": "https://localhost:8080/",
          "height": 234
        },
        "id": "3AtVYyZu2H8_",
        "outputId": "c9abb5f0-944a-476f-dfe0-066507e1ee6b"
      },
      "execution_count": null,
      "outputs": [
        {
          "output_type": "error",
          "ename": "StopIteration",
          "evalue": "ignored",
          "traceback": [
            "\u001b[0;31m---------------------------------------------------------------------------\u001b[0m",
            "\u001b[0;31mStopIteration\u001b[0m                             Traceback (most recent call last)",
            "\u001b[0;32m<ipython-input-4-1bb552caa23b>\u001b[0m in \u001b[0;36m<module>\u001b[0;34m\u001b[0m\n\u001b[1;32m     10\u001b[0m   \u001b[0mnext\u001b[0m\u001b[0;34m(\u001b[0m\u001b[0meven_iter_obj\u001b[0m\u001b[0;34m)\u001b[0m\u001b[0;34m\u001b[0m\u001b[0;34m\u001b[0m\u001b[0m\n\u001b[1;32m     11\u001b[0m \u001b[0;34m\u001b[0m\u001b[0m\n\u001b[0;32m---> 12\u001b[0;31m \u001b[0mprint\u001b[0m\u001b[0;34m(\u001b[0m\u001b[0mnext\u001b[0m\u001b[0;34m(\u001b[0m\u001b[0meven_iter_obj\u001b[0m\u001b[0;34m)\u001b[0m\u001b[0;34m)\u001b[0m\u001b[0;34m\u001b[0m\u001b[0;34m\u001b[0m\u001b[0m\n\u001b[0m\u001b[1;32m     13\u001b[0m \u001b[0;34m\u001b[0m\u001b[0m\n\u001b[1;32m     14\u001b[0m \u001b[0;34m\u001b[0m\u001b[0m\n",
            "\u001b[0;31mStopIteration\u001b[0m: "
          ]
        }
      ]
    },
    {
      "cell_type": "code",
      "source": [
        "def f(x):\n",
        "  yield x+1\n",
        "g = f(8)\n",
        "\n",
        "next(g)\n",
        "print(next(g))"
      ],
      "metadata": {
        "colab": {
          "base_uri": "https://localhost:8080/",
          "height": 200
        },
        "id": "yFsGgQpi3SLC",
        "outputId": "5a38b7fb-a273-410e-b7c0-0a84fcfb17d8"
      },
      "execution_count": null,
      "outputs": [
        {
          "output_type": "error",
          "ename": "StopIteration",
          "evalue": "ignored",
          "traceback": [
            "\u001b[0;31m---------------------------------------------------------------------------\u001b[0m",
            "\u001b[0;31mStopIteration\u001b[0m                             Traceback (most recent call last)",
            "\u001b[0;32m<ipython-input-6-c33861086ece>\u001b[0m in \u001b[0;36m<module>\u001b[0;34m\u001b[0m\n\u001b[1;32m      4\u001b[0m \u001b[0;34m\u001b[0m\u001b[0m\n\u001b[1;32m      5\u001b[0m \u001b[0mnext\u001b[0m\u001b[0;34m(\u001b[0m\u001b[0mg\u001b[0m\u001b[0;34m)\u001b[0m\u001b[0;34m\u001b[0m\u001b[0;34m\u001b[0m\u001b[0m\n\u001b[0;32m----> 6\u001b[0;31m \u001b[0mprint\u001b[0m\u001b[0;34m(\u001b[0m\u001b[0mnext\u001b[0m\u001b[0;34m(\u001b[0m\u001b[0mg\u001b[0m\u001b[0;34m)\u001b[0m\u001b[0;34m)\u001b[0m\u001b[0;34m\u001b[0m\u001b[0;34m\u001b[0m\u001b[0m\n\u001b[0m",
            "\u001b[0;31mStopIteration\u001b[0m: "
          ]
        }
      ]
    },
    {
      "cell_type": "code",
      "source": [
        "cubes = (1,8,27,64,125)\n",
        "cube = iter(cubes)\n",
        "next(cube)\n",
        "print(next(cube))"
      ],
      "metadata": {
        "colab": {
          "base_uri": "https://localhost:8080/"
        },
        "id": "hLoKir-lJ6hx",
        "outputId": "2af86cf1-3f68-4368-8bcd-e3550c6ab98c"
      },
      "execution_count": null,
      "outputs": [
        {
          "output_type": "stream",
          "name": "stdout",
          "text": [
            "8\n"
          ]
        }
      ]
    },
    {
      "cell_type": "code",
      "source": [],
      "metadata": {
        "id": "yD_dA4D3KtuM"
      },
      "execution_count": null,
      "outputs": []
    },
    {
      "cell_type": "markdown",
      "source": [
        "![image.png](data:image/png;base64,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)"
      ],
      "metadata": {
        "id": "_q8LGpORKu7f"
      }
    },
    {
      "cell_type": "code",
      "source": [
        "import itertools as it\n",
        "a = [1,2,3]\n",
        "b = ['a','b','c']\n",
        "final"
      ],
      "metadata": {
        "id": "UEMUNS_jKwbp"
      },
      "execution_count": null,
      "outputs": []
    },
    {
      "cell_type": "code",
      "source": [
        "names1 = ['Amir','Bear','Charrlton','Daman']\n",
        "names2 = names1\n",
        "names3 = names1[:]\n",
        "\n",
        "names2[0] = 'Alice'\n",
        "names3[1] = 'Bob'\n",
        "\n",
        "sum = 0\n",
        "for ls in (names1,names2,names3):\n",
        "\n",
        "\n",
        "      if ls in (names1,names2,names3):\n",
        "\n",
        "        if ls[0] =='Alice':\n",
        "          sum+=1\n",
        "\n",
        "        if ls[1] == 'Bob':\n",
        "          sum+= 10\n",
        "\n",
        "print(sum )"
      ],
      "metadata": {
        "colab": {
          "base_uri": "https://localhost:8080/"
        },
        "id": "rjVJQDRtIJOd",
        "outputId": "4cf91968-af55-4bbb-a848-7657a6299a49"
      },
      "execution_count": null,
      "outputs": [
        {
          "output_type": "stream",
          "name": "stdout",
          "text": [
            "12\n"
          ]
        }
      ]
    },
    {
      "cell_type": "code",
      "source": [
        "list1 = [1,3,2]\n",
        "list1*2"
      ],
      "metadata": {
        "colab": {
          "base_uri": "https://localhost:8080/"
        },
        "id": "qfAJcorYKV2r",
        "outputId": "c5df809f-93fa-4c6c-91db-ef259eda2819"
      },
      "execution_count": null,
      "outputs": [
        {
          "output_type": "execute_result",
          "data": {
            "text/plain": [
              "[1, 3, 2, 1, 3, 2]"
            ]
          },
          "metadata": {},
          "execution_count": 8
        }
      ]
    },
    {
      "cell_type": "code",
      "source": [],
      "metadata": {
        "id": "doWgWxRNupzy"
      },
      "execution_count": null,
      "outputs": []
    },
    {
      "cell_type": "code",
      "source": [
        "# food delivery app try"
      ],
      "metadata": {
        "id": "deGKm5peup8Q"
      },
      "execution_count": null,
      "outputs": []
    },
    {
      "cell_type": "code",
      "source": [
        "[{\"Full Name\": \"Test Admin 1\", \"Address\": \"Test Admin Address 1\", \"Email\": \"Admin1@gmail.com\", \"Password\": \"Admin1\"}, {\"Full Name\": \"Test Admin 2\", \"Address\": \"Test Admin Address 2\", \"Email\": \"Admin2@gmail.com\", \"Password\": \"Admin2\"}]"
      ],
      "metadata": {
        "id": "-XJPfOWrup_1"
      },
      "execution_count": null,
      "outputs": []
    },
    {
      "cell_type": "code",
      "source": [
        "# welcome to food delivery app\n",
        "# 0. Exit\n",
        "# 1. register as admin\n",
        "# 2. register as user\n",
        "# 4. login as admin\n",
        "# 5. login as user"
      ],
      "metadata": {
        "id": "V24YdH5Gu0Fl"
      },
      "execution_count": null,
      "outputs": []
    },
    {
      "cell_type": "code",
      "source": [
        "class admins:\n",
        "  def add_admin(self):\n",
        "    self.x = input('enter your name : ')\n",
        "    self.y = input('enter your email : ')\n",
        "    self.z = input('enter your password : ')\n",
        "\n"
      ],
      "metadata": {
        "id": "EsQ_A6pXu0Ip"
      },
      "execution_count": null,
      "outputs": []
    },
    {
      "cell_type": "code",
      "source": [],
      "metadata": {
        "id": "MpMgKihiWkdb"
      },
      "execution_count": null,
      "outputs": []
    },
    {
      "cell_type": "code",
      "source": [],
      "metadata": {
        "id": "zsizXenf6yeP"
      },
      "execution_count": null,
      "outputs": []
    },
    {
      "cell_type": "code",
      "source": [],
      "metadata": {
        "id": "uJOZdpFk6yip"
      },
      "execution_count": null,
      "outputs": []
    },
    {
      "cell_type": "code",
      "source": [
        "oops project atm"
      ],
      "metadata": {
        "id": "qtr6l-MJ6ylF"
      },
      "execution_count": null,
      "outputs": []
    },
    {
      "cell_type": "code",
      "source": [
        "from xyz import atm\n",
        "sbi = atm()\n"
      ],
      "metadata": {
        "id": "x55h1c-eWkgk"
      },
      "execution_count": null,
      "outputs": []
    },
    {
      "cell_type": "code",
      "source": [
        "class atm:\n",
        "  def __init__(self):\n",
        "    self.pin = ''\n",
        "    self.balance = 0\n",
        "    self.menu() # it will call menu method while creating object\n",
        "\n",
        "  def menu(self):\n",
        "\n",
        "    user_input = input('''\n",
        "                            hello how would you like to proceed?\n",
        "                            1. Enter 1 to create pin\n",
        "                            2. Enter 2 to create deposit\n",
        "                            3. Enter 3 to withdraw\n",
        "                            4. Enter 4 to check balance\n",
        "                            5. Enter 5 to exit.  ''')\n",
        "\n",
        "\n",
        "    if user_input == '1':\n",
        "      print('create pin')\n",
        "      self.create_pin()\n",
        "\n",
        "    elif user_input == '2':\n",
        "      print ('deposit')\n",
        "      self.deposit()\n",
        "    elif user_input == '3':\n",
        "        print('withdraw')\n",
        "    elif user_input == '4':\n",
        "      print('check balance')\n",
        "    else :\n",
        "      print('exit')\n",
        "\n",
        "\n",
        "  def create_pin(self):\n",
        "    self.pin = input(\"Enter Your Pin \")\n",
        "    print('pin set succesfully')\n",
        "\n",
        "  def deposit(self):\n",
        "    temp = input('Enter your pin ')\n",
        "    if temp == self.pin:\n",
        "      amount = int(input(\"Enter the amount\"))\n",
        "      self.balance = self.balance + amount\n",
        "      print(\"deposit successfull\")\n",
        "\n",
        "    else :\n",
        "      print('invalid pin')\n",
        "\n",
        "  def withdrawal(self):\n",
        "    temp = input('Enter your pin ')\n",
        "    if temp ==self.pin:\n",
        "      amount = int(input(\"Enter the amount\"))\n",
        "      if self.balance > amount:\n",
        "        self.balance = self.balance - amount\n",
        "        print('withdrawal successfull')\n",
        "      else :\n",
        "        print('Not enough balance change amount')\n",
        "    else :\n",
        "      print('invalid pin')\n",
        "\n",
        "  def check_balance(self):\n",
        "    temp = input('Enter your pin ')\n",
        "    if temp ==self.pin:\n",
        "      print(self.balance)\n",
        "    else :\n",
        "      print('invalid pin')\n",
        "\n",
        "\n",
        "\n"
      ],
      "metadata": {
        "id": "kgTDK0UNWki9"
      },
      "execution_count": null,
      "outputs": []
    },
    {
      "cell_type": "code",
      "source": [
        "sbi = atm()\n"
      ],
      "metadata": {
        "id": "A3UwXt-JWknK",
        "colab": {
          "base_uri": "https://localhost:8080/"
        },
        "outputId": "14616a37-a5d1-45f4-f519-f511cd871e04"
      },
      "execution_count": null,
      "outputs": [
        {
          "output_type": "stream",
          "name": "stdout",
          "text": [
            " \n",
            "                            hello how would you like to proceed?\n",
            "                            1. Enter 1 to create pin\n",
            "                            2. Enter 2 to create deposit \n",
            "                            3. Enter 3 to withdraw\n",
            "                            4. Enter 4 to check balance\n",
            "                            5. Enter 5 to exit.  1\n",
            "create pin\n",
            "Enter Your Pin 123\n",
            "pin set succesfully\n"
          ]
        }
      ]
    },
    {
      "cell_type": "code",
      "source": [
        "sbi.deposit()"
      ],
      "metadata": {
        "colab": {
          "base_uri": "https://localhost:8080/"
        },
        "id": "XbhnGDLmHXJW",
        "outputId": "3ac13a0d-3404-459c-95df-5e5e87160638"
      },
      "execution_count": null,
      "outputs": [
        {
          "output_type": "stream",
          "name": "stdout",
          "text": [
            "Enter your pin 123\n",
            "Enter the amount123\n",
            "deposit successfull\n"
          ]
        }
      ]
    },
    {
      "cell_type": "code",
      "source": [
        "sbi.withdrawal()"
      ],
      "metadata": {
        "id": "SigdLZ-6u0Ld",
        "colab": {
          "base_uri": "https://localhost:8080/"
        },
        "outputId": "a6a8264f-9e46-4d04-f906-067d0a547222"
      },
      "execution_count": null,
      "outputs": [
        {
          "output_type": "stream",
          "name": "stdout",
          "text": [
            "Enter your pin 123\n",
            "Enter the amount100\n",
            "withdrawal successfull\n"
          ]
        }
      ]
    },
    {
      "cell_type": "code",
      "source": [
        "sbi.check_balance()"
      ],
      "metadata": {
        "id": "Jez0G9mFu0OZ",
        "colab": {
          "base_uri": "https://localhost:8080/"
        },
        "outputId": "275052b4-4205-4761-e703-058c9a01923d"
      },
      "execution_count": null,
      "outputs": [
        {
          "output_type": "stream",
          "name": "stdout",
          "text": [
            "Enter your pin 123\n",
            "23\n"
          ]
        }
      ]
    },
    {
      "cell_type": "code",
      "source": [
        "hdfc = atm()"
      ],
      "metadata": {
        "colab": {
          "base_uri": "https://localhost:8080/"
        },
        "id": "DV25L98zRcmt",
        "outputId": "5ea67e07-7f58-4e78-b671-41850e4814c1"
      },
      "execution_count": null,
      "outputs": [
        {
          "output_type": "stream",
          "name": "stdout",
          "text": [
            " \n",
            "                            hello how would you like to proceed?\n",
            "                            1. Enter 1 to create pin\n",
            "                            2. Enter 2 to create deposit \n",
            "                            3. Enter 3 to withdraw\n",
            "                            4. Enter 4 to check balance\n",
            "                            5. Enter 5 to exit.  1\n",
            "create pin\n",
            "Enter Your Pin 123\n",
            "pin set succesfully\n"
          ]
        }
      ]
    },
    {
      "cell_type": "code",
      "source": [
        "hdfc.deposit()"
      ],
      "metadata": {
        "colab": {
          "base_uri": "https://localhost:8080/"
        },
        "id": "xnXx8QseRhPr",
        "outputId": "aca9b6e0-efa9-4b98-a6f6-8507f53e337b"
      },
      "execution_count": null,
      "outputs": [
        {
          "output_type": "stream",
          "name": "stdout",
          "text": [
            "Enter your pin 123\n",
            "Enter the amount5000\n",
            "deposit successfull\n"
          ]
        }
      ]
    },
    {
      "cell_type": "code",
      "source": [
        "hdfc.withdrawal()"
      ],
      "metadata": {
        "colab": {
          "base_uri": "https://localhost:8080/"
        },
        "id": "NnRcxvaVRwNr",
        "outputId": "d73e45ac-aa17-4341-c512-aba98c87ba2c"
      },
      "execution_count": null,
      "outputs": [
        {
          "output_type": "stream",
          "name": "stdout",
          "text": [
            "Enter your pin 123\n",
            "Enter the amount4000\n",
            "withdrawal successfull\n"
          ]
        }
      ]
    },
    {
      "cell_type": "code",
      "source": [
        "hdfc.check_balance()"
      ],
      "metadata": {
        "id": "iG2zCsZyR5Nf",
        "outputId": "a31643f0-45d9-4040-e2e0-a2f255a0b5c0",
        "colab": {
          "base_uri": "https://localhost:8080/"
        }
      },
      "execution_count": null,
      "outputs": [
        {
          "output_type": "stream",
          "name": "stdout",
          "text": [
            "Enter your pin 123\n",
            "1000\n"
          ]
        }
      ]
    },
    {
      "cell_type": "code",
      "source": [],
      "metadata": {
        "id": "XO3fYS8FPI1K"
      },
      "execution_count": null,
      "outputs": []
    },
    {
      "cell_type": "code",
      "source": [],
      "metadata": {
        "id": "8Sjf-g4gYL2r"
      },
      "execution_count": null,
      "outputs": []
    },
    {
      "cell_type": "code",
      "source": [],
      "metadata": {
        "id": "KI3yOT8PYL6Y"
      },
      "execution_count": null,
      "outputs": []
    },
    {
      "cell_type": "code",
      "source": [],
      "metadata": {
        "id": "QHvG2TUkYL_o"
      },
      "execution_count": null,
      "outputs": []
    },
    {
      "cell_type": "code",
      "source": [
        "class fraction:\n",
        "  def __init__(self,n,d):\n",
        "\n",
        "    self.num = n\n",
        "    self.den = d\n",
        "\n",
        "  def __str__(self):\n",
        "    return \"hello\"\n",
        "\n",
        "x = fraction(4,5)\n",
        "print(x)"
      ],
      "metadata": {
        "colab": {
          "base_uri": "https://localhost:8080/"
        },
        "id": "JS2Q0vdPPI8C",
        "outputId": "4cbfd3c7-c20e-4729-b98a-189934138d72"
      },
      "execution_count": null,
      "outputs": [
        {
          "output_type": "stream",
          "name": "stdout",
          "text": [
            "hello\n"
          ]
        }
      ]
    },
    {
      "cell_type": "code",
      "source": [
        "class fraction:\n",
        "  def __init__(self,n,d):\n",
        "\n",
        "    self.num = n\n",
        "    self.den = d\n",
        "\n",
        "  def __str__(self):\n",
        "    return \"{}/{}\".format(self.num,self.den)\n",
        "\n",
        "x = fraction(4,5)\n",
        "print(x)"
      ],
      "metadata": {
        "colab": {
          "base_uri": "https://localhost:8080/"
        },
        "outputId": "fd3e42ff-d4ac-4385-e915-c714ab7c9b87",
        "id": "o4NlCuSCRr_z"
      },
      "execution_count": null,
      "outputs": [
        {
          "output_type": "stream",
          "name": "stdout",
          "text": [
            "4/5\n"
          ]
        }
      ]
    },
    {
      "cell_type": "code",
      "source": [
        "class fraction:\n",
        "  def __init__(self,n,d):\n",
        "\n",
        "    self.num = n\n",
        "    self.den = d\n",
        "\n",
        "  def __str__(self):\n",
        "    return \"{}/{}\".format(self.num,self.den)\n",
        "\n",
        "  def __add__(self,other):\n",
        "    temp_num = self.num*other.den + other.num*self.den\n",
        "    temp_den = self.den * other.den\n",
        "    return \"{}/{}\".format(temp_num,temp_den)\n",
        "\n",
        "  def __sub__(self,other):\n",
        "\n",
        "    temp_num = self.num*other.den - other.num*self.den\n",
        "    temp_den = self.den * other.den\n",
        "    return \"{}/{}\".format(temp_num,temp_den)\n",
        "\n",
        "  def __mul__(self,other):\n",
        "\n",
        "    temp_num = self.num*other.num\n",
        "    temp_den = self.den * other.den\n",
        "    return \"{}/{}\".format(temp_num,temp_den)\n",
        "\n",
        "  def __truediv__(self,other):\n",
        "\n",
        "    temp_num = self.num*other.den\n",
        "    temp_den = self.den * other.num\n",
        "    return \"{}/{}\".format(temp_num,temp_den)\n",
        "\n",
        "\n",
        "\n",
        "\n",
        "\n",
        "\n",
        "x = fraction(5,6)\n",
        "y = fraction(3,4)\n",
        "print(x)\n",
        "print(y)\n",
        "print(x+y)\n",
        "print(x-y)\n",
        "print(x*y)\n",
        "print(x/y)"
      ],
      "metadata": {
        "colab": {
          "base_uri": "https://localhost:8080/"
        },
        "id": "JeOTF3JsVvWJ",
        "outputId": "d2da00b7-4667-4f05-8f8a-b6fb69dcfdcc"
      },
      "execution_count": null,
      "outputs": [
        {
          "output_type": "stream",
          "name": "stdout",
          "text": [
            "5/6\n",
            "3/4\n",
            "38/24\n",
            "2/24\n",
            "15/24\n",
            "20/18\n"
          ]
        }
      ]
    },
    {
      "cell_type": "code",
      "source": [],
      "metadata": {
        "id": "g4zFI3xzYNLY"
      },
      "execution_count": null,
      "outputs": []
    },
    {
      "cell_type": "code",
      "source": [],
      "metadata": {
        "id": "Bfq22nQKYNR9"
      },
      "execution_count": null,
      "outputs": []
    },
    {
      "cell_type": "code",
      "source": [
        "# Event managment replica "
      ],
      "metadata": {
        "id": "uXS6CEpU9moc"
      },
      "execution_count": null,
      "outputs": []
    },
    {
      "cell_type": "code",
      "source": [
        "import json\n",
        "import string\n",
        "import random\n",
        "from json import JSONDecodeError\n",
        "\n",
        "def Register(type,member_json_file,admin_json_file,Full_Name,Address,Email,Password):\n",
        "    '''Register Function || Return True if registered successfully else False'''\n",
        "    if type.lower()=='admin':\n",
        "        f=open(admin_json_file,'r+')\n",
        "        d={\n",
        "            \"Full Name\":Full_Name,\n",
        "            \"Address\":Address,\n",
        "            \"Email\":Email,\n",
        "            \"Password\":Password,\n",
        "        }\n",
        "        try:\n",
        "            content=json.load(f)\n",
        "            if d not in content:\n",
        "                content.append(d)\n",
        "                f.seek(0)\n",
        "                f.truncate()\n",
        "                json.dump(content,f)\n",
        "        except JSONDecodeError:\n",
        "            l=[]\n",
        "            l.append(d)\n",
        "            json.dump(l,f)\n",
        "        f.close()\n",
        "        return True\n",
        "    elif type.lower()=='member':\n",
        "        f=open(member_json_file,'r+')\n",
        "        d={\n",
        "            \"Full Name\":Full_Name,\n",
        "            \"Address\":Address,\n",
        "            \"Email\":Email,\n",
        "            \"Password\":Password,\n",
        "        }\n",
        "        try:\n",
        "            content=json.load(f)\n",
        "            if d not in content:\n",
        "                content.append(d)\n",
        "                f.seek(0)\n",
        "                f.truncate()\n",
        "                json.dump(content,f)\n",
        "        except JSONDecodeError:\n",
        "            l=[]\n",
        "            l.append(d)\n",
        "            json.dump(l,f)\n",
        "        f.close()\n",
        "        return True\n",
        "    else:\n",
        "        return False\n",
        "\n",
        "def Login(type,members_json_file,admin_json_file,Email,Password):\n",
        "    '''Login Functionality || Return True if successfully logged in else False'''\n",
        "    d=0\n",
        "    if type.lower()=='admin':\n",
        "        f=open(admin_json_file,'r+')\n",
        "    else:\n",
        "        f=open(members_json_file,'r+')\n",
        "    try:\n",
        "        content=json.load(f)\n",
        "    except JSONDecodeError:\n",
        "        return False\n",
        "    for i in range(len(content)):\n",
        "        if content[i][\"Email\"]==Email and content[i][\"Password\"]==Password:\n",
        "            d=1\n",
        "            break\n",
        "    f.seek(0)\n",
        "    f.truncate()\n",
        "    json.dump(content,f)\n",
        "    f.close()\n",
        "    if d==0:\n",
        "        return False\n",
        "    return True\n",
        "\n",
        "def AutoGenerate_ProductID():\n",
        "    '''Return a autogenerated random product ID'''\n",
        "    product_ID=''.join(random.choices(string.ascii_uppercase+string.digits,k=4))\n",
        "    return product_ID\n",
        "\n",
        "def AutoGenerate_OrderID():\n",
        "    '''Return a autogenerated random product ID'''\n",
        "    Order_ID=''.join(random.choices(string.ascii_uppercase+string.digits,k=3))\n",
        "    return Order_ID\n",
        "\n",
        "def Create_Product(owner,product_json_file,product_ID,product_name,manufacturer_name,price,discount,total_stock_available):\n",
        "    '''Creating a product || Return True if successfully created else False'''\n",
        "    d = {\"Created by\":owner,\"Product ID\":product_ID, \"Product Name\":product_name, \"Manufacture Name\":manufacturer_name,\"Price\":price,\"Discount\":discount,\"Total Stock Available\":total_stock_available}\n",
        "    f = open(product_json_file,\"r+\")\n",
        "    try:\n",
        "        content = json.load(f)\n",
        "        content.append(d)\n",
        "        f.seek(0)\n",
        "        f.truncate()\n",
        "        json.dump(content,f)\n",
        "        f.close()\n",
        "    except JSONDecodeError:\n",
        "        l=[]\n",
        "        l.append(d)\n",
        "        json.dump(l,f)\n",
        "    f.close()\n",
        "\n",
        "\n",
        "def Read_Products(owner,product_json_file):\n",
        "    '''Reading Products created by the admin(owner)'''\n",
        "    f = open(product_json_file,\"r+\")\n",
        "\n",
        "    try:\n",
        "        content =json.load(f)\n",
        "        Id_products_list = []\n",
        "    except JSONDecodeError:\n",
        "        pass\n",
        "\n",
        "    for i in range(len(content)):\n",
        "        if content[i][\"Created By\"] == owner:\n",
        "            Id_products_list.append(content[i])\n",
        "    return Id_products_list\n",
        "\n",
        "def Read_Product_By_ID(product_json_file,product_ID,Details):\n",
        "    '''Reading product by ID'''\n",
        "    f = open(product_json_file,\"r+\")\n",
        "\n",
        "    try:\n",
        "        content =json.load(f)\n",
        "        Id_products_list = []\n",
        "    except JSONDecodeError:\n",
        "        pass\n",
        "\n",
        "    for i in range(len(content)):\n",
        "        if content[i][\"Product ID\"] == product_ID:\n",
        "            Id_products_list.append(content[i])\n",
        "    return Id_products_list\n",
        "\n",
        "def Update_Product(product_json_file,product_ID,detail_to_be_updated,new_value):\n",
        "    '''Updating Product || Return True if successfully updated else False'''\n",
        "    f=open(product_json_file,'r+')\n",
        "    try:\n",
        "        content=json.load(f)\n",
        "    except JSONDecodeError:\n",
        "        return False\n",
        "    for i in range(len(content)):\n",
        "        if content[i][\"Product ID\"] == product_ID:\n",
        "            content[i][detail_to_be_updated] = new_value\n",
        "            f.seek(0)\n",
        "            f.truncate()\n",
        "            json.dump(content,f)\n",
        "            f.close()\n",
        "            return True\n",
        "\n",
        "    f.close()\n",
        "    return False\n",
        "\n",
        "\n",
        "\n",
        "def Delete_Product(product_json_file,product_ID):\n",
        "    '''Deleting Product || Return True if successfully deleted else False'''\n",
        "    f = open(product_json_file,\"r+\")\n",
        "    content = json.load(f)\n",
        "    id = product_ID\n",
        "    print(content[0][\"Product ID\"]==product_ID)\n",
        "    for i in range(len(content)):\n",
        "        if content[i][\"Product ID\"]== product_ID:\n",
        "            del content[i]\n",
        "            f.seek(0)\n",
        "            f.truncate()\n",
        "            json.dump(content,f)\n",
        "            return True\n",
        "        else:\n",
        "            pass\n",
        "\n",
        "def Update_Member(member_json_file,name,detail_to_be_updated,new_value):\n",
        "    '''Updating Member Details || Return True if successfully updated else False'''\n",
        "    f= open(member_json_file,\"r+\")\n",
        "    try:\n",
        "        content = json.load(f)\n",
        "    except JSONDecodeError:\n",
        "        return False\n",
        "    for i in range(len(content)):\n",
        "        if content[i][\"Name\"]== name:\n",
        "            content[i][detail_to_be_updated] = new_value\n",
        "            f.seek(0)\n",
        "            f.truncate()\n",
        "            json.dump(content,f)\n",
        "            f.close()\n",
        "            return True\n",
        "    f.close()\n",
        "    return False\n",
        "\n",
        "\n",
        "def Place_Order(order_json_file,ordered_by,delivery_address,product_json_file,product_ID,Quantity,Order_ID):\n",
        "    '''Placing Order, Calculate the Price after discount and Total cost of the order || Return True if order placed successfully else False'''\n",
        "    Cart_List=[]\n",
        "    flag=0\n",
        "    f=open(product_ID,'r+')\n",
        "    try:\n",
        "        content=json.load(f)\n",
        "    except JSONDecodeError:\n",
        "        return False\n",
        "    for i in range(len(content)):\n",
        "        if content[i][\"product_ID\"] == product_ID:\n",
        "            Cart_List.append(content[i][\"Cart\"])\n",
        "    f.close()\n",
        "    g=open(order_json_file,'r+')\n",
        "    try:\n",
        "        content=json.load(f)\n",
        "        d={\"Order ID\": Order_ID, \"Ordered by\": ordered_by,\"Items\": Cart_List}\n",
        "        content.append(d)\n",
        "        flag=1\n",
        "        g.seek(0)\n",
        "        g.truncate()\n",
        "        json.dump(content,g)\n",
        "        g.close()\n",
        "    except JSONDecodeError:\n",
        "\n",
        "        d={\"Order ID\": Order_ID,\"Ordered by\": ordered_by,\"Items\": Cart_List}\n",
        "        flag=1\n",
        "        l=[]\n",
        "        l.append(d)\n",
        "        json.dump(l,g)\n",
        "        g.close()\n",
        "    f=open(product_json_file,'r+')\n",
        "    try:\n",
        "        content=json.load(f)\n",
        "        for i in range(len(content)):\n",
        "            for j in range(len(Cart_List)):\n",
        "                if content[i][\"Product ID\"]==Cart_List[j][\"Product ID\"]:\n",
        "                    content[i][\" Total Stock Available\"]-= Cart_List[j][\"Total Stock Available\"]\n",
        "        f.close()\n",
        "    except JSONDecodeError:\n",
        "        return False\n",
        "\n",
        "    if flag ==1:\n",
        "        return True\n",
        "    else:\n",
        "        return False\n",
        "\n",
        "def Order_History(order_json_file,Name,details):\n",
        "    '''Append the order information into details list'''\n",
        "    detail_list = []\n",
        "    f = open(order_json_file,\"r+\")\n",
        "    try:\n",
        "        content = json.load(f)\n",
        "    except JSONDecodeError:\n",
        "        pass\n",
        "    for i in range(len(content)):\n",
        "        if content[i][\"Ordered By\"]== Name:\n",
        "            detail_list.append(content[i])\n",
        "    return detail_list\n"
      ],
      "metadata": {
        "id": "flfsJkhc9mra"
      },
      "execution_count": null,
      "outputs": []
    },
    {
      "cell_type": "code",
      "source": [],
      "metadata": {
        "id": "K4cpHIEb9muR"
      },
      "execution_count": null,
      "outputs": []
    },
    {
      "cell_type": "markdown",
      "source": [
        "![image.png](data:image/png;base64,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)"
      ],
      "metadata": {
        "id": "fxIEfvi9z3sV"
      }
    },
    {
      "cell_type": "code",
      "source": [
        "# input1 : int\n",
        "# input2 : int\n",
        "# input3 : int[-]\n",
        "# Expected return type : int[]\n",
        "input1 = 4\n",
        "input2 = 5\n",
        "input3 = 5*4\n",
        "# Read only region end\n",
        "# Write code here\n",
        "average = []\n",
        "for i in range (input2):\n",
        "  plus = 0\n",
        "for y in range (input1):\n",
        "  plus += input3[y][i]\n",
        "  average.append(plus)\n",
        "  value = 1000000000\n",
        "for i in average:\n",
        "  if value > i:\n",
        "\n",
        "    value = i\n",
        "    index_min = average.index(value)\n",
        "    scores = []\n",
        "for i in input3:\n",
        "  i.pop(index_min)\n",
        "for i in input3:\n",
        "  scores.append(sum(i))\n",
        "return scores\n"
      ],
      "metadata": {
        "id": "NweifRLQ9myl",
        "colab": {
          "base_uri": "https://localhost:8080/",
          "height": 235
        },
        "outputId": "b4e22b2e-42b5-496f-9cb3-b716b4f6bab0"
      },
      "execution_count": null,
      "outputs": [
        {
          "output_type": "error",
          "ename": "TypeError",
          "evalue": "ignored",
          "traceback": [
            "\u001b[0;31m---------------------------------------------------------------------------\u001b[0m",
            "\u001b[0;31mTypeError\u001b[0m                                 Traceback (most recent call last)",
            "\u001b[0;32m<ipython-input-11-3801d220db7e>\u001b[0m in \u001b[0;36m<module>\u001b[0;34m\u001b[0m\n\u001b[1;32m     12\u001b[0m   \u001b[0mplus\u001b[0m \u001b[0;34m=\u001b[0m \u001b[0;36m0\u001b[0m\u001b[0;34m\u001b[0m\u001b[0;34m\u001b[0m\u001b[0m\n\u001b[1;32m     13\u001b[0m \u001b[0;32mfor\u001b[0m \u001b[0my\u001b[0m \u001b[0;32min\u001b[0m \u001b[0mrange\u001b[0m \u001b[0;34m(\u001b[0m\u001b[0minput1\u001b[0m\u001b[0;34m)\u001b[0m\u001b[0;34m:\u001b[0m\u001b[0;34m\u001b[0m\u001b[0;34m\u001b[0m\u001b[0m\n\u001b[0;32m---> 14\u001b[0;31m   \u001b[0mplus\u001b[0m \u001b[0;34m+=\u001b[0m \u001b[0minput3\u001b[0m\u001b[0;34m[\u001b[0m\u001b[0my\u001b[0m\u001b[0;34m]\u001b[0m\u001b[0;34m[\u001b[0m\u001b[0mi\u001b[0m\u001b[0;34m]\u001b[0m\u001b[0;34m\u001b[0m\u001b[0;34m\u001b[0m\u001b[0m\n\u001b[0m\u001b[1;32m     15\u001b[0m   \u001b[0maverage\u001b[0m\u001b[0;34m.\u001b[0m\u001b[0mappend\u001b[0m\u001b[0;34m(\u001b[0m\u001b[0mplus\u001b[0m\u001b[0;34m)\u001b[0m\u001b[0;34m\u001b[0m\u001b[0;34m\u001b[0m\u001b[0m\n\u001b[1;32m     16\u001b[0m   \u001b[0mvalue\u001b[0m \u001b[0;34m=\u001b[0m \u001b[0;36m1000000000\u001b[0m\u001b[0;34m\u001b[0m\u001b[0;34m\u001b[0m\u001b[0m\n",
            "\u001b[0;31mTypeError\u001b[0m: 'int' object is not subscriptable"
          ]
        }
      ]
    },
    {
      "cell_type": "code",
      "source": [],
      "metadata": {
        "id": "xt8lUioH9m1l"
      },
      "execution_count": null,
      "outputs": []
    },
    {
      "cell_type": "code",
      "source": [
        "class Sales:\n",
        "\n",
        "    def __init__(self, id):\n",
        "        self.id = id\n",
        "        id = 100\n",
        "val = Sales(123)\n",
        "print (val.id)\n"
      ],
      "metadata": {
        "colab": {
          "base_uri": "https://localhost:8080/"
        },
        "id": "VebG2bXsqesn",
        "outputId": "b013e67a-3d68-4c5d-fc6c-2aee7504d78d"
      },
      "execution_count": null,
      "outputs": [
        {
          "output_type": "stream",
          "name": "stdout",
          "text": [
            "123\n"
          ]
        }
      ]
    },
    {
      "cell_type": "markdown",
      "source": [],
      "metadata": {
        "id": "S8i6Ffu1hvzY"
      }
    },
    {
      "cell_type": "code",
      "source": [
        "\n"
      ],
      "metadata": {
        "id": "pgIsuoGdq-Hp"
      },
      "execution_count": null,
      "outputs": []
    },
    {
      "cell_type": "code",
      "source": [],
      "metadata": {
        "id": "na8S4QoEq-Qw"
      },
      "execution_count": null,
      "outputs": []
    },
    {
      "cell_type": "code",
      "source": [],
      "metadata": {
        "id": "E66Jltzxq-UA"
      },
      "execution_count": null,
      "outputs": []
    },
    {
      "cell_type": "code",
      "source": [],
      "metadata": {
        "id": "mI-X8H1yq-gI"
      },
      "execution_count": null,
      "outputs": []
    },
    {
      "cell_type": "code",
      "source": [],
      "metadata": {
        "id": "zC2oxG7kqe6n"
      },
      "execution_count": null,
      "outputs": []
    }
  ]
}