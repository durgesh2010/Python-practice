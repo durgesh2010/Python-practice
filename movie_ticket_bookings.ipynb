{
  "nbformat": 4,
  "nbformat_minor": 0,
  "metadata": {
    "colab": {
      "provenance": [],
      "authorship_tag": "ABX9TyN2qTRXAxuFEztrm6CgfDXR",
      "include_colab_link": true
    },
    "kernelspec": {
      "name": "python3",
      "display_name": "Python 3"
    },
    "language_info": {
      "name": "python"
    }
  },
  "cells": [
    {
      "cell_type": "markdown",
      "metadata": {
        "id": "view-in-github",
        "colab_type": "text"
      },
      "source": [
        "<a href=\"https://colab.research.google.com/github/durgesh2010/Python-practice/blob/main/movie_ticket_bookings.ipynb\" target=\"_parent\"><img src=\"https://colab.research.google.com/assets/colab-badge.svg\" alt=\"Open In Colab\"/></a>"
      ]
    },
    {
      "cell_type": "code",
      "source": [],
      "metadata": {
        "id": "PFvrL-nYeFnd"
      },
      "execution_count": null,
      "outputs": []
    },
    {
      "cell_type": "code",
      "source": [
        "class movie_ticket:\n",
        "    def __init__(self,rows,columns):\n",
        "        self.rows = rows\n",
        "        self.columns = columns\n",
        "        self.user_details = {}\n",
        "\n",
        "    def show_seats(self):\n",
        "        for i in range(self.rows+1):\n",
        "            for j in range(self.columns+1):\n",
        "                if i == 0:\n",
        "                    if j == 0:\n",
        "                        print(\" \",end=' ')\n",
        "                    else:\n",
        "                        print(j,end=' ')\n",
        "                elif j == 0:\n",
        "                    print(i,end=' ')\n",
        "                else:\n",
        "                    print(\"S\",end=' ')\n",
        "            print()\n",
        "\n",
        "\n",
        "    def buy_ticket(self):\n",
        "        row1 = int(input(\"Enter the row for which you want to book the ticket : \"))\n",
        "        column1 = int(input(\"Enter the column for which you want to book the ticket : \"))\n",
        "        ticket_price = 10\n",
        "        option = int(input(f\"Your opt rows is {row1} and column is {column1},so the price for your seat is {ticket_price}.If you still wish to book the ticket please enter \\n1.Yes \\n.2.No \\n\"))\n",
        "        if option == 1:\n",
        "            name = input(\"Enter your name : \")\n",
        "            gender = input(\"Enter your gender : \")\n",
        "            age = int(input(\"Enter your age : \"))\n",
        "            mobile_no = int(input(\"Enter your mobile no: \"))\n",
        "            seat_no = str(row1)+str(column1)\n",
        "            self.user_details[seat_no] = [name,gender,age,mobile_no,seat_no]\n",
        "            print(\"Booked Successfully!\")\n",
        "            print(self.user_details)\n",
        "        else:\n",
        "            print(\"No Problem! Thank You for connecting with Book My Show!!!\")"
      ],
      "metadata": {
        "id": "PU5AUDtbeFyA"
      },
      "execution_count": 7,
      "outputs": []
    },
    {
      "cell_type": "code",
      "source": [
        "# from ticketbooking import movie_ticket\n",
        "\n",
        "class Main:\n",
        "    \n",
        "  def execute(self,choice):\n",
        "      if choice == 1:\n",
        "          print(\"*******Show the seats*******\")\n",
        "          movie_ticket_obj.show_seats()\n",
        "      if choice == 2:\n",
        "          print(\"*******Buy Ticket*******\")\n",
        "          movie_ticket_obj.buy_ticket()\n",
        "      if choice == 3:\n",
        "          pass\n",
        "      if choice == 4:\n",
        "          pass\n",
        "      if choice == 0:\n",
        "          pass\n",
        "\n",
        "# if __name__ == \"__main__\":\n",
        "\n",
        "\n",
        "\n",
        "rows = int(input(\"Enter the number for rows : \"))\n",
        "columns = int(input(\"Enter the number of seats in each rows : \"))\n",
        "\n",
        "movie_ticket_obj = movie_ticket(rows,columns)\n",
        "obj = Main() \n",
        "\n",
        "\n",
        "while True:\n",
        "    choice = int(input(\"Enter \\n1.Show the seats \\n2.Buy a ticket \\n3.Statistics \\n4.Show booked ticket's user info \\n0.Exit : \\n\"))    \n",
        "    obj.execute(choice)"
      ],
      "metadata": {
        "id": "LMcFOQ9seFrC"
      },
      "execution_count": null,
      "outputs": []
    },
    {
      "cell_type": "code",
      "source": [],
      "metadata": {
        "id": "4k--tIVhz8Zo"
      },
      "execution_count": null,
      "outputs": []
    },
    {
      "cell_type": "code",
      "source": [],
      "metadata": {
        "id": "2eaLb6P3z8oG"
      },
      "execution_count": null,
      "outputs": []
    },
    {
      "cell_type": "code",
      "source": [
        "for i in range(7):\n",
        "  for j in range(8):\n",
        "    if i == 0:\n",
        "      print(j+1,end = \" \" )\n",
        "    else:\n",
        "      if j == 0:\n",
        "        print(i+1,end = \" \")\n",
        "      else:  \n",
        "        print('$',end = ' ')\n",
        "  print()      "
      ],
      "metadata": {
        "colab": {
          "base_uri": "https://localhost:8080/"
        },
        "id": "xBhaU1KDeXI6",
        "outputId": "250bfaa4-7d98-45a0-fcbe-287360c1ff6d"
      },
      "execution_count": null,
      "outputs": [
        {
          "output_type": "stream",
          "name": "stdout",
          "text": [
            "1 2 3 4 5 6 7 8 \n",
            "2 $ $ $ $ $ $ $ \n",
            "3 $ $ $ $ $ $ $ \n",
            "4 $ $ $ $ $ $ $ \n",
            "5 $ $ $ $ $ $ $ \n",
            "6 $ $ $ $ $ $ $ \n",
            "7 $ $ $ $ $ $ $ \n"
          ]
        }
      ]
    },
    {
      "cell_type": "code",
      "source": [
        "for i in range(7):\n",
        "  for j in range(8):\n",
        "    if i == 0:\n",
        "      print(j+1)"
      ],
      "metadata": {
        "colab": {
          "base_uri": "https://localhost:8080/"
        },
        "id": "cBc79MuQg7S7",
        "outputId": "41813d16-e08f-42cd-c412-beb8deb4ee73"
      },
      "execution_count": null,
      "outputs": [
        {
          "output_type": "stream",
          "name": "stdout",
          "text": [
            "1\n",
            "2\n",
            "3\n",
            "4\n",
            "5\n",
            "6\n",
            "7\n",
            "8\n"
          ]
        }
      ]
    },
    {
      "cell_type": "code",
      "source": [
        "for i in range(8):\n",
        "  for j in range(7):\n",
        "      if i == 0:\n",
        "          if j == 0:\n",
        "              print(\" \",end=' ')\n",
        "          else:\n",
        "              print(j,end=' ')\n",
        "      elif j == 0:\n",
        "          print(i,end=' ')\n",
        "      else:\n",
        "          print(\"S\",end=' ')\n",
        "  print()"
      ],
      "metadata": {
        "colab": {
          "base_uri": "https://localhost:8080/"
        },
        "id": "yXFkgWg4iDoq",
        "outputId": "396bb843-b0fb-4aae-b72e-b41b23d804eb"
      },
      "execution_count": null,
      "outputs": [
        {
          "output_type": "stream",
          "name": "stdout",
          "text": [
            "  1 2 3 4 5 6 \n",
            "1 S S S S S S \n",
            "2 S S S S S S \n",
            "3 S S S S S S \n",
            "4 S S S S S S \n",
            "5 S S S S S S \n",
            "6 S S S S S S \n",
            "7 S S S S S S \n"
          ]
        }
      ]
    },
    {
      "cell_type": "code",
      "source": [],
      "metadata": {
        "id": "dyb0Ff5XiDye"
      },
      "execution_count": null,
      "outputs": []
    },
    {
      "cell_type": "code",
      "source": [],
      "metadata": {
        "id": "3RnBG-yyeXMT"
      },
      "execution_count": null,
      "outputs": []
    },
    {
      "cell_type": "code",
      "source": [],
      "metadata": {
        "id": "M0TGaK_OeFu4"
      },
      "execution_count": null,
      "outputs": []
    },
    {
      "cell_type": "code",
      "source": [],
      "metadata": {
        "id": "fHryV8VleYb4"
      },
      "execution_count": null,
      "outputs": []
    },
    {
      "cell_type": "code",
      "source": [],
      "metadata": {
        "id": "89cURGFPF5H4"
      },
      "execution_count": null,
      "outputs": []
    },
    {
      "cell_type": "code",
      "source": [],
      "metadata": {
        "id": "GdgD8dX-vAKh"
      },
      "execution_count": null,
      "outputs": []
    },
    {
      "cell_type": "code",
      "source": [],
      "metadata": {
        "id": "2ksYzaHgF5LI"
      },
      "execution_count": null,
      "outputs": []
    },
    {
      "cell_type": "code",
      "source": [],
      "metadata": {
        "id": "Fq7Z2-ZEJuNF"
      },
      "execution_count": null,
      "outputs": []
    },
    {
      "cell_type": "markdown",
      "source": [
        "![image.png](data:image/png;base64,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)"
      ],
      "metadata": {
        "id": "bo4BC1dqJvLK"
      }
    },
    {
      "cell_type": "code",
      "source": [
        "class A:\n",
        "    def __init__(self,b):\n",
        "        self.b=b\n",
        "    def display(self):\n",
        "\n",
        "      print(self.b)\n",
        "            \n",
        "            \n",
        "obj=A(\"Hello\")\n",
        "# del obj\n",
        "obj.display()\n"
      ],
      "metadata": {
        "colab": {
          "base_uri": "https://localhost:8080/"
        },
        "id": "YfUNo18XeF1N",
        "outputId": "22b919f3-944c-4f80-af9a-53dcfb11f106"
      },
      "execution_count": null,
      "outputs": [
        {
          "output_type": "stream",
          "name": "stdout",
          "text": [
            "Hello\n"
          ]
        }
      ]
    },
    {
      "cell_type": "code",
      "source": [],
      "metadata": {
        "id": "U4BFxMB3eF3t"
      },
      "execution_count": null,
      "outputs": []
    },
    {
      "cell_type": "code",
      "source": [],
      "metadata": {
        "id": "qyREH1WT0rgg"
      },
      "execution_count": null,
      "outputs": []
    },
    {
      "cell_type": "code",
      "source": [],
      "metadata": {
        "id": "I7KTXJ1h0rkg"
      },
      "execution_count": null,
      "outputs": []
    },
    {
      "cell_type": "markdown",
      "source": [
        "![image.png](data:image/png;base64,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)"
      ],
      "metadata": {
        "id": "kZH2NX1_0sw1"
      }
    },
    {
      "cell_type": "code",
      "source": [
        "def even_infinite():\n",
        "  num = 0\n",
        "  while True:\n",
        "\n",
        "    yield num\n",
        "    num+=2\n",
        "\n",
        "even_iter_obj = even_infinite()\n",
        "\n",
        "for i in range(2):\n",
        "  next(even_iter_obj)\n",
        "\n",
        "print(next(even_iter_obj))  \n"
      ],
      "metadata": {
        "colab": {
          "base_uri": "https://localhost:8080/"
        },
        "id": "-U5aYfbM0uNm",
        "outputId": "ecf8446d-3c67-496b-c4b8-f72944d3837a"
      },
      "execution_count": null,
      "outputs": [
        {
          "output_type": "stream",
          "name": "stdout",
          "text": [
            "4\n"
          ]
        }
      ]
    },
    {
      "cell_type": "code",
      "source": [],
      "metadata": {
        "id": "TlJjwQF72Fnw"
      },
      "execution_count": null,
      "outputs": []
    },
    {
      "cell_type": "markdown",
      "source": [
        "![image.png](data:image/png;base64,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)"
      ],
      "metadata": {
        "id": "Y2y5dsFF2Gcd"
      }
    },
    {
      "cell_type": "code",
      "source": [
        "def even_infinite():\n",
        "  num = 0\n",
        "  while num<4:\n",
        "    yield num\n",
        "    num+=2\n",
        "\n",
        "even_iter_obj = even_infinite()\n",
        "\n",
        "for i in range(2):\n",
        "  next(even_iter_obj)\n",
        "\n",
        "print(next(even_iter_obj))  \n",
        "\n",
        "\n"
      ],
      "metadata": {
        "colab": {
          "base_uri": "https://localhost:8080/",
          "height": 234
        },
        "id": "3AtVYyZu2H8_",
        "outputId": "c9abb5f0-944a-476f-dfe0-066507e1ee6b"
      },
      "execution_count": null,
      "outputs": [
        {
          "output_type": "error",
          "ename": "StopIteration",
          "evalue": "ignored",
          "traceback": [
            "\u001b[0;31m---------------------------------------------------------------------------\u001b[0m",
            "\u001b[0;31mStopIteration\u001b[0m                             Traceback (most recent call last)",
            "\u001b[0;32m<ipython-input-4-1bb552caa23b>\u001b[0m in \u001b[0;36m<module>\u001b[0;34m\u001b[0m\n\u001b[1;32m     10\u001b[0m   \u001b[0mnext\u001b[0m\u001b[0;34m(\u001b[0m\u001b[0meven_iter_obj\u001b[0m\u001b[0;34m)\u001b[0m\u001b[0;34m\u001b[0m\u001b[0;34m\u001b[0m\u001b[0m\n\u001b[1;32m     11\u001b[0m \u001b[0;34m\u001b[0m\u001b[0m\n\u001b[0;32m---> 12\u001b[0;31m \u001b[0mprint\u001b[0m\u001b[0;34m(\u001b[0m\u001b[0mnext\u001b[0m\u001b[0;34m(\u001b[0m\u001b[0meven_iter_obj\u001b[0m\u001b[0;34m)\u001b[0m\u001b[0;34m)\u001b[0m\u001b[0;34m\u001b[0m\u001b[0;34m\u001b[0m\u001b[0m\n\u001b[0m\u001b[1;32m     13\u001b[0m \u001b[0;34m\u001b[0m\u001b[0m\n\u001b[1;32m     14\u001b[0m \u001b[0;34m\u001b[0m\u001b[0m\n",
            "\u001b[0;31mStopIteration\u001b[0m: "
          ]
        }
      ]
    },
    {
      "cell_type": "code",
      "source": [
        "def f(x):\n",
        "  yield x+1\n",
        "g = f(8)\n",
        "\n",
        "next(g)\n",
        "print(next(g))  "
      ],
      "metadata": {
        "colab": {
          "base_uri": "https://localhost:8080/",
          "height": 200
        },
        "id": "yFsGgQpi3SLC",
        "outputId": "5a38b7fb-a273-410e-b7c0-0a84fcfb17d8"
      },
      "execution_count": null,
      "outputs": [
        {
          "output_type": "error",
          "ename": "StopIteration",
          "evalue": "ignored",
          "traceback": [
            "\u001b[0;31m---------------------------------------------------------------------------\u001b[0m",
            "\u001b[0;31mStopIteration\u001b[0m                             Traceback (most recent call last)",
            "\u001b[0;32m<ipython-input-6-c33861086ece>\u001b[0m in \u001b[0;36m<module>\u001b[0;34m\u001b[0m\n\u001b[1;32m      4\u001b[0m \u001b[0;34m\u001b[0m\u001b[0m\n\u001b[1;32m      5\u001b[0m \u001b[0mnext\u001b[0m\u001b[0;34m(\u001b[0m\u001b[0mg\u001b[0m\u001b[0;34m)\u001b[0m\u001b[0;34m\u001b[0m\u001b[0;34m\u001b[0m\u001b[0m\n\u001b[0;32m----> 6\u001b[0;31m \u001b[0mprint\u001b[0m\u001b[0;34m(\u001b[0m\u001b[0mnext\u001b[0m\u001b[0;34m(\u001b[0m\u001b[0mg\u001b[0m\u001b[0;34m)\u001b[0m\u001b[0;34m)\u001b[0m\u001b[0;34m\u001b[0m\u001b[0;34m\u001b[0m\u001b[0m\n\u001b[0m",
            "\u001b[0;31mStopIteration\u001b[0m: "
          ]
        }
      ]
    },
    {
      "cell_type": "code",
      "source": [
        "cubes = (1,8,27,64,125)\n",
        "cube = iter(cubes)\n",
        "next(cube)\n",
        "print(next(cube))"
      ],
      "metadata": {
        "colab": {
          "base_uri": "https://localhost:8080/"
        },
        "id": "hLoKir-lJ6hx",
        "outputId": "2af86cf1-3f68-4368-8bcd-e3550c6ab98c"
      },
      "execution_count": null,
      "outputs": [
        {
          "output_type": "stream",
          "name": "stdout",
          "text": [
            "8\n"
          ]
        }
      ]
    },
    {
      "cell_type": "code",
      "source": [],
      "metadata": {
        "id": "yD_dA4D3KtuM"
      },
      "execution_count": null,
      "outputs": []
    },
    {
      "cell_type": "markdown",
      "source": [
        "![image.png](data:image/png;base64,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)"
      ],
      "metadata": {
        "id": "_q8LGpORKu7f"
      }
    },
    {
      "cell_type": "code",
      "source": [
        "import itertools as it \n",
        "a = [1,2,3]\n",
        "b = ['a','b','c']\n",
        "final"
      ],
      "metadata": {
        "id": "UEMUNS_jKwbp"
      },
      "execution_count": null,
      "outputs": []
    },
    {
      "cell_type": "code",
      "source": [
        "names1 = ['Amir','Bear','Charrlton','Daman']\n",
        "names2 = names1\n",
        "names3 = names1[:]\n",
        "\n",
        "names2[0] = 'Alice'\n",
        "names3[1] = 'Bob'\n",
        "\n",
        "sum = 0\n",
        "for ls in (names1,names2,names3):\n",
        "\n",
        "\n",
        "      if ls in (names1,names2,names3):\n",
        "\n",
        "        if ls[0] =='Alice':\n",
        "          sum+=1\n",
        "\n",
        "        if ls[1] == 'Bob':\n",
        "          sum+= 10  \n",
        "\n",
        "print(sum )   "
      ],
      "metadata": {
        "colab": {
          "base_uri": "https://localhost:8080/"
        },
        "id": "rjVJQDRtIJOd",
        "outputId": "4cf91968-af55-4bbb-a848-7657a6299a49"
      },
      "execution_count": null,
      "outputs": [
        {
          "output_type": "stream",
          "name": "stdout",
          "text": [
            "12\n"
          ]
        }
      ]
    },
    {
      "cell_type": "code",
      "source": [
        "list1 = [1,3,2]\n",
        "list1*2"
      ],
      "metadata": {
        "colab": {
          "base_uri": "https://localhost:8080/"
        },
        "id": "qfAJcorYKV2r",
        "outputId": "c5df809f-93fa-4c6c-91db-ef259eda2819"
      },
      "execution_count": null,
      "outputs": [
        {
          "output_type": "execute_result",
          "data": {
            "text/plain": [
              "[1, 3, 2, 1, 3, 2]"
            ]
          },
          "metadata": {},
          "execution_count": 8
        }
      ]
    },
    {
      "cell_type": "code",
      "source": [],
      "metadata": {
        "id": "doWgWxRNupzy"
      },
      "execution_count": null,
      "outputs": []
    },
    {
      "cell_type": "code",
      "source": [
        "# food delivery app try"
      ],
      "metadata": {
        "id": "deGKm5peup8Q"
      },
      "execution_count": null,
      "outputs": []
    },
    {
      "cell_type": "code",
      "source": [
        "[{\"Full Name\": \"Test Admin 1\", \"Address\": \"Test Admin Address 1\", \"Email\": \"Admin1@gmail.com\", \"Password\": \"Admin1\"}, {\"Full Name\": \"Test Admin 2\", \"Address\": \"Test Admin Address 2\", \"Email\": \"Admin2@gmail.com\", \"Password\": \"Admin2\"}]"
      ],
      "metadata": {
        "id": "-XJPfOWrup_1"
      },
      "execution_count": null,
      "outputs": []
    },
    {
      "cell_type": "code",
      "source": [
        "# welcome to food delivery app \n",
        "# 0. Exit \n",
        "# 1. register as admin\n",
        "# 2. register as user\n",
        "# 4. login as admin \n",
        "# 5. login as user "
      ],
      "metadata": {
        "id": "V24YdH5Gu0Fl"
      },
      "execution_count": null,
      "outputs": []
    },
    {
      "cell_type": "code",
      "source": [
        "class admins:\n",
        "  def add_admin(self):\n",
        "    self.x = input('enter your name : ')\n",
        "    self.y = input('enter your email : ')\n",
        "    self.z = input('enter your password : ')\n",
        "\n",
        "    "
      ],
      "metadata": {
        "id": "EsQ_A6pXu0Ip"
      },
      "execution_count": null,
      "outputs": []
    },
    {
      "cell_type": "code",
      "source": [],
      "metadata": {
        "id": "MpMgKihiWkdb"
      },
      "execution_count": null,
      "outputs": []
    },
    {
      "cell_type": "code",
      "source": [],
      "metadata": {
        "id": "zsizXenf6yeP"
      },
      "execution_count": null,
      "outputs": []
    },
    {
      "cell_type": "code",
      "source": [],
      "metadata": {
        "id": "uJOZdpFk6yip"
      },
      "execution_count": null,
      "outputs": []
    },
    {
      "cell_type": "code",
      "source": [
        "oops project atm "
      ],
      "metadata": {
        "id": "qtr6l-MJ6ylF"
      },
      "execution_count": null,
      "outputs": []
    },
    {
      "cell_type": "code",
      "source": [
        "from xyz import atm\n",
        "sbi = atm()\n"
      ],
      "metadata": {
        "id": "x55h1c-eWkgk"
      },
      "execution_count": null,
      "outputs": []
    },
    {
      "cell_type": "code",
      "source": [
        "class atm:\n",
        "  def __init__(self):\n",
        "    self.pin = ''\n",
        "    self.balance = 0\n",
        "    self.menu() # it will call menu method while creating object\n",
        "\n",
        "  def menu(self):\n",
        "\n",
        "    user_input = input(''' \n",
        "                            hello how would you like to proceed?\n",
        "                            1. Enter 1 to create pin\n",
        "                            2. Enter 2 to create deposit \n",
        "                            3. Enter 3 to withdraw\n",
        "                            4. Enter 4 to check balance\n",
        "                            5. Enter 5 to exit.  ''')\n",
        "  \n",
        "\n",
        "    if user_input == '1':\n",
        "      print('create pin')\n",
        "      self.create_pin()\n",
        "      \n",
        "    elif user_input == '2':\n",
        "      print ('deposit')\n",
        "      self.deposit()  \n",
        "    elif user_input == '3':\n",
        "        print('withdraw')\n",
        "    elif user_input == '4':\n",
        "      print('check balance')\n",
        "    else :\n",
        "      print('exit')  \n",
        "\n",
        "\n",
        "  def create_pin(self):\n",
        "    self.pin = input(\"Enter Your Pin \")\n",
        "    print('pin set succesfully')\n",
        "\n",
        "  def deposit(self):\n",
        "    temp = input('Enter your pin ')\n",
        "    if temp == self.pin:\n",
        "      amount = int(input(\"Enter the amount\"))\n",
        "      self.balance = self.balance + amount\n",
        "      print(\"deposit successfull\") \n",
        "   \n",
        "    else :\n",
        "      print('invalid pin')    \n",
        "\n",
        "  def withdrawal(self):\n",
        "    temp = input('Enter your pin ')\n",
        "    if temp ==self.pin:\n",
        "      amount = int(input(\"Enter the amount\"))\n",
        "      if self.balance > amount:\n",
        "        self.balance = self.balance - amount\n",
        "        print('withdrawal successfull')\n",
        "      else :\n",
        "        print('Not enough balance change amount')\n",
        "    else :\n",
        "      print('invalid pin')    \n",
        "    \n",
        "  def check_balance(self):\n",
        "    temp = input('Enter your pin ')\n",
        "    if temp ==self.pin:\n",
        "      print(self.balance)\n",
        "    else :\n",
        "      print('invalid pin')  \n",
        "       \n",
        "  \n",
        "\n"
      ],
      "metadata": {
        "id": "kgTDK0UNWki9"
      },
      "execution_count": null,
      "outputs": []
    },
    {
      "cell_type": "code",
      "source": [
        "sbi = atm()\n"
      ],
      "metadata": {
        "id": "A3UwXt-JWknK",
        "colab": {
          "base_uri": "https://localhost:8080/"
        },
        "outputId": "14616a37-a5d1-45f4-f519-f511cd871e04"
      },
      "execution_count": null,
      "outputs": [
        {
          "output_type": "stream",
          "name": "stdout",
          "text": [
            " \n",
            "                            hello how would you like to proceed?\n",
            "                            1. Enter 1 to create pin\n",
            "                            2. Enter 2 to create deposit \n",
            "                            3. Enter 3 to withdraw\n",
            "                            4. Enter 4 to check balance\n",
            "                            5. Enter 5 to exit.  1\n",
            "create pin\n",
            "Enter Your Pin 123\n",
            "pin set succesfully\n"
          ]
        }
      ]
    },
    {
      "cell_type": "code",
      "source": [
        "sbi.deposit()"
      ],
      "metadata": {
        "colab": {
          "base_uri": "https://localhost:8080/"
        },
        "id": "XbhnGDLmHXJW",
        "outputId": "3ac13a0d-3404-459c-95df-5e5e87160638"
      },
      "execution_count": null,
      "outputs": [
        {
          "output_type": "stream",
          "name": "stdout",
          "text": [
            "Enter your pin 123\n",
            "Enter the amount123\n",
            "deposit successfull\n"
          ]
        }
      ]
    },
    {
      "cell_type": "code",
      "source": [
        "sbi.withdrawal()"
      ],
      "metadata": {
        "id": "SigdLZ-6u0Ld",
        "colab": {
          "base_uri": "https://localhost:8080/"
        },
        "outputId": "a6a8264f-9e46-4d04-f906-067d0a547222"
      },
      "execution_count": null,
      "outputs": [
        {
          "output_type": "stream",
          "name": "stdout",
          "text": [
            "Enter your pin 123\n",
            "Enter the amount100\n",
            "withdrawal successfull\n"
          ]
        }
      ]
    },
    {
      "cell_type": "code",
      "source": [
        "sbi.check_balance()"
      ],
      "metadata": {
        "id": "Jez0G9mFu0OZ",
        "colab": {
          "base_uri": "https://localhost:8080/"
        },
        "outputId": "275052b4-4205-4761-e703-058c9a01923d"
      },
      "execution_count": null,
      "outputs": [
        {
          "output_type": "stream",
          "name": "stdout",
          "text": [
            "Enter your pin 123\n",
            "23\n"
          ]
        }
      ]
    },
    {
      "cell_type": "code",
      "source": [
        "hdfc = atm()"
      ],
      "metadata": {
        "colab": {
          "base_uri": "https://localhost:8080/"
        },
        "id": "DV25L98zRcmt",
        "outputId": "5ea67e07-7f58-4e78-b671-41850e4814c1"
      },
      "execution_count": null,
      "outputs": [
        {
          "output_type": "stream",
          "name": "stdout",
          "text": [
            " \n",
            "                            hello how would you like to proceed?\n",
            "                            1. Enter 1 to create pin\n",
            "                            2. Enter 2 to create deposit \n",
            "                            3. Enter 3 to withdraw\n",
            "                            4. Enter 4 to check balance\n",
            "                            5. Enter 5 to exit.  1\n",
            "create pin\n",
            "Enter Your Pin 123\n",
            "pin set succesfully\n"
          ]
        }
      ]
    },
    {
      "cell_type": "code",
      "source": [
        "hdfc.deposit()"
      ],
      "metadata": {
        "colab": {
          "base_uri": "https://localhost:8080/"
        },
        "id": "xnXx8QseRhPr",
        "outputId": "aca9b6e0-efa9-4b98-a6f6-8507f53e337b"
      },
      "execution_count": null,
      "outputs": [
        {
          "output_type": "stream",
          "name": "stdout",
          "text": [
            "Enter your pin 123\n",
            "Enter the amount5000\n",
            "deposit successfull\n"
          ]
        }
      ]
    },
    {
      "cell_type": "code",
      "source": [
        "hdfc.withdrawal()"
      ],
      "metadata": {
        "colab": {
          "base_uri": "https://localhost:8080/"
        },
        "id": "NnRcxvaVRwNr",
        "outputId": "d73e45ac-aa17-4341-c512-aba98c87ba2c"
      },
      "execution_count": null,
      "outputs": [
        {
          "output_type": "stream",
          "name": "stdout",
          "text": [
            "Enter your pin 123\n",
            "Enter the amount4000\n",
            "withdrawal successfull\n"
          ]
        }
      ]
    },
    {
      "cell_type": "code",
      "source": [
        "hdfc.check_balance()"
      ],
      "metadata": {
        "id": "iG2zCsZyR5Nf",
        "outputId": "a31643f0-45d9-4040-e2e0-a2f255a0b5c0",
        "colab": {
          "base_uri": "https://localhost:8080/"
        }
      },
      "execution_count": null,
      "outputs": [
        {
          "output_type": "stream",
          "name": "stdout",
          "text": [
            "Enter your pin 123\n",
            "1000\n"
          ]
        }
      ]
    },
    {
      "cell_type": "code",
      "source": [],
      "metadata": {
        "id": "XO3fYS8FPI1K"
      },
      "execution_count": null,
      "outputs": []
    },
    {
      "cell_type": "code",
      "source": [],
      "metadata": {
        "id": "8Sjf-g4gYL2r"
      },
      "execution_count": null,
      "outputs": []
    },
    {
      "cell_type": "code",
      "source": [],
      "metadata": {
        "id": "KI3yOT8PYL6Y"
      },
      "execution_count": null,
      "outputs": []
    },
    {
      "cell_type": "code",
      "source": [],
      "metadata": {
        "id": "QHvG2TUkYL_o"
      },
      "execution_count": null,
      "outputs": []
    },
    {
      "cell_type": "code",
      "source": [
        "class fraction:\n",
        "  def __init__(self,n,d):\n",
        "\n",
        "    self.num = n\n",
        "    self.den = d\n",
        "\n",
        "  def __str__(self):\n",
        "    return \"hello\"\n",
        "\n",
        "x = fraction(4,5)\n",
        "print(x)"
      ],
      "metadata": {
        "colab": {
          "base_uri": "https://localhost:8080/"
        },
        "id": "JS2Q0vdPPI8C",
        "outputId": "4cbfd3c7-c20e-4729-b98a-189934138d72"
      },
      "execution_count": null,
      "outputs": [
        {
          "output_type": "stream",
          "name": "stdout",
          "text": [
            "hello\n"
          ]
        }
      ]
    },
    {
      "cell_type": "code",
      "source": [
        "class fraction:\n",
        "  def __init__(self,n,d):\n",
        "\n",
        "    self.num = n\n",
        "    self.den = d\n",
        "\n",
        "  def __str__(self):\n",
        "    return \"{}/{}\".format(self.num,self.den)\n",
        "\n",
        "x = fraction(4,5)\n",
        "print(x)"
      ],
      "metadata": {
        "colab": {
          "base_uri": "https://localhost:8080/"
        },
        "outputId": "fd3e42ff-d4ac-4385-e915-c714ab7c9b87",
        "id": "o4NlCuSCRr_z"
      },
      "execution_count": null,
      "outputs": [
        {
          "output_type": "stream",
          "name": "stdout",
          "text": [
            "4/5\n"
          ]
        }
      ]
    },
    {
      "cell_type": "code",
      "source": [
        "class fraction:\n",
        "  def __init__(self,n,d):\n",
        "\n",
        "    self.num = n\n",
        "    self.den = d\n",
        "\n",
        "  def __str__(self):\n",
        "    return \"{}/{}\".format(self.num,self.den)\n",
        "\n",
        "  def __add__(self,other):\n",
        "    temp_num = self.num*other.den + other.num*self.den\n",
        "    temp_den = self.den * other.den\n",
        "    return \"{}/{}\".format(temp_num,temp_den)\n",
        "\n",
        "  def __sub__(self,other):\n",
        "      \n",
        "    temp_num = self.num*other.den - other.num*self.den\n",
        "    temp_den = self.den * other.den\n",
        "    return \"{}/{}\".format(temp_num,temp_den)\n",
        "\n",
        "  def __mul__(self,other):\n",
        "      \n",
        "    temp_num = self.num*other.num\n",
        "    temp_den = self.den * other.den\n",
        "    return \"{}/{}\".format(temp_num,temp_den)\n",
        "\n",
        "  def __truediv__(self,other):\n",
        "      \n",
        "    temp_num = self.num*other.den\n",
        "    temp_den = self.den * other.num\n",
        "    return \"{}/{}\".format(temp_num,temp_den)   \n",
        "\n",
        "\n",
        "\n",
        "\n",
        "\n",
        "\n",
        "x = fraction(5,6)\n",
        "y = fraction(3,4)\n",
        "print(x)\n",
        "print(y)\n",
        "print(x+y)\n",
        "print(x-y)\n",
        "print(x*y)\n",
        "print(x/y)"
      ],
      "metadata": {
        "colab": {
          "base_uri": "https://localhost:8080/"
        },
        "id": "JeOTF3JsVvWJ",
        "outputId": "d2da00b7-4667-4f05-8f8a-b6fb69dcfdcc"
      },
      "execution_count": null,
      "outputs": [
        {
          "output_type": "stream",
          "name": "stdout",
          "text": [
            "5/6\n",
            "3/4\n",
            "38/24\n",
            "2/24\n",
            "15/24\n",
            "20/18\n"
          ]
        }
      ]
    },
    {
      "cell_type": "code",
      "source": [],
      "metadata": {
        "id": "g4zFI3xzYNLY"
      },
      "execution_count": null,
      "outputs": []
    },
    {
      "cell_type": "code",
      "source": [],
      "metadata": {
        "id": "Bfq22nQKYNR9"
      },
      "execution_count": null,
      "outputs": []
    }
  ]
}